{
  "nbformat": 4,
  "nbformat_minor": 0,
  "metadata": {
    "colab": {
      "provenance": []
    },
    "kernelspec": {
      "name": "python3",
      "display_name": "Python 3"
    },
    "language_info": {
      "name": "python"
    }
  },
  "cells": [
    {
      "cell_type": "code",
      "source": [
        "import requests\n",
        "from bs4 import BeautifulSoup\n",
        "import pandas as pd\n",
        "import time\n",
        "from urllib.parse import urljoin, urlparse\n",
        "import re\n",
        "from requests.adapters import HTTPAdapter, Retry"
      ],
      "metadata": {
        "id": "fZLRtjfjWSuv"
      },
      "execution_count": null,
      "outputs": []
    },
    {
      "cell_type": "markdown",
      "source": [
        "# Karnataka Government\n"
      ],
      "metadata": {
        "id": "bZ-NRvyplqAb"
      }
    },
    {
      "cell_type": "code",
      "execution_count": null,
      "metadata": {
        "id": "SZjILQ0pDgs3",
        "colab": {
          "base_uri": "https://localhost:8080/"
        },
        "outputId": "f3ef70c8-2cdc-4b90-b1be-bdab2b37e199"
      },
      "outputs": [
        {
          "output_type": "stream",
          "name": "stderr",
          "text": [
            "/usr/local/lib/python3.10/dist-packages/urllib3/connectionpool.py:1100: InsecureRequestWarning: Unverified HTTPS request is being made to host 'secretariatlibrary.karnataka.gov.in'. Adding certificate verification is strongly advised. See: https://urllib3.readthedocs.io/en/latest/advanced-usage.html#tls-warnings\n",
            "  warnings.warn(\n"
          ]
        },
        {
          "output_type": "stream",
          "name": "stdout",
          "text": [
            "https://ceg.karnataka.gov.in/assets/front/pdf/rti manual/RTI Manual English.pdf\n",
            "https://secretariatlibrary.karnataka.gov.in/storage/pdf-files/DPARAR 22 LBV 2021, Dated 14-02-2022.pdf\n",
            "https://secretariatlibrary.karnataka.gov.in/storage/pdf-files/List%20of NPs-Mgz Entitlement of Secretariat officers.PDF\n",
            "https://secretariatlibrary.karnataka.gov.in/storage/pdf-files/List%20of NPs-Mgz Entitlement of Secretariat officers.PDF\n",
            "https://secretariatlibrary.karnataka.gov.in/storage/pdf-files/List%20of NPs-Mgz Entitlement of Secretariat officers.PDF\n",
            "https://secretariatlibrary.karnataka.gov.in/storage/pdf-files/List%20of NPs-Mgz Entitlement of Secretariat officers.PDF\n",
            "https://secretariatlibrary.karnataka.gov.in/storage/pdf-files/NPs-Magz for Ministers -GO No DPAR 17 LBP 97- Dt 27-07-1998.PDF\n",
            "https://secretariatlibrary.karnataka.gov.in/storage/pdf-files/NPs-Magz for Ministers-GO No DPAR 35 LBM 97 Dt 06-03-2000.PDF\n",
            "https://secretariatlibrary.karnataka.gov.in/storage/pdf-files/NPs-Magz for Under Secretaries- GO No DPAR 55 LBM 98 Dt 06-04-2000.PDF\n",
            "https://secretariatlibrary.karnataka.gov.in/storage/pdf-files/NPs-Magz for Ministers- GO No DPAR 26 LBP 2001 Dt 09-10-2001.PDF\n",
            "https://secretariatlibrary.karnataka.gov.in/storage/pdf-files/NPs-Magz for Secretariat Officers-GO No DPAR 12 LBP 2002 Dt 26-10-2002.PDF\n",
            "https://secretariatlibrary.karnataka.gov.in/storage/pdf-files/NPs-Magz for Section Officers-GO No DPAR 12 LBP 2002 Dt 02-08-2003.PDF\n",
            "https://secretariatlibrary.karnataka.gov.in/storage/pdf-files/NPs-Magz for Personal Secretries-Gr2 GO No DPAR 15 LBP 2005 Dt 15-01-2005.PDF\n",
            "https://secretariatlibrary.karnataka.gov.in/storage/pdf-files/NPs-Magz for Secretariat officers GO No DPAR 03 LBP 2005 Dt 7-7-2006.PDF\n",
            "https://secretariatlibrary.karnataka.gov.in/storage/pdf-files/Membership Go.pdf\n",
            "https://secretariatlibrary.karnataka.gov.in/storage/pdf-files/Reimbursement of NPs-Mgz- Circular No DPAR 12 LBM 2008 Dt 20-10-2008.PDF\n",
            "https://secretariatlibrary.karnataka.gov.in/storage/pdf-files/Revised Fee for Duplicate Cards-GO No 32 LBM 2010 Dt 24-08-2010.PDF\n",
            "https://secretariatlibrary.karnataka.gov.in/storage/pdf-files/permission for Deputed officer-Circular No DPAR 10 LBP 2019 Dt 04-10-2019.PDF\n",
            "https://secretariatlibrary.karnataka.gov.in/storage/pdf-files/DPARAR 22 LBV 2021, Dated 14-02-2022.pdf\n",
            "                                            PDF Links\n",
            "0   https://secretariatlibrary.karnataka.gov.in/st...\n",
            "1   https://secretariatlibrary.karnataka.gov.in/st...\n",
            "2   https://secretariatlibrary.karnataka.gov.in/st...\n",
            "3   https://secretariatlibrary.karnataka.gov.in/st...\n",
            "4   https://secretariatlibrary.karnataka.gov.in/st...\n",
            "5   https://secretariatlibrary.karnataka.gov.in/st...\n",
            "6   https://ceg.karnataka.gov.in/assets/front/pdf/...\n",
            "7   https://secretariatlibrary.karnataka.gov.in/st...\n",
            "8   https://secretariatlibrary.karnataka.gov.in/st...\n",
            "9   https://secretariatlibrary.karnataka.gov.in/st...\n",
            "10  https://secretariatlibrary.karnataka.gov.in/st...\n",
            "11  https://secretariatlibrary.karnataka.gov.in/st...\n",
            "12  https://secretariatlibrary.karnataka.gov.in/st...\n",
            "13  https://secretariatlibrary.karnataka.gov.in/st...\n",
            "14  https://secretariatlibrary.karnataka.gov.in/st...\n"
          ]
        }
      ],
      "source": [
        "link = \"https://secretariatlibrary.karnataka.gov.in/info-4/Circulars+&+Government+Orders/en\"\n",
        "\n",
        "def fetch_page(url, retries=3, backoff_factor=0.3, timeout=10):\n",
        "    try:\n",
        "        retry_strategy = Retry(\n",
        "            total=retries,\n",
        "            status_forcelist=[429, 500, 502, 503, 504],\n",
        "            backoff_factor=backoff_factor\n",
        "        )\n",
        "        adapter = HTTPAdapter(max_retries=retry_strategy)\n",
        "        http = requests.Session()\n",
        "        http.mount(\"http://\", adapter)\n",
        "        http.mount(\"https://\", adapter)\n",
        "\n",
        "        response = http.get(url, timeout=timeout, verify = False)\n",
        "        response.raise_for_status()  # Raise HTTPError for bad responses (4xx, 5xx)\n",
        "        return BeautifulSoup(response.content, 'html.parser')\n",
        "\n",
        "    except requests.Timeout:\n",
        "        print(f\"Request to {url} timed out.\")\n",
        "    except requests.ConnectionError:\n",
        "        print(f\"Failed to connect to {url}.\")\n",
        "    except requests.HTTPError as http_err:\n",
        "        print(f\"HTTP error occurred: {http_err} - {url}\")\n",
        "    except requests.RequestException as req_err:\n",
        "        print(f\"Error fetching page {url}: {req_err}\")\n",
        "\n",
        "    return None\n",
        "\n",
        "\n",
        "def extract_pdf_links(soup):\n",
        "    links = soup.find_all('a', href=True)\n",
        "    pdf_links = []\n",
        "    for link in links:\n",
        "      try:\n",
        "        if link['href'].endswith('.pdf') or link['href'].endswith('.PDF'):\n",
        "          print(link['href'])\n",
        "          pdf_links.append(link['href'])\n",
        "      except:\n",
        "        print('Problem IN the PARSING')\n",
        "        pass\n",
        "    return pdf_links\n",
        "\n",
        "\n",
        "# Function to recursively extract PDFs from a website\n",
        "def extract_pdfs_from_website(url, visited_urls=None):\n",
        "    if visited_urls is None:\n",
        "        visited_urls = set()\n",
        "\n",
        "    if url in visited_urls:\n",
        "        return []\n",
        "\n",
        "    visited_urls.add(url)\n",
        "    soup = fetch_page(url)\n",
        "    if not soup:\n",
        "        return []\n",
        "\n",
        "    pdf_links = set()\n",
        "\n",
        "    pdf_links.update(extract_pdf_links(soup))\n",
        "\n",
        "    return pdf_links\n",
        "\n",
        "all_pdfs = extract_pdfs_from_website(link)\n",
        "df = pd.DataFrame(list(all_pdfs), columns=['PDF Links'])\n",
        "\n",
        "# Save the DataFrame to a CSV file\n",
        "df.to_csv('all_pdf_links.csv', index=False)\n",
        "\n",
        "# Display the DataFrame\n",
        "print(df)"
      ]
    },
    {
      "cell_type": "code",
      "source": [
        "link = \"https://finance.karnataka.gov.in/info-3/acts%20and%20rules%20-%20ktpp/government%20orders%20and%20circulars/en\"\n",
        "\n",
        "def fetch_page(url, retries=3, backoff_factor=0.3, timeout=10):\n",
        "    try:\n",
        "        retry_strategy = Retry(\n",
        "            total=retries,\n",
        "            status_forcelist=[429, 500, 502, 503, 504],\n",
        "            backoff_factor=backoff_factor\n",
        "        )\n",
        "        adapter = HTTPAdapter(max_retries=retry_strategy)\n",
        "        http = requests.Session()\n",
        "        http.mount(\"http://\", adapter)\n",
        "        http.mount(\"https://\", adapter)\n",
        "\n",
        "        response = http.get(url, timeout=timeout, verify = False)\n",
        "        response.raise_for_status()  # Raise HTTPError for bad responses (4xx, 5xx)\n",
        "        return BeautifulSoup(response.content, 'html.parser')\n",
        "\n",
        "    except requests.Timeout:\n",
        "        print(f\"Request to {url} timed out.\")\n",
        "    except requests.ConnectionError:\n",
        "        print(f\"Failed to connect to {url}.\")\n",
        "    except requests.HTTPError as http_err:\n",
        "        print(f\"HTTP error occurred: {http_err} - {url}\")\n",
        "    except requests.RequestException as req_err:\n",
        "        print(f\"Error fetching page {url}: {req_err}\")\n",
        "\n",
        "    return None\n",
        "\n",
        "\n",
        "def extract_pdf_links(soup):\n",
        "    links = soup.find_all('a', href=True)\n",
        "    pdf_links = []\n",
        "    for link in links:\n",
        "      try:\n",
        "        if link['href'].endswith('.pdf') or link['href'].endswith('.PDF'):\n",
        "          print(link['href'])\n",
        "          pdf_links.append(link['href'])\n",
        "      except:\n",
        "        print('Problem IN the PARSING')\n",
        "        pass\n",
        "    return pdf_links\n",
        "\n",
        "\n",
        "# Function to recursively extract PDFs from a website\n",
        "def extract_pdfs_from_website(url, visited_urls=None):\n",
        "    if visited_urls is None:\n",
        "        visited_urls = set()\n",
        "\n",
        "    if url in visited_urls:\n",
        "        return []\n",
        "\n",
        "    visited_urls.add(url)\n",
        "    soup = fetch_page(url)\n",
        "    if not soup:\n",
        "        return []\n",
        "\n",
        "    pdf_links = set()\n",
        "\n",
        "    pdf_links.update(extract_pdf_links(soup))\n",
        "\n",
        "    return pdf_links\n",
        "\n",
        "all_pdfs = extract_pdfs_from_website(link)\n",
        "df = pd.DataFrame(list(all_pdfs), columns=['PDF Links'])\n",
        "\n",
        "# Save the DataFrame to a CSV file\n",
        "df.to_csv('all_pdf_links.csv', index=False)\n",
        "\n",
        "# Display the DataFrame\n",
        "print(df)"
      ],
      "metadata": {
        "colab": {
          "base_uri": "https://localhost:8080/"
        },
        "id": "_ul0eG1mWi4S",
        "outputId": "b84c9595-0cb7-4387-e784-6905758dad42"
      },
      "execution_count": null,
      "outputs": [
        {
          "output_type": "stream",
          "name": "stderr",
          "text": [
            "/usr/local/lib/python3.10/dist-packages/urllib3/connectionpool.py:1100: InsecureRequestWarning: Unverified HTTPS request is being made to host 'finance.karnataka.gov.in'. Adding certificate verification is strongly advised. See: https://urllib3.readthedocs.io/en/latest/advanced-usage.html#tls-warnings\n",
            "  warnings.warn(\n"
          ]
        },
        {
          "output_type": "stream",
          "name": "stdout",
          "text": [
            "https://ceg.karnataka.gov.in/assets/front/pdf/rti manual/RTI Manual English.pdf\n",
            "https://finance.karnataka.gov.in/storage\\pdf-files/FD702EXP-12-2023-Dtd-15-03-2024.pdf\n",
            "https://finance.karnataka.gov.in/storage\\pdf-files/FD611EXP-12-2023-Dtd-03-02-2024.pdf\n",
            "https://finance.karnataka.gov.in/storage\\pdf-files/FD732EXP-12-2023-Dtd-27-11-2023.pdf\n",
            "https://cdnbbsr.s3waas.gov.in/s380537a945c7aaa788ccfcdf1b99b5d8f/uploads/2023/05/2023050195.pdf\n",
            "https://finance.karnataka.gov.in/storage/pdf-files/FD292FC22023-Dtd-20-10-2023.pdf\n",
            "https://finance.karnataka.gov.in/storage\\pdf-files/FD395EXP-12-2023-Dtd-24-07-2023.pdf\n",
            "https://finance.karnataka.gov.in/storage\\pdf-files/FD127EXP-122023-Dtd-16-05-2023.pdf\n",
            "https://finance.karnataka.gov.in/storage\\pdf-files/FD5EXP-12-2023-Dtd-15-05-2023.pdf\n",
            "https://finance.karnataka.gov.in/storage/pdf-files/FD 5 EXP-12-2023 circular.pdf\n",
            "https://finance.karnataka.gov.in/storage/pdf-files/FD36EXP-12-2022-Dtd-01-09-2022.pdf\n",
            "https://finance.karnataka.gov.in/storage/pdf-files/FD456EXP-12-2022-Dtd-10-08-2022.pdf\n",
            "https://finance.karnataka.gov.in/storage/pdf-files/FD447EXP-12-2022-Dtd-30-07-2022.pdf\n",
            "https://finance.karnataka.gov.in/storage/pdf-files/FD128EXP-12-2021-Dtd-30-07-2022.pdf\n",
            "https://finance.karnataka.gov.in/storage/pdf-files/FD410EXP-12-2022-Dtd-05-07-2022.pdf\n",
            "https://finance.karnataka.gov.in/storage/pdf-files/FD 522 EXP-12 2021.pdf\n",
            "https://finance.karnataka.gov.in/storage/pdf-files/‍FD 263 Exp-12-2022 Circular.pdf\n",
            "https://finance.karnataka.gov.in/storage/pdf-files/FD 128 Exp-12-2021 Circular.pdf\n",
            "https://finance.karnataka.gov.in/storage/pdf-files/Pre Tender Scrutiny Committee G O-Eng.pdf\n",
            "https://finance.karnataka.gov.in/storage/pdf-files/FD 72 Exp-12 2022 dt02-03-2022.pdf\n",
            "https://finance.karnataka.gov.in/storage/pdf-files/FD 54 Exp12 2022.pdf\n",
            "https://finance.karnataka.gov.in/storage/pdf-files/FD 54 Exp-12_2022 dt29-01-2022.pdf\n",
            "https://finance.karnataka.gov.in/storage\\pdf-files/PreTenderScrutinyCommitteeGOCorrectedCopy.pdf\n",
            "https://finance.karnataka.gov.in/storage/pdf-files/FD 685 EXP- 12-2021.pdf\n",
            "https://finance.karnataka.gov.in/storage/pdf-files/FD 218 Exp-12_2021 dt06_09_2021.pdf\n",
            "https://finance.karnataka.gov.in/storage/pdf-files/FD 218 EXP-12_dt01_09_2021.pdf\n",
            "https://finance.karnataka.gov.in/storage/pdf-files/FD 476 EXP-12-2021.pdf\n",
            "https://finance.karnataka.gov.in/storage/pdf-files/FD%20205%20Exp-12_2021.pdf\n",
            "https://finance.karnataka.gov.in/storage/pdf-files/FD 455 Exp-12 2020.pdf\n",
            "https://finance.karnataka.gov.in/storage/pdf-files/FD 455 exp 12 2020_10-3-2021.pdf\n",
            "https://finance.karnataka.gov.in/storage/pdf-files/FD 360 EXP-12-2020.pdf\n",
            "https://finance.karnataka.gov.in/storage/pdf-files/FD 908 Exp-12_2019.pdf\n",
            "https://finance.karnataka.gov.in/storage/pdf-files/FD360EXP122020.pdf\n",
            "https://finance.karnataka.gov.in/storage/pdf-files/FD367EXP122020.pdf\n",
            "https://finance.karnataka.gov.in/storage/pdf-files/FD 295 EXP12 2019_26MAR2019.pdf\n",
            "https://finance.karnataka.gov.in/storage/pdf-files/FD 772 EXP12 2018_01AUG2018.pdf\n",
            "https://finance.karnataka.gov.in/storage/pdf-files/FD576EXP122018-Circular_22MAY2018.pdf\n",
            "https://finance.karnataka.gov.in/storage/pdf-files/FD576EXP122018-GO_22MAY2018.pdf\n",
            "https://finance.karnataka.gov.in/storage/pdf-files/FD876(P-1)EXP-12-2017_12OCT2017.pdf\n",
            "https://finance.karnataka.gov.in/storage/pdf-files/FD 165 EXP 12 2017_21MAR2017.pdf\n",
            "https://finance.karnataka.gov.in/storage/pdf-files/FD 1066 EXP12 2016_20MAR2017.pdf\n",
            "https://finance.karnataka.gov.in/storage/pdf-files/FD 850 EXP12 2015_15DEC2016.PDF\n",
            "https://finance.karnataka.gov.in/storage/pdf-files/FD 850 EXP12 2015_29DEC2015.PDF\n",
            "https://finance.karnataka.gov.in/storage/pdf-files/FD 840 EX 12 11.pdf\n",
            "https://finance.karnataka.gov.in/storage/pdf-files/FD195exp12-2011_30MAR2011.pdf\n",
            "https://finance.karnataka.gov.in/storage/pdf-files/pwd 381 fc-3.pdf\n",
            "https://finance.karnataka.gov.in/storage/pdf-files/PWD 43 FC 3 2006.pdf\n",
            "https://finance.karnataka.gov.in/storage/pdf-files/PWD 140 SOFC 2003_01SEP2003.pdf\n",
            "https://finance.karnataka.gov.in/storage/pdf-files/PWD 1359 SOFC 2001 (P-2)_03 Dec 2002 .pdf\n",
            "https://finance.karnataka.gov.in/storage/pdf-files/PWD 1359 SOFC 2001 (P-2)_03DEC2002.pdf\n",
            "https://finance.karnataka.gov.in/storage/pdf-files/PWD 1359 SOFC 2001 (P-2)_25OCT2002.pdf\n",
            "https://finance.karnataka.gov.in/storage/pdf-files/PWD 1359 SOFC 2001(P-2)_25Oct2002.pdf\n",
            "https://finance.karnataka.gov.in/storage/pdf-files/tranall.pdf\n",
            "                                            PDF Links\n",
            "0   https://finance.karnataka.gov.in/storage/pdf-f...\n",
            "1   https://finance.karnataka.gov.in/storage/pdf-f...\n",
            "2   https://finance.karnataka.gov.in/storage/pdf-f...\n",
            "3   https://ceg.karnataka.gov.in/assets/front/pdf/...\n",
            "4   https://finance.karnataka.gov.in/storage\\pdf-f...\n",
            "5   https://finance.karnataka.gov.in/storage/pdf-f...\n",
            "6   https://finance.karnataka.gov.in/storage/pdf-f...\n",
            "7   https://finance.karnataka.gov.in/storage/pdf-f...\n",
            "8   https://finance.karnataka.gov.in/storage/pdf-f...\n",
            "9   https://finance.karnataka.gov.in/storage/pdf-f...\n",
            "10  https://finance.karnataka.gov.in/storage/pdf-f...\n",
            "11  https://finance.karnataka.gov.in/storage/pdf-f...\n",
            "12  https://finance.karnataka.gov.in/storage/pdf-f...\n",
            "13  https://finance.karnataka.gov.in/storage/pdf-f...\n",
            "14  https://finance.karnataka.gov.in/storage\\pdf-f...\n",
            "15  https://finance.karnataka.gov.in/storage/pdf-f...\n",
            "16  https://finance.karnataka.gov.in/storage\\pdf-f...\n",
            "17  https://finance.karnataka.gov.in/storage/pdf-f...\n",
            "18  https://finance.karnataka.gov.in/storage/pdf-f...\n",
            "19  https://finance.karnataka.gov.in/storage/pdf-f...\n",
            "20  https://finance.karnataka.gov.in/storage\\pdf-f...\n",
            "21  https://finance.karnataka.gov.in/storage/pdf-f...\n",
            "22  https://finance.karnataka.gov.in/storage/pdf-f...\n",
            "23  https://finance.karnataka.gov.in/storage/pdf-f...\n",
            "24  https://finance.karnataka.gov.in/storage/pdf-f...\n",
            "25  https://finance.karnataka.gov.in/storage/pdf-f...\n",
            "26  https://finance.karnataka.gov.in/storage/pdf-f...\n",
            "27  https://finance.karnataka.gov.in/storage/pdf-f...\n",
            "28  https://finance.karnataka.gov.in/storage\\pdf-f...\n",
            "29  https://finance.karnataka.gov.in/storage/pdf-f...\n",
            "30  https://finance.karnataka.gov.in/storage/pdf-f...\n",
            "31  https://finance.karnataka.gov.in/storage/pdf-f...\n",
            "32  https://finance.karnataka.gov.in/storage/pdf-f...\n",
            "33  https://cdnbbsr.s3waas.gov.in/s380537a945c7aaa...\n",
            "34  https://finance.karnataka.gov.in/storage\\pdf-f...\n",
            "35  https://finance.karnataka.gov.in/storage/pdf-f...\n",
            "36  https://finance.karnataka.gov.in/storage/pdf-f...\n",
            "37  https://finance.karnataka.gov.in/storage/pdf-f...\n",
            "38  https://finance.karnataka.gov.in/storage/pdf-f...\n",
            "39  https://finance.karnataka.gov.in/storage/pdf-f...\n",
            "40  https://finance.karnataka.gov.in/storage/pdf-f...\n",
            "41  https://finance.karnataka.gov.in/storage/pdf-f...\n",
            "42  https://finance.karnataka.gov.in/storage/pdf-f...\n",
            "43  https://finance.karnataka.gov.in/storage/pdf-f...\n",
            "44  https://finance.karnataka.gov.in/storage/pdf-f...\n",
            "45  https://finance.karnataka.gov.in/storage\\pdf-f...\n",
            "46  https://finance.karnataka.gov.in/storage/pdf-f...\n",
            "47  https://finance.karnataka.gov.in/storage/pdf-f...\n",
            "48  https://finance.karnataka.gov.in/storage/pdf-f...\n",
            "49  https://finance.karnataka.gov.in/storage/pdf-f...\n",
            "50  https://finance.karnataka.gov.in/storage/pdf-f...\n",
            "51  https://finance.karnataka.gov.in/storage/pdf-f...\n",
            "52  https://finance.karnataka.gov.in/storage/pdf-f...\n"
          ]
        }
      ]
    },
    {
      "cell_type": "code",
      "source": [
        "link = \"https://egovernance.karnataka.gov.in/info-4/GOVERNMENT%20ORDERS%20%20AND%20CIRCULARS/en\"\n",
        "\n",
        "def fetch_page(url, retries=3, backoff_factor=0.3, timeout=10):\n",
        "    try:\n",
        "        retry_strategy = Retry(\n",
        "            total=retries,\n",
        "            status_forcelist=[429, 500, 502, 503, 504],\n",
        "            backoff_factor=backoff_factor\n",
        "        )\n",
        "        adapter = HTTPAdapter(max_retries=retry_strategy)\n",
        "        http = requests.Session()\n",
        "        http.mount(\"http://\", adapter)\n",
        "        http.mount(\"https://\", adapter)\n",
        "\n",
        "        response = http.get(url, timeout=timeout, verify = False)\n",
        "        response.raise_for_status()  # Raise HTTPError for bad responses (4xx, 5xx)\n",
        "        return BeautifulSoup(response.content, 'html.parser')\n",
        "\n",
        "    except requests.Timeout:\n",
        "        print(f\"Request to {url} timed out.\")\n",
        "    except requests.ConnectionError:\n",
        "        print(f\"Failed to connect to {url}.\")\n",
        "    except requests.HTTPError as http_err:\n",
        "        print(f\"HTTP error occurred: {http_err} - {url}\")\n",
        "    except requests.RequestException as req_err:\n",
        "        print(f\"Error fetching page {url}: {req_err}\")\n",
        "\n",
        "    return None\n",
        "\n",
        "\n",
        "def extract_pdf_links(soup):\n",
        "    links = soup.find_all('a', href=True)\n",
        "    pdf_links = []\n",
        "    for link in links:\n",
        "      try:\n",
        "        if link['href'].endswith('.pdf') or link['href'].endswith('.PDF'):\n",
        "          print(link['href'])\n",
        "          pdf_links.append(link['href'])\n",
        "      except:\n",
        "        print('Problem IN the PARSING')\n",
        "        pass\n",
        "    return pdf_links\n",
        "\n",
        "\n",
        "# Function to recursively extract PDFs from a website\n",
        "def extract_pdfs_from_website(url, visited_urls=None):\n",
        "    if visited_urls is None:\n",
        "        visited_urls = set()\n",
        "\n",
        "    if url in visited_urls:\n",
        "        return []\n",
        "\n",
        "    visited_urls.add(url)\n",
        "    soup = fetch_page(url)\n",
        "    if not soup:\n",
        "        return []\n",
        "\n",
        "    pdf_links = set()\n",
        "\n",
        "    pdf_links.update(extract_pdf_links(soup))\n",
        "\n",
        "    return pdf_links\n",
        "\n",
        "all_pdfs = extract_pdfs_from_website(link)\n",
        "df = pd.DataFrame(list(all_pdfs), columns=['PDF Links'])\n",
        "\n",
        "# Save the DataFrame to a CSV file\n",
        "df.to_csv('all_pdf_links.csv', index=False)\n",
        "\n",
        "# Display the DataFrame\n",
        "print(df)"
      ],
      "metadata": {
        "colab": {
          "base_uri": "https://localhost:8080/"
        },
        "id": "SHcdvM1FXM99",
        "outputId": "89132de5-39ea-40f7-bf4d-a8d2d5b44331"
      },
      "execution_count": null,
      "outputs": [
        {
          "output_type": "stream",
          "name": "stderr",
          "text": [
            "/usr/local/lib/python3.10/dist-packages/urllib3/connectionpool.py:1100: InsecureRequestWarning: Unverified HTTPS request is being made to host 'egovernance.karnataka.gov.in'. Adding certificate verification is strongly advised. See: https://urllib3.readthedocs.io/en/latest/advanced-usage.html#tls-warnings\n",
            "  warnings.warn(\n"
          ]
        },
        {
          "output_type": "stream",
          "name": "stdout",
          "text": [
            "https://ceg.karnataka.gov.in/assets/front/pdf/rti manual/RTI Manual English.pdf\n",
            "https://egovernance.karnataka.gov.in/storage/pdf-files/%E0%B2%B8%E0%B2%BF%E0%B2%86%E0%B2%B8%E0%B3%81%E0%B2%87%20192%20%E0%B2%87%E0%B2%9C%E0%B2%BF%E0%B2%8E%E0%B2%82%202020.pdf\n",
            "http://egovernance.karnataka.gov.in/storage/pdf-files/List of Empanelled Vendor  valid upto 30.9.2021.pdf\n",
            "https://egovernance.karnataka.gov.in/storage/pdf-files/%E0%B2%B8%E0%B2%BF%E0%B2%86%E0%B2%B8%E0%B3%81%E0%B2%87%20178%20%E0%B2%87%E0%B2%9C%E0%B2%BF%E0%B2%8E%E0%B2%82%202020.pdf\n",
            "https://egovernance.karnataka.gov.in/storage/pdf-files/%E0%B2%B8%E0%B2%BF%E0%B2%86%E0%B2%B8%E0%B3%81%E0%B2%87%20191%20%E0%B2%87%E0%B2%9C%E0%B2%BF%E0%B2%8E%E0%B2%82%202020.pdf\n",
            "https://egovernance.karnataka.gov.in/storage/pdf-files/%E0%B2%B8%E0%B2%BF%E0%B2%86%E0%B2%B8%E0%B3%81%E0%B2%87%20184%20%E0%B2%87%E0%B2%9C%E0%B2%BF%E0%B2%8E%E0%B2%82%202020.pdf\n",
            "https://egovernance.karnataka.gov.in/storage/pdf-files/%E0%B2%B8%E0%B2%BF%E0%B2%86%E0%B2%B8%E0%B3%81%E0%B2%87%20190%20%E0%B2%87%E0%B2%9C%E0%B2%BF%E0%B2%8E%E0%B2%82%202020.pdf\n",
            "https://egovernance.karnataka.gov.in/storage/pdf-files/Image_011.pdf\n",
            "https://egovernance.karnataka.gov.in/storage/pdf-files/Image_012.pdf\n",
            "https://egovernance.karnataka.gov.in/storage/pdf-files/269%20egm.pdf\n",
            "https://egovernance.karnataka.gov.in/storage/pdf-files/284%20egm.pdf\n",
            "https://egovernance.karnataka.gov.in/storage/pdf-files/Issued%20Copy%20DPAR%20206%20EGM%202020%20Dt%2030-12-2020(1).pdf\n",
            "https://egovernance.karnataka.gov.in/storage/pdf-files/R_20052_1610950405961.pdf\n",
            "https://egovernance.karnataka.gov.in/storage/pdf-files/DPAR281EGM2020.pdf\n",
            "https://egovernance.karnataka.gov.in/storage/pdf-files/DPAR86EGM2019.pdf\n",
            "https://egovernance.karnataka.gov.in/storage/pdf-files/DPAR%20310%20EGM%202020.pdf\n",
            "https://egovernance.karnataka.gov.in/storage/pdf-files/%E0%B2%B8%E0%B2%BF%E0%B2%86%E0%B2%B8%E0%B3%81%E0%B2%87%20238%20%E0%B2%87%E0%B2%86%E0%B2%87%202020.pdf\n",
            "https://egovernance.karnataka.gov.in/storage/pdf-files/DPAR%20310%20EGM%202020%20oc%20copy%20kan%20eng%20dt10%2002%202021.pdf\n",
            "https://egovernance.karnataka.gov.in/storage/pdf-files/DPAR%20%20238%20EGM%20%202020%20OC%20COPYdt%2016%2002%202021.pdf\n",
            "https://egovernance.karnataka.gov.in/storage/pdf-files/DPAR31EGM2021.pdf\n",
            "https://egovernance.karnataka.gov.in/storage/pdf-files/25032021/DPAR%20%20PRJ%2035%202020%201.pdf\n",
            "https://egovernance.karnataka.gov.in/storage/pdf-files/25032021/DPAR%20190%20EGM%202020.pdf\n",
            "https://egovernance.karnataka.gov.in/storage/pdf-files/25032021/DPAR%20205%20EGM%202020.pdf\n",
            "https://egovernance.karnataka.gov.in/storage/pdf-files/ಸಿಆಸುಇ 47 ಪಿಆರ್‌ ಜೆ 2021 14-12-2021.pdf\n",
            "https://egovernance.karnataka.gov.in/storage/pdf-files/ಸಿಆಸುಇ 47 ಪಿಅರ್ ಜೆ 2021 ಸುತ್ತೋಲೆ ದಿನಾಂಕ 11 10 2021.pdf\n",
            "https://egovernance.karnataka.gov.in/storage/pdf-files/DPAR%2031%20PRJ%202020.pdf\n",
            "https://egovernance.karnataka.gov.in/storage/pdf-files/DPAR%20179%20EGM%202020.pdf\n",
            "https://egovernance.karnataka.gov.in/storage/pdf-files/DPAR%2045%20PRJ.pdf\n",
            "https://egovernance.karnataka.gov.in/storage/pdf-files/DPAR%2047%20PRJ%202021.pdf\n",
            "https://egovernance.karnataka.gov.in/storage/pdf-files/GO%20commitee%20%20constution%20%20public%20grievance.pdf\n",
            "https://egovernance.karnataka.gov.in/storage/pdf-files/commitee%20%20constution%20%20public%20grievance%20%E0%B2%B8%E0%B2%AE%E0%B2%BF%E0%B2%A4%E0%B2%BF.pdf\n",
            "https://egovernance.karnataka.gov.in/storage/pdf-files/14112021/DPAR%20162%20EGM%202021.pdf\n",
            "https://egovernance.karnataka.gov.in/storage/pdf-files/14112021/DPAR%20163%20EGM%202021.pdf\n",
            "https://egovernance.karnataka.gov.in/storage/pdf-files/DPAR%20160%20EGM%202021%20OC.pdf\n",
            "https://egovernance.karnataka.gov.in/storage/pdf-files/ಸಿಆಸುಇ 04 ಪಿಆರ್‌ಜೆ 2022 dated 19 01 2022.pdf\n",
            "https://egovernance.karnataka.gov.in/storage/pdf-files/08022022/DPAR%2055%20PRJ%202021%20Notification%20Dated%2022-07-2021.pdf\n",
            "https://egovernance.karnataka.gov.in/storage/pdf-files/CS%20Circular%20Online%20digital%20case%20dairy.pdf\n",
            "https://egovernance.karnataka.gov.in/storage/pdf-files/revenu aadahr.pdf\n",
            "https://egovernance.karnataka.gov.in/storage/pdf-files/ಸಿಆಸುಇ 35 ಇಜಿವಿ 2022 ದಿನಾಂಕ; 05-08-2022.pdf\n",
            "https://egovernance.karnataka.gov.in/storage/pdf-files/ಪದಕಣಜ.pdf\n",
            "https://egovernance.karnataka.gov.in/storage/pdf-files/ಸಿಆಸುಇ 85 ಪಿಆರ್‌ಜೆ  2021 ದಿನಾಂಕ 26 10 2021.pdf\n",
            "https://egovernance.karnataka.gov.in/storage/pdf-files/Proceedings of the constitution of Dist level Aadhaar Monitoring committees.pdf\n",
            "https://egovernance.karnataka.gov.in/storage/pdf-files/ewaste.pdf\n",
            "https://egovernance.karnataka.gov.in/storage/pdf-files/prj2.pdf\n",
            "                                            PDF Links\n",
            "0   https://egovernance.karnataka.gov.in/storage/p...\n",
            "1   https://egovernance.karnataka.gov.in/storage/p...\n",
            "2   https://egovernance.karnataka.gov.in/storage/p...\n",
            "3   https://ceg.karnataka.gov.in/assets/front/pdf/...\n",
            "4   https://egovernance.karnataka.gov.in/storage/p...\n",
            "5   https://egovernance.karnataka.gov.in/storage/p...\n",
            "6   https://egovernance.karnataka.gov.in/storage/p...\n",
            "7   https://egovernance.karnataka.gov.in/storage/p...\n",
            "8   https://egovernance.karnataka.gov.in/storage/p...\n",
            "9   https://egovernance.karnataka.gov.in/storage/p...\n",
            "10  https://egovernance.karnataka.gov.in/storage/p...\n",
            "11  https://egovernance.karnataka.gov.in/storage/p...\n",
            "12  https://egovernance.karnataka.gov.in/storage/p...\n",
            "13  https://egovernance.karnataka.gov.in/storage/p...\n",
            "14  https://egovernance.karnataka.gov.in/storage/p...\n",
            "15  https://egovernance.karnataka.gov.in/storage/p...\n",
            "16  https://egovernance.karnataka.gov.in/storage/p...\n",
            "17  https://egovernance.karnataka.gov.in/storage/p...\n",
            "18  https://egovernance.karnataka.gov.in/storage/p...\n",
            "19  https://egovernance.karnataka.gov.in/storage/p...\n",
            "20  https://egovernance.karnataka.gov.in/storage/p...\n",
            "21  https://egovernance.karnataka.gov.in/storage/p...\n",
            "22  https://egovernance.karnataka.gov.in/storage/p...\n",
            "23  https://egovernance.karnataka.gov.in/storage/p...\n",
            "24  https://egovernance.karnataka.gov.in/storage/p...\n",
            "25  https://egovernance.karnataka.gov.in/storage/p...\n",
            "26  https://egovernance.karnataka.gov.in/storage/p...\n",
            "27  https://egovernance.karnataka.gov.in/storage/p...\n",
            "28  https://egovernance.karnataka.gov.in/storage/p...\n",
            "29  https://egovernance.karnataka.gov.in/storage/p...\n",
            "30  https://egovernance.karnataka.gov.in/storage/p...\n",
            "31  https://egovernance.karnataka.gov.in/storage/p...\n",
            "32  https://egovernance.karnataka.gov.in/storage/p...\n",
            "33  https://egovernance.karnataka.gov.in/storage/p...\n",
            "34  https://egovernance.karnataka.gov.in/storage/p...\n",
            "35  https://egovernance.karnataka.gov.in/storage/p...\n",
            "36  http://egovernance.karnataka.gov.in/storage/pd...\n",
            "37  https://egovernance.karnataka.gov.in/storage/p...\n",
            "38  https://egovernance.karnataka.gov.in/storage/p...\n",
            "39  https://egovernance.karnataka.gov.in/storage/p...\n",
            "40  https://egovernance.karnataka.gov.in/storage/p...\n",
            "41  https://egovernance.karnataka.gov.in/storage/p...\n",
            "42  https://egovernance.karnataka.gov.in/storage/p...\n",
            "43  https://egovernance.karnataka.gov.in/storage/p...\n"
          ]
        }
      ]
    },
    {
      "cell_type": "markdown",
      "source": [
        "# law Department, Rajasthan\n"
      ],
      "metadata": {
        "id": "qbB7P6peYf5-"
      }
    },
    {
      "cell_type": "code",
      "source": [
        "link = \"https://law.rajasthan.gov.in/content/law-justice/en/LawLegalAffairsDepartment/CircularsOrders/Circulars.html\"\n",
        "base_link = \"https://law.rajasthan.gov.in/\"\n",
        "\n",
        "def fetch_page(url, retries=3, backoff_factor=0.3, timeout=10):\n",
        "    try:\n",
        "        retry_strategy = Retry(\n",
        "            total=retries,\n",
        "            status_forcelist=[429, 500, 502, 503, 504],\n",
        "            backoff_factor=backoff_factor\n",
        "        )\n",
        "        adapter = HTTPAdapter(max_retries=retry_strategy)\n",
        "        http = requests.Session()\n",
        "        http.mount(\"http://\", adapter)\n",
        "        http.mount(\"https://\", adapter)\n",
        "\n",
        "        response = http.get(url, timeout=timeout, verify = False)\n",
        "        response.raise_for_status()  # Raise HTTPError for bad responses (4xx, 5xx)\n",
        "        return BeautifulSoup(response.content, 'html.parser')\n",
        "\n",
        "    except requests.Timeout:\n",
        "        print(f\"Request to {url} timed out.\")\n",
        "    except requests.ConnectionError:\n",
        "        print(f\"Failed to connect to {url}.\")\n",
        "    except requests.HTTPError as http_err:\n",
        "        print(f\"HTTP error occurred: {http_err} - {url}\")\n",
        "    except requests.RequestException as req_err:\n",
        "        print(f\"Error fetching page {url}: {req_err}\")\n",
        "\n",
        "    return None\n",
        "\n",
        "\n",
        "def extract_pdf_links(soup):\n",
        "    links = soup.find_all('a')\n",
        "    print(links)\n",
        "    pdf_links = []\n",
        "    for link in links:\n",
        "      try:\n",
        "        # print(link.keys())\n",
        "        if link['href'].endswith('.pdf') or link['href'].endswith('.PDF'):\n",
        "          print(base_link+link['href'])\n",
        "          pdf_links.append(base_link+link['href'])\n",
        "      except:\n",
        "        print('Problem IN the PARSING')\n",
        "        pass\n",
        "    return pdf_links\n",
        "\n",
        "\n",
        "# Function to recursively extract PDFs from a website\n",
        "def extract_pdfs_from_website(url, visited_urls=None):\n",
        "    if visited_urls is None:\n",
        "        visited_urls = set()\n",
        "\n",
        "    if url in visited_urls:\n",
        "        return []\n",
        "\n",
        "    visited_urls.add(url)\n",
        "    soup = fetch_page(url)\n",
        "    table = soup.find('table')\n",
        "    # print(table)\n",
        "    if not soup:\n",
        "        return []\n",
        "\n",
        "    pdf_links = set()\n",
        "\n",
        "    pdf_links.update(extract_pdf_links(table))\n",
        "\n",
        "    return pdf_links\n",
        "\n",
        "all_pdfs = extract_pdfs_from_website(link)\n",
        "df = pd.DataFrame(list(all_pdfs), columns=['PDF Links'])\n",
        "\n",
        "# Save the DataFrame to a CSV file\n",
        "df.to_csv('all_pdf_links.csv', index=False)\n",
        "\n",
        "# Display the DataFrame\n",
        "print(df)"
      ],
      "metadata": {
        "colab": {
          "base_uri": "https://localhost:8080/"
        },
        "id": "ute61dl9XU6X",
        "outputId": "486910ba-9b4d-4489-d05b-10d18ec135b3"
      },
      "execution_count": null,
      "outputs": [
        {
          "output_type": "stream",
          "name": "stderr",
          "text": [
            "/usr/local/lib/python3.10/dist-packages/urllib3/connectionpool.py:1100: InsecureRequestWarning: Unverified HTTPS request is being made to host 'law.rajasthan.gov.in'. Adding certificate verification is strongly advised. See: https://urllib3.readthedocs.io/en/latest/advanced-usage.html#tls-warnings\n",
            "  warnings.warn(\n"
          ]
        },
        {
          "output_type": "stream",
          "name": "stdout",
          "text": [
            "[<a href=\"/content/dam/law-justice/Law%20%26%20Legal%20Affairs%20Department/PDF/Circulars/Family_Court_Counsellor_Notification.pdf\" target=\"_blank\">Notification regarding Family Court Counsellors</a>, <a href=\"/content/dam/law-justice/Law%20%26%20Legal%20Affairs%20Department/PDF/Circulars/Notification%20Hanumangarh.pdf\" target=\"_blank\">Notification regarding Name change of Special Judicial Magistrat (N.I. Act Case) Court 1, Hanumangarh</a>, <a href=\"/content/dam/law-justice/Law%20%26%20Legal%20Affairs%20Department/PDF/Circulars/Circular_16RLA_1Session.pdf\" target=\"_blank\">Circular regarding Legislative Works to be required in forthcoming Session (1st Session) of 16th Rajasthan Legislative Assembly</a>, <a href=\"/content/dam/law-justice/Law%20%26%20Legal%20Affairs%20Department/PDF/Circulars/Spl_Court_NIAct_Mavli_Nathdwara.pdf\" target=\"_blank\">Notification regarding Creation of Spl. Judicial Magistrate (N.I.Act Cases) Court Mavli, Nathdwara</a>, <a href=\"/content/dam/law-justice/Law%20%26%20Legal%20Affairs%20Department/PDF/Orders/TransferPosting/LegalNotice.pdf\" target=\"_blank\">Circular regarding Legal Service Additional Charge Order</a>, <a href=\"/content/dam/law-justice/Law%20%26%20Legal%20Affairs%20Department/PDF/Circulars/CommercialCourt-Sriganganagar-Bharatpur.pdf\" target=\"_blank\">Notification regarding Creation of Commercial Court Sriganganagar, Bharatpur</a>, <a href=\"/content/dam/law-justice/Law%20%26%20Legal%20Affairs%20Department/PDF/Circulars/NIAct-No1-Hanumangarh.pdf\" target=\"_blank\">Notification regarding Creation of Spl. Judicial Magistrate (N.I.Act Cases) Court No.1, Hanumangarh</a>, <a href=\"/content/dam/law-justice/Law%20%26%20Legal%20Affairs%20Department/PDF/Circulars/NIACT-Kishangarh.pdf\" target=\"_blank\">Notification regarding Creation of Spl. Judicial Magistrate (N.I.Act Cases) Court, Kishangarh</a>, <a href=\"/content/dam/law-justice/Law%20%26%20Legal%20Affairs%20Department/PDF/Circulars/ADJ-Ravatsar-Hanumangarh.pdf\" target=\"_blank\">Notification regarding Creation of A.D.J. Court Rawatsar</a>, <a href=\"/content/dam/law-justice/Law%20%26%20Legal%20Affairs%20Department/PDF/Circulars/ADJ-Kumher.pdf\" target=\"_blank\">Notification regarding Creation of A.D.J. Court Kumher</a>, <a href=\"/content/dam/law-justice/Law%20%26%20Legal%20Affairs%20Department/PDF/Circulars/ADJ-Khajuwala_Anupgarh-Balesar_Jodhpur.pdf\" target=\"_blank\">Notification regarding Creation of A.D.J. Court Khajuwala &amp; Balesar</a>, <a href=\"/content/dam/law-justice/Law%20%26%20Legal%20Affairs%20Department/PDF/Circulars/SR-CJM.pdf\" target=\"_blank\">Notification regarding Creation of Sr.C.J.&amp;A.C.J.M. Court Marwar Junction, Bagidora, Sikri, Jobner</a>, <a href=\"/content/dam/law-justice/Law%20%26%20Legal%20Affairs%20Department/PDF/Circulars/CJJM-Shiv-Khinvasar-Sindhari.pdf\" target=\"_blank\">Notification regarding Creation of C.J.&amp;J.M. Court Shiv, Khimsar, Sindhari</a>, <a href=\"/content/dam/law-justice/Law%20%26%20Legal%20Affairs%20Department/PDF/Circulars/CircularRegardingIncompleteAPR.pdf\" target=\"_blank\">Circular Regarding Incomplete APR of Rajasthan Legal Service Cadre</a>, <a href=\"/content/dam/law-justice/Law%20%26%20Legal%20Affairs%20Department/PDF/Orders/TransferPosting/Addl_Charge_Cancellation_04_Sept.pdf\" target=\"_blank\">Work Arragements Cancellation order of Sh. OmPrakash Sharma (D.L.R.), Sh. Naresh Pal Singh (A.L.R.), Smt. Nimita Sharma(J.L.O.)</a>, <a href=\"/content/dam/law-justice/Law%20%26%20Legal%20Affairs%20Department/PDF/Circulars/1-ADJ-to-SpecialCourts-NDPS-Power.pdf\" target=\"_blank\">Notification Regarding Empowerment of Special Courts NDPS to ADJ Courts</a>, <a href=\"/content/dam/law-justice/Law%20%26%20Legal%20Affairs%20Department/PDF/Circulars/2-ADJ-to-MACT-Powers.pdf\" target=\"_blank\">Notification Regarding Empowerment of MACT to ADJ Courts</a>, <a href=\"/content/dam/law-justice/Law%20%26%20Legal%20Affairs%20Department/PDF/Circulars/3-FamilyCourtPowersto%20ADJ.pdf\" target=\"_blank\">Notification to Designate the Empowerment of Family Courts to ADJ Courts</a>, <a href=\"/content/dam/law-justice/Law%20%26%20Legal%20Affairs%20Department/PDF/Circulars/Child_Info_Legal_Service_.pdf\" target=\"_blank\">Circular Regarding Pending APR of Legal Service Cadre Officers/Employees</a>, <a href=\"/content/dam/law-justice/Law%20%26%20Legal%20Affairs%20Department/PDF/Circulars/Child_Info_Vidhi_Rachana.pdf\" target=\"_blank\">Circular Regarding Pending APR of Vidhi Rachana Cadre Officers/Employees</a>, <a href=\"/content/dam/law-justice/Law%20%26%20Legal%20Affairs%20Department/PDF/Circulars/CircularRegardingRelieveAPO.pdf\" target=\"_blank\">Circular Regarding Relieve/APO to Legal Service Cadre Officers/Employees by others without Law and Legal Affairs Department Permission</a>, <a href=\"/content/dam/law-justice/Law%20%26%20Legal%20Affairs%20Department/PDF/Circulars/ADJ_court_Kapasan_Chittorgarh.pdf\" target=\"_blank\">Notification regarding Creation of Additional District Judge Court at Kapasan, Chittorgarh.</a>, <a href=\"/content/dam/law-justice/Law%20%26%20Legal%20Affairs%20Department/PDF/Orders/MISCOrders/Legal_ExtraCharge_Circular.pdf\" target=\"_blank\">Circular Regarding Additional Charge Given to Legal Service Cadre Officers/Employees by others without Law and Legal Affairs Department Permission</a>, <a href=\"/content/dam/law-justice/Law%20%26%20Legal%20Affairs%20Department/PDF/Circulars/ACJMNo1SawaiMadhopur.pdf\" target=\"_blank\">Notification regarding Name Change of ACJM Sawai Madhopur to ACJM No.1, Sawai Madhopur</a>, <a href=\"/content/dam/law-justice/Law%20%26%20Legal%20Affairs%20Department/PDF/Circulars/ADJNo1SriGanganagarkhetri.pdf\" target=\"_blank\">Notification regarding Name Change of ADJ Raisinghnagar, khetri  to ADJ No.1, RaiSingh Nagar, khetri</a>, <a href=\"/content/dam/law-justice/Law%20%26%20Legal%20Affairs%20Department/PDF/Circulars/ACJMNo1WeirBayanaSikarMavaliTonk.pdf\" target=\"_blank\">Notification regarding Name Change of Sr.ACJM &amp; ACJM Weir, Bayana, Sikar,  Mavali, Tonk to Sr.ACJM &amp; ACJM No.1, Weir, Bayana, Sikar, Mavali, Tonk</a>, <a href=\"/content/dam/law-justice/Law%20%26%20Legal%20Affairs%20Department/PDF/Circulars/Reg_Leglislative_Work.pdf\" target=\"_blank\">Circular regarding Legislative Works to be required in forthcoming Session (8th Session) of 15th Rajasthan Legislative Assembly</a>, <a href=\"/content/dam/law-justice/Law%20%26%20Legal%20Affairs%20Department/PDF/Circulars/CJM-ACJM-Govindgarh-Nagar-SriKaranpur-9.pdf\" target=\"_blank\">Notification regarding Creation of Civil Judge and Judicial Magistrate Courts.</a>, <a href=\"/content/dam/law-justice/Law%20%26%20Legal%20Affairs%20Department/PDF/Circulars/NDPS%20Jodhpur.pdf\" target=\"_blank\">Notification regarding Creation of Special Court (N.D.P.S. Case), Jodhpur.</a>, <a href=\"/content/dam/law-justice/Law%20%26%20Legal%20Affairs%20Department/PDF/Circulars/NIAct-Udaipur-Bhilwara-Dausa.pdf\" target=\"_blank\">Notification regarding Creation of Special Judicial Magistrat (N.I. Act Case) Courts.</a>, <a href=\"/content/dam/law-justice/Law%20%26%20Legal%20Affairs%20Department/PDF/Circulars/ADJ-Raisingh-Phagi-Khetri.pdf\" target=\"_blank\">Notification regarding Creation of District and Session Judge Courts.</a>, <a href=\"/content/dam/law-justice/Law%20%26%20Legal%20Affairs%20Department/PDF/Circulars/SrCJ-ACJM-Vair-Sikar-Udaipur-Byawar-Mawli-Tonk-Bayana-Aburoad.pdf\" target=\"_blank\">Notification regarding Creation of Additional Senior Civil Judge and Additional Chief Judicial Magistrate Courts.</a>, <a href=\"/content/dam/law-justice/Law%20%26%20Legal%20Affairs%20Department/PDF/Circulars/NIAct-Jodhpur-Metro.pdf\" target=\"_blank\">Notification regarding Creation of Special Metro Magistrat (N.I. Act Case) Court, Jodhpur Metro.</a>, <a href=\"/content/dam/law-justice/Law%20%26%20Legal%20Affairs%20Department/PDF/Circulars/ACJ%26MM27-Bagru-Jaipur.pdf\" target=\"_blank\">Notification regarding Creation of Additional Senior Civil Judge and Metro Magistrate Court at Bagru, Jaipur Metro.</a>, <a href=\"/content/dam/law-justice/Law%20%26%20Legal%20Affairs%20Department/PDF/Circulars/ASCJ%26MM9-JodhpurMetro.pdf\">Notification regarding Creation of Additional Senior Civil Judge and Additional Chief Metro Magistrate Court Jodhpur Metro.</a>, <a href=\"/content/dam/law-justice/Law%20%26%20Legal%20Affairs%20Department/PDF/Circulars/SrCJ_ACJM_Kathumar.pdf\" target=\"_blank\">Notification regarding Creation of Sr. C.J. &amp; A.C.J.M. Court Kathumar (Alwar)</a>, <a href=\"/content/dam/law-justice/Law%20%26%20Legal%20Affairs%20Department/PDF/Circulars/NotificationofADJCourtsCreationatjayal.pdf\" target=\"_blank\">Notification regarding Creation of ADJ Courts at jayal, Nagaur</a>, <a href=\"/content/dam/law-justice/Law%20%26%20Legal%20Affairs%20Department/PDF/Circulars/MACT_Sr_List.pdf\" target=\"_blank\">Amended Circular Regarding HOD Power of all MACT</a>, <a href=\"/content/dam/law-justice/Law%20%26%20Legal%20Affairs%20Department/PDF/Litigation_Orders/litigation.pdf\" target=\"_blank\">Circular Regarding state government not submitting timely reply in contempt cases pending before Rajasthan High Court.</a>, <a href=\"/content/dam/law-justice/Law%20%26%20Legal%20Affairs%20Department/PDF/Litigation_Orders/appeal%20against%20commercial%20court.pdf\" target=\"_blank\">Circular Regarding not submitting appeal against the decesions of Commercial courts in time.</a>, <a href=\"/content/dam/law-justice/Law%20%26%20Legal%20Affairs%20Department/PDF/Orders/MISCOrders/CircularRegardingHODPower.pdf\" target=\"_blank\">Circular Regarding HOD Power of all MACT</a>, <a href=\"/content/dam/law-justice/Law%20%26%20Legal%20Affairs%20Department/PDF/Orders/MISCOrders/SelectionofIASFromVidiRachnaServicesandLegalServices.pdf\" target=\"_blank\">Circular Regarding Selection of IAS From Vidhi Rachna Services and Legal Services</a>, <a href=\"/content/dam/law-justice/Law%20%26%20Legal%20Affairs%20Department/PDF/Circulars/CircularRegardingEFileImplementation.pdf\" target=\"_blank\">Circular Regarding E-File Implementation</a>, <a href=\"/content/dam/law-justice/Law%20%26%20Legal%20Affairs%20Department/PDF/Circulars/MACT.pdf\" target=\"_blank\">Circular Regarding Sanction of Leaves during Strike Period for MACT's Employees</a>, <a href=\"/content/dam/law-justice/Law%20%26%20Legal%20Affairs%20Department/PDF/Litigation_Orders/presenceincivilcasesonbehalfofthestategovernment.pdf\" target=\"_blank\">Circular Regarding presence in civil cases on behalf of the state government</a>, <a href=\"/content/dam/law-justice/Law%20%26%20Legal%20Affairs%20Department/PDF/Circulars/Lagislative_Work_8_Session_15RLA.pdf\" target=\"_blank\">Circular regarding Legislative Works to be required in forthcoming Session (8th Session) of 15th Rajasthan Legislative Assembly</a>, <a href=\"/content/dam/law-justice/Law%20%26%20Legal%20Affairs%20Department/PDF/Orders/ACR/ACR_Overview20122022.pdf\" target=\"_blank\">Circular Regarding Incomplete APR of Rajasthan Legal Service Cadre</a>, <a href=\"/content/dam/law-justice/Law%20%26%20Legal%20Affairs%20Department/PDF/Circulars/CircularRegardingCasesAssignedtoAAG.pdf\" target=\"_blank\">Circular Regarding Cases Assigned to AAG</a>, <a href=\"/content/dam/law-justice/Law%20%26%20Legal%20Affairs%20Department/PDF/Litigation_Orders/CircularRegardingComplianceoflitigationPolicy041122.pdf\" target=\"_blank\">Circular Regarding Compliance of litigation Policy</a>, <a href=\"/content/dam/law-justice/Law%20%26%20Legal%20Affairs%20Department/PDF/Circulars/At_Dist_HQ.pdf\" target=\"_blank\">Notification regarding Conferment of power for all ADJ Courts established at District Headquarter by The Banning of Unregulated Deposit scheme 2019</a>, <a href=\"/content/dam/law-justice/Law%20%26%20Legal%20Affairs%20Department/PDF/Circulars/Outside_Dist_HQ.pdf\" target=\"_blank\">Notification regarding Conferment of power for all ADJ Courts established at Outside District Headquarter by The Banning of Unregulated Deposit scheme 2019</a>, <a href=\"/content/dam/law-justice/Law%20%26%20Legal%20Affairs%20Department/PDF/Circulars/NotificationtoDesignatethepowersandjurisdictionofFamilyCourtstoADJCourts24082022.pdf\" target=\"_blank\">Notification to Designate the Empowerment of Family Courts to ADJ Courts</a>, <a href=\"/content/dam/law-justice/Law%20%26%20Legal%20Affairs%20Department/PDF/Circulars/AmendedNotificationRegardingJurisdictionPowersofMACTtoADJCourts24082022.pdf\" target=\"_blank\">Amended Notification Regarding Empowerment of MACT to ADJ Courts</a>, <a href=\"/content/dam/law-justice/Law%20%26%20Legal%20Affairs%20Department/PDF/Orders/MISCOrders/CircularregardingLegislativeWorkstoberequiredinforthcomingSession7thSessionof15thRajasthanLegislativeAssembly.pdf\" target=\"_blank\">Circular regarding Legislative Works to be required in forthcoming Session (7th Session) of 15th Rajasthan Legislative Assembly</a>, <a href=\"/content/dam/law-justice/Law%20%26%20Legal%20Affairs%20Department/PDF/Circulars/NotificationRegardingPowerdesignationofSpecialJudicialMagistrateNIActCasestoBeawarajmerAlwarChittorgarhPaliRajsamandSikar.pdf\" target=\"_blank\">Notification Regarding Power designation of Special Judicial Magistrate (N.I, Act) Cases to Beawar (ajmer), Alwar, Chittorgarh,Pali, Rajsamand, Sikar</a>, <a href=\"/content/dam/law-justice/Law%20%26%20Legal%20Affairs%20Department/PDF/Circulars/Jurisdiction_CJ_JM_Courts_Kota.pdf\" target=\"_blank\">Notification Regarding Jurisdiction of C.J. &amp; J.M. Courts, Kota</a>, <a href=\"/content/dam/law-justice/Law%20%26%20Legal%20Affairs%20Department/PDF/Circulars/Jurisdiction_CJ_JM_Courts_Bhilwara.pdf\" target=\"_blank\">Notification Regarding Jurisdiction of C.J. &amp; J.M. Courts, Bhilwara</a>, <a href=\"/content/dam/law-justice/Law%20%26%20Legal%20Affairs%20Department/PDF/Circulars/Establish%20Pilot%20Study%20Special%20Judicial%20Magistrate%20Courts%20jaipur.pdf\" target=\"_blank\">Notification Regarding establishment of Pilot Study Special Judicial Magistrate Courts for hearing of N.I. Act Cases(Jaipur &amp; Jodhpur)</a>, <a href=\"/content/dam/law-justice/Law%20%26%20Legal%20Affairs%20Department/PDF/Circulars/Establish%20Pilot%20Study%20Special%20Judicial%20Magistrate%20Courts.pdf\" target=\"_blank\">Notification Regarding establishment of Pilot Study Special Judicial Magistrate Courts for hearing of N.I. Act Cases(Ajmer &amp; Udiapur)</a>, <a href=\"/content/dam/law-justice/Law%20%26%20Legal%20Affairs%20Department/PDF/Circulars/Notification07072022.pdf\" target=\"_blank\">Notification in exercise of the powers conferred by clause (f) of section 58 of the transfer of property act, 1882(Central Act 4 of 1882), and in supersession of all the previous notification on the subject.</a>, <a href=\"/content/dam/law-justice/Law%20%26%20Legal%20Affairs%20Department/PDF/Circulars/ACR_Pending.pdf\" target=\"_blank\">Regarding Incomplete APR Order of Rajasthan Legal Service Cadre</a>, <a href=\"/content/dam/law-justice/Law%20%26%20Legal%20Affairs%20Department/PDF/Circulars/NI_Act_Sikar.pdf\" target=\"_blank\">Notification Regarding Creation of Spl. J.M. (N.I. Act Cases) Court, Sikar</a>, <a href=\"/content/dam/law-justice/Law%20%26%20Legal%20Affairs%20Department/PDF/Circulars/CJJM_Osiyan.pdf\" target=\"_blank\">Notification Regarding Creation of C.J. &amp; J.M. Court, Osiyan (Jodhpur)</a>, <a href=\"/content/dam/law-justice/Law%20%26%20Legal%20Affairs%20Department/PDF/Circulars/SrCJ_ACJM_Railmagra.pdf\" target=\"_blank\">Notification Regarding Creation of Sr.C.J. &amp; A.C.J.M. Court, Railmagra (Rajsamand)</a>, <a href=\"/content/dam/law-justice/Law%20%26%20Legal%20Affairs%20Department/PDF/Circulars/CJ_JM_5.pdf\" target=\"_blank\">Notification Regarding Creation of C.J. &amp; J.M. Court Masuda, Sedwa, Sarmathura, Ahore, Dhod</a>, <a href=\"/content/dam/law-justice/Law%20%26%20Legal%20Affairs%20Department/PDF/Circulars/State%20litigation%20Policy%202018%20.pdf\" target=\"_blank\">Circular regarding setting up of Legal Cell as per State Litigation Policy-2018</a>, <a href=\"/content/dam/law-justice/Law%20%26%20Legal%20Affairs%20Department/PDF/Circulars/NotificationforCreationofPOSCOCourtsinNagaur.pdf\" target=\"_blank\">Notification Regarding Creation of POCSO Court in Nagaur</a>, <a href=\"/content/dam/law-justice/Law%20%26%20Legal%20Affairs%20Department/PDF/Circulars/Exam_Power.pdf\" target=\"_blank\">Notification Regarding Designate of ADJ Court for The Rajasthan Public Examination (Measures for Prevention of Unfair Means in Recruitment) Act, 2022</a>, <a href=\"/content/dam/law-justice/Law%20%26%20Legal%20Affairs%20Department/PDF/Circulars/Spl_Court_Narcotics.pdf\" target=\"_blank\">Notification Regarding Area of Special Courts (Narcotic Drugs and Psychotropic Substances Act of 1985)</a>, <a href=\"/content/dam/law-justice/Law%20%26%20Legal%20Affairs%20Department/PDF/Circulars/Area_ADJ_2_Jaipur.pdf\">Notification Regarding Empowerment of Spl. Court (S.C.&amp;S.T.) and A.D.J. Court, Jaipur Metro-I,II &amp; District</a>, <a href=\"/content/dam/law-justice/Law%20%26%20Legal%20Affairs%20Department/PDF/Circulars/Area_Change_Spl_Court.pdf\" target=\"_blank\">Notification Regarding Area Change of Special Courts (Prevention of Corruption) Ajmer &amp; No.1 Jodhpur</a>, <a href=\"/content/dam/law-justice/Law%20%26%20Legal%20Affairs%20Department/PDF/Circulars/Name_Change_ADJ_Deeg_Bharatpur.pdf\" target=\"_blank\">Notification Regarding Name Change of A.D.J. Court Deeg (Bharatpur)</a>, <a href=\"/content/dam/law-justice/Law%20%26%20Legal%20Affairs%20Department/PDF/Circulars/NotificationRegardingEmpowermentofMACTtoADJcourts.pdf\" target=\"_blank\">Notification Regarding Empowerment of MACT to ADJ courts </a>, <a href=\"/content/dam/law-justice/Law%20%26%20Legal%20Affairs%20Department/PDF/Circulars/NotificationRegardingEmpowermentofNDPStoADJcourts.pdf\" target=\"_blank\">Notification Regarding Empowerment of NDPS to ADJ courts </a>, <a href=\"/content/dam/law-justice/Law%20%26%20Legal%20Affairs%20Department/PDF/Circulars/NotificationRegardingEmpowermentofFamilytoADJCourts.pdf\" target=\"_blank\">Notification Regarding Empowerment of Family to ADJ Courts</a>, <a href=\"/content/dam/law-justice/Law%20%26%20Legal%20Affairs%20Department/PDF/Circulars/Notification%20regarding%20Empowerment%20of%20hearing%20MACT%20%26%20transfer%20Civil%20cases%20to%20family%20courts.pdf\" target=\"_blank\">Notification regarding Empowerment of hearing MACT &amp; transfer Civil cases to family courts</a>, <a href=\"/content/dam/law-justice/Law%20%26%20Legal%20Affairs%20Department/PDF/Circulars/NotificationregardingCreationofADJCourtsatkushalgarhbanswara.pdf\" target=\"_blank\">Notification regarding Creation of ADJ Courts at kushalgarh banswara</a>, <a href=\"/content/dam/law-justice/Law%20%26%20Legal%20Affairs%20Department/PDF/Circulars/CJ_ACJ_JM_Court_Notification.pdf\" target=\"_blank\">Notification regarding Creation of Civil Judge/Additional Civil Judge &amp; Judicial Magistrate Courts</a>, <a href=\"/content/dam/law-justice/Law%20%26%20Legal%20Affairs%20Department/PDF/Circulars/SrCJ_ACJM_Notification.pdf\" target=\"_blank\">Notification regarding Creation of Sr. Civil Judge &amp; Additional Civil Judicial Magistrate Courts</a>, <a href=\"/content/dam/law-justice/Law%20%26%20Legal%20Affairs%20Department/PDF/Circulars/Family_Court_Notification.pdf\" target=\"_blank\">Notification regarding Creation of Family Courts</a>, <a href=\"/content/dam/law-justice/Law%20%26%20Legal%20Affairs%20Department/PDF/Circulars/ADJ_Court_Notification.pdf\" target=\"_blank\">Notification regarding Creation of Additional District Judge Courts</a>, <a href=\"/content/dam/law-justice/Law%20%26%20Legal%20Affairs%20Department/PDF/Circulars/Upgradation_CJM_to_SrCJM.pdf\" target=\"_blank\">Notification regarding Upgradation of C.J. &amp; J.M. Court to Sr.C.J. &amp; A.C.J.M. Court</a>, <a href=\"/content/dam/law-justice/Law%20%26%20Legal%20Affairs%20Department/PDF/Circulars/POCSO_Court_Chittorgarh_Merta_Sikar_15_3_22.pdf\" target=\"_blank\">Notification regarding Creation of POCSO Court in Chittorgarh,Merta,Sikar</a>, <a href=\"/content/dam/law-justice/Law%20%26%20Legal%20Affairs%20Department/PDF/Circulars/Special-Selection-Circular-2022.pdf\" target=\"_blank\">Applications are invited for the vacant posts of D.L.R. in SDRI</a>, <a href=\"/content/dam/law-justice/Law%20%26%20Legal%20Affairs%20Department/PDF/Litigation_Orders/15th%20vidhan%20sabha.pdf\" target=\"_blank\">Circular regarding Legislative Works to be required in forthcoming Session (7th Session) of 15th Rajasthan Legislative Assembly</a>, <a href=\"/content/dam/law-justice/Law%20%26%20Legal%20Affairs%20Department/PDF/Circulars/CircularregardingnottoengagetheSeniorAdvocateswithouttheapprovalofLawDepartment.pdf\" target=\"_blank\">Circular regarding not to engage the Senior Advocates without the approval of Law Department</a>, <a href=\"/content/dam/law-justice/Law%20%26%20Legal%20Affairs%20Department/PDF/Circulars/NotificationregardingcreationofADJCourtatThanagaziAlwar.pdf\" target=\"_blank\">Notification regarding creation of ADJ Court at Thanagazi, Alwar</a>, <a href=\"/content/dam/law-justice/Law%20%26%20Legal%20Affairs%20Department/PDF/Circulars/NotificationregardingADJCourtNagarBharatpur.pdf\" target=\"_blank\">Notification regarding ADJ Court Nagar, Bharatpur</a>, <a href=\"/content/dam/law-justice/Law%20%26%20Legal%20Affairs%20Department/PDF/Circulars/CircularRegardingEfilingofthecasesonbehalfoftheGovernment.pdf\" target=\"_blank\">Circular Regarding E-filing of the cases on behalf of the Government</a>, <a href=\"/content/dam/law-justice/Law%20%26%20Legal%20Affairs%20Department/PDF/Litigation_Orders/CircularregardingSBCivilContemptPetitionNo4202021BabuLalYadaVSShKrishankantPathak.pdf\" target=\"_blank\">Circular regarding S.B. Civil Contempt Petition No 420/2021 Babu Lal Yadav VS Sh. Krishankant Pathak</a>, <a href=\"/content/dam/law-justice/Law%20%26%20Legal%20Affairs%20Department/PDF/Litigation_Orders/CircularregardingfilingAppealswithintheperiod.pdf\" target=\"_blank\">Circular regarding filing Appeals within the period</a>, <a href=\"/content/dam/law-justice/Law%20%26%20Legal%20Affairs%20Department/PDF/Circulars/NotificationregardingcreationofADJCourtatMavliUdaipur.pdf\" target=\"_blank\">Notification regarding creation of ADJ Court at Mavli, Udaipur</a>, <a href=\"/content/dam/law-justice/Law%20%26%20Legal%20Affairs%20Department/PDF/Circulars/NotificationRegardingspecifiesrighttohearallchildrenscourtcasesbyDistrictnSessionCourtJaipurMetropolitanII.pdf\" target=\"_blank\">Notification Regarding specifies right to hear children's court cases by District &amp; Session Court, Jaipur Metropolitan II</a>, <a href=\"/content/dam/law-justice/Law%20%26%20Legal%20Affairs%20Department/PDF/Circulars/CircularRegardingtherevisionoffeesofthelearnedAdvocateGeneralandAddlAdvocateGeneral.pdf\" target=\"_blank\">Circular Regarding the revision of fees of the learned Advocate General and Addl. Advocate General</a>, <a href=\"/content/dam/law-justice/Law%20%26%20Legal%20Affairs%20Department/PDF/Circulars/Pendig_APR.pdf\" target=\"_blank\">Circular Regarding APR of Senior Legal Officers</a>, <a href=\"/content/dam/law-justice/Law%20%26%20Legal%20Affairs%20Department/PDF/Circulars/ACR_JLO.pdf\" target=\"_blank\">Circular Regarding APR of Junior Legal Officers</a>, <a href=\"/content/dam/law-justice/Law%20%26%20Legal%20Affairs%20Department/PDF/Circulars/CorrigendumofNotificationdated03092021.pdf\" target=\"_blank\">Corrigendum of Notification dated 03.09.2021</a>, <a href=\"/content/dam/law-justice/Law%20%26%20Legal%20Affairs%20Department/PDF/Circulars/Jurisdiction_POCSO.pdf\" target=\"_blank\">Jurisdiction of POCSO Act Cases Special Court</a>, <a href=\"/content/dam/law-justice/Law%20%26%20Legal%20Affairs%20Department/PDF/Orders/MISCOrders/CircularRegardingThirdNationalLokAdalat.pdf\" target=\"_blank\">Circular Regarding Third National Lok Adalat</a>, <a href=\"/content/dam/law-justice/Law%20%26%20Legal%20Affairs%20Department/PDF/Circulars/NotificationregardingLobbyingofThePreventionofMoneyLaunderingAct.pdf\" target=\"_blank\">Notification regarding Lobbying of The Prevention of Money Laundering Act</a>, <a href=\"/content/dam/law-justice/Law%20%26%20Legal%20Affairs%20Department/PDF/Circulars/2NotificationregardingcreationofAdditionalDistrictJudgeCourts08July2021.pdf\" target=\"_blank\">Notification regarding creation of Additional District Judge Courts</a>, <a href=\"/content/dam/law-justice/Law%20%26%20Legal%20Affairs%20Department/PDF/Circulars/1NotificationregardingcreationofCivilJudgenJudicialMagistrateCourts08July2021.pdf\" target=\"_blank\">Notification regarding creation of Civil Judge &amp; Judicial Magistrate Courts</a>, <a href=\"/content/dam/law-justice/Law%20%26%20Legal%20Affairs%20Department/PDF/Circulars/3NotificationregardingUpgradationofSeniorCivilJudgenAdditionalChiefJudicialMagistrateCourtTodaraisingh08July2021.pdf\" target=\"_blank\">Notification regarding Upgradation of Senior Civil Judge &amp; Additional Chief Judicial Magistrate Court Todaraisingh</a>, <a href=\"/content/dam/law-justice/Law%20%26%20Legal%20Affairs%20Department/PDF/Circulars/scan0494.pdf\" target=\"_blank\">Ammendment in Notification dated 31/3/2021 regarding Counsellors Appointment</a>, <a href=\"/content/dam/law-justice/Law%20%26%20Legal%20Affairs%20Department/PDF/Circulars/2%20ADJ%20Court%20Creation%2026%20May%2021%20ADJ.pdf\" target=\"_blank\">Notification regarding  creation of ADJ Courts</a>, <a href=\"/content/dam/law-justice/Law%20%26%20Legal%20Affairs%20Department/PDF/Circulars/1%20SCJM_ACJM%20CourtCreation%2026%20May%2021.pdf\" target=\"_blank\">Notification regarding  creation of Senior Civil Judge &amp; Additional Chief Judicial Magistrate Courts</a>, <a href=\"/content/dam/law-justice/Law%20%26%20Legal%20Affairs%20Department/PDF/Circulars/3%20CJM%20Court%20Creation%2026%20May%2021%20%20.pdf\" target=\"_blank\">Notification regarding  creation of Civil Judge/ Additional Civil Judge &amp; Judicial Magistrate Courts</a>, <a href=\"/content/dam/law-justice/Law%20%26%20Legal%20Affairs%20Department/PDF/Circulars/4%20Special%20Judicial%20Megistrate%20Court%20Creation%2026%20May%2021.pdf\" target=\"_blank\">Notification regarding  creation of Special Judicial Magistrate (N.I. ACT Case) Courts</a>, <a href=\"/content/dam/law-justice/Law%20%26%20Legal%20Affairs%20Department/PDF/Circulars/5%20Ammendment%20in%20Commercial%20Court%2026%20May%2021.pdf\" target=\"_blank\">Modification in Notification Dated 8.8.2018 Regarding Creation of Commercial Courts</a>, <a href=\"/content/dam/law-justice/Law%20%26%20Legal%20Affairs%20Department/PDF/Circulars/AppointmentofCounsellorinFamilyCourtdated310321-II.pdf\" target=\"_blank\">Notification Regarding Appointment of Counsellor in Family Court</a>, <a href=\"/content/dam/law-justice/Law%20%26%20Legal%20Affairs%20Department/PDF/Circulars/AppointmentofCounsellorinFamilyCourtdated310321-1.pdf\" target=\"_blank\">Notification Regarding Appointment of Counsellor in Family Court</a>, <a href=\"/content/dam/law-justice/Law%20%26%20Legal%20Affairs%20Department/PDF/Circulars/TerminateCounsellorinFamilyCourtdated310321.pdf\" target=\"_blank\">Notification Regarding Termination of Counsellor in Family Court</a>, <a href=\"/content/dam/law-justice/Law%20%26%20Legal%20Affairs%20Department/PDF/Circulars/Circular_Apeal_NoApeal.pdf\" target=\"_blank\">Circular regarding submission of desired document for decision of Appeal/No Appeal</a>, <a href=\"/content/dam/law-justice/Law%20%26%20Legal%20Affairs%20Department/PDF/Circulars/Notification_08_Feb_2021.pdf\" target=\"_blank\">Notification Regarding Family Court No. 04 &amp; 05, Jaipur Metro II, Jaipur</a>, <a href=\"/content/dam/law-justice/Law%20%26%20Legal%20Affairs%20Department/PDF/Circulars/CircularforSubmissionSpecialWritPetetionwithintimeboundperiod.pdf\" target=\"_blank\">Circular for Submission Special Writ Petition within timebound</a>, <a href=\"/content/dam/law-justice/Law%20%26%20Legal%20Affairs%20Department/PDF/Circulars/Vidhan%20Sabha%20Circular%2027_1_2021.pdf\" target=\"_blank\">Circular regarding Legislative Works to be required in forthcoming 6th Session of 15th Rajasthan Legislative Assembly</a>, <a href=\"/content/dam/law-justice/Law%20%26%20Legal%20Affairs%20Department/PDF/Circulars/LaglislativeWork.pdf\" target=\"_blank\">Circular regarding Legislative Works to be required in forthcoming Session (Budget Session) of 15th Rajasthan Legislative Assembly</a>, <a href=\"/content/dam/law-justice/Law%20%26%20Legal%20Affairs%20Department/PDF/Circulars/Circular_IPR.pdf\" target=\"_blank\">Circular for Online Filling of Property Information through IPR Module of Raj-Kaj Portal using Own SSO-ID</a>, <a href=\"/content/dam/law-justice/Law%20%26%20Legal%20Affairs%20Department/PDF/Circulars/ACJ_MM_26_Jaipur_Metro_II_Chomu.pdf\" target=\"_blank\">Notification regarding A.C.J. &amp; M.M. Court No. 26 Jaipur Metro II H.Q. Chomu</a>, <a href=\"/content/dam/law-justice/Law%20%26%20Legal%20Affairs%20Department/PDF/Rules/Medical_Facilities_Amendment_Rules_2020.pdf\" target=\"_blank\">The Rajasthan Judicial Officers (Medical Facilities) (Amendment) Rules, 2020</a>, <a href=\"/content/dam/law-justice/Law%20%26%20Legal%20Affairs%20Department/PDF/Orders/TransferPosting/ResignationletterofShMahendraKumarChaudharyJaisalmer.pdf\" target=\"_blank\">Approval of resignation letter of Sh. Mahendra Kumar Chaudhary, P.P. &amp; G.A. Jaisalmer</a>, <a href=\"/content/dam/law-justice/Law%20%26%20Legal%20Affairs%20Department/PDF/Circulars/Court%20Creation%2031-10-20.pdf\" target=\"_blank\">Notifications For Court Creation</a>, <a href=\"/content/dam/law-justice/Law%20%26%20Legal%20Affairs%20Department/PDF/Circulars/CreationandEstablishmentofSpecialCourtPreventionofCorruptionActNo4JaipurNo2Jodhpur.pdf\" target=\"_blank\">Creation and Establishment of Special Court, Prevention of Corruption Act, No. 4, Jaipur &amp; No. 2, Jodhpur</a>, <a href=\"/content/dam/law-justice/Law%20%26%20Legal%20Affairs%20Department/PDF/Circulars/Corrigendumofcirculardated03-06-2019.pdf\" target=\"_blank\">Corrigendum of circular dated 03-06-2019</a>, <a href=\"/content/dam/law-justice/Law%20%26%20Legal%20Affairs%20Department/PDF/Circulars/Notification_22_09_2020_1.pdf\" target=\"_blank\">Notification Regarding Rename the A.D.J. Court of Makrana, Mahwa, Laxmangarh, Kotputali, Sahapura, Dataramgarh, Gangapur</a>, <a href=\"/content/dam/law-justice/Law%20%26%20Legal%20Affairs%20Department/PDF/Circulars/Notification_22_09_2020_2.pdf\" target=\"_blank\">Regarding Jurisdiction of Family Court No. 2 Ajmer, Alwar, Bharatpur, Udaipur and Family Court No. 3 Bikaner, Jodhpur</a>, <a href=\"/content/dam/law-justice/Law%20%26%20Legal%20Affairs%20Department/PDF/Circulars/Notification_22_09_2020_3.pdf\" target=\"_blank\">Notification Regarding Change Jurisdiction of Sr. C.J.M.&amp; A.C.J.M. Court Arnod</a>, <a href=\"/content/dam/law-justice/Law%20%26%20Legal%20Affairs%20Department/PDF/Circulars/Notification_22_09_2020_4.pdf\" target=\"_blank\">Notification Regarding Jurisdiction of A.D.J. Court Makrana, Mahwa, Laxmangarh, Dataramgarh, Gangapur,  A.D.J. Court No. 4 Kotputali and A.D.J. Court No. 2 Sahapura</a>, <a href=\"/content/dam/law-justice/Law%20%26%20Legal%20Affairs%20Department/PDF/Circulars/CircularRegardingAppointmentofSeniorAdvocate.pdf\" target=\"_blank\">Circular Regarding Appointment of Sr. Advocate</a>, <a href=\"/content/dam/law-justice/Law%20%26%20Legal%20Affairs%20Department/PDF/Circulars/Circular_Legal_Cell.pdf\" target=\"_blank\">Circular regarding establishment of Legal Cell in all the departments to monitor courts cases</a>, <a href=\"/content/dam/law-justice/Law%20%26%20Legal%20Affairs%20Department/PDF/Circulars/AGOT%20Notification%2025_Aug_2020.pdf\" target=\"_blank\">Notification Regarding Additional Charge of A.G.O.T. Rajasthan</a>, <a href=\"/content/dam/law-justice/Law%20%26%20Legal%20Affairs%20Department/PDF/Orders/MISCOrders/CircularLegislativeWorks5thSessionof5thrajasthanLegislativeAssembly.pdf\" target=\"_blank\">Circular regarding Legislative Works to be required in forthcoming 5th Session of 15th Rajasthan Legislative Assembly.</a>, <a href=\"/content/dam/law-justice/Law%20%26%20Legal%20Affairs%20Department/PDF/Circulars/Legislative_Work_5thSession_15RLA.pdf\" target=\"_blank\">Circular regarding Legislative Works to be required in forthcoming Session (5th Session) of 15th Rajasthan Legislative Assembly</a>, <a href=\"/content/dam/law-justice/Law%20%26%20Legal%20Affairs%20Department/PDF/Circulars/ACR_Legal_Service_Officers.pdf\" target=\"_blank\">Regarding A.C.R. Observation of Legal Service Cadre Officers</a>, <a href=\"/content/dam/law-justice/Law%20%26%20Legal%20Affairs%20Department/PDF/Circulars/amendment_notification_9.pdf\" target=\"_blank\">Amended notification regarding name and jurisdiction of courts(N.I.Act Cases) under jaipur metropolitan city</a>, <a href=\"/content/dam/law-justice/Law%20%26%20Legal%20Affairs%20Department/PDF/Circulars/05062020-Notification%202.pdf\" target=\"_blank\">Designation of civil courts as Special Courts to try the suits under spefic act</a>, <a href=\"/content/dam/law-justice/Law%20%26%20Legal%20Affairs%20Department/PDF/Circulars/05062020-Notification%201.pdf\" target=\"_blank\">Designation of courts as special courts for the cases of Mob violence and Lynching</a>, <a href=\"/content/dam/law-justice/Law%20%26%20Legal%20Affairs%20Department/PDF/Circulars/05062020-Notification%203.pdf\" target=\"_blank\">Regarding establishment and jurisdiction of district court in jaipur metropolitan city</a>, <a href=\"/content/dam/law-justice/Law%20%26%20Legal%20Affairs%20Department/PDF/Circulars/05062020-Notification%204.pdf\" target=\"_blank\">Regarding name and jurisdiction of session court in jaipur metropolitan city</a>, <a href=\"/content/dam/law-justice/Law%20%26%20Legal%20Affairs%20Department/PDF/Circulars/05062020-Notification%205.pdf\" target=\"_blank\">Regarding creation of SCJM jaipur metro-II Court</a>, <a href=\"/content/dam/law-justice/Law%20%26%20Legal%20Affairs%20Department/PDF/Circulars/05062020-Notification%206.pdf\" target=\"_blank\">Regarding declaration of SCJM jaipur metro-II as First Class Metropolitan Magistrate Court</a>, <a href=\"/content/dam/law-justice/Law%20%26%20Legal%20Affairs%20Department/PDF/Circulars/05062020-Notification%207.pdf\" target=\"_blank\">Regarding establishment of session court for jaipur metropolitan city</a>, <a href=\"/content/dam/law-justice/Law%20%26%20Legal%20Affairs%20Department/PDF/Circulars/05062020-Notification%208.pdf\" target=\"_blank\">Regarding name and jurisdiction of courts (ACJM &amp; ACMM) in jaipur metropolitan city</a>, <a href=\"/content/dam/law-justice/Law%20%26%20Legal%20Affairs%20Department/PDF/Circulars/05062020-Notification%209.pdf\" target=\"_blank\">Regarding name and jurisdiction of courts(N.I.Act Cases) under jaipur metropolitan city</a>, <a href=\"/content/dam/law-justice/Law%20%26%20Legal%20Affairs%20Department/PDF/Circulars/05062020-Notification%2010.pdf\" target=\"_blank\">Regarding name of courts in jaipur metropolitan city</a>, <a href=\"/content/dam/law-justice/Law%20%26%20Legal%20Affairs%20Department/PDF/Circulars/05062020-Notification%2011.pdf\" target=\"_blank\">Regarding name of special court (Fake currency cases)</a>, <a href=\"/content/dam/law-justice/Law%20%26%20Legal%20Affairs%20Department/PDF/Circulars/05062020-Notification%2012.pdf\" target=\"_blank\">Regarding name and jurisdiction of courts in jaipur metropolitan city</a>, <a href=\"/content/dam/law-justice/Law%20%26%20Legal%20Affairs%20Department/PDF/Circulars/05062020-Notification%2013.pdf\" target=\"_blank\">Regarding name and jurisdiction of special courts for Protection of Children from Sexual Offenses</a>, <a href=\"/content/dam/law-justice/Law%20%26%20Legal%20Affairs%20Department/PDF/Circulars/05062020-Notification%2014.pdf\" target=\"_blank\">jurisdiction of courts for female harassment and dowry cases related to the code of criminal </a>, <a href=\"/content/dam/law-justice/Law%20%26%20Legal%20Affairs%20Department/PDF/Circulars/05062020-Notification%2014.pdf\" target=\"_blank\">procedure, 1973</a>, <a href=\"/content/dam/law-justice/Law%20%26%20Legal%20Affairs%20Department/PDF/Circulars/05062020-Notification%2015.pdf\" target=\"_blank\">jurisdiction of courts for sc/st cases related to the code of criminal procedure, 1973</a>, <a href=\"/content/dam/law-justice/Law%20%26%20Legal%20Affairs%20Department/PDF/Circulars/05062020-Notification%2016.pdf\" target=\"_blank\">jurisdiction of courts cases related to the protection of Human Rights Act 1993</a>, <a href=\"/content/dam/law-justice/Law%20%26%20Legal%20Affairs%20Department/PDF/Circulars/05062020-Notification%2017.pdf\" target=\"_blank\">jurisdiction of courts cases related to the rights of persons with disability Act 2016</a>, <a href=\"/content/dam/law-justice/Law%20%26%20Legal%20Affairs%20Department/PDF/Circulars/05062020-Notification%2018.pdf\" target=\"_blank\">jurisdiction of courts cases related to the banning of unregulated deposit scheme Act</a>, <a href=\"/content/dam/law-justice/Law%20%26%20Legal%20Affairs%20Department/PDF/Circulars/05062020-Notification%2019.pdf\" target=\"_blank\">Declaration of Special Court for Adulterated and counterfeit drugs case</a>, <a href=\"/content/dam/law-justice/Law%20%26%20Legal%20Affairs%20Department/PDF/Circulars/Juvenile%20Court%20Order1.pdf\" target=\"_blank\">Notification Regarding Juvenile Court</a>, <a href=\"/content/dam/law-justice/Law%20%26%20Legal%20Affairs%20Department/PDF/Circulars/Application_DLR.pdf\" target=\"_blank\">Applications are invited for the vacant posts of D.L.R. in SDRI</a>, <a href=\"/content/dam/law-justice/Law%20%26%20Legal%20Affairs%20Department/PDF/Circulars/FeesBillPayment.pdf\" target=\"_blank\">Circular regarding Fee Bill Payment of A.G./solicitor general/Add. solicitor general/Sr. Advocates/Junior Advocates</a>, <a href=\"/content/dam/law-justice/Law%20%26%20Legal%20Affairs%20Department/PDF/Circulars/Name_Amend_Notification_Special_Court_Udaipur.pdf\" target=\"_blank\">Notification regarding Name Ammendment of  Special Court, Prevention of corruption act, Udaipur</a>, <a href=\"/content/dam/law-justice/Law%20%26%20Legal%20Affairs%20Department/PDF/Circulars/The%20banning%20of%20unregulated%20deposit%20scheme%20act%20Powers.pdf\" target=\"_blank\">Regarding Power delegation to all District and Session Judges courts under The banning of Unregulated Deposit Scheme Act, 2019</a>, <a href=\"/content/dam/law-justice/Law%20%26%20Legal%20Affairs%20Department/PDF/Circulars/IPR_2020.pdf\" target=\"_blank\">Circular for Online Filling of Property Information through IPR Module of Raj-Kaj Portal using Own SSO-ID</a>, <a href=\"/content/dam/law-justice/Law%20%26%20Legal%20Affairs%20Department/PDF/Circulars/Circular_State_Litigation_Policy.pdf\" target=\"_blank\">Circular regarding Chapter 6 of the State Litigation Policy, 2018</a>, <a href=\"/content/dam/law-justice/Law%20%26%20Legal%20Affairs%20Department/PDF/Litigation_Orders/Circular_case_Management_Rules_2007.pdf\" target=\"_blank\">Circular regarding proper implementation of Rule 9-A of the case Management Rules, 2007</a>, <a href=\"/content/dam/law-justice/Law%20%26%20Legal%20Affairs%20Department/PDF/Circulars/Rent_Tribunal_Bhiwari.pdf\" target=\"_blank\">Notification regarding Creation of Rent Tribunal Bhiwari District Alwar</a>, <a href=\"/content/dam/law-justice/Law%20%26%20Legal%20Affairs%20Department/PDF/Orders/MISCOrders/Application_JLO_ACB.pdf\" target=\"_blank\">Circular regarding Application for post of JLO in ACB</a>, <a href=\"/content/dam/law-justice/Law%20%26%20Legal%20Affairs%20Department/PDF/Circulars/Lagislative_Work_15_RLA_III_Session.pdf\" target=\"_blank\">Circular regarding Legislative work(3rd Session of 15th Rajasthan Legislative Assembly)</a>, <a href=\"/content/dam/law-justice/Law%20%26%20Legal%20Affairs%20Department/PDF/Circulars/Notification_Nadauti0001.pdf\" target=\"_blank\">Notification Regarding Creation of CJ &amp; JM Court Nadoti (Karauli)</a>, <a href=\"/content/dam/law-justice/Law%20%26%20Legal%20Affairs%20Department/PDF/Circulars/CJ_JM_Court_dataramgarh.pdf\" target=\"_blank\">Notification Regarding Creation of ADJ Court Dataramgarh (Sikar) &amp; Gangapur (Bhilwara)</a>, <a href=\"/content/dam/law-justice/Law%20%26%20Legal%20Affairs%20Department/PDF/Circulars/Corrigendum_Byawar.pdf\" target=\"_blank\">Amended Notification regarding Creation of Addl.Sr.CJ&amp;ACJM Court Dated 24.10.2019</a>, <a href=\"/content/dam/law-justice/Law%20%26%20Legal%20Affairs%20Department/PDF/Circulars/Sr_CJ_ACJM_Notification.pdf\" target=\"_blank\">Notification Regarding Creation of Addl.Sr.CJ&amp;ACJM Court</a>, <a href=\"/content/dam/law-justice/Law%20%26%20Legal%20Affairs%20Department/PDF/Circulars/Family_Courts_Notification.pdf\" target=\"_blank\">Notification Regarding Creation of Family Court </a>, <a href=\"/content/dam/law-justice/Law%20%26%20Legal%20Affairs%20Department/PDF/Circulars/ACJ_JM_Alwar_Notification.pdf\" target=\"_blank\">Notification Regarding Creation of Addl. CJ&amp;JM Court No. 5 &amp; 6 Alwar</a>, <a href=\"/content/dam/law-justice/Law%20%26%20Legal%20Affairs%20Department/PDF/Circulars/NIA_Udaipur_Bhilwara_Notification.pdf\" target=\"_blank\">Notification Regarding Creation of Spl.J.M.( N.I.Act) Court No.  7 Udaipur and No. 4 Bhilwara</a>, <a href=\"/content/dam/law-justice/Law%20%26%20Legal%20Affairs%20Department/PDF/Circulars/NIA_Jodhpur_Metro_Notification.pdf\" target=\"_blank\">Notification Regarding Creation of Spl.M.M.( N.I.Act) Court No. 9 &amp; 10 Jodhpur Metro</a>, <a href=\"/content/dam/law-justice/Law%20%26%20Legal%20Affairs%20Department/PDF/Circulars/ADJ_Kotputali_Sahapura_Notification.pdf\" target=\"_blank\">Notification Regarding Creation of ADJ Court in Jaipur District</a>, <a href=\"/content/dam/law-justice/Law%20%26%20Legal%20Affairs%20Department/PDF/Circulars/Sr_CJM_Balotra_Jhalawar_Notification.pdf\" target=\"_blank\">Notification Regarding Creation of  Addl.Sr.CJ&amp;ACJM Court No. 2 Jhalawar and Balotra Distt Barmer</a>, <a href=\"/content/dam/law-justice/Law%20%26%20Legal%20Affairs%20Department/PDF/Circulars/CJJM_Kheralimandi_Notification.pdf\" target=\"_blank\">Notification Regarding Creation of CJ&amp;JM Court Kheralimandi District Alwar</a>, <a href=\"/content/dam/law-justice/Law%20%26%20Legal%20Affairs%20Department/PDF/Circulars/ACD_Udaipur_Notification.pdf\" target=\"_blank\">Notification Regarding Creation of ACD No. 2 Court District Udaipur</a>, <a href=\"/content/dam/law-justice/Law%20%26%20Legal%20Affairs%20Department/PDF/Circulars/ADJ_Alwar_Bikaner_Jodhpur_Notification.pdf\" target=\"_blank\">Notification Regarding Creation of ADJ Court in Alwar, Bikaner, Jodhpur District</a>, <a href=\"/content/dam/law-justice/Law%20%26%20Legal%20Affairs%20Department/PDF/Circulars/ADJCourt_Laxmangarh.pdf\" target=\"_blank\">Notification Regarding Creation of ADJ Court, Laxmangarh District Sikar</a>, <a href=\"/content/dam/law-justice/Law%20%26%20Legal%20Affairs%20Department/PDF/Circulars/Amend_Chittorgarh_Dungla_Notification.pdf\" target=\"_blank\">Amended Notification regarding Upgradation of C.J.&amp; J.M. Court to Sr. C.J. &amp; A.C.J.M. Court, Doongla District Chittorgarh</a>, <a href=\"/content/dam/law-justice/Law%20%26%20Legal%20Affairs%20Department/PDF/Litigation_Orders/Circular_Litigation.pdf\" target=\"_blank\">Circular For effective handling of state litigation</a>, <a href=\"/content/dam/law-justice/Law%20%26%20Legal%20Affairs%20Department/PDF/Circulars/Dungala_Court.pdf\" target=\"_blank\">Notification Regarding Upgradation of C.J.&amp; J.M. Court to Sr. C.J. &amp; A.C.J.M. Court, Doongla District Chittorgarh</a>, <a href=\"/content/dam/law-justice/Law%20%26%20Legal%20Affairs%20Department/PDF/Litigation_Orders/Circular_Court_Cases.pdf\" target=\"_blank\">Circular regarding directions in the matter of D.B.C.C.P. No. 922/2019 Passed by the Hon’ble Rajasthan High Court</a>, <a href=\"/content/dam/law-justice/Law%20%26%20Legal%20Affairs%20Department/PDF/Circulars/NagarNigam_kota.pdf\" target=\"_blank\">Corrigendum of circular dated 03-06-2019</a>, <a href=\"/content/dam/law-justice/Law%20%26%20Legal%20Affairs%20Department/PDF/Circulars/civilCourt_Rani.pdf\" target=\"_blank\">Notification Regarding Creation of CJ &amp; JM Court, Rani District Pali</a>, <a href=\"/content/dam/law-justice/Law%20%26%20Legal%20Affairs%20Department/PDF/Circulars/specialCourt_6.pdf\" target=\"_blank\">Notification Regarding Creation of New Special Courts (SC/ST Cases)</a>, <a href=\"/content/dam/law-justice/Law%20%26%20Legal%20Affairs%20Department/PDF/Circulars/ADJCourt_makranaMahawa.pdf\" target=\"_blank\">Notification Regarding Creation of New ADJ Courts</a>, <a href=\"/content/dam/law-justice/Law%20%26%20Legal%20Affairs%20Department/PDF/Circulars/Circular_Law_19-09-2019.pdf\" target=\"_blank\">Circular regarding establishment of Legal Cell in all the departments to monitor courts cases</a>, <a href=\"/content/dam/law-justice/Law%20%26%20Legal%20Affairs%20Department/PDF/Circulars/circular%20(2).pdf\" target=\"_blank\">Circular regarding Legal Service Cadre work profile</a>, <a href=\"/content/dam/law-justice/Law%20%26%20Legal%20Affairs%20Department/PDF/Circulars/CMIS%20Circular.pdf\" target=\"_blank\">Circular regarding CMIS data updation</a>, <a href=\"/content/dam/law-justice/Law%20%26%20Legal%20Affairs%20Department/PDF/Circulars/Circular_Extra_Charge_Allotment_LegalServiceCadre.pdf\" target=\"_blank\">Circular regarding procedure for extra charge allotment to Legal Service Cadre Officers/ Employees</a>, <a href=\"/content/dam/law-justice/Law%20%26%20Legal%20Affairs%20Department/PDF/Circulars/CircularregardingappointmentofsenioradvovateinSupremecourtsforallBoardsCorporation.pdf\" target=\"_blank\">Circular regarding appointment of senior advovate in Supreme courts for all boards &amp; corporation</a>, <a href=\"/content/dam/law-justice/Law%20%26%20Legal%20Affairs%20Department/PDF/Litigation_Orders/Circular_Dept_Case_File.pdf\" target=\"_blank\">Circular Regarding the Departmental Case Files to the newly appointed Government Counsels/ Addl. Government Counsels/Deputy Government Counsels</a>, <a href=\"/content/dam/law-justice/Law%20%26%20Legal%20Affairs%20Department/PDF/Litigation_Orders/Circular_02_May_19.pdf\" target=\"_blank\">Circular Regarding the Departmental Case Files to the Government Counsels/ Addl. Government Counsels/Deputy Government Counsels</a>, <a href=\"/content/dam/law-justice/Law%20%26%20Legal%20Affairs%20Department/PDF/Litigation_Orders/Circular_GC_30_Apr_19.pdf\" target=\"_blank\">Circular Regarding Directions of Counsel of Government.</a>, <a href=\"/content/dam/law-justice/Law%20%26%20Legal%20Affairs%20Department/PDF/Circulars/notification%2016-Apr-2019%2016-07-38.pdf\" target=\"_blank\">Amended Notification regarding designates Special Courts for Mob violence and Lynching</a>, <a href=\"/content/dam/law-justice/Law%20%26%20Legal%20Affairs%20Department/PDF/Litigation_Orders/Instructions_Gc_2_4_19.pdf\" target=\"_blank\">Circular Regarding Directions of Counsel of Government.</a>, <a href=\"/content/dam/law-justice/Law%20%26%20Legal%20Affairs%20Department/PDF/Litigation_Orders/Circular_councils_Secretary_2_4_190001.pdf\" target=\"_blank\">Circular Regarding the Departmental Case Files to the newly appointed Government Counsels/ Addl. Government Counsels/Deputy Government Counsels</a>, <a href=\"/content/dam/law-justice/Law%20%26%20Legal%20Affairs%20Department/PDF/Circulars/Notification_Name_Amend.pdf\" target=\"_blank\">Notification regarding Name Ammendment of Various Courts</a>, <a href=\"/content/dam/law-justice/Law%20%26%20Legal%20Affairs%20Department/PDF/Orders/MISCOrders/Notification_Mob_Violence_Lynching.pdf\" target=\"_blank\">Notification regarding designates Special Courts for Mob violence and Lynching</a>, <a href=\"/content/dam/law-justice/Law%20%26%20Legal%20Affairs%20Department/PDF/Litigation_Orders/Compliance_Revised%20Rates_PPOffice.pdf\" target=\"_blank\">Circular Regarding Compliance of the payments according to Revised Rates to Legal Officers </a>, <a href=\"/content/dam/law-justice/Law%20%26%20Legal%20Affairs%20Department/PDF/Circulars/notification%20(2).pdf\" target=\"_blank\">Notification regarding ACJM, Arnod</a>, <a href=\"/content/dam/law-justice/Law%20%26%20Legal%20Affairs%20Department/PDF/Circulars/ADJ_Court_Name_Change.pdf\" target=\"_blank\">Notification regarding Name Ammendment of Various Courts</a>, <a href=\"/content/dam/law-justice/Law%20%26%20Legal%20Affairs%20Department/PDF/Circulars/IPR_Circular.pdf\" target=\"_blank\">Circular for Online Filling of Property Information through IPR Module of Raj-Kaj Portal using Own SSO-ID</a>, <a href=\"http://law.rajasthan.gov.in/content/dam/law-justice/Parliamentary%20affairs%20department%20rajasthan/Circulars/Circular.pdf\">Circular regarding Legislative Works to be required in forthcoming 1st Session of 15th Rajasthan Legislative Assembly.</a>, <a href=\"/content/dam/law-justice/Law%20%26%20Legal%20Affairs%20Department/PDF/Circulars/scan0513.pdf\" target=\"_blank\">Circular Regarding posts of Legal Service Cadre officers in all the departments.</a>, <a href=\"/content/dam/law-justice/Law%20%26%20Legal%20Affairs%20Department/PDF/Circulars/Notification.pdf\" target=\"_blank\">Notification to designate Civil Courts as Special Courts to try the suits under Specific Relief Act.</a>, <a href=\"/content/dam/law-justice/Law%20%26%20Legal%20Affairs%20Department/PDF/Circulars/CommercialCourt_Notification0001.pdf\" target=\"_blank\">Notification regarding Creation of 7 new Commercial Court</a>, <a href=\"/content/dam/law-justice/Law%20%26%20Legal%20Affairs%20Department/PDF/Circulars/Posco_Court_Notification0001.pdf\" target=\"_blank\">Notification regarding creation of 55 Pocso Court </a>, <a href=\"/content/dam/law-justice/Law%20%26%20Legal%20Affairs%20Department/PDF/Orders/MISCOrders/Circular0002.pdf\" target=\"_blank\">Circular regarding Legal Posts in Various Departments</a>, <a href=\"/content/dam/law-justice/Law%20%26%20Legal%20Affairs%20Department/PDF/Circulars/Notification_3_8_180001.pdf\" target=\"_blank\">Notification regarding Name Ammendment of Various Courts</a>, <a href=\"/content/dam/law-justice/Law%20%26%20Legal%20Affairs%20Department/PDF/Circulars/Notification_2_8_18_NameCorrection0001.pdf\" target=\"_blank\">Notification regarding Name Ammendment of Various Courts</a>, <a href=\"/content/dam/law-justice/Law%20%26%20Legal%20Affairs%20Department/PDF/Circulars/Notification_3_8_180001.pdf\" target=\"_blank\">Notification regarding Creation of Rent Tribunal Sardarsahar District Churu</a>, <a href=\"/content/dam/law-justice/Law%20%26%20Legal%20Affairs%20Department/PDF/Circulars/Notification_1_8_18_Badmer0001.pdf\" target=\"_blank\">Notification regarding change the name of CJJM Court Barmer</a>, <a href=\"/content/dam/law-justice/Law%20%26%20Legal%20Affairs%20Department/PDF/Circulars/Notification0004.pdf\" target=\"_blank\">Notification for Change in Schedule of Camp Court established in Badi Sadari of ADJ No.-1, Nimbaheda </a>, <a href=\"/content/dam/law-justice/Law%20%26%20Legal%20Affairs%20Department/PDF/Circulars/scan_ToWeb%2002-rotated.pdf\" target=\"_blank\">Circular Regarding IPR for Officers not listed on DOP Website</a>, <a href=\"/content/dam/law-justice/Law%20%26%20Legal%20Affairs%20Department/PDF/Circulars/PAD_27_6_180001.pdf\" target=\"_blank\">Circular Regarding 11th Session of 14th Rajasthan Legislative Assembly</a>, <a href=\"/content/dam/law-justice/Law%20%26%20Legal%20Affairs%20Department/PDF/Circulars/Notification0003.pdf\" target=\"_blank\">Notification to Designate the powers and jurisdiction of Family Courts to ADJ Courts</a>, <a href=\"/content/dam/law-justice/Law%20%26%20Legal%20Affairs%20Department/PDF/Circulars/Notification_NDPS.pdf\" target=\"_blank\">Notification for Specifing the ADJ Courts as Special Courts for NDPS Act Cases.</a>, <a href=\"/content/dam/law-justice/Law%20%26%20Legal%20Affairs%20Department/PDF/Circulars/Notification0002.pdf\" target=\"_blank\">Notification to Designate ADJ Courts as MACT Courts</a>, <a href=\"/content/dam/law-justice/Law%20%26%20Legal%20Affairs%20Department/PDF/Circulars/Notification0001.pdf\" target=\"_blank\">Notification for providing the Jurisdiction of The Indian Succession Act, 1925 matters to ADJ Courts</a>, <a href=\"/content/dam/law-justice/Law%20%26%20Legal%20Affairs%20Department/PDF/Circulars/scan0355.pdf\" target=\"_blank\">Notification Regarding Jurisdiction Powers to District &amp; Session Judge Balotra</a>, <a href=\"/content/dam/law-justice/Law%20%26%20Legal%20Affairs%20Department/PDF/Circulars/scan0357.pdf\" target=\"_blank\">Notification Regarding Jurisdiction Powers of MACT to ADJ Court No.3 Jaipur </a>, <a href=\"/content/dam/law-justice/Law%20%26%20Legal%20Affairs%20Department/PDF/Circulars/scan0356.pdf\" target=\"_blank\">Notification Regarding Case Hearing  Power of Cases Transferred from D.J. Ajmer to Rent Tribunal Ajmer</a>, <a href=\"/content/dam/law-justice/Law%20%26%20Legal%20Affairs%20Department/PDF/Circulars/Notification_08-06-18.pdf\" target=\"_blank\">Notification Regarding Appointment of Counsellors in Family Court</a>, <a href=\"/content/dam/law-justice/Law%20%26%20Legal%20Affairs%20Department/PDF/Circulars/Notification_30_5_180001.pdf\" target=\"_blank\">Notification Regarding C.J. &amp; J.M. Court Laxmangarh, Alwar </a>, <a href=\"/content/dam/law-justice/Law%20%26%20Legal%20Affairs%20Department/PDF/Litigation_Orders/Strike_Directions_Litigation0001.pdf\" target=\"_blank\">Notification Regarding Strike for A.G., A.A.G.,G.A.,A.G.A. etc.</a>, <a href=\"/content/dam/law-justice/Law%20%26%20Legal%20Affairs%20Department/PDF/Circulars/CourtCreationrNotification_17_4_180001.pdf\" target=\"_blank\">Notification Regarding Creation of New ADJ Courts</a>, <a href=\"/content/dam/law-justice/Law%20%26%20Legal%20Affairs%20Department/PDF/Circulars/Court_Open_Orders_16_4_180001.pdf\" target=\"_blank\">Notification Regarding Creation of New Courts</a>, <a target=\"_blank\">Notification Regarding Establishment of additional Camp Court at Sanchore</a>, <a href=\"/content/dam/law-justice/Law%20%26%20Legal%20Affairs%20Department/PDF/Circulars/IPR_Reminder_30_1_180001.pdf\" target=\"_blank\">Reminder of Circular for Online Filling of Property Information through IPR Module of Raj-Kaj Portal using Own SSO-ID</a>, <a href=\"/content/dam/law-justice/Law%20%26%20Legal%20Affairs%20Department/PDF/Circulars/Court_Open_Orders_16_4_180001.pdf\" target=\"_blank\">Notification Regarding Establishment of additional Camp Court at Kapasan</a>, <a href=\"/content/dam/law-justice/Law%20%26%20Legal%20Affairs%20Department/PDF/Circulars/Camp_Court_Sikar_Laxmangarh.pdf\" target=\"_blank\">Notification Regarding Establishment of additional Camp Court at Laxmangarh</a>, <a href=\"/content/dam/law-justice/Law%20%26%20Legal%20Affairs%20Department/PDF/Circulars/Rent2_14_12_17.pdf\" target=\"_blank\">Notification Regarding Creation of Rent Tribunals Churu, Alwar</a>, <a href=\"/content/dam/law-justice/Law%20%26%20Legal%20Affairs%20Department/PDF/Circulars/Rent_Tribunal_14_12_17.pdf\" target=\"_blank\">Notification Regarding Creation of Rent Tribunals Sardarsahar, Bhiwari</a>, <a href=\"/content/dam/law-justice/Law%20%26%20Legal%20Affairs%20Department/PDF/Circulars/Notification_12_12_17.pdf\" target=\"_blank\">Notification Regarding Creation of A.D.J. Court Mundawar, Alwar</a>, <a href=\"/content/dam/law-justice/Law%20%26%20Legal%20Affairs%20Department/PDF/Orders/MISCOrders/Notification_MACT_24_11_17.pdf\" target=\"_blank\">Notification Regarding Creation of M.A.C.T. Court</a>, <a href=\"/content/dam/law-justice/Law%20%26%20Legal%20Affairs%20Department/PDF/Circulars/Notification_13_10.pdf\" target=\"_blank\">Notification Regarding Creation of Commercial Court</a>, <a href=\"/content/dam/law-justice/Law%20%26%20Legal%20Affairs%20Department/PDF/Circulars/crclr_Post%20creat_upgrad.pdf\" target=\"_blank\">Circular for Post Creation/Upgradation</a>, <a href=\"/content/dam/law-justice/Law%20%26%20Legal%20Affairs%20Department/PDF/Circulars/Camp_Court.pdf\" target=\"_blank\">Notification for establishment of camp court at various Districts.</a>, <a href=\"/content/dam/law-justice/Law%20%26%20Legal%20Affairs%20Department/PDF/Circulars/notification%20regarding%20the%20rights%20of%20persins%20with%20disability%20act.pdf\" target=\"_blank\">Notification for designate Powers to  All the session courts under the act  \"The Rights of Persons with Disability Act 2016</a>, <a href=\"/content/dam/law-justice/Law%20%26%20Legal%20Affairs%20Department/PDF/Circulars/Gazette.pdf\" target=\"_blank\">Gazette Notification of Rajasthan Subordinate Courts Ministerial Establishment (Amendment) Rules, 2017</a>, <a href=\"/content/dam/law-justice/Law%20%26%20Legal%20Affairs%20Department/PDF/Orders/MISCOrders/Notification_7%20FC%20power.pdf\" target=\"_blank\">Notification Regarding Power to 7 Family Courts to hear Civil Cases and MAC Cases</a>, <a href=\"/content/dam/law-justice/Law%20%26%20Legal%20Affairs%20Department/PDF/Circulars/HQ%20Change.pdf\" target=\"_blank\">Notification Regarding Change of Headquarters</a>, <a href=\"/content/dam/law-justice/Law%20%26%20Legal%20Affairs%20Department/PDF/Circulars/2_5_Psco.pdf\" target=\"_blank\">Notification For POCSO Court, Jaipur Creation and Establishment</a>, <a href=\"/content/dam/law-justice/Law%20%26%20Legal%20Affairs%20Department/PDF/Circulars/family_counclers_List.pdf\" target=\"_blank\">Gazette Notification for Appointment of Family Counsellors in Family Courts</a>, <a href=\"/content/dam/law-justice/Law%20%26%20Legal%20Affairs%20Department/PDF/Circulars/family%20court%20order.pdf\" target=\"_blank\">Notification for Appointment of Family Counsellors in family Courts</a>, <a href=\"/content/dam/law-justice/Law%20%26%20Legal%20Affairs%20Department/PDF/Circulars/adhocpromotionextensiomorder_11.05.17.pdf\" target=\"_blank\">Notification Regarding Extension Order of Ad-hoc Promotion of ALR (Legal Service)</a>, <a href=\"/content/dam/law-justice/Law%20%26%20Legal%20Affairs%20Department/PDF/Circulars/notification%202%20new%20ADJ%20creation%20baran%20%26%20Kotputli.pdf\" target=\"_blank\">Notification For 2 New A.D.J. Court,  Baran, Kotputali  Creation and Establishment</a>, <a href=\"/content/dam/law-justice/Law%20%26%20Legal%20Affairs%20Department/PDF/Circulars/notification%20of%20new%20ADJ%20at%20pokaran.pdf\" target=\"_blank\">Notification For New A.D.J. Court , Pokaran  Creation and Establishment</a>, <a href=\"/content/dam/law-justice/Law%20%26%20Legal%20Affairs%20Department/PDF/Circulars/Notification%20of%20new%20CJ%20%26%20JM%20at%20bhinmal%20sanchor.pdf\" target=\"_blank\">Notification For 2 New C.J. &amp; J.M. Court Bhinmal , Sanchor Creation and Establishment</a>, <a href=\"/content/dam/law-justice/Law%20%26%20Legal%20Affairs%20Department/PDF/Circulars/Notification%20of%20new%20CJ%20%26%20JM%20at%20bhusawar%20spotara.pdf\" target=\"_blank\">Notification For 2 New C.J. &amp; J.M. Court Bhusawar, Sapotara Creation and Establishment</a>, <a href=\"/content/dam/law-justice/Law%20%26%20Legal%20Affairs%20Department/PDF/Circulars/Driver_Class_IV0001.pdf\" target=\"_blank\">The Rajasthan Subordinate Courts (Driver &amp; Class-IV Employees) Service Rules, 2017</a>, <a href=\"/content/dam/law-justice/Law%20%26%20Legal%20Affairs%20Department/PDF/Circulars/Mact_Creation_karauli_Pratapgarh_25_4_17.pdf\" target=\"_blank\">Notification For 2 New M.A.C.T. Karauli, Pratapgarh Creation and Establishment</a>, <a href=\"/content/dam/law-justice/Law%20%26%20Legal%20Affairs%20Department/PDF/Circulars/Rem_IPR.pdf\" target=\"_blank\">Circular for Legal Service/VRS Service Officers for sending Property Information</a>, <a href=\"/content/dam/law-justice/Law%20%26%20Legal%20Affairs%20Department/PDF/Circulars/Vacancies_Dec_2016.pdf\" target=\"_blank\">Advertisement of Special Selection for various posts</a>, <a href=\"/content/dam/law-justice/Law%20%26%20Legal%20Affairs%20Department/PDF/Circulars/Property_Info_Order_23_1_2017.pdf\" target=\"_blank\">Circular for Legal Service/VRS Service Officers for sending Property Information </a>, <a href=\"/content/dam/law-justice/Law%20%26%20Legal%20Affairs%20Department/PDF/Circulars/Litigation_Notification_regarding%20Special%20Public%20Prosecutor_11_1_2017.pdf\" target=\"_blank\">Notification for providing powers of Special Public Prosecutor(Litigation)</a>, <a href=\"/content/dam/law-justice/Law%20%26%20Legal%20Affairs%20Department/PDF/Circulars/ADJ_Jodhpur_Jaisalmer_AdditionalChargeOrder.pdf\" target=\"_blank\">Notification regarding Extra Charge to A.D.J. Jodhpur, Jaisalmer</a>, <a href=\"/content/dam/law-justice/Law%20%26%20Legal%20Affairs%20Department/PDF/Circulars/Notification_Special_Courts_8_Dec_2016.pdf\" target=\"_blank\">Notification regarding Special Court</a>, <a href=\"/content/dam/law-justice/Law%20%26%20Legal%20Affairs%20Department/PDF/Circulars/MACT_Notification_8_Dec_2016.pdf\" target=\"_blank\">Notification regarding M.A.C.T.</a>, <a href=\"/content/dam/law-justice/Law%20%26%20Legal%20Affairs%20Department/PDF/Circulars/Family_Court_Jurisdiction_8_Dec_2016.pdf\" target=\"_blank\">Notification for Jurisdiction Area of Family Courts, Labour Courts and Industrial Tribunals</a>, <a href=\"/content/dam/law-justice/Law%20%26%20Legal%20Affairs%20Department/PDF/Circulars/Circular_ADJNo_1_Bayana_Bharatpur_1_12_2016.pdf\" target=\"_blank\">Notification regarding A.D.J. No. 1 Bayana, Bharatpur</a>, <a href=\"/content/dam/law-justice/Law%20%26%20Legal%20Affairs%20Department/PDF/Circulars/Circular_MACT.pdf\" target=\"_blank\">Notification regarding MACT Dated 25-Oct-2016</a>, <a href=\"/content/dam/law-justice/Law%20%26%20Legal%20Affairs%20Department/PDF/Circulars/Circular_PostCreation_02_09_2016.pdf\" target=\"_blank\">Circular regarding sending permanent/temporary post details of legal service cadre</a>, <a href=\"/content/dam/law-justice/Law%20%26%20Legal%20Affairs%20Department/PDF/Circulars/Notificationn_Rajasthan%20Court%20Fees(e-Payment)Rules_2016_English.pdf\" target=\"_blank\">Notification for THE RAJASTHAN COURT FEES (e-PAYMENT) RULES, 2016 (English Version)</a>, <a href=\"/content/dam/law-justice/Law%20%26%20Legal%20Affairs%20Department/PDF/Circulars/Notification_Rajasthan%20Court%20Fees(e-Payment)Rules_2016_Hindi.pdf\" target=\"_blank\">Notification for THE RAJASTHAN COURT FEES (e-PAYMENT) RULES, 2016 (Hindi Version)</a>, <a href=\"/content/dam/law-justice/Law%20%26%20Legal%20Affairs%20Department/PDF/Circulars/Circular_Legal_VRSEmployees_16_Aug_2016.pdf\" target=\"_blank\">Circular for Legal Service and V.R.S. Service Officers for sending information</a>, <a href=\"/content/dam/law-justice/Law%20%26%20Legal%20Affairs%20Department/PDF/Circulars/Notification_ADCourts_MACTPowers_27_7_2016.pdf\" target=\"_blank\">Notification regarding Jurisdiction of Additional District Courts to M.A.C.T.  </a>, <a href=\"/content/dam/law-justice/Law%20%26%20Legal%20Affairs%20Department/PDF/Circulars/Notification_ADJCourts_SpecialCourts_27_July_2016.pdf\" target=\"_blank\">Notification regarding Jurisdiction of Additional District Courts to Special Courts</a>, <a href=\"/content/dam/law-justice/Law%20%26%20Legal%20Affairs%20Department/PDF/Circulars/Notification_ADCourts_BoundaryCourts_27_7_2016.pdf\" target=\"_blank\">Notification regarding Jurisdiction of Additional District Courts </a>, <a href=\"/content/dam/law-justice/Law%20%26%20Legal%20Affairs%20Department/PDF/Circulars/Notification_Family_Court_25_07_2016.pdf\" target=\"_blank\">Notification regarding creation and establishment of family courts</a>, <a href=\"/content/dam/law-justice/Law%20%26%20Legal%20Affairs%20Department/PDF/Circulars/Letter_Property_Info0001.pdf\" target=\"_blank\">Circular regarding property information of Legal Service and V.R.S. Cadre Officers</a>, <a href=\"/content/dam/law-justice/Law%20%26%20Legal%20Affairs%20Department/PDF/Circulars/Circular_Family_Court_Creation_13_Jun_2016.pdf\" target=\"_blank\">Circular regarding creation and establishment of Family Courts</a>, <a href=\"/content/dam/law-justice/Law%20%26%20Legal%20Affairs%20Department/PDF/Circulars/Circular_P2_4_Nyay_2014.pdf\">Circular Regarding Jurisdiction of Family Court</a>, <a href=\"/content/dam/law-justice/Law%20%26%20Legal%20Affairs%20Department/PDF/Circulars/Order1_16_5_2016.pdf\">Notification1 Sr. No P.1(2)Nyay/2016</a>, <a href=\"/content/dam/law-justice/Law%20%26%20Legal%20Affairs%20Department/PDF/Circulars/Order_16_5_2016.pdf\">Notification2 Sr. No P.1(2)Nyay/2016</a>, <a href=\"/content/dam/law-justice/Law%20%26%20Legal%20Affairs%20Department/PDF/Circulars/MACT_Order1_16_5_2016.pdf\">Notification3 Sr. No P.1(2)Nyay/2016</a>, <a href=\"/content/dam/law-justice/Law%20%26%20Legal%20Affairs%20Department/PDF/Circulars/MACT_Order_16_5_2016.pdf\">Notification4 Sr. No P.1(2)Nyay/2016</a>, <a href=\"/content/dam/law-justice/Law%20%26%20Legal%20Affairs%20Department/PDF/Circulars/MACT_Court_Bharatpur_Order.pdf\" target=\"_blank\">Order for New Motor Accident Claim Tribunal Court Creation in Bharatpur</a>, <a href=\"/content/dam/law-justice/Law%20%26%20Legal%20Affairs%20Department/PDF/Circulars/Circular_Legal%20Service_VRS_Leave.pdf\" target=\"_blank\">Circular for Leave for Legal Service and V.R.S. Service Cadre Employees/Officers</a>, <a href=\"/content/dam/law-justice/Law%20%26%20Legal%20Affairs%20Department/PDF/Circulars/Circular_MACTEmployees_Leave.pdf\" target=\"_blank\">Circular for Leave for Judges posted in M.A.C.T. Courts</a>, <a href=\"/content/dam/law-justice/Law%20%26%20Legal%20Affairs%20Department/PDF/Litigation_Orders/Family%20Court.pdf\" target=\"_blank\">Circular Regarding Jurisdiction of Family Courts</a>, <a href=\"/content/dam/law-justice/Law%20%26%20Legal%20Affairs%20Department/PDF/Circulars/NotificationregardingConfermentofpowerforDJandSessionCourtsaipurMetroIandII.pdf\">Notification regarding Human Rights conservation act 1993 Conferment of power for DJ &amp; Session Courts, Jaipur Metro-I and  DJ &amp; Session Courts, Jaipur Metro-II</a>, <a href=\"/content/dam/law-justice/Law%20%26%20Legal%20Affairs%20Department/PDF/Circulars/Notification-23102023.pdf\" target=\"_blank\">Notification for Establishment of Courts exercising the powers conferred Prevention of Corruption Act at Bharatpur </a>]\n",
            "https://law.rajasthan.gov.in//content/dam/law-justice/Law%20%26%20Legal%20Affairs%20Department/PDF/Circulars/Family_Court_Counsellor_Notification.pdf\n",
            "https://law.rajasthan.gov.in//content/dam/law-justice/Law%20%26%20Legal%20Affairs%20Department/PDF/Circulars/Notification%20Hanumangarh.pdf\n",
            "https://law.rajasthan.gov.in//content/dam/law-justice/Law%20%26%20Legal%20Affairs%20Department/PDF/Circulars/Circular_16RLA_1Session.pdf\n",
            "https://law.rajasthan.gov.in//content/dam/law-justice/Law%20%26%20Legal%20Affairs%20Department/PDF/Circulars/Spl_Court_NIAct_Mavli_Nathdwara.pdf\n",
            "https://law.rajasthan.gov.in//content/dam/law-justice/Law%20%26%20Legal%20Affairs%20Department/PDF/Orders/TransferPosting/LegalNotice.pdf\n",
            "https://law.rajasthan.gov.in//content/dam/law-justice/Law%20%26%20Legal%20Affairs%20Department/PDF/Circulars/CommercialCourt-Sriganganagar-Bharatpur.pdf\n",
            "https://law.rajasthan.gov.in//content/dam/law-justice/Law%20%26%20Legal%20Affairs%20Department/PDF/Circulars/NIAct-No1-Hanumangarh.pdf\n",
            "https://law.rajasthan.gov.in//content/dam/law-justice/Law%20%26%20Legal%20Affairs%20Department/PDF/Circulars/NIACT-Kishangarh.pdf\n",
            "https://law.rajasthan.gov.in//content/dam/law-justice/Law%20%26%20Legal%20Affairs%20Department/PDF/Circulars/ADJ-Ravatsar-Hanumangarh.pdf\n",
            "https://law.rajasthan.gov.in//content/dam/law-justice/Law%20%26%20Legal%20Affairs%20Department/PDF/Circulars/ADJ-Kumher.pdf\n",
            "https://law.rajasthan.gov.in//content/dam/law-justice/Law%20%26%20Legal%20Affairs%20Department/PDF/Circulars/ADJ-Khajuwala_Anupgarh-Balesar_Jodhpur.pdf\n",
            "https://law.rajasthan.gov.in//content/dam/law-justice/Law%20%26%20Legal%20Affairs%20Department/PDF/Circulars/SR-CJM.pdf\n",
            "https://law.rajasthan.gov.in//content/dam/law-justice/Law%20%26%20Legal%20Affairs%20Department/PDF/Circulars/CJJM-Shiv-Khinvasar-Sindhari.pdf\n",
            "https://law.rajasthan.gov.in//content/dam/law-justice/Law%20%26%20Legal%20Affairs%20Department/PDF/Circulars/CircularRegardingIncompleteAPR.pdf\n",
            "https://law.rajasthan.gov.in//content/dam/law-justice/Law%20%26%20Legal%20Affairs%20Department/PDF/Orders/TransferPosting/Addl_Charge_Cancellation_04_Sept.pdf\n",
            "https://law.rajasthan.gov.in//content/dam/law-justice/Law%20%26%20Legal%20Affairs%20Department/PDF/Circulars/1-ADJ-to-SpecialCourts-NDPS-Power.pdf\n",
            "https://law.rajasthan.gov.in//content/dam/law-justice/Law%20%26%20Legal%20Affairs%20Department/PDF/Circulars/2-ADJ-to-MACT-Powers.pdf\n",
            "https://law.rajasthan.gov.in//content/dam/law-justice/Law%20%26%20Legal%20Affairs%20Department/PDF/Circulars/3-FamilyCourtPowersto%20ADJ.pdf\n",
            "https://law.rajasthan.gov.in//content/dam/law-justice/Law%20%26%20Legal%20Affairs%20Department/PDF/Circulars/Child_Info_Legal_Service_.pdf\n",
            "https://law.rajasthan.gov.in//content/dam/law-justice/Law%20%26%20Legal%20Affairs%20Department/PDF/Circulars/Child_Info_Vidhi_Rachana.pdf\n",
            "https://law.rajasthan.gov.in//content/dam/law-justice/Law%20%26%20Legal%20Affairs%20Department/PDF/Circulars/CircularRegardingRelieveAPO.pdf\n",
            "https://law.rajasthan.gov.in//content/dam/law-justice/Law%20%26%20Legal%20Affairs%20Department/PDF/Circulars/ADJ_court_Kapasan_Chittorgarh.pdf\n",
            "https://law.rajasthan.gov.in//content/dam/law-justice/Law%20%26%20Legal%20Affairs%20Department/PDF/Orders/MISCOrders/Legal_ExtraCharge_Circular.pdf\n",
            "https://law.rajasthan.gov.in//content/dam/law-justice/Law%20%26%20Legal%20Affairs%20Department/PDF/Circulars/ACJMNo1SawaiMadhopur.pdf\n",
            "https://law.rajasthan.gov.in//content/dam/law-justice/Law%20%26%20Legal%20Affairs%20Department/PDF/Circulars/ADJNo1SriGanganagarkhetri.pdf\n",
            "https://law.rajasthan.gov.in//content/dam/law-justice/Law%20%26%20Legal%20Affairs%20Department/PDF/Circulars/ACJMNo1WeirBayanaSikarMavaliTonk.pdf\n",
            "https://law.rajasthan.gov.in//content/dam/law-justice/Law%20%26%20Legal%20Affairs%20Department/PDF/Circulars/Reg_Leglislative_Work.pdf\n",
            "https://law.rajasthan.gov.in//content/dam/law-justice/Law%20%26%20Legal%20Affairs%20Department/PDF/Circulars/CJM-ACJM-Govindgarh-Nagar-SriKaranpur-9.pdf\n",
            "https://law.rajasthan.gov.in//content/dam/law-justice/Law%20%26%20Legal%20Affairs%20Department/PDF/Circulars/NDPS%20Jodhpur.pdf\n",
            "https://law.rajasthan.gov.in//content/dam/law-justice/Law%20%26%20Legal%20Affairs%20Department/PDF/Circulars/NIAct-Udaipur-Bhilwara-Dausa.pdf\n",
            "https://law.rajasthan.gov.in//content/dam/law-justice/Law%20%26%20Legal%20Affairs%20Department/PDF/Circulars/ADJ-Raisingh-Phagi-Khetri.pdf\n",
            "https://law.rajasthan.gov.in//content/dam/law-justice/Law%20%26%20Legal%20Affairs%20Department/PDF/Circulars/SrCJ-ACJM-Vair-Sikar-Udaipur-Byawar-Mawli-Tonk-Bayana-Aburoad.pdf\n",
            "https://law.rajasthan.gov.in//content/dam/law-justice/Law%20%26%20Legal%20Affairs%20Department/PDF/Circulars/NIAct-Jodhpur-Metro.pdf\n",
            "https://law.rajasthan.gov.in//content/dam/law-justice/Law%20%26%20Legal%20Affairs%20Department/PDF/Circulars/ACJ%26MM27-Bagru-Jaipur.pdf\n",
            "https://law.rajasthan.gov.in//content/dam/law-justice/Law%20%26%20Legal%20Affairs%20Department/PDF/Circulars/ASCJ%26MM9-JodhpurMetro.pdf\n",
            "https://law.rajasthan.gov.in//content/dam/law-justice/Law%20%26%20Legal%20Affairs%20Department/PDF/Circulars/SrCJ_ACJM_Kathumar.pdf\n",
            "https://law.rajasthan.gov.in//content/dam/law-justice/Law%20%26%20Legal%20Affairs%20Department/PDF/Circulars/NotificationofADJCourtsCreationatjayal.pdf\n",
            "https://law.rajasthan.gov.in//content/dam/law-justice/Law%20%26%20Legal%20Affairs%20Department/PDF/Circulars/MACT_Sr_List.pdf\n",
            "https://law.rajasthan.gov.in//content/dam/law-justice/Law%20%26%20Legal%20Affairs%20Department/PDF/Litigation_Orders/litigation.pdf\n",
            "https://law.rajasthan.gov.in//content/dam/law-justice/Law%20%26%20Legal%20Affairs%20Department/PDF/Litigation_Orders/appeal%20against%20commercial%20court.pdf\n",
            "https://law.rajasthan.gov.in//content/dam/law-justice/Law%20%26%20Legal%20Affairs%20Department/PDF/Orders/MISCOrders/CircularRegardingHODPower.pdf\n",
            "https://law.rajasthan.gov.in//content/dam/law-justice/Law%20%26%20Legal%20Affairs%20Department/PDF/Orders/MISCOrders/SelectionofIASFromVidiRachnaServicesandLegalServices.pdf\n",
            "https://law.rajasthan.gov.in//content/dam/law-justice/Law%20%26%20Legal%20Affairs%20Department/PDF/Circulars/CircularRegardingEFileImplementation.pdf\n",
            "https://law.rajasthan.gov.in//content/dam/law-justice/Law%20%26%20Legal%20Affairs%20Department/PDF/Circulars/MACT.pdf\n",
            "https://law.rajasthan.gov.in//content/dam/law-justice/Law%20%26%20Legal%20Affairs%20Department/PDF/Litigation_Orders/presenceincivilcasesonbehalfofthestategovernment.pdf\n",
            "https://law.rajasthan.gov.in//content/dam/law-justice/Law%20%26%20Legal%20Affairs%20Department/PDF/Circulars/Lagislative_Work_8_Session_15RLA.pdf\n",
            "https://law.rajasthan.gov.in//content/dam/law-justice/Law%20%26%20Legal%20Affairs%20Department/PDF/Orders/ACR/ACR_Overview20122022.pdf\n",
            "https://law.rajasthan.gov.in//content/dam/law-justice/Law%20%26%20Legal%20Affairs%20Department/PDF/Circulars/CircularRegardingCasesAssignedtoAAG.pdf\n",
            "https://law.rajasthan.gov.in//content/dam/law-justice/Law%20%26%20Legal%20Affairs%20Department/PDF/Litigation_Orders/CircularRegardingComplianceoflitigationPolicy041122.pdf\n",
            "https://law.rajasthan.gov.in//content/dam/law-justice/Law%20%26%20Legal%20Affairs%20Department/PDF/Circulars/At_Dist_HQ.pdf\n",
            "https://law.rajasthan.gov.in//content/dam/law-justice/Law%20%26%20Legal%20Affairs%20Department/PDF/Circulars/Outside_Dist_HQ.pdf\n",
            "https://law.rajasthan.gov.in//content/dam/law-justice/Law%20%26%20Legal%20Affairs%20Department/PDF/Circulars/NotificationtoDesignatethepowersandjurisdictionofFamilyCourtstoADJCourts24082022.pdf\n",
            "https://law.rajasthan.gov.in//content/dam/law-justice/Law%20%26%20Legal%20Affairs%20Department/PDF/Circulars/AmendedNotificationRegardingJurisdictionPowersofMACTtoADJCourts24082022.pdf\n",
            "https://law.rajasthan.gov.in//content/dam/law-justice/Law%20%26%20Legal%20Affairs%20Department/PDF/Orders/MISCOrders/CircularregardingLegislativeWorkstoberequiredinforthcomingSession7thSessionof15thRajasthanLegislativeAssembly.pdf\n",
            "https://law.rajasthan.gov.in//content/dam/law-justice/Law%20%26%20Legal%20Affairs%20Department/PDF/Circulars/NotificationRegardingPowerdesignationofSpecialJudicialMagistrateNIActCasestoBeawarajmerAlwarChittorgarhPaliRajsamandSikar.pdf\n",
            "https://law.rajasthan.gov.in//content/dam/law-justice/Law%20%26%20Legal%20Affairs%20Department/PDF/Circulars/Jurisdiction_CJ_JM_Courts_Kota.pdf\n",
            "https://law.rajasthan.gov.in//content/dam/law-justice/Law%20%26%20Legal%20Affairs%20Department/PDF/Circulars/Jurisdiction_CJ_JM_Courts_Bhilwara.pdf\n",
            "https://law.rajasthan.gov.in//content/dam/law-justice/Law%20%26%20Legal%20Affairs%20Department/PDF/Circulars/Establish%20Pilot%20Study%20Special%20Judicial%20Magistrate%20Courts%20jaipur.pdf\n",
            "https://law.rajasthan.gov.in//content/dam/law-justice/Law%20%26%20Legal%20Affairs%20Department/PDF/Circulars/Establish%20Pilot%20Study%20Special%20Judicial%20Magistrate%20Courts.pdf\n",
            "https://law.rajasthan.gov.in//content/dam/law-justice/Law%20%26%20Legal%20Affairs%20Department/PDF/Circulars/Notification07072022.pdf\n",
            "https://law.rajasthan.gov.in//content/dam/law-justice/Law%20%26%20Legal%20Affairs%20Department/PDF/Circulars/ACR_Pending.pdf\n",
            "https://law.rajasthan.gov.in//content/dam/law-justice/Law%20%26%20Legal%20Affairs%20Department/PDF/Circulars/NI_Act_Sikar.pdf\n",
            "https://law.rajasthan.gov.in//content/dam/law-justice/Law%20%26%20Legal%20Affairs%20Department/PDF/Circulars/CJJM_Osiyan.pdf\n",
            "https://law.rajasthan.gov.in//content/dam/law-justice/Law%20%26%20Legal%20Affairs%20Department/PDF/Circulars/SrCJ_ACJM_Railmagra.pdf\n",
            "https://law.rajasthan.gov.in//content/dam/law-justice/Law%20%26%20Legal%20Affairs%20Department/PDF/Circulars/CJ_JM_5.pdf\n",
            "https://law.rajasthan.gov.in//content/dam/law-justice/Law%20%26%20Legal%20Affairs%20Department/PDF/Circulars/State%20litigation%20Policy%202018%20.pdf\n",
            "https://law.rajasthan.gov.in//content/dam/law-justice/Law%20%26%20Legal%20Affairs%20Department/PDF/Circulars/NotificationforCreationofPOSCOCourtsinNagaur.pdf\n",
            "https://law.rajasthan.gov.in//content/dam/law-justice/Law%20%26%20Legal%20Affairs%20Department/PDF/Circulars/Exam_Power.pdf\n",
            "https://law.rajasthan.gov.in//content/dam/law-justice/Law%20%26%20Legal%20Affairs%20Department/PDF/Circulars/Spl_Court_Narcotics.pdf\n",
            "https://law.rajasthan.gov.in//content/dam/law-justice/Law%20%26%20Legal%20Affairs%20Department/PDF/Circulars/Area_ADJ_2_Jaipur.pdf\n",
            "https://law.rajasthan.gov.in//content/dam/law-justice/Law%20%26%20Legal%20Affairs%20Department/PDF/Circulars/Area_Change_Spl_Court.pdf\n",
            "https://law.rajasthan.gov.in//content/dam/law-justice/Law%20%26%20Legal%20Affairs%20Department/PDF/Circulars/Name_Change_ADJ_Deeg_Bharatpur.pdf\n",
            "https://law.rajasthan.gov.in//content/dam/law-justice/Law%20%26%20Legal%20Affairs%20Department/PDF/Circulars/NotificationRegardingEmpowermentofMACTtoADJcourts.pdf\n",
            "https://law.rajasthan.gov.in//content/dam/law-justice/Law%20%26%20Legal%20Affairs%20Department/PDF/Circulars/NotificationRegardingEmpowermentofNDPStoADJcourts.pdf\n",
            "https://law.rajasthan.gov.in//content/dam/law-justice/Law%20%26%20Legal%20Affairs%20Department/PDF/Circulars/NotificationRegardingEmpowermentofFamilytoADJCourts.pdf\n",
            "https://law.rajasthan.gov.in//content/dam/law-justice/Law%20%26%20Legal%20Affairs%20Department/PDF/Circulars/Notification%20regarding%20Empowerment%20of%20hearing%20MACT%20%26%20transfer%20Civil%20cases%20to%20family%20courts.pdf\n",
            "https://law.rajasthan.gov.in//content/dam/law-justice/Law%20%26%20Legal%20Affairs%20Department/PDF/Circulars/NotificationregardingCreationofADJCourtsatkushalgarhbanswara.pdf\n",
            "https://law.rajasthan.gov.in//content/dam/law-justice/Law%20%26%20Legal%20Affairs%20Department/PDF/Circulars/CJ_ACJ_JM_Court_Notification.pdf\n",
            "https://law.rajasthan.gov.in//content/dam/law-justice/Law%20%26%20Legal%20Affairs%20Department/PDF/Circulars/SrCJ_ACJM_Notification.pdf\n",
            "https://law.rajasthan.gov.in//content/dam/law-justice/Law%20%26%20Legal%20Affairs%20Department/PDF/Circulars/Family_Court_Notification.pdf\n",
            "https://law.rajasthan.gov.in//content/dam/law-justice/Law%20%26%20Legal%20Affairs%20Department/PDF/Circulars/ADJ_Court_Notification.pdf\n",
            "https://law.rajasthan.gov.in//content/dam/law-justice/Law%20%26%20Legal%20Affairs%20Department/PDF/Circulars/Upgradation_CJM_to_SrCJM.pdf\n",
            "https://law.rajasthan.gov.in//content/dam/law-justice/Law%20%26%20Legal%20Affairs%20Department/PDF/Circulars/POCSO_Court_Chittorgarh_Merta_Sikar_15_3_22.pdf\n",
            "https://law.rajasthan.gov.in//content/dam/law-justice/Law%20%26%20Legal%20Affairs%20Department/PDF/Circulars/Special-Selection-Circular-2022.pdf\n",
            "https://law.rajasthan.gov.in//content/dam/law-justice/Law%20%26%20Legal%20Affairs%20Department/PDF/Litigation_Orders/15th%20vidhan%20sabha.pdf\n",
            "https://law.rajasthan.gov.in//content/dam/law-justice/Law%20%26%20Legal%20Affairs%20Department/PDF/Circulars/CircularregardingnottoengagetheSeniorAdvocateswithouttheapprovalofLawDepartment.pdf\n",
            "https://law.rajasthan.gov.in//content/dam/law-justice/Law%20%26%20Legal%20Affairs%20Department/PDF/Circulars/NotificationregardingcreationofADJCourtatThanagaziAlwar.pdf\n",
            "https://law.rajasthan.gov.in//content/dam/law-justice/Law%20%26%20Legal%20Affairs%20Department/PDF/Circulars/NotificationregardingADJCourtNagarBharatpur.pdf\n",
            "https://law.rajasthan.gov.in//content/dam/law-justice/Law%20%26%20Legal%20Affairs%20Department/PDF/Circulars/CircularRegardingEfilingofthecasesonbehalfoftheGovernment.pdf\n",
            "https://law.rajasthan.gov.in//content/dam/law-justice/Law%20%26%20Legal%20Affairs%20Department/PDF/Litigation_Orders/CircularregardingSBCivilContemptPetitionNo4202021BabuLalYadaVSShKrishankantPathak.pdf\n",
            "https://law.rajasthan.gov.in//content/dam/law-justice/Law%20%26%20Legal%20Affairs%20Department/PDF/Litigation_Orders/CircularregardingfilingAppealswithintheperiod.pdf\n",
            "https://law.rajasthan.gov.in//content/dam/law-justice/Law%20%26%20Legal%20Affairs%20Department/PDF/Circulars/NotificationregardingcreationofADJCourtatMavliUdaipur.pdf\n",
            "https://law.rajasthan.gov.in//content/dam/law-justice/Law%20%26%20Legal%20Affairs%20Department/PDF/Circulars/NotificationRegardingspecifiesrighttohearallchildrenscourtcasesbyDistrictnSessionCourtJaipurMetropolitanII.pdf\n",
            "https://law.rajasthan.gov.in//content/dam/law-justice/Law%20%26%20Legal%20Affairs%20Department/PDF/Circulars/CircularRegardingtherevisionoffeesofthelearnedAdvocateGeneralandAddlAdvocateGeneral.pdf\n",
            "https://law.rajasthan.gov.in//content/dam/law-justice/Law%20%26%20Legal%20Affairs%20Department/PDF/Circulars/Pendig_APR.pdf\n",
            "https://law.rajasthan.gov.in//content/dam/law-justice/Law%20%26%20Legal%20Affairs%20Department/PDF/Circulars/ACR_JLO.pdf\n",
            "https://law.rajasthan.gov.in//content/dam/law-justice/Law%20%26%20Legal%20Affairs%20Department/PDF/Circulars/CorrigendumofNotificationdated03092021.pdf\n",
            "https://law.rajasthan.gov.in//content/dam/law-justice/Law%20%26%20Legal%20Affairs%20Department/PDF/Circulars/Jurisdiction_POCSO.pdf\n",
            "https://law.rajasthan.gov.in//content/dam/law-justice/Law%20%26%20Legal%20Affairs%20Department/PDF/Orders/MISCOrders/CircularRegardingThirdNationalLokAdalat.pdf\n",
            "https://law.rajasthan.gov.in//content/dam/law-justice/Law%20%26%20Legal%20Affairs%20Department/PDF/Circulars/NotificationregardingLobbyingofThePreventionofMoneyLaunderingAct.pdf\n",
            "https://law.rajasthan.gov.in//content/dam/law-justice/Law%20%26%20Legal%20Affairs%20Department/PDF/Circulars/2NotificationregardingcreationofAdditionalDistrictJudgeCourts08July2021.pdf\n",
            "https://law.rajasthan.gov.in//content/dam/law-justice/Law%20%26%20Legal%20Affairs%20Department/PDF/Circulars/1NotificationregardingcreationofCivilJudgenJudicialMagistrateCourts08July2021.pdf\n",
            "https://law.rajasthan.gov.in//content/dam/law-justice/Law%20%26%20Legal%20Affairs%20Department/PDF/Circulars/3NotificationregardingUpgradationofSeniorCivilJudgenAdditionalChiefJudicialMagistrateCourtTodaraisingh08July2021.pdf\n",
            "https://law.rajasthan.gov.in//content/dam/law-justice/Law%20%26%20Legal%20Affairs%20Department/PDF/Circulars/scan0494.pdf\n",
            "https://law.rajasthan.gov.in//content/dam/law-justice/Law%20%26%20Legal%20Affairs%20Department/PDF/Circulars/2%20ADJ%20Court%20Creation%2026%20May%2021%20ADJ.pdf\n",
            "https://law.rajasthan.gov.in//content/dam/law-justice/Law%20%26%20Legal%20Affairs%20Department/PDF/Circulars/1%20SCJM_ACJM%20CourtCreation%2026%20May%2021.pdf\n",
            "https://law.rajasthan.gov.in//content/dam/law-justice/Law%20%26%20Legal%20Affairs%20Department/PDF/Circulars/3%20CJM%20Court%20Creation%2026%20May%2021%20%20.pdf\n",
            "https://law.rajasthan.gov.in//content/dam/law-justice/Law%20%26%20Legal%20Affairs%20Department/PDF/Circulars/4%20Special%20Judicial%20Megistrate%20Court%20Creation%2026%20May%2021.pdf\n",
            "https://law.rajasthan.gov.in//content/dam/law-justice/Law%20%26%20Legal%20Affairs%20Department/PDF/Circulars/5%20Ammendment%20in%20Commercial%20Court%2026%20May%2021.pdf\n",
            "https://law.rajasthan.gov.in//content/dam/law-justice/Law%20%26%20Legal%20Affairs%20Department/PDF/Circulars/AppointmentofCounsellorinFamilyCourtdated310321-II.pdf\n",
            "https://law.rajasthan.gov.in//content/dam/law-justice/Law%20%26%20Legal%20Affairs%20Department/PDF/Circulars/AppointmentofCounsellorinFamilyCourtdated310321-1.pdf\n",
            "https://law.rajasthan.gov.in//content/dam/law-justice/Law%20%26%20Legal%20Affairs%20Department/PDF/Circulars/TerminateCounsellorinFamilyCourtdated310321.pdf\n",
            "https://law.rajasthan.gov.in//content/dam/law-justice/Law%20%26%20Legal%20Affairs%20Department/PDF/Circulars/Circular_Apeal_NoApeal.pdf\n",
            "https://law.rajasthan.gov.in//content/dam/law-justice/Law%20%26%20Legal%20Affairs%20Department/PDF/Circulars/Notification_08_Feb_2021.pdf\n",
            "https://law.rajasthan.gov.in//content/dam/law-justice/Law%20%26%20Legal%20Affairs%20Department/PDF/Circulars/CircularforSubmissionSpecialWritPetetionwithintimeboundperiod.pdf\n",
            "https://law.rajasthan.gov.in//content/dam/law-justice/Law%20%26%20Legal%20Affairs%20Department/PDF/Circulars/Vidhan%20Sabha%20Circular%2027_1_2021.pdf\n",
            "https://law.rajasthan.gov.in//content/dam/law-justice/Law%20%26%20Legal%20Affairs%20Department/PDF/Circulars/LaglislativeWork.pdf\n",
            "https://law.rajasthan.gov.in//content/dam/law-justice/Law%20%26%20Legal%20Affairs%20Department/PDF/Circulars/Circular_IPR.pdf\n",
            "https://law.rajasthan.gov.in//content/dam/law-justice/Law%20%26%20Legal%20Affairs%20Department/PDF/Circulars/ACJ_MM_26_Jaipur_Metro_II_Chomu.pdf\n",
            "https://law.rajasthan.gov.in//content/dam/law-justice/Law%20%26%20Legal%20Affairs%20Department/PDF/Rules/Medical_Facilities_Amendment_Rules_2020.pdf\n",
            "https://law.rajasthan.gov.in//content/dam/law-justice/Law%20%26%20Legal%20Affairs%20Department/PDF/Orders/TransferPosting/ResignationletterofShMahendraKumarChaudharyJaisalmer.pdf\n",
            "https://law.rajasthan.gov.in//content/dam/law-justice/Law%20%26%20Legal%20Affairs%20Department/PDF/Circulars/Court%20Creation%2031-10-20.pdf\n",
            "https://law.rajasthan.gov.in//content/dam/law-justice/Law%20%26%20Legal%20Affairs%20Department/PDF/Circulars/CreationandEstablishmentofSpecialCourtPreventionofCorruptionActNo4JaipurNo2Jodhpur.pdf\n",
            "https://law.rajasthan.gov.in//content/dam/law-justice/Law%20%26%20Legal%20Affairs%20Department/PDF/Circulars/Corrigendumofcirculardated03-06-2019.pdf\n",
            "https://law.rajasthan.gov.in//content/dam/law-justice/Law%20%26%20Legal%20Affairs%20Department/PDF/Circulars/Notification_22_09_2020_1.pdf\n",
            "https://law.rajasthan.gov.in//content/dam/law-justice/Law%20%26%20Legal%20Affairs%20Department/PDF/Circulars/Notification_22_09_2020_2.pdf\n",
            "https://law.rajasthan.gov.in//content/dam/law-justice/Law%20%26%20Legal%20Affairs%20Department/PDF/Circulars/Notification_22_09_2020_3.pdf\n",
            "https://law.rajasthan.gov.in//content/dam/law-justice/Law%20%26%20Legal%20Affairs%20Department/PDF/Circulars/Notification_22_09_2020_4.pdf\n",
            "https://law.rajasthan.gov.in//content/dam/law-justice/Law%20%26%20Legal%20Affairs%20Department/PDF/Circulars/CircularRegardingAppointmentofSeniorAdvocate.pdf\n",
            "https://law.rajasthan.gov.in//content/dam/law-justice/Law%20%26%20Legal%20Affairs%20Department/PDF/Circulars/Circular_Legal_Cell.pdf\n",
            "https://law.rajasthan.gov.in//content/dam/law-justice/Law%20%26%20Legal%20Affairs%20Department/PDF/Circulars/AGOT%20Notification%2025_Aug_2020.pdf\n",
            "https://law.rajasthan.gov.in//content/dam/law-justice/Law%20%26%20Legal%20Affairs%20Department/PDF/Orders/MISCOrders/CircularLegislativeWorks5thSessionof5thrajasthanLegislativeAssembly.pdf\n",
            "https://law.rajasthan.gov.in//content/dam/law-justice/Law%20%26%20Legal%20Affairs%20Department/PDF/Circulars/Legislative_Work_5thSession_15RLA.pdf\n",
            "https://law.rajasthan.gov.in//content/dam/law-justice/Law%20%26%20Legal%20Affairs%20Department/PDF/Circulars/ACR_Legal_Service_Officers.pdf\n",
            "https://law.rajasthan.gov.in//content/dam/law-justice/Law%20%26%20Legal%20Affairs%20Department/PDF/Circulars/amendment_notification_9.pdf\n",
            "https://law.rajasthan.gov.in//content/dam/law-justice/Law%20%26%20Legal%20Affairs%20Department/PDF/Circulars/05062020-Notification%202.pdf\n",
            "https://law.rajasthan.gov.in//content/dam/law-justice/Law%20%26%20Legal%20Affairs%20Department/PDF/Circulars/05062020-Notification%201.pdf\n",
            "https://law.rajasthan.gov.in//content/dam/law-justice/Law%20%26%20Legal%20Affairs%20Department/PDF/Circulars/05062020-Notification%203.pdf\n",
            "https://law.rajasthan.gov.in//content/dam/law-justice/Law%20%26%20Legal%20Affairs%20Department/PDF/Circulars/05062020-Notification%204.pdf\n",
            "https://law.rajasthan.gov.in//content/dam/law-justice/Law%20%26%20Legal%20Affairs%20Department/PDF/Circulars/05062020-Notification%205.pdf\n",
            "https://law.rajasthan.gov.in//content/dam/law-justice/Law%20%26%20Legal%20Affairs%20Department/PDF/Circulars/05062020-Notification%206.pdf\n",
            "https://law.rajasthan.gov.in//content/dam/law-justice/Law%20%26%20Legal%20Affairs%20Department/PDF/Circulars/05062020-Notification%207.pdf\n",
            "https://law.rajasthan.gov.in//content/dam/law-justice/Law%20%26%20Legal%20Affairs%20Department/PDF/Circulars/05062020-Notification%208.pdf\n",
            "https://law.rajasthan.gov.in//content/dam/law-justice/Law%20%26%20Legal%20Affairs%20Department/PDF/Circulars/05062020-Notification%209.pdf\n",
            "https://law.rajasthan.gov.in//content/dam/law-justice/Law%20%26%20Legal%20Affairs%20Department/PDF/Circulars/05062020-Notification%2010.pdf\n",
            "https://law.rajasthan.gov.in//content/dam/law-justice/Law%20%26%20Legal%20Affairs%20Department/PDF/Circulars/05062020-Notification%2011.pdf\n",
            "https://law.rajasthan.gov.in//content/dam/law-justice/Law%20%26%20Legal%20Affairs%20Department/PDF/Circulars/05062020-Notification%2012.pdf\n",
            "https://law.rajasthan.gov.in//content/dam/law-justice/Law%20%26%20Legal%20Affairs%20Department/PDF/Circulars/05062020-Notification%2013.pdf\n",
            "https://law.rajasthan.gov.in//content/dam/law-justice/Law%20%26%20Legal%20Affairs%20Department/PDF/Circulars/05062020-Notification%2014.pdf\n",
            "https://law.rajasthan.gov.in//content/dam/law-justice/Law%20%26%20Legal%20Affairs%20Department/PDF/Circulars/05062020-Notification%2014.pdf\n",
            "https://law.rajasthan.gov.in//content/dam/law-justice/Law%20%26%20Legal%20Affairs%20Department/PDF/Circulars/05062020-Notification%2015.pdf\n",
            "https://law.rajasthan.gov.in//content/dam/law-justice/Law%20%26%20Legal%20Affairs%20Department/PDF/Circulars/05062020-Notification%2016.pdf\n",
            "https://law.rajasthan.gov.in//content/dam/law-justice/Law%20%26%20Legal%20Affairs%20Department/PDF/Circulars/05062020-Notification%2017.pdf\n",
            "https://law.rajasthan.gov.in//content/dam/law-justice/Law%20%26%20Legal%20Affairs%20Department/PDF/Circulars/05062020-Notification%2018.pdf\n",
            "https://law.rajasthan.gov.in//content/dam/law-justice/Law%20%26%20Legal%20Affairs%20Department/PDF/Circulars/05062020-Notification%2019.pdf\n",
            "https://law.rajasthan.gov.in//content/dam/law-justice/Law%20%26%20Legal%20Affairs%20Department/PDF/Circulars/Juvenile%20Court%20Order1.pdf\n",
            "https://law.rajasthan.gov.in//content/dam/law-justice/Law%20%26%20Legal%20Affairs%20Department/PDF/Circulars/Application_DLR.pdf\n",
            "https://law.rajasthan.gov.in//content/dam/law-justice/Law%20%26%20Legal%20Affairs%20Department/PDF/Circulars/FeesBillPayment.pdf\n",
            "https://law.rajasthan.gov.in//content/dam/law-justice/Law%20%26%20Legal%20Affairs%20Department/PDF/Circulars/Name_Amend_Notification_Special_Court_Udaipur.pdf\n",
            "https://law.rajasthan.gov.in//content/dam/law-justice/Law%20%26%20Legal%20Affairs%20Department/PDF/Circulars/The%20banning%20of%20unregulated%20deposit%20scheme%20act%20Powers.pdf\n",
            "https://law.rajasthan.gov.in//content/dam/law-justice/Law%20%26%20Legal%20Affairs%20Department/PDF/Circulars/IPR_2020.pdf\n",
            "https://law.rajasthan.gov.in//content/dam/law-justice/Law%20%26%20Legal%20Affairs%20Department/PDF/Circulars/Circular_State_Litigation_Policy.pdf\n",
            "https://law.rajasthan.gov.in//content/dam/law-justice/Law%20%26%20Legal%20Affairs%20Department/PDF/Litigation_Orders/Circular_case_Management_Rules_2007.pdf\n",
            "https://law.rajasthan.gov.in//content/dam/law-justice/Law%20%26%20Legal%20Affairs%20Department/PDF/Circulars/Rent_Tribunal_Bhiwari.pdf\n",
            "https://law.rajasthan.gov.in//content/dam/law-justice/Law%20%26%20Legal%20Affairs%20Department/PDF/Orders/MISCOrders/Application_JLO_ACB.pdf\n",
            "https://law.rajasthan.gov.in//content/dam/law-justice/Law%20%26%20Legal%20Affairs%20Department/PDF/Circulars/Lagislative_Work_15_RLA_III_Session.pdf\n",
            "https://law.rajasthan.gov.in//content/dam/law-justice/Law%20%26%20Legal%20Affairs%20Department/PDF/Circulars/Notification_Nadauti0001.pdf\n",
            "https://law.rajasthan.gov.in//content/dam/law-justice/Law%20%26%20Legal%20Affairs%20Department/PDF/Circulars/CJ_JM_Court_dataramgarh.pdf\n",
            "https://law.rajasthan.gov.in//content/dam/law-justice/Law%20%26%20Legal%20Affairs%20Department/PDF/Circulars/Corrigendum_Byawar.pdf\n",
            "https://law.rajasthan.gov.in//content/dam/law-justice/Law%20%26%20Legal%20Affairs%20Department/PDF/Circulars/Sr_CJ_ACJM_Notification.pdf\n",
            "https://law.rajasthan.gov.in//content/dam/law-justice/Law%20%26%20Legal%20Affairs%20Department/PDF/Circulars/Family_Courts_Notification.pdf\n",
            "https://law.rajasthan.gov.in//content/dam/law-justice/Law%20%26%20Legal%20Affairs%20Department/PDF/Circulars/ACJ_JM_Alwar_Notification.pdf\n",
            "https://law.rajasthan.gov.in//content/dam/law-justice/Law%20%26%20Legal%20Affairs%20Department/PDF/Circulars/NIA_Udaipur_Bhilwara_Notification.pdf\n",
            "https://law.rajasthan.gov.in//content/dam/law-justice/Law%20%26%20Legal%20Affairs%20Department/PDF/Circulars/NIA_Jodhpur_Metro_Notification.pdf\n",
            "https://law.rajasthan.gov.in//content/dam/law-justice/Law%20%26%20Legal%20Affairs%20Department/PDF/Circulars/ADJ_Kotputali_Sahapura_Notification.pdf\n",
            "https://law.rajasthan.gov.in//content/dam/law-justice/Law%20%26%20Legal%20Affairs%20Department/PDF/Circulars/Sr_CJM_Balotra_Jhalawar_Notification.pdf\n",
            "https://law.rajasthan.gov.in//content/dam/law-justice/Law%20%26%20Legal%20Affairs%20Department/PDF/Circulars/CJJM_Kheralimandi_Notification.pdf\n",
            "https://law.rajasthan.gov.in//content/dam/law-justice/Law%20%26%20Legal%20Affairs%20Department/PDF/Circulars/ACD_Udaipur_Notification.pdf\n",
            "https://law.rajasthan.gov.in//content/dam/law-justice/Law%20%26%20Legal%20Affairs%20Department/PDF/Circulars/ADJ_Alwar_Bikaner_Jodhpur_Notification.pdf\n",
            "https://law.rajasthan.gov.in//content/dam/law-justice/Law%20%26%20Legal%20Affairs%20Department/PDF/Circulars/ADJCourt_Laxmangarh.pdf\n",
            "https://law.rajasthan.gov.in//content/dam/law-justice/Law%20%26%20Legal%20Affairs%20Department/PDF/Circulars/Amend_Chittorgarh_Dungla_Notification.pdf\n",
            "https://law.rajasthan.gov.in//content/dam/law-justice/Law%20%26%20Legal%20Affairs%20Department/PDF/Litigation_Orders/Circular_Litigation.pdf\n",
            "https://law.rajasthan.gov.in//content/dam/law-justice/Law%20%26%20Legal%20Affairs%20Department/PDF/Circulars/Dungala_Court.pdf\n",
            "https://law.rajasthan.gov.in//content/dam/law-justice/Law%20%26%20Legal%20Affairs%20Department/PDF/Litigation_Orders/Circular_Court_Cases.pdf\n",
            "https://law.rajasthan.gov.in//content/dam/law-justice/Law%20%26%20Legal%20Affairs%20Department/PDF/Circulars/NagarNigam_kota.pdf\n",
            "https://law.rajasthan.gov.in//content/dam/law-justice/Law%20%26%20Legal%20Affairs%20Department/PDF/Circulars/civilCourt_Rani.pdf\n",
            "https://law.rajasthan.gov.in//content/dam/law-justice/Law%20%26%20Legal%20Affairs%20Department/PDF/Circulars/specialCourt_6.pdf\n",
            "https://law.rajasthan.gov.in//content/dam/law-justice/Law%20%26%20Legal%20Affairs%20Department/PDF/Circulars/ADJCourt_makranaMahawa.pdf\n",
            "https://law.rajasthan.gov.in//content/dam/law-justice/Law%20%26%20Legal%20Affairs%20Department/PDF/Circulars/Circular_Law_19-09-2019.pdf\n",
            "https://law.rajasthan.gov.in//content/dam/law-justice/Law%20%26%20Legal%20Affairs%20Department/PDF/Circulars/circular%20(2).pdf\n",
            "https://law.rajasthan.gov.in//content/dam/law-justice/Law%20%26%20Legal%20Affairs%20Department/PDF/Circulars/CMIS%20Circular.pdf\n",
            "https://law.rajasthan.gov.in//content/dam/law-justice/Law%20%26%20Legal%20Affairs%20Department/PDF/Circulars/Circular_Extra_Charge_Allotment_LegalServiceCadre.pdf\n",
            "https://law.rajasthan.gov.in//content/dam/law-justice/Law%20%26%20Legal%20Affairs%20Department/PDF/Circulars/CircularregardingappointmentofsenioradvovateinSupremecourtsforallBoardsCorporation.pdf\n",
            "https://law.rajasthan.gov.in//content/dam/law-justice/Law%20%26%20Legal%20Affairs%20Department/PDF/Litigation_Orders/Circular_Dept_Case_File.pdf\n",
            "https://law.rajasthan.gov.in//content/dam/law-justice/Law%20%26%20Legal%20Affairs%20Department/PDF/Litigation_Orders/Circular_02_May_19.pdf\n",
            "https://law.rajasthan.gov.in//content/dam/law-justice/Law%20%26%20Legal%20Affairs%20Department/PDF/Litigation_Orders/Circular_GC_30_Apr_19.pdf\n",
            "https://law.rajasthan.gov.in//content/dam/law-justice/Law%20%26%20Legal%20Affairs%20Department/PDF/Circulars/notification%2016-Apr-2019%2016-07-38.pdf\n",
            "https://law.rajasthan.gov.in//content/dam/law-justice/Law%20%26%20Legal%20Affairs%20Department/PDF/Litigation_Orders/Instructions_Gc_2_4_19.pdf\n",
            "https://law.rajasthan.gov.in//content/dam/law-justice/Law%20%26%20Legal%20Affairs%20Department/PDF/Litigation_Orders/Circular_councils_Secretary_2_4_190001.pdf\n",
            "https://law.rajasthan.gov.in//content/dam/law-justice/Law%20%26%20Legal%20Affairs%20Department/PDF/Circulars/Notification_Name_Amend.pdf\n",
            "https://law.rajasthan.gov.in//content/dam/law-justice/Law%20%26%20Legal%20Affairs%20Department/PDF/Orders/MISCOrders/Notification_Mob_Violence_Lynching.pdf\n",
            "https://law.rajasthan.gov.in//content/dam/law-justice/Law%20%26%20Legal%20Affairs%20Department/PDF/Litigation_Orders/Compliance_Revised%20Rates_PPOffice.pdf\n",
            "https://law.rajasthan.gov.in//content/dam/law-justice/Law%20%26%20Legal%20Affairs%20Department/PDF/Circulars/notification%20(2).pdf\n",
            "https://law.rajasthan.gov.in//content/dam/law-justice/Law%20%26%20Legal%20Affairs%20Department/PDF/Circulars/ADJ_Court_Name_Change.pdf\n",
            "https://law.rajasthan.gov.in//content/dam/law-justice/Law%20%26%20Legal%20Affairs%20Department/PDF/Circulars/IPR_Circular.pdf\n",
            "https://law.rajasthan.gov.in/http://law.rajasthan.gov.in/content/dam/law-justice/Parliamentary%20affairs%20department%20rajasthan/Circulars/Circular.pdf\n",
            "https://law.rajasthan.gov.in//content/dam/law-justice/Law%20%26%20Legal%20Affairs%20Department/PDF/Circulars/scan0513.pdf\n",
            "https://law.rajasthan.gov.in//content/dam/law-justice/Law%20%26%20Legal%20Affairs%20Department/PDF/Circulars/Notification.pdf\n",
            "https://law.rajasthan.gov.in//content/dam/law-justice/Law%20%26%20Legal%20Affairs%20Department/PDF/Circulars/CommercialCourt_Notification0001.pdf\n",
            "https://law.rajasthan.gov.in//content/dam/law-justice/Law%20%26%20Legal%20Affairs%20Department/PDF/Circulars/Posco_Court_Notification0001.pdf\n",
            "https://law.rajasthan.gov.in//content/dam/law-justice/Law%20%26%20Legal%20Affairs%20Department/PDF/Orders/MISCOrders/Circular0002.pdf\n",
            "https://law.rajasthan.gov.in//content/dam/law-justice/Law%20%26%20Legal%20Affairs%20Department/PDF/Circulars/Notification_3_8_180001.pdf\n",
            "https://law.rajasthan.gov.in//content/dam/law-justice/Law%20%26%20Legal%20Affairs%20Department/PDF/Circulars/Notification_2_8_18_NameCorrection0001.pdf\n",
            "https://law.rajasthan.gov.in//content/dam/law-justice/Law%20%26%20Legal%20Affairs%20Department/PDF/Circulars/Notification_3_8_180001.pdf\n",
            "https://law.rajasthan.gov.in//content/dam/law-justice/Law%20%26%20Legal%20Affairs%20Department/PDF/Circulars/Notification_1_8_18_Badmer0001.pdf\n",
            "https://law.rajasthan.gov.in//content/dam/law-justice/Law%20%26%20Legal%20Affairs%20Department/PDF/Circulars/Notification0004.pdf\n",
            "https://law.rajasthan.gov.in//content/dam/law-justice/Law%20%26%20Legal%20Affairs%20Department/PDF/Circulars/scan_ToWeb%2002-rotated.pdf\n",
            "https://law.rajasthan.gov.in//content/dam/law-justice/Law%20%26%20Legal%20Affairs%20Department/PDF/Circulars/PAD_27_6_180001.pdf\n",
            "https://law.rajasthan.gov.in//content/dam/law-justice/Law%20%26%20Legal%20Affairs%20Department/PDF/Circulars/Notification0003.pdf\n",
            "https://law.rajasthan.gov.in//content/dam/law-justice/Law%20%26%20Legal%20Affairs%20Department/PDF/Circulars/Notification_NDPS.pdf\n",
            "https://law.rajasthan.gov.in//content/dam/law-justice/Law%20%26%20Legal%20Affairs%20Department/PDF/Circulars/Notification0002.pdf\n",
            "https://law.rajasthan.gov.in//content/dam/law-justice/Law%20%26%20Legal%20Affairs%20Department/PDF/Circulars/Notification0001.pdf\n",
            "https://law.rajasthan.gov.in//content/dam/law-justice/Law%20%26%20Legal%20Affairs%20Department/PDF/Circulars/scan0355.pdf\n",
            "https://law.rajasthan.gov.in//content/dam/law-justice/Law%20%26%20Legal%20Affairs%20Department/PDF/Circulars/scan0357.pdf\n",
            "https://law.rajasthan.gov.in//content/dam/law-justice/Law%20%26%20Legal%20Affairs%20Department/PDF/Circulars/scan0356.pdf\n",
            "https://law.rajasthan.gov.in//content/dam/law-justice/Law%20%26%20Legal%20Affairs%20Department/PDF/Circulars/Notification_08-06-18.pdf\n",
            "https://law.rajasthan.gov.in//content/dam/law-justice/Law%20%26%20Legal%20Affairs%20Department/PDF/Circulars/Notification_30_5_180001.pdf\n",
            "https://law.rajasthan.gov.in//content/dam/law-justice/Law%20%26%20Legal%20Affairs%20Department/PDF/Litigation_Orders/Strike_Directions_Litigation0001.pdf\n",
            "https://law.rajasthan.gov.in//content/dam/law-justice/Law%20%26%20Legal%20Affairs%20Department/PDF/Circulars/CourtCreationrNotification_17_4_180001.pdf\n",
            "https://law.rajasthan.gov.in//content/dam/law-justice/Law%20%26%20Legal%20Affairs%20Department/PDF/Circulars/Court_Open_Orders_16_4_180001.pdf\n",
            "Problem IN the PARSING\n",
            "https://law.rajasthan.gov.in//content/dam/law-justice/Law%20%26%20Legal%20Affairs%20Department/PDF/Circulars/IPR_Reminder_30_1_180001.pdf\n",
            "https://law.rajasthan.gov.in//content/dam/law-justice/Law%20%26%20Legal%20Affairs%20Department/PDF/Circulars/Court_Open_Orders_16_4_180001.pdf\n",
            "https://law.rajasthan.gov.in//content/dam/law-justice/Law%20%26%20Legal%20Affairs%20Department/PDF/Circulars/Camp_Court_Sikar_Laxmangarh.pdf\n",
            "https://law.rajasthan.gov.in//content/dam/law-justice/Law%20%26%20Legal%20Affairs%20Department/PDF/Circulars/Rent2_14_12_17.pdf\n",
            "https://law.rajasthan.gov.in//content/dam/law-justice/Law%20%26%20Legal%20Affairs%20Department/PDF/Circulars/Rent_Tribunal_14_12_17.pdf\n",
            "https://law.rajasthan.gov.in//content/dam/law-justice/Law%20%26%20Legal%20Affairs%20Department/PDF/Circulars/Notification_12_12_17.pdf\n",
            "https://law.rajasthan.gov.in//content/dam/law-justice/Law%20%26%20Legal%20Affairs%20Department/PDF/Orders/MISCOrders/Notification_MACT_24_11_17.pdf\n",
            "https://law.rajasthan.gov.in//content/dam/law-justice/Law%20%26%20Legal%20Affairs%20Department/PDF/Circulars/Notification_13_10.pdf\n",
            "https://law.rajasthan.gov.in//content/dam/law-justice/Law%20%26%20Legal%20Affairs%20Department/PDF/Circulars/crclr_Post%20creat_upgrad.pdf\n",
            "https://law.rajasthan.gov.in//content/dam/law-justice/Law%20%26%20Legal%20Affairs%20Department/PDF/Circulars/Camp_Court.pdf\n",
            "https://law.rajasthan.gov.in//content/dam/law-justice/Law%20%26%20Legal%20Affairs%20Department/PDF/Circulars/notification%20regarding%20the%20rights%20of%20persins%20with%20disability%20act.pdf\n",
            "https://law.rajasthan.gov.in//content/dam/law-justice/Law%20%26%20Legal%20Affairs%20Department/PDF/Circulars/Gazette.pdf\n",
            "https://law.rajasthan.gov.in//content/dam/law-justice/Law%20%26%20Legal%20Affairs%20Department/PDF/Orders/MISCOrders/Notification_7%20FC%20power.pdf\n",
            "https://law.rajasthan.gov.in//content/dam/law-justice/Law%20%26%20Legal%20Affairs%20Department/PDF/Circulars/HQ%20Change.pdf\n",
            "https://law.rajasthan.gov.in//content/dam/law-justice/Law%20%26%20Legal%20Affairs%20Department/PDF/Circulars/2_5_Psco.pdf\n",
            "https://law.rajasthan.gov.in//content/dam/law-justice/Law%20%26%20Legal%20Affairs%20Department/PDF/Circulars/family_counclers_List.pdf\n",
            "https://law.rajasthan.gov.in//content/dam/law-justice/Law%20%26%20Legal%20Affairs%20Department/PDF/Circulars/family%20court%20order.pdf\n",
            "https://law.rajasthan.gov.in//content/dam/law-justice/Law%20%26%20Legal%20Affairs%20Department/PDF/Circulars/adhocpromotionextensiomorder_11.05.17.pdf\n",
            "https://law.rajasthan.gov.in//content/dam/law-justice/Law%20%26%20Legal%20Affairs%20Department/PDF/Circulars/notification%202%20new%20ADJ%20creation%20baran%20%26%20Kotputli.pdf\n",
            "https://law.rajasthan.gov.in//content/dam/law-justice/Law%20%26%20Legal%20Affairs%20Department/PDF/Circulars/notification%20of%20new%20ADJ%20at%20pokaran.pdf\n",
            "https://law.rajasthan.gov.in//content/dam/law-justice/Law%20%26%20Legal%20Affairs%20Department/PDF/Circulars/Notification%20of%20new%20CJ%20%26%20JM%20at%20bhinmal%20sanchor.pdf\n",
            "https://law.rajasthan.gov.in//content/dam/law-justice/Law%20%26%20Legal%20Affairs%20Department/PDF/Circulars/Notification%20of%20new%20CJ%20%26%20JM%20at%20bhusawar%20spotara.pdf\n",
            "https://law.rajasthan.gov.in//content/dam/law-justice/Law%20%26%20Legal%20Affairs%20Department/PDF/Circulars/Driver_Class_IV0001.pdf\n",
            "https://law.rajasthan.gov.in//content/dam/law-justice/Law%20%26%20Legal%20Affairs%20Department/PDF/Circulars/Mact_Creation_karauli_Pratapgarh_25_4_17.pdf\n",
            "https://law.rajasthan.gov.in//content/dam/law-justice/Law%20%26%20Legal%20Affairs%20Department/PDF/Circulars/Rem_IPR.pdf\n",
            "https://law.rajasthan.gov.in//content/dam/law-justice/Law%20%26%20Legal%20Affairs%20Department/PDF/Circulars/Vacancies_Dec_2016.pdf\n",
            "https://law.rajasthan.gov.in//content/dam/law-justice/Law%20%26%20Legal%20Affairs%20Department/PDF/Circulars/Property_Info_Order_23_1_2017.pdf\n",
            "https://law.rajasthan.gov.in//content/dam/law-justice/Law%20%26%20Legal%20Affairs%20Department/PDF/Circulars/Litigation_Notification_regarding%20Special%20Public%20Prosecutor_11_1_2017.pdf\n",
            "https://law.rajasthan.gov.in//content/dam/law-justice/Law%20%26%20Legal%20Affairs%20Department/PDF/Circulars/ADJ_Jodhpur_Jaisalmer_AdditionalChargeOrder.pdf\n",
            "https://law.rajasthan.gov.in//content/dam/law-justice/Law%20%26%20Legal%20Affairs%20Department/PDF/Circulars/Notification_Special_Courts_8_Dec_2016.pdf\n",
            "https://law.rajasthan.gov.in//content/dam/law-justice/Law%20%26%20Legal%20Affairs%20Department/PDF/Circulars/MACT_Notification_8_Dec_2016.pdf\n",
            "https://law.rajasthan.gov.in//content/dam/law-justice/Law%20%26%20Legal%20Affairs%20Department/PDF/Circulars/Family_Court_Jurisdiction_8_Dec_2016.pdf\n",
            "https://law.rajasthan.gov.in//content/dam/law-justice/Law%20%26%20Legal%20Affairs%20Department/PDF/Circulars/Circular_ADJNo_1_Bayana_Bharatpur_1_12_2016.pdf\n",
            "https://law.rajasthan.gov.in//content/dam/law-justice/Law%20%26%20Legal%20Affairs%20Department/PDF/Circulars/Circular_MACT.pdf\n",
            "https://law.rajasthan.gov.in//content/dam/law-justice/Law%20%26%20Legal%20Affairs%20Department/PDF/Circulars/Circular_PostCreation_02_09_2016.pdf\n",
            "https://law.rajasthan.gov.in//content/dam/law-justice/Law%20%26%20Legal%20Affairs%20Department/PDF/Circulars/Notificationn_Rajasthan%20Court%20Fees(e-Payment)Rules_2016_English.pdf\n",
            "https://law.rajasthan.gov.in//content/dam/law-justice/Law%20%26%20Legal%20Affairs%20Department/PDF/Circulars/Notification_Rajasthan%20Court%20Fees(e-Payment)Rules_2016_Hindi.pdf\n",
            "https://law.rajasthan.gov.in//content/dam/law-justice/Law%20%26%20Legal%20Affairs%20Department/PDF/Circulars/Circular_Legal_VRSEmployees_16_Aug_2016.pdf\n",
            "https://law.rajasthan.gov.in//content/dam/law-justice/Law%20%26%20Legal%20Affairs%20Department/PDF/Circulars/Notification_ADCourts_MACTPowers_27_7_2016.pdf\n",
            "https://law.rajasthan.gov.in//content/dam/law-justice/Law%20%26%20Legal%20Affairs%20Department/PDF/Circulars/Notification_ADJCourts_SpecialCourts_27_July_2016.pdf\n",
            "https://law.rajasthan.gov.in//content/dam/law-justice/Law%20%26%20Legal%20Affairs%20Department/PDF/Circulars/Notification_ADCourts_BoundaryCourts_27_7_2016.pdf\n",
            "https://law.rajasthan.gov.in//content/dam/law-justice/Law%20%26%20Legal%20Affairs%20Department/PDF/Circulars/Notification_Family_Court_25_07_2016.pdf\n",
            "https://law.rajasthan.gov.in//content/dam/law-justice/Law%20%26%20Legal%20Affairs%20Department/PDF/Circulars/Letter_Property_Info0001.pdf\n",
            "https://law.rajasthan.gov.in//content/dam/law-justice/Law%20%26%20Legal%20Affairs%20Department/PDF/Circulars/Circular_Family_Court_Creation_13_Jun_2016.pdf\n",
            "https://law.rajasthan.gov.in//content/dam/law-justice/Law%20%26%20Legal%20Affairs%20Department/PDF/Circulars/Circular_P2_4_Nyay_2014.pdf\n",
            "https://law.rajasthan.gov.in//content/dam/law-justice/Law%20%26%20Legal%20Affairs%20Department/PDF/Circulars/Order1_16_5_2016.pdf\n",
            "https://law.rajasthan.gov.in//content/dam/law-justice/Law%20%26%20Legal%20Affairs%20Department/PDF/Circulars/Order_16_5_2016.pdf\n",
            "https://law.rajasthan.gov.in//content/dam/law-justice/Law%20%26%20Legal%20Affairs%20Department/PDF/Circulars/MACT_Order1_16_5_2016.pdf\n",
            "https://law.rajasthan.gov.in//content/dam/law-justice/Law%20%26%20Legal%20Affairs%20Department/PDF/Circulars/MACT_Order_16_5_2016.pdf\n",
            "https://law.rajasthan.gov.in//content/dam/law-justice/Law%20%26%20Legal%20Affairs%20Department/PDF/Circulars/MACT_Court_Bharatpur_Order.pdf\n",
            "https://law.rajasthan.gov.in//content/dam/law-justice/Law%20%26%20Legal%20Affairs%20Department/PDF/Circulars/Circular_Legal%20Service_VRS_Leave.pdf\n",
            "https://law.rajasthan.gov.in//content/dam/law-justice/Law%20%26%20Legal%20Affairs%20Department/PDF/Circulars/Circular_MACTEmployees_Leave.pdf\n",
            "https://law.rajasthan.gov.in//content/dam/law-justice/Law%20%26%20Legal%20Affairs%20Department/PDF/Litigation_Orders/Family%20Court.pdf\n",
            "https://law.rajasthan.gov.in//content/dam/law-justice/Law%20%26%20Legal%20Affairs%20Department/PDF/Circulars/NotificationregardingConfermentofpowerforDJandSessionCourtsaipurMetroIandII.pdf\n",
            "https://law.rajasthan.gov.in//content/dam/law-justice/Law%20%26%20Legal%20Affairs%20Department/PDF/Circulars/Notification-23102023.pdf\n",
            "                                             PDF Links\n",
            "0    https://law.rajasthan.gov.in//content/dam/law-...\n",
            "1    https://law.rajasthan.gov.in//content/dam/law-...\n",
            "2    https://law.rajasthan.gov.in//content/dam/law-...\n",
            "3    https://law.rajasthan.gov.in//content/dam/law-...\n",
            "4    https://law.rajasthan.gov.in//content/dam/law-...\n",
            "..                                                 ...\n",
            "277  https://law.rajasthan.gov.in//content/dam/law-...\n",
            "278  https://law.rajasthan.gov.in//content/dam/law-...\n",
            "279  https://law.rajasthan.gov.in//content/dam/law-...\n",
            "280  https://law.rajasthan.gov.in//content/dam/law-...\n",
            "281  https://law.rajasthan.gov.in//content/dam/law-...\n",
            "\n",
            "[282 rows x 1 columns]\n"
          ]
        }
      ]
    },
    {
      "cell_type": "markdown",
      "source": [
        "# Govt of Kerala\n"
      ],
      "metadata": {
        "id": "rmiWEdkdgNZ9"
      }
    },
    {
      "cell_type": "code",
      "source": [
        "base_url = 'https://go.lsgkerala.gov.in/pages/orderGlance.php?select=circular&Start='\n",
        "page_number = 1\n",
        "max_pages = 93\n",
        "pdf_url = 'https://go.lsgkerala.gov.in/'\n",
        "\n",
        "def extract_pdf_links(url, base):\n",
        "    response = requests.get(url, verify = False)\n",
        "    if response.status_code != 200:\n",
        "        raise Exception(f\"Failed to load page {url}\")\n",
        "    soup = BeautifulSoup(response.content, 'html.parser')\n",
        "    links = soup.find_all('a')\n",
        "    pdf_links = []\n",
        "    for link in links:\n",
        "      try:\n",
        "        if '.pdf' in link['href'] or '.PDF' in link['href']:\n",
        "          print(base+link['href'])\n",
        "          pdf_links.append(base+link['href'])\n",
        "      except:\n",
        "        print('Problem IN the PARSING')\n",
        "        pass\n",
        "    # pdf_links = [base+link.get('href') for link in links if ('.pdf' in link.get('href') or '.PDF' in link.get('href'))]\n",
        "    print(len(pdf_links))\n",
        "    return pdf_links\n",
        "\n",
        "all_pdf_links = []\n",
        "while True:\n",
        "    url = f\"{base_url}{page_number}\"\n",
        "    print(f\"Fetching {url}\")\n",
        "\n",
        "    pdf_links = extract_pdf_links(url, pdf_url)\n",
        "    all_pdf_links.extend(pdf_links)\n",
        "    response = requests.get(url, verify = False)\n",
        "    if response.status_code != 200:\n",
        "        break\n",
        "    soup = BeautifulSoup(response.content, 'html.parser')\n",
        "    if page_number == max_pages:\n",
        "        break\n",
        "\n",
        "    page_number += 1\n",
        "\n",
        "df = pd.DataFrame(list(set(all_pdf_links)), columns=['PDF Links'])\n",
        "df.to_csv('all_pdf_links.csv', index=False)\n",
        "print(df)"
      ],
      "metadata": {
        "colab": {
          "base_uri": "https://localhost:8080/"
        },
        "id": "X7uanKJHZMjj",
        "outputId": "588bd42b-ba64-4d8f-cd56-344627cb50cf"
      },
      "execution_count": null,
      "outputs": [
        {
          "output_type": "stream",
          "name": "stdout",
          "text": [
            "Fetching https://go.lsgkerala.gov.in/pages/orderGlance.php?select=circular&Start=1\n"
          ]
        },
        {
          "output_type": "stream",
          "name": "stderr",
          "text": [
            "/usr/local/lib/python3.10/dist-packages/urllib3/connectionpool.py:1100: InsecureRequestWarning: Unverified HTTPS request is being made to host 'go.lsgkerala.gov.in'. Adding certificate verification is strongly advised. See: https://urllib3.readthedocs.io/en/latest/advanced-usage.html#tls-warnings\n",
            "  warnings.warn(\n"
          ]
        },
        {
          "output_type": "stream",
          "name": "stdout",
          "text": [
            "https://go.lsgkerala.gov.in/../pages/fileOpen.php?fname=cr20240523_36938.pdf&id=36938\n",
            "https://go.lsgkerala.gov.in/../pages/fileOpen.php?fname=cr20240522_36913.pdf&id=36913\n",
            "https://go.lsgkerala.gov.in/../pages/fileOpen.php?fname=cr20240501_36847.pdf&id=36847\n",
            "https://go.lsgkerala.gov.in/../pages/fileOpen.php?fname=cr20240423_36826.pdf&id=36826\n",
            "https://go.lsgkerala.gov.in/../pages/fileOpen.php?fname=cr20240412_36809.pdf&id=36809\n",
            "https://go.lsgkerala.gov.in/../pages/fileOpen.php?fname=cr20240409_36803.pdf&id=36803\n",
            "https://go.lsgkerala.gov.in/../pages/fileOpen.php?fname=cr20240327_36768.pdf&id=36768\n",
            "https://go.lsgkerala.gov.in/../pages/fileOpen.php?fname=cr20240316_36700.pdf&id=36700\n",
            "https://go.lsgkerala.gov.in/../pages/fileOpen.php?fname=cr20240313_36649.pdf&id=36649\n",
            "https://go.lsgkerala.gov.in/../pages/fileOpen.php?fname=cr20240312_36719.pdf&id=36719\n",
            "https://go.lsgkerala.gov.in/../pages/fileOpen.php?fname=cr20240310_36655.pdf&id=36655\n",
            "https://go.lsgkerala.gov.in/../pages/fileOpen.php?fname=cr20240221_36498.pdf&id=36498\n",
            "https://go.lsgkerala.gov.in/../pages/fileOpen.php?fname=cr20240220_36481.pdf&id=36481\n",
            "https://go.lsgkerala.gov.in/../pages/fileOpen.php?fname=cr20240217_36486.pdf&id=36486\n",
            "https://go.lsgkerala.gov.in/../pages/fileOpen.php?fname=cr20240207_36402.pdf&id=36402\n",
            "https://go.lsgkerala.gov.in/../pages/fileOpen.php?fname=cr20240130_36310.pdf&id=36310\n",
            "https://go.lsgkerala.gov.in/../pages/fileOpen.php?fname=cr20240124_36247.pdf&id=36247\n",
            "https://go.lsgkerala.gov.in/../pages/fileOpen.php?fname=cr20240124_36244.pdf&id=36244\n",
            "https://go.lsgkerala.gov.in/../pages/fileOpen.php?fname=cr20240107_36129.pdf&id=36129\n",
            "https://go.lsgkerala.gov.in/../pages/fileOpen.php?fname=cr20231221_36079.pdf&id=36079\n",
            "20\n"
          ]
        },
        {
          "output_type": "stream",
          "name": "stderr",
          "text": [
            "/usr/local/lib/python3.10/dist-packages/urllib3/connectionpool.py:1100: InsecureRequestWarning: Unverified HTTPS request is being made to host 'go.lsgkerala.gov.in'. Adding certificate verification is strongly advised. See: https://urllib3.readthedocs.io/en/latest/advanced-usage.html#tls-warnings\n",
            "  warnings.warn(\n"
          ]
        },
        {
          "output_type": "stream",
          "name": "stdout",
          "text": [
            "Fetching https://go.lsgkerala.gov.in/pages/orderGlance.php?select=circular&Start=2\n"
          ]
        },
        {
          "output_type": "stream",
          "name": "stderr",
          "text": [
            "/usr/local/lib/python3.10/dist-packages/urllib3/connectionpool.py:1100: InsecureRequestWarning: Unverified HTTPS request is being made to host 'go.lsgkerala.gov.in'. Adding certificate verification is strongly advised. See: https://urllib3.readthedocs.io/en/latest/advanced-usage.html#tls-warnings\n",
            "  warnings.warn(\n"
          ]
        },
        {
          "output_type": "stream",
          "name": "stdout",
          "text": [
            "https://go.lsgkerala.gov.in/../pages/fileOpen.php?fname=cr20231213_36060.pdf&id=36060\n",
            "https://go.lsgkerala.gov.in/../pages/fileOpen.php?fname=cr20231202_35979.pdf&id=35979\n",
            "https://go.lsgkerala.gov.in/../pages/fileOpen.php?fname=cr20231201_35941.pdf&id=35941\n",
            "https://go.lsgkerala.gov.in/../pages/fileOpen.php?fname=cr20231121_35885.pdf&id=35885\n",
            "https://go.lsgkerala.gov.in/../pages/fileOpen.php?fname=cr20231113_35832.pdf&id=35832\n",
            "https://go.lsgkerala.gov.in/../pages/fileOpen.php?fname=cr20231109_35812.pdf&id=35812\n",
            "https://go.lsgkerala.gov.in/../pages/fileOpen.php?fname=cr20231104_35775.pdf&id=35775\n",
            "https://go.lsgkerala.gov.in/../pages/fileOpen.php?fname=cr20231025_35675.pdf&id=35675\n",
            "https://go.lsgkerala.gov.in/../pages/fileOpen.php?fname=cr20231019_35629.pdf&id=35629\n",
            "https://go.lsgkerala.gov.in/../pages/fileOpen.php?fname=cr20231018_35613.pdf&id=35613\n",
            "https://go.lsgkerala.gov.in/../pages/fileOpen.php?fname=cr20231004_35544.pdf&id=35544\n",
            "https://go.lsgkerala.gov.in/../pages/fileOpen.php?fname=cr20230921_35440.pdf&id=35440\n",
            "https://go.lsgkerala.gov.in/../pages/fileOpen.php?fname=cr20230920_35435.pdf&id=35435\n",
            "https://go.lsgkerala.gov.in/../pages/fileOpen.php?fname=cr20230920_35434.pdf&id=35434\n",
            "https://go.lsgkerala.gov.in/../pages/fileOpen.php?fname=cr20230907_35381.pdf&id=35381\n",
            "https://go.lsgkerala.gov.in/../pages/fileOpen.php?fname=cr20230810_35233.pdf&id=35233\n",
            "https://go.lsgkerala.gov.in/../pages/fileOpen.php?fname=cr20230802_35190.pdf&id=35190\n",
            "https://go.lsgkerala.gov.in/../pages/fileOpen.php?fname=cr20230731_35187.pdf&id=35187\n",
            "https://go.lsgkerala.gov.in/../pages/fileOpen.php?fname=cr20230715_35125.pdf&id=35125\n",
            "https://go.lsgkerala.gov.in/../pages/fileOpen.php?fname=cr20230710_35105.pdf&id=35105\n",
            "20\n"
          ]
        },
        {
          "output_type": "stream",
          "name": "stderr",
          "text": [
            "/usr/local/lib/python3.10/dist-packages/urllib3/connectionpool.py:1100: InsecureRequestWarning: Unverified HTTPS request is being made to host 'go.lsgkerala.gov.in'. Adding certificate verification is strongly advised. See: https://urllib3.readthedocs.io/en/latest/advanced-usage.html#tls-warnings\n",
            "  warnings.warn(\n"
          ]
        },
        {
          "output_type": "stream",
          "name": "stdout",
          "text": [
            "Fetching https://go.lsgkerala.gov.in/pages/orderGlance.php?select=circular&Start=3\n"
          ]
        },
        {
          "output_type": "stream",
          "name": "stderr",
          "text": [
            "/usr/local/lib/python3.10/dist-packages/urllib3/connectionpool.py:1100: InsecureRequestWarning: Unverified HTTPS request is being made to host 'go.lsgkerala.gov.in'. Adding certificate verification is strongly advised. See: https://urllib3.readthedocs.io/en/latest/advanced-usage.html#tls-warnings\n",
            "  warnings.warn(\n"
          ]
        },
        {
          "output_type": "stream",
          "name": "stdout",
          "text": [
            "https://go.lsgkerala.gov.in/../pages/fileOpen.php?fname=cr20230707_35091.pdf&id=35091\n",
            "https://go.lsgkerala.gov.in/../pages/fileOpen.php?fname=cr20230703_35063.pdf&id=35063\n",
            "https://go.lsgkerala.gov.in/../pages/fileOpen.php?fname=cr20230701_35072.pdf&id=35072\n",
            "https://go.lsgkerala.gov.in/../pages/fileOpen.php?fname=cr20230701_35064.pdf&id=35064\n",
            "https://go.lsgkerala.gov.in/../pages/fileOpen.php?fname=cr20230630_35340.pdf&id=35340\n",
            "https://go.lsgkerala.gov.in/../pages/fileOpen.php?fname=cr20230630_35058.pdf&id=35058\n",
            "https://go.lsgkerala.gov.in/../pages/fileOpen.php?fname=cr20230630_35056.pdf&id=35056\n",
            "https://go.lsgkerala.gov.in/../pages/fileOpen.php?fname=cr20230629_35054.pdf&id=35054\n",
            "https://go.lsgkerala.gov.in/../pages/fileOpen.php?fname=cr20230619_35055.pdf&id=35055\n",
            "https://go.lsgkerala.gov.in/../pages/fileOpen.php?fname=cr20230619_34987.pdf&id=34987\n",
            "https://go.lsgkerala.gov.in/../pages/fileOpen.php?fname=cr20230614_34974.pdf&id=34974\n",
            "https://go.lsgkerala.gov.in/../pages/fileOpen.php?fname=cr20230609_34954.pdf&id=34954\n",
            "https://go.lsgkerala.gov.in/../pages/fileOpen.php?fname=cr20230609_34953.pdf&id=34953\n",
            "https://go.lsgkerala.gov.in/../pages/fileOpen.php?fname=cr20230606_35027.pdf&id=35027\n",
            "https://go.lsgkerala.gov.in/../pages/fileOpen.php?fname=cr20230605_34923.pdf&id=34923\n",
            "https://go.lsgkerala.gov.in/../pages/fileOpen.php?fname=cr20230523_34947.pdf&id=34947\n",
            "https://go.lsgkerala.gov.in/../pages/fileOpen.php?fname=cr20230517_34994.pdf&id=34994\n",
            "https://go.lsgkerala.gov.in/../pages/fileOpen.php?fname=cr20230515_35003.pdf&id=35003\n",
            "https://go.lsgkerala.gov.in/../pages/fileOpen.php?fname=cr20230512_34798.pdf&id=34798\n",
            "https://go.lsgkerala.gov.in/../pages/fileOpen.php?fname=cr20230509_34801.pdf&id=34801\n",
            "20\n"
          ]
        },
        {
          "output_type": "stream",
          "name": "stderr",
          "text": [
            "/usr/local/lib/python3.10/dist-packages/urllib3/connectionpool.py:1100: InsecureRequestWarning: Unverified HTTPS request is being made to host 'go.lsgkerala.gov.in'. Adding certificate verification is strongly advised. See: https://urllib3.readthedocs.io/en/latest/advanced-usage.html#tls-warnings\n",
            "  warnings.warn(\n"
          ]
        },
        {
          "output_type": "stream",
          "name": "stdout",
          "text": [
            "Fetching https://go.lsgkerala.gov.in/pages/orderGlance.php?select=circular&Start=4\n"
          ]
        },
        {
          "output_type": "stream",
          "name": "stderr",
          "text": [
            "/usr/local/lib/python3.10/dist-packages/urllib3/connectionpool.py:1100: InsecureRequestWarning: Unverified HTTPS request is being made to host 'go.lsgkerala.gov.in'. Adding certificate verification is strongly advised. See: https://urllib3.readthedocs.io/en/latest/advanced-usage.html#tls-warnings\n",
            "  warnings.warn(\n"
          ]
        },
        {
          "output_type": "stream",
          "name": "stdout",
          "text": [
            "https://go.lsgkerala.gov.in/../pages/fileOpen.php?fname=cr20230504_34758.pdf&id=34758\n",
            "https://go.lsgkerala.gov.in/../pages/fileOpen.php?fname=cr20230429_34799.pdf&id=34799\n",
            "https://go.lsgkerala.gov.in/../pages/fileOpen.php?fname=cr20230428_34750.pdf&id=34750\n",
            "https://go.lsgkerala.gov.in/../pages/fileOpen.php?fname=cr20230417_34708.pdf&id=34708\n",
            "https://go.lsgkerala.gov.in/../pages/fileOpen.php?fname=cr20230330_34415.pdf&id=34415\n",
            "https://go.lsgkerala.gov.in/../pages/fileOpen.php?fname=cr20230324_34406.pdf&id=34406\n",
            "https://go.lsgkerala.gov.in/../pages/fileOpen.php?fname=cr20230324_34402.pdf&id=34402\n",
            "https://go.lsgkerala.gov.in/../pages/fileOpen.php?fname=cr20230320_34338.pdf&id=34338\n",
            "https://go.lsgkerala.gov.in/../pages/fileOpen.php?fname=cr20230317_34320.pdf&id=34320\n",
            "https://go.lsgkerala.gov.in/../pages/fileOpen.php?fname=cr20230317_34310.pdf&id=34310\n",
            "https://go.lsgkerala.gov.in/../pages/fileOpen.php?fname=cr20230313_34262.pdf&id=34262\n",
            "https://go.lsgkerala.gov.in/../pages/fileOpen.php?fname=cr20230308_35524.pdf&id=35524\n",
            "https://go.lsgkerala.gov.in/../pages/fileOpen.php?fname=cr20230308_34248.pdf&id=34248\n",
            "https://go.lsgkerala.gov.in/../pages/fileOpen.php?fname=cr20230302_34528.pdf&id=34528\n",
            "https://go.lsgkerala.gov.in/../pages/fileOpen.php?fname=cr20230227_34190.pdf&id=34190\n",
            "https://go.lsgkerala.gov.in/../pages/fileOpen.php?fname=cr20230223_34167.pdf&id=34167\n",
            "https://go.lsgkerala.gov.in/../pages/fileOpen.php?fname=cr20230131_33876.pdf&id=33876\n",
            "https://go.lsgkerala.gov.in/../pages/fileOpen.php?fname=cr20230124_33777.pdf&id=33777\n",
            "https://go.lsgkerala.gov.in/../pages/fileOpen.php?fname=cr20230124_33775.pdf&id=33775\n",
            "https://go.lsgkerala.gov.in/../pages/fileOpen.php?fname=cr20230121_33956.pdf&id=33956\n",
            "20\n"
          ]
        },
        {
          "output_type": "stream",
          "name": "stderr",
          "text": [
            "/usr/local/lib/python3.10/dist-packages/urllib3/connectionpool.py:1100: InsecureRequestWarning: Unverified HTTPS request is being made to host 'go.lsgkerala.gov.in'. Adding certificate verification is strongly advised. See: https://urllib3.readthedocs.io/en/latest/advanced-usage.html#tls-warnings\n",
            "  warnings.warn(\n"
          ]
        },
        {
          "output_type": "stream",
          "name": "stdout",
          "text": [
            "Fetching https://go.lsgkerala.gov.in/pages/orderGlance.php?select=circular&Start=5\n"
          ]
        },
        {
          "output_type": "stream",
          "name": "stderr",
          "text": [
            "/usr/local/lib/python3.10/dist-packages/urllib3/connectionpool.py:1100: InsecureRequestWarning: Unverified HTTPS request is being made to host 'go.lsgkerala.gov.in'. Adding certificate verification is strongly advised. See: https://urllib3.readthedocs.io/en/latest/advanced-usage.html#tls-warnings\n",
            "  warnings.warn(\n"
          ]
        },
        {
          "output_type": "stream",
          "name": "stdout",
          "text": [
            "https://go.lsgkerala.gov.in/../pages/fileOpen.php?fname=cr20230120_33791.pdf&id=33791\n",
            "https://go.lsgkerala.gov.in/../pages/fileOpen.php?fname=cr20221228_33691.pdf&id=33691\n",
            "https://go.lsgkerala.gov.in/../pages/fileOpen.php?fname=cr20221222_33587.pdf&id=33587\n",
            "https://go.lsgkerala.gov.in/../pages/fileOpen.php?fname=cr20221219_33646.pdf&id=33646\n",
            "https://go.lsgkerala.gov.in/../pages/fileOpen.php?fname=cr20221217_33542.pdf&id=33542\n",
            "https://go.lsgkerala.gov.in/../pages/fileOpen.php?fname=cr20221122_33703.pdf&id=33703\n",
            "https://go.lsgkerala.gov.in/../pages/fileOpen.php?fname=cr20221108_33290.pdf&id=33290\n",
            "https://go.lsgkerala.gov.in/../pages/fileOpen.php?fname=cr20221031_33344.pdf&id=33344\n",
            "https://go.lsgkerala.gov.in/../pages/fileOpen.php?fname=cr20221027_33226.pdf&id=33226\n",
            "https://go.lsgkerala.gov.in/../pages/fileOpen.php?fname=cr20221027_33201.pdf&id=33201\n",
            "https://go.lsgkerala.gov.in/../pages/fileOpen.php?fname=cr20221027_33175.pdf&id=33175\n",
            "https://go.lsgkerala.gov.in/../pages/fileOpen.php?fname=cr20221026_33177.pdf&id=33177\n",
            "https://go.lsgkerala.gov.in/../pages/fileOpen.php?fname=cr20221026_33154.pdf&id=33154\n",
            "https://go.lsgkerala.gov.in/../pages/fileOpen.php?fname=cr20221022_33150.pdf&id=33150\n",
            "https://go.lsgkerala.gov.in/../pages/fileOpen.php?fname=cr20221019_33230.pdf&id=33230\n",
            "https://go.lsgkerala.gov.in/../pages/fileOpen.php?fname=cr20221011_33062.pdf&id=33062\n",
            "https://go.lsgkerala.gov.in/../pages/fileOpen.php?fname=cr20220928_33103.pdf&id=33103\n",
            "https://go.lsgkerala.gov.in/../pages/fileOpen.php?fname=cr20220918_32908.pdf&id=32908\n",
            "https://go.lsgkerala.gov.in/../pages/fileOpen.php?fname=cr20220915_32874.pdf&id=32874\n",
            "https://go.lsgkerala.gov.in/../pages/fileOpen.php?fname=cr20220915_32870.pdf&id=32870\n",
            "20\n"
          ]
        },
        {
          "output_type": "stream",
          "name": "stderr",
          "text": [
            "/usr/local/lib/python3.10/dist-packages/urllib3/connectionpool.py:1100: InsecureRequestWarning: Unverified HTTPS request is being made to host 'go.lsgkerala.gov.in'. Adding certificate verification is strongly advised. See: https://urllib3.readthedocs.io/en/latest/advanced-usage.html#tls-warnings\n",
            "  warnings.warn(\n"
          ]
        },
        {
          "output_type": "stream",
          "name": "stdout",
          "text": [
            "Fetching https://go.lsgkerala.gov.in/pages/orderGlance.php?select=circular&Start=6\n"
          ]
        },
        {
          "output_type": "stream",
          "name": "stderr",
          "text": [
            "/usr/local/lib/python3.10/dist-packages/urllib3/connectionpool.py:1100: InsecureRequestWarning: Unverified HTTPS request is being made to host 'go.lsgkerala.gov.in'. Adding certificate verification is strongly advised. See: https://urllib3.readthedocs.io/en/latest/advanced-usage.html#tls-warnings\n",
            "  warnings.warn(\n"
          ]
        },
        {
          "output_type": "stream",
          "name": "stdout",
          "text": [
            "https://go.lsgkerala.gov.in/../pages/fileOpen.php?fname=cr20220905_32959.pdf&id=32959\n",
            "https://go.lsgkerala.gov.in/../pages/fileOpen.php?fname=cr20220830_33105.pdf&id=33105\n",
            "https://go.lsgkerala.gov.in/../pages/fileOpen.php?fname=cr20220830_33104.pdf&id=33104\n",
            "https://go.lsgkerala.gov.in/../pages/fileOpen.php?fname=cr20220817_32887.pdf&id=32887\n",
            "https://go.lsgkerala.gov.in/../pages/fileOpen.php?fname=cr20220817_32600.pdf&id=32600\n",
            "https://go.lsgkerala.gov.in/../pages/fileOpen.php?fname=cr20220817_32488.pdf&id=32488\n",
            "https://go.lsgkerala.gov.in/../pages/fileOpen.php?fname=cr20220810_32487.pdf&id=32487\n",
            "https://go.lsgkerala.gov.in/../pages/fileOpen.php?fname=cr20220803_32250.pdf&id=32250\n",
            "https://go.lsgkerala.gov.in/../pages/fileOpen.php?fname=cr20220802_32251.pdf&id=32251\n",
            "https://go.lsgkerala.gov.in/../pages/fileOpen.php?fname=cr20220802_32220.pdf&id=32220\n",
            "https://go.lsgkerala.gov.in/../pages/fileOpen.php?fname=cr20220801_32283.pdf&id=32283\n",
            "https://go.lsgkerala.gov.in/../pages/fileOpen.php?fname=cr20220729_32687.pdf&id=32687\n",
            "https://go.lsgkerala.gov.in/../pages/fileOpen.php?fname=cr20220726_32164.pdf&id=32164\n",
            "https://go.lsgkerala.gov.in/../pages/fileOpen.php?fname=cr20220710_32109.pdf&id=32109\n",
            "https://go.lsgkerala.gov.in/../pages/fileOpen.php?fname=cr20220625_32036.pdf&id=32036\n",
            "https://go.lsgkerala.gov.in/../pages/fileOpen.php?fname=cr20220620_32689.pdf&id=32689\n",
            "https://go.lsgkerala.gov.in/../pages/fileOpen.php?fname=cr20220616_32091.pdf&id=32091\n",
            "https://go.lsgkerala.gov.in/../pages/fileOpen.php?fname=cr20220610_32837.pdf&id=32837\n",
            "https://go.lsgkerala.gov.in/../pages/fileOpen.php?fname=cr20220606_33351.pdf&id=33351\n",
            "https://go.lsgkerala.gov.in/../pages/fileOpen.php?fname=cr20220601_31972.pdf&id=31972\n",
            "20\n"
          ]
        },
        {
          "output_type": "stream",
          "name": "stderr",
          "text": [
            "/usr/local/lib/python3.10/dist-packages/urllib3/connectionpool.py:1100: InsecureRequestWarning: Unverified HTTPS request is being made to host 'go.lsgkerala.gov.in'. Adding certificate verification is strongly advised. See: https://urllib3.readthedocs.io/en/latest/advanced-usage.html#tls-warnings\n",
            "  warnings.warn(\n"
          ]
        },
        {
          "output_type": "stream",
          "name": "stdout",
          "text": [
            "Fetching https://go.lsgkerala.gov.in/pages/orderGlance.php?select=circular&Start=7\n"
          ]
        },
        {
          "output_type": "stream",
          "name": "stderr",
          "text": [
            "/usr/local/lib/python3.10/dist-packages/urllib3/connectionpool.py:1100: InsecureRequestWarning: Unverified HTTPS request is being made to host 'go.lsgkerala.gov.in'. Adding certificate verification is strongly advised. See: https://urllib3.readthedocs.io/en/latest/advanced-usage.html#tls-warnings\n",
            "  warnings.warn(\n"
          ]
        },
        {
          "output_type": "stream",
          "name": "stdout",
          "text": [
            "https://go.lsgkerala.gov.in/../pages/fileOpen.php?fname=cr20220526_32418.pdf&id=32418\n",
            "https://go.lsgkerala.gov.in/../pages/fileOpen.php?fname=cr20220525_31951.pdf&id=31951\n",
            "https://go.lsgkerala.gov.in/../pages/fileOpen.php?fname=cr20220519_31853.pdf&id=31853\n",
            "https://go.lsgkerala.gov.in/../pages/fileOpen.php?fname=cr20220511_31778.pdf&id=31778\n",
            "https://go.lsgkerala.gov.in/../pages/fileOpen.php?fname=cr20220510_31774.pdf&id=31774\n",
            "https://go.lsgkerala.gov.in/../pages/fileOpen.php?fname=cr20220506_31799.pdf&id=31799\n",
            "https://go.lsgkerala.gov.in/../pages/fileOpen.php?fname=cr20220502_31765.pdf&id=31765\n",
            "https://go.lsgkerala.gov.in/../pages/fileOpen.php?fname=cr20220429_31879.pdf&id=31879\n",
            "https://go.lsgkerala.gov.in/../pages/fileOpen.php?fname=cr20220427_31891.pdf&id=31891\n",
            "https://go.lsgkerala.gov.in/../pages/fileOpen.php?fname=cr20220427_31823.pdf&id=31823\n",
            "https://go.lsgkerala.gov.in/../pages/fileOpen.php?fname=cr20220419_31670.pdf&id=31670\n",
            "https://go.lsgkerala.gov.in/../pages/fileOpen.php?fname=cr20220418_31680.pdf&id=31680\n",
            "https://go.lsgkerala.gov.in/../pages/fileOpen.php?fname=cr20220411_31659.pdf&id=31659\n",
            "https://go.lsgkerala.gov.in/../pages/fileOpen.php?fname=cr20220330_31523.pdf&id=31523\n",
            "https://go.lsgkerala.gov.in/../pages/fileOpen.php?fname=cr20220326_31298.pdf&id=31298\n",
            "https://go.lsgkerala.gov.in/../pages/fileOpen.php?fname=cr20220325_31547.pdf&id=31547\n",
            "https://go.lsgkerala.gov.in/../pages/fileOpen.php?fname=cr20220323_31231.pdf&id=31231\n",
            "https://go.lsgkerala.gov.in/../pages/fileOpen.php?fname=cr20220315_31095.pdf&id=31095\n",
            "https://go.lsgkerala.gov.in/../pages/fileOpen.php?fname=cr20220314_31127.pdf&id=31127\n",
            "https://go.lsgkerala.gov.in/../pages/fileOpen.php?fname=cr20220313_31066.pdf&id=31066\n",
            "20\n"
          ]
        },
        {
          "output_type": "stream",
          "name": "stderr",
          "text": [
            "/usr/local/lib/python3.10/dist-packages/urllib3/connectionpool.py:1100: InsecureRequestWarning: Unverified HTTPS request is being made to host 'go.lsgkerala.gov.in'. Adding certificate verification is strongly advised. See: https://urllib3.readthedocs.io/en/latest/advanced-usage.html#tls-warnings\n",
            "  warnings.warn(\n"
          ]
        },
        {
          "output_type": "stream",
          "name": "stdout",
          "text": [
            "Fetching https://go.lsgkerala.gov.in/pages/orderGlance.php?select=circular&Start=8\n"
          ]
        },
        {
          "output_type": "stream",
          "name": "stderr",
          "text": [
            "/usr/local/lib/python3.10/dist-packages/urllib3/connectionpool.py:1100: InsecureRequestWarning: Unverified HTTPS request is being made to host 'go.lsgkerala.gov.in'. Adding certificate verification is strongly advised. See: https://urllib3.readthedocs.io/en/latest/advanced-usage.html#tls-warnings\n",
            "  warnings.warn(\n"
          ]
        },
        {
          "output_type": "stream",
          "name": "stdout",
          "text": [
            "https://go.lsgkerala.gov.in/../pages/fileOpen.php?fname=cr20220310_31033.pdf&id=31033\n",
            "https://go.lsgkerala.gov.in/../pages/fileOpen.php?fname=cr20220309_31032.pdf&id=31032\n",
            "https://go.lsgkerala.gov.in/../pages/fileOpen.php?fname=cr20220309_31031.pdf&id=31031\n",
            "https://go.lsgkerala.gov.in/../pages/fileOpen.php?fname=cr20220302_30993.pdf&id=30993\n",
            "https://go.lsgkerala.gov.in/../pages/fileOpen.php?fname=cr20220222_30900.pdf&id=30900\n",
            "https://go.lsgkerala.gov.in/../pages/fileOpen.php?fname=cr20220222_30898.pdf&id=30898\n",
            "https://go.lsgkerala.gov.in/../pages/fileOpen.php?fname=cr20220222_30871.pdf&id=30871\n",
            "https://go.lsgkerala.gov.in/../pages/fileOpen.php?fname=cr20220218_31149.pdf&id=31149\n",
            "https://go.lsgkerala.gov.in/../pages/fileOpen.php?fname=cr20220212_31460.pdf&id=31460\n",
            "https://go.lsgkerala.gov.in/../pages/fileOpen.php?fname=cr20220212_31459.pdf&id=31459\n",
            "https://go.lsgkerala.gov.in/../pages/fileOpen.php?fname=cr20220212_30928.pdf&id=30928\n",
            "https://go.lsgkerala.gov.in/../pages/fileOpen.php?fname=cr20220209_30780.pdf&id=30780\n",
            "https://go.lsgkerala.gov.in/../pages/fileOpen.php?fname=cr20220207_30760.pdf&id=30760\n",
            "https://go.lsgkerala.gov.in/../pages/fileOpen.php?fname=cr20220202_30826.pdf&id=30826\n",
            "https://go.lsgkerala.gov.in/../pages/fileOpen.php?fname=cr20220125_30844.pdf&id=30844\n",
            "https://go.lsgkerala.gov.in/../pages/fileOpen.php?fname=cr20220125_30731.pdf&id=30731\n",
            "https://go.lsgkerala.gov.in/../pages/fileOpen.php?fname=cr20220125_30729.pdf&id=30729\n",
            "https://go.lsgkerala.gov.in/../pages/fileOpen.php?fname=cr20220118_30738.pdf&id=30738\n",
            "https://go.lsgkerala.gov.in/../pages/fileOpen.php?fname=cr20220117_31056.pdf&id=31056\n",
            "https://go.lsgkerala.gov.in/../pages/fileOpen.php?fname=cr20220116_31055.pdf&id=31055\n",
            "20\n"
          ]
        },
        {
          "output_type": "stream",
          "name": "stderr",
          "text": [
            "/usr/local/lib/python3.10/dist-packages/urllib3/connectionpool.py:1100: InsecureRequestWarning: Unverified HTTPS request is being made to host 'go.lsgkerala.gov.in'. Adding certificate verification is strongly advised. See: https://urllib3.readthedocs.io/en/latest/advanced-usage.html#tls-warnings\n",
            "  warnings.warn(\n"
          ]
        },
        {
          "output_type": "stream",
          "name": "stdout",
          "text": [
            "Fetching https://go.lsgkerala.gov.in/pages/orderGlance.php?select=circular&Start=9\n"
          ]
        },
        {
          "output_type": "stream",
          "name": "stderr",
          "text": [
            "/usr/local/lib/python3.10/dist-packages/urllib3/connectionpool.py:1100: InsecureRequestWarning: Unverified HTTPS request is being made to host 'go.lsgkerala.gov.in'. Adding certificate verification is strongly advised. See: https://urllib3.readthedocs.io/en/latest/advanced-usage.html#tls-warnings\n",
            "  warnings.warn(\n"
          ]
        },
        {
          "output_type": "stream",
          "name": "stdout",
          "text": [
            "https://go.lsgkerala.gov.in/../pages/fileOpen.php?fname=cr20220104_30513.pdf&id=30513\n",
            "https://go.lsgkerala.gov.in/../pages/fileOpen.php?fname=cr20220101_35199.pdf&id=35199\n",
            "https://go.lsgkerala.gov.in/../pages/fileOpen.php?fname=cr20211228_30443.pdf&id=30443\n",
            "https://go.lsgkerala.gov.in/../pages/fileOpen.php?fname=cr20211203_30445.pdf&id=30445\n",
            "https://go.lsgkerala.gov.in/../pages/fileOpen.php?fname=cr20211201_30448.pdf&id=30448\n",
            "https://go.lsgkerala.gov.in/../pages/fileOpen.php?fname=cr20211130_30077.pdf&id=30077\n",
            "https://go.lsgkerala.gov.in/../pages/fileOpen.php?fname=cr20211129_30057.pdf&id=30057\n",
            "https://go.lsgkerala.gov.in/../pages/fileOpen.php?fname=cr20211129_30036.pdf&id=30036\n",
            "https://go.lsgkerala.gov.in/../pages/fileOpen.php?fname=cr20211127_30017.pdf&id=30017\n",
            "https://go.lsgkerala.gov.in/../pages/fileOpen.php?fname=cr20211126_30446.pdf&id=30446\n",
            "https://go.lsgkerala.gov.in/../pages/fileOpen.php?fname=cr20211123_29996.pdf&id=29996\n",
            "https://go.lsgkerala.gov.in/../pages/fileOpen.php?fname=cr20211112_30437.pdf&id=30437\n",
            "https://go.lsgkerala.gov.in/../pages/fileOpen.php?fname=cr20211112_29837.pdf&id=29837\n",
            "https://go.lsgkerala.gov.in/../pages/fileOpen.php?fname=cr20211109_30438.pdf&id=30438\n",
            "https://go.lsgkerala.gov.in/../pages/fileOpen.php?fname=cr20211106_29817.pdf&id=29817\n",
            "https://go.lsgkerala.gov.in/../pages/fileOpen.php?fname=cr20211028_30253.pdf&id=30253\n",
            "https://go.lsgkerala.gov.in/../pages/fileOpen.php?fname=cr20211023_29659.pdf&id=29659\n",
            "https://go.lsgkerala.gov.in/../pages/fileOpen.php?fname=cr20211020_29731.pdf&id=29731\n",
            "https://go.lsgkerala.gov.in/../pages/fileOpen.php?fname=cr20211020_29724.pdf&id=29724\n",
            "https://go.lsgkerala.gov.in/../pages/fileOpen.php?fname=cr20211020_29681.pdf&id=29681\n",
            "20\n"
          ]
        },
        {
          "output_type": "stream",
          "name": "stderr",
          "text": [
            "/usr/local/lib/python3.10/dist-packages/urllib3/connectionpool.py:1100: InsecureRequestWarning: Unverified HTTPS request is being made to host 'go.lsgkerala.gov.in'. Adding certificate verification is strongly advised. See: https://urllib3.readthedocs.io/en/latest/advanced-usage.html#tls-warnings\n",
            "  warnings.warn(\n"
          ]
        },
        {
          "output_type": "stream",
          "name": "stdout",
          "text": [
            "Fetching https://go.lsgkerala.gov.in/pages/orderGlance.php?select=circular&Start=10\n"
          ]
        },
        {
          "output_type": "stream",
          "name": "stderr",
          "text": [
            "/usr/local/lib/python3.10/dist-packages/urllib3/connectionpool.py:1100: InsecureRequestWarning: Unverified HTTPS request is being made to host 'go.lsgkerala.gov.in'. Adding certificate verification is strongly advised. See: https://urllib3.readthedocs.io/en/latest/advanced-usage.html#tls-warnings\n",
            "  warnings.warn(\n"
          ]
        },
        {
          "output_type": "stream",
          "name": "stdout",
          "text": [
            "https://go.lsgkerala.gov.in/../pages/fileOpen.php?fname=cr20211020_29615.pdf&id=29615\n",
            "https://go.lsgkerala.gov.in/../pages/fileOpen.php?fname=cr20211013_30440.pdf&id=30440\n",
            "https://go.lsgkerala.gov.in/../pages/fileOpen.php?fname=cr20211011_30439.pdf&id=30439\n",
            "https://go.lsgkerala.gov.in/../pages/fileOpen.php?fname=cr20211011_29747.pdf&id=29747\n",
            "https://go.lsgkerala.gov.in/../pages/fileOpen.php?fname=cr20210930_30056.pdf&id=30056\n",
            "https://go.lsgkerala.gov.in/../pages/fileOpen.php?fname=cr20210930_29794.pdf&id=29794\n",
            "https://go.lsgkerala.gov.in/../pages/fileOpen.php?fname=cr20210930_29788.pdf&id=29788\n",
            "https://go.lsgkerala.gov.in/../pages/fileOpen.php?fname=cr20210922_29799.pdf&id=29799\n",
            "https://go.lsgkerala.gov.in/../pages/fileOpen.php?fname=cr20210918_29790.pdf&id=29790\n",
            "https://go.lsgkerala.gov.in/../pages/fileOpen.php?fname=cr20210909_29619.pdf&id=29619\n",
            "https://go.lsgkerala.gov.in/../pages/fileOpen.php?fname=cr20210905_29379.pdf&id=29379\n",
            "https://go.lsgkerala.gov.in/../pages/fileOpen.php?fname=cr20210826_29567.pdf&id=29567\n",
            "https://go.lsgkerala.gov.in/../pages/fileOpen.php?fname=cr20210817_29256.pdf&id=29256\n",
            "https://go.lsgkerala.gov.in/../pages/fileOpen.php?fname=cr20210816_29273.pdf&id=29273\n",
            "https://go.lsgkerala.gov.in/../pages/fileOpen.php?fname=cr20210808_29217.pdf&id=29217\n",
            "https://go.lsgkerala.gov.in/../pages/fileOpen.php?fname=cr20210807_29253.pdf&id=29253\n",
            "https://go.lsgkerala.gov.in/../pages/fileOpen.php?fname=cr20210807_29219.pdf&id=29219\n",
            "https://go.lsgkerala.gov.in/../pages/fileOpen.php?fname=cr20210807_29216.pdf&id=29216\n",
            "https://go.lsgkerala.gov.in/../pages/fileOpen.php?fname=cr20210807_29215.pdf&id=29215\n",
            "https://go.lsgkerala.gov.in/../pages/fileOpen.php?fname=cr20210805_29212.pdf&id=29212\n",
            "20\n"
          ]
        },
        {
          "output_type": "stream",
          "name": "stderr",
          "text": [
            "/usr/local/lib/python3.10/dist-packages/urllib3/connectionpool.py:1100: InsecureRequestWarning: Unverified HTTPS request is being made to host 'go.lsgkerala.gov.in'. Adding certificate verification is strongly advised. See: https://urllib3.readthedocs.io/en/latest/advanced-usage.html#tls-warnings\n",
            "  warnings.warn(\n"
          ]
        },
        {
          "output_type": "stream",
          "name": "stdout",
          "text": [
            "Fetching https://go.lsgkerala.gov.in/pages/orderGlance.php?select=circular&Start=11\n"
          ]
        },
        {
          "output_type": "stream",
          "name": "stderr",
          "text": [
            "/usr/local/lib/python3.10/dist-packages/urllib3/connectionpool.py:1100: InsecureRequestWarning: Unverified HTTPS request is being made to host 'go.lsgkerala.gov.in'. Adding certificate verification is strongly advised. See: https://urllib3.readthedocs.io/en/latest/advanced-usage.html#tls-warnings\n",
            "  warnings.warn(\n"
          ]
        },
        {
          "output_type": "stream",
          "name": "stdout",
          "text": [
            "https://go.lsgkerala.gov.in/../pages/fileOpen.php?fname=cr20210802_29454.pdf&id=29454\n",
            "https://go.lsgkerala.gov.in/../pages/fileOpen.php?fname=cr20210802_29453.pdf&id=29453\n",
            "https://go.lsgkerala.gov.in/../pages/fileOpen.php?fname=cr20210729_29193.pdf&id=29193\n",
            "https://go.lsgkerala.gov.in/../pages/fileOpen.php?fname=cr20210728_29196.pdf&id=29196\n",
            "https://go.lsgkerala.gov.in/../pages/fileOpen.php?fname=cr20210726_29188.pdf&id=29188\n",
            "https://go.lsgkerala.gov.in/../pages/fileOpen.php?fname=cr20210723_29189.pdf&id=29189\n",
            "https://go.lsgkerala.gov.in/../pages/fileOpen.php?fname=cr20210709_29058.pdf&id=29058\n",
            "https://go.lsgkerala.gov.in/../pages/fileOpen.php?fname=cr20210709_29034.pdf&id=29034\n",
            "https://go.lsgkerala.gov.in/../pages/fileOpen.php?fname=cr20210702_36582.pdf&id=36582\n",
            "https://go.lsgkerala.gov.in/../pages/fileOpen.php?fname=cr20210702_28961.pdf&id=28961\n",
            "https://go.lsgkerala.gov.in/../pages/fileOpen.php?fname=cr20210627_29152.pdf&id=29152\n",
            "https://go.lsgkerala.gov.in/../pages/fileOpen.php?fname=cr20210609_28897.pdf&id=28897\n",
            "https://go.lsgkerala.gov.in/../pages/fileOpen.php?fname=cr20210602_28856.pdf&id=28856\n",
            "https://go.lsgkerala.gov.in/../pages/fileOpen.php?fname=cr20210531_28855.pdf&id=28855\n",
            "https://go.lsgkerala.gov.in/../pages/fileOpen.php?fname=cr20210528_28862.pdf&id=28862\n",
            "https://go.lsgkerala.gov.in/../pages/fileOpen.php?fname=cr20210527_28846.pdf&id=28846\n",
            "https://go.lsgkerala.gov.in/../pages/fileOpen.php?fname=cr20210526_28838.pdf&id=28838\n",
            "https://go.lsgkerala.gov.in/../pages/fileOpen.php?fname=cr20210524_28826.pdf&id=28826\n",
            "https://go.lsgkerala.gov.in/../pages/fileOpen.php?fname=cr20210520_28822.pdf&id=28822\n",
            "https://go.lsgkerala.gov.in/../pages/fileOpen.php?fname=cr20210512_28787.pdf&id=28787\n",
            "20\n"
          ]
        },
        {
          "output_type": "stream",
          "name": "stderr",
          "text": [
            "/usr/local/lib/python3.10/dist-packages/urllib3/connectionpool.py:1100: InsecureRequestWarning: Unverified HTTPS request is being made to host 'go.lsgkerala.gov.in'. Adding certificate verification is strongly advised. See: https://urllib3.readthedocs.io/en/latest/advanced-usage.html#tls-warnings\n",
            "  warnings.warn(\n"
          ]
        },
        {
          "output_type": "stream",
          "name": "stdout",
          "text": [
            "Fetching https://go.lsgkerala.gov.in/pages/orderGlance.php?select=circular&Start=12\n"
          ]
        },
        {
          "output_type": "stream",
          "name": "stderr",
          "text": [
            "/usr/local/lib/python3.10/dist-packages/urllib3/connectionpool.py:1100: InsecureRequestWarning: Unverified HTTPS request is being made to host 'go.lsgkerala.gov.in'. Adding certificate verification is strongly advised. See: https://urllib3.readthedocs.io/en/latest/advanced-usage.html#tls-warnings\n",
            "  warnings.warn(\n"
          ]
        },
        {
          "output_type": "stream",
          "name": "stdout",
          "text": [
            "https://go.lsgkerala.gov.in/../pages/fileOpen.php?fname=cr20210511_28782.pdf&id=28782\n",
            "https://go.lsgkerala.gov.in/../pages/fileOpen.php?fname=cr20210511_28781.pdf&id=28781\n",
            "https://go.lsgkerala.gov.in/../pages/fileOpen.php?fname=cr20210511_28780.pdf&id=28780\n",
            "https://go.lsgkerala.gov.in/../pages/fileOpen.php?fname=cr20210511_28779.pdf&id=28779\n",
            "https://go.lsgkerala.gov.in/../pages/fileOpen.php?fname=cr20210508_28771.pdf&id=28771\n",
            "https://go.lsgkerala.gov.in/../pages/fileOpen.php?fname=cr20210423_28761.pdf&id=28761\n",
            "https://go.lsgkerala.gov.in/../pages/fileOpen.php?fname=cr20210423_28700.pdf&id=28700\n",
            "https://go.lsgkerala.gov.in/../pages/fileOpen.php?fname=cr20210421_28705.pdf&id=28705\n",
            "https://go.lsgkerala.gov.in/../pages/fileOpen.php?fname=cr20210420_28675.pdf&id=28675\n",
            "https://go.lsgkerala.gov.in/../pages/fileOpen.php?fname=cr20210318_28587.pdf&id=28587\n",
            "https://go.lsgkerala.gov.in/../pages/fileOpen.php?fname=cr20210318_28572.pdf&id=28572\n",
            "https://go.lsgkerala.gov.in/../pages/fileOpen.php?fname=cr20210318_28546.pdf&id=28546\n",
            "https://go.lsgkerala.gov.in/../pages/fileOpen.php?fname=cr20210318_28545.pdf&id=28545\n",
            "https://go.lsgkerala.gov.in/../pages/fileOpen.php?fname=cr20210318_28543.pdf&id=28543\n",
            "https://go.lsgkerala.gov.in/../pages/fileOpen.php?fname=cr20210317_28573.pdf&id=28573\n",
            "https://go.lsgkerala.gov.in/../pages/fileOpen.php?fname=cr20210221_28322.pdf&id=28322\n",
            "https://go.lsgkerala.gov.in/../pages/fileOpen.php?fname=cr20210216_28267.pdf&id=28267\n",
            "https://go.lsgkerala.gov.in/../pages/fileOpen.php?fname=cr20210215_28282.pdf&id=28282\n",
            "https://go.lsgkerala.gov.in/../pages/fileOpen.php?fname=cr20210215_28254.pdf&id=28254\n",
            "https://go.lsgkerala.gov.in/../pages/fileOpen.php?fname=cr20210212_28523.pdf&id=28523\n",
            "20\n"
          ]
        },
        {
          "output_type": "stream",
          "name": "stderr",
          "text": [
            "/usr/local/lib/python3.10/dist-packages/urllib3/connectionpool.py:1100: InsecureRequestWarning: Unverified HTTPS request is being made to host 'go.lsgkerala.gov.in'. Adding certificate verification is strongly advised. See: https://urllib3.readthedocs.io/en/latest/advanced-usage.html#tls-warnings\n",
            "  warnings.warn(\n"
          ]
        },
        {
          "output_type": "stream",
          "name": "stdout",
          "text": [
            "Fetching https://go.lsgkerala.gov.in/pages/orderGlance.php?select=circular&Start=13\n"
          ]
        },
        {
          "output_type": "stream",
          "name": "stderr",
          "text": [
            "/usr/local/lib/python3.10/dist-packages/urllib3/connectionpool.py:1100: InsecureRequestWarning: Unverified HTTPS request is being made to host 'go.lsgkerala.gov.in'. Adding certificate verification is strongly advised. See: https://urllib3.readthedocs.io/en/latest/advanced-usage.html#tls-warnings\n",
            "  warnings.warn(\n"
          ]
        },
        {
          "output_type": "stream",
          "name": "stdout",
          "text": [
            "https://go.lsgkerala.gov.in/../pages/fileOpen.php?fname=cr20210212_28522.pdf&id=28522\n",
            "https://go.lsgkerala.gov.in/../pages/fileOpen.php?fname=cr20210209_28185.pdf&id=28185\n",
            "https://go.lsgkerala.gov.in/../pages/fileOpen.php?fname=cr20210209_28181.pdf&id=28181\n",
            "https://go.lsgkerala.gov.in/../pages/fileOpen.php?fname=cr20210209_28180.pdf&id=28180\n",
            "https://go.lsgkerala.gov.in/../pages/fileOpen.php?fname=cr20210208_28175.pdf&id=28175\n",
            "https://go.lsgkerala.gov.in/../pages/fileOpen.php?fname=cr20210208_28169.pdf&id=28169\n",
            "https://go.lsgkerala.gov.in/../pages/fileOpen.php?fname=cr20210208_28165.pdf&id=28165\n",
            "https://go.lsgkerala.gov.in/../pages/fileOpen.php?fname=cr20210208_28162.pdf&id=28162\n",
            "https://go.lsgkerala.gov.in/../pages/fileOpen.php?fname=cr20210205_28148.pdf&id=28148\n",
            "https://go.lsgkerala.gov.in/../pages/fileOpen.php?fname=cr20210127_27977.pdf&id=27977\n",
            "https://go.lsgkerala.gov.in/../pages/fileOpen.php?fname=cr20210122_27894.pdf&id=27894\n",
            "https://go.lsgkerala.gov.in/../pages/fileOpen.php?fname=cr20210121_28107.pdf&id=28107\n",
            "https://go.lsgkerala.gov.in/../pages/fileOpen.php?fname=cr20210111_27808.pdf&id=27808\n",
            "https://go.lsgkerala.gov.in/../pages/fileOpen.php?fname=cr20210104_27758.pdf&id=27758\n",
            "https://go.lsgkerala.gov.in/../pages/fileOpen.php?fname=cr20210101_27734.pdf&id=27734\n",
            "https://go.lsgkerala.gov.in/../pages/fileOpen.php?fname=cr20210101_27669.pdf&id=27669\n",
            "https://go.lsgkerala.gov.in/../pages/fileOpen.php?fname=cr20201228_27789.pdf&id=27789\n",
            "https://go.lsgkerala.gov.in/../pages/fileOpen.php?fname=cr20201228_27606.pdf&id=27606\n",
            "https://go.lsgkerala.gov.in/../pages/fileOpen.php?fname=cr20201224_27604.pdf&id=27604\n",
            "https://go.lsgkerala.gov.in/../pages/fileOpen.php?fname=cr20201224_27603.pdf&id=27603\n",
            "20\n"
          ]
        },
        {
          "output_type": "stream",
          "name": "stderr",
          "text": [
            "/usr/local/lib/python3.10/dist-packages/urllib3/connectionpool.py:1100: InsecureRequestWarning: Unverified HTTPS request is being made to host 'go.lsgkerala.gov.in'. Adding certificate verification is strongly advised. See: https://urllib3.readthedocs.io/en/latest/advanced-usage.html#tls-warnings\n",
            "  warnings.warn(\n"
          ]
        },
        {
          "output_type": "stream",
          "name": "stdout",
          "text": [
            "Fetching https://go.lsgkerala.gov.in/pages/orderGlance.php?select=circular&Start=14\n"
          ]
        },
        {
          "output_type": "stream",
          "name": "stderr",
          "text": [
            "/usr/local/lib/python3.10/dist-packages/urllib3/connectionpool.py:1100: InsecureRequestWarning: Unverified HTTPS request is being made to host 'go.lsgkerala.gov.in'. Adding certificate verification is strongly advised. See: https://urllib3.readthedocs.io/en/latest/advanced-usage.html#tls-warnings\n",
            "  warnings.warn(\n"
          ]
        },
        {
          "output_type": "stream",
          "name": "stdout",
          "text": [
            "https://go.lsgkerala.gov.in/../pages/fileOpen.php?fname=cr20201222_27555.pdf&id=27555\n",
            "https://go.lsgkerala.gov.in/../pages/fileOpen.php?fname=cr20201214_27525.pdf&id=27525\n",
            "https://go.lsgkerala.gov.in/../pages/fileOpen.php?fname=cr20201211_27514.pdf&id=27514\n",
            "https://go.lsgkerala.gov.in/../pages/fileOpen.php?fname=cr20201211_27513.pdf&id=27513\n",
            "https://go.lsgkerala.gov.in/../pages/fileOpen.php?fname=cr20201201_27475.pdf&id=27475\n",
            "https://go.lsgkerala.gov.in/../pages/fileOpen.php?fname=cr20201130_27466.pdf&id=27466\n",
            "https://go.lsgkerala.gov.in/../pages/fileOpen.php?fname=cr20201112_27358.pdf&id=27358\n",
            "https://go.lsgkerala.gov.in/../pages/fileOpen.php?fname=cr20201105_27283.pdf&id=27283\n",
            "https://go.lsgkerala.gov.in/../pages/fileOpen.php?fname=cr20201104_27285.pdf&id=27285\n",
            "https://go.lsgkerala.gov.in/../pages/fileOpen.php?fname=cr20201026_27344.pdf&id=27344\n",
            "https://go.lsgkerala.gov.in/../pages/fileOpen.php?fname=cr20201020_27132.pdf&id=27132\n",
            "https://go.lsgkerala.gov.in/../pages/fileOpen.php?fname=cr20201020_27129.pdf&id=27129\n",
            "https://go.lsgkerala.gov.in/../pages/fileOpen.php?fname=cr20201012_27192.pdf&id=27192\n",
            "https://go.lsgkerala.gov.in/../pages/fileOpen.php?fname=cr20201005_27065.pdf&id=27065\n",
            "https://go.lsgkerala.gov.in/../pages/fileOpen.php?fname=cr20200925_27057.pdf&id=27057\n",
            "https://go.lsgkerala.gov.in/../pages/fileOpen.php?fname=cr20200922_26936.pdf&id=26936\n",
            "https://go.lsgkerala.gov.in/../pages/fileOpen.php?fname=cr20200922_26935.pdf&id=26935\n",
            "https://go.lsgkerala.gov.in/../pages/fileOpen.php?fname=cr20200922_26934.pdf&id=26934\n",
            "https://go.lsgkerala.gov.in/../pages/fileOpen.php?fname=cr20200916_26901.pdf&id=26901\n",
            "https://go.lsgkerala.gov.in/../pages/fileOpen.php?fname=cr20200908_26855.pdf&id=26855\n",
            "20\n"
          ]
        },
        {
          "output_type": "stream",
          "name": "stderr",
          "text": [
            "/usr/local/lib/python3.10/dist-packages/urllib3/connectionpool.py:1100: InsecureRequestWarning: Unverified HTTPS request is being made to host 'go.lsgkerala.gov.in'. Adding certificate verification is strongly advised. See: https://urllib3.readthedocs.io/en/latest/advanced-usage.html#tls-warnings\n",
            "  warnings.warn(\n"
          ]
        },
        {
          "output_type": "stream",
          "name": "stdout",
          "text": [
            "Fetching https://go.lsgkerala.gov.in/pages/orderGlance.php?select=circular&Start=15\n"
          ]
        },
        {
          "output_type": "stream",
          "name": "stderr",
          "text": [
            "/usr/local/lib/python3.10/dist-packages/urllib3/connectionpool.py:1100: InsecureRequestWarning: Unverified HTTPS request is being made to host 'go.lsgkerala.gov.in'. Adding certificate verification is strongly advised. See: https://urllib3.readthedocs.io/en/latest/advanced-usage.html#tls-warnings\n",
            "  warnings.warn(\n"
          ]
        },
        {
          "output_type": "stream",
          "name": "stdout",
          "text": [
            "https://go.lsgkerala.gov.in/../pages/fileOpen.php?fname=cr20200907_26856.pdf&id=26856\n",
            "https://go.lsgkerala.gov.in/../pages/fileOpen.php?fname=cr20200826_26859.pdf&id=26859\n",
            "https://go.lsgkerala.gov.in/../pages/fileOpen.php?fname=cr20200814_26751.pdf&id=26751\n",
            "https://go.lsgkerala.gov.in/../pages/fileOpen.php?fname=cr20200811_26891.pdf&id=26891\n",
            "https://go.lsgkerala.gov.in/../pages/fileOpen.php?fname=cr20200803_26647.pdf&id=26647\n",
            "https://go.lsgkerala.gov.in/../pages/fileOpen.php?fname=cr20200729_26605.pdf&id=26605\n",
            "https://go.lsgkerala.gov.in/../pages/fileOpen.php?fname=cr20200720_26581.pdf&id=26581\n",
            "https://go.lsgkerala.gov.in/../pages/fileOpen.php?fname=cr20200715_26712.pdf&id=26712\n",
            "https://go.lsgkerala.gov.in/../pages/fileOpen.php?fname=cr20200702_26542.pdf&id=26542\n",
            "https://go.lsgkerala.gov.in/../pages/fileOpen.php?fname=cr20200701_26538.pdf&id=26538\n",
            "https://go.lsgkerala.gov.in/../pages/fileOpen.php?fname=cr20200629_26550.pdf&id=26550\n",
            "https://go.lsgkerala.gov.in/../pages/fileOpen.php?fname=cr20200629_26502.pdf&id=26502\n",
            "https://go.lsgkerala.gov.in/../pages/fileOpen.php?fname=cr20200624_26438.pdf&id=26438\n",
            "https://go.lsgkerala.gov.in/../pages/fileOpen.php?fname=cr20200623_26432.pdf&id=26432\n",
            "https://go.lsgkerala.gov.in/../pages/fileOpen.php?fname=cr20200622_26433.pdf&id=26433\n",
            "https://go.lsgkerala.gov.in/../pages/fileOpen.php?fname=cr20200616_26380.pdf&id=26380\n",
            "https://go.lsgkerala.gov.in/../pages/fileOpen.php?fname=cr20200615_26368.pdf&id=26368\n",
            "https://go.lsgkerala.gov.in/../pages/fileOpen.php?fname=cr20200612_26386.pdf&id=26386\n",
            "https://go.lsgkerala.gov.in/../pages/fileOpen.php?fname=cr20200611_26407.pdf&id=26407\n",
            "https://go.lsgkerala.gov.in/../pages/fileOpen.php?fname=cr20200610_26342.pdf&id=26342\n",
            "20\n"
          ]
        },
        {
          "output_type": "stream",
          "name": "stderr",
          "text": [
            "/usr/local/lib/python3.10/dist-packages/urllib3/connectionpool.py:1100: InsecureRequestWarning: Unverified HTTPS request is being made to host 'go.lsgkerala.gov.in'. Adding certificate verification is strongly advised. See: https://urllib3.readthedocs.io/en/latest/advanced-usage.html#tls-warnings\n",
            "  warnings.warn(\n"
          ]
        },
        {
          "output_type": "stream",
          "name": "stdout",
          "text": [
            "Fetching https://go.lsgkerala.gov.in/pages/orderGlance.php?select=circular&Start=16\n"
          ]
        },
        {
          "output_type": "stream",
          "name": "stderr",
          "text": [
            "/usr/local/lib/python3.10/dist-packages/urllib3/connectionpool.py:1100: InsecureRequestWarning: Unverified HTTPS request is being made to host 'go.lsgkerala.gov.in'. Adding certificate verification is strongly advised. See: https://urllib3.readthedocs.io/en/latest/advanced-usage.html#tls-warnings\n",
            "  warnings.warn(\n"
          ]
        },
        {
          "output_type": "stream",
          "name": "stdout",
          "text": [
            "https://go.lsgkerala.gov.in/../pages/fileOpen.php?fname=cr20200608_26297.pdf&id=26297\n",
            "https://go.lsgkerala.gov.in/../pages/fileOpen.php?fname=cr20200601_26295.pdf&id=26295\n",
            "https://go.lsgkerala.gov.in/../pages/fileOpen.php?fname=cr20200601_26218.pdf&id=26218\n",
            "https://go.lsgkerala.gov.in/../pages/fileOpen.php?fname=cr20200528_26198.pdf&id=26198\n",
            "https://go.lsgkerala.gov.in/../pages/fileOpen.php?fname=cr20200527_26196.pdf&id=26196\n",
            "https://go.lsgkerala.gov.in/../pages/fileOpen.php?fname=cr20200527_26188.pdf&id=26188\n",
            "https://go.lsgkerala.gov.in/../pages/fileOpen.php?fname=cr20200518_26197.pdf&id=26197\n",
            "https://go.lsgkerala.gov.in/../pages/fileOpen.php?fname=cr20200507_26069.pdf&id=26069\n",
            "https://go.lsgkerala.gov.in/../pages/fileOpen.php?fname=cr20200503_26046.pdf&id=26046\n",
            "https://go.lsgkerala.gov.in/../pages/fileOpen.php?fname=cr20200501_26029.pdf&id=26029\n",
            "https://go.lsgkerala.gov.in/../pages/fileOpen.php?fname=cr20200426_26016.pdf&id=26016\n",
            "https://go.lsgkerala.gov.in/../pages/fileOpen.php?fname=cr20200422_26005.pdf&id=26005\n",
            "https://go.lsgkerala.gov.in/../pages/fileOpen.php?fname=cr20200420_26083.pdf&id=26083\n",
            "https://go.lsgkerala.gov.in/../pages/fileOpen.php?fname=cr20200420_26001.pdf&id=26001\n",
            "https://go.lsgkerala.gov.in/../pages/fileOpen.php?fname=cr20200420_26000.pdf&id=26000\n",
            "https://go.lsgkerala.gov.in/../pages/fileOpen.php?fname=cr20200420_25999.pdf&id=25999\n",
            "https://go.lsgkerala.gov.in/../pages/fileOpen.php?fname=cr20200411_25988.pdf&id=25988\n",
            "https://go.lsgkerala.gov.in/../pages/fileOpen.php?fname=cr20200408_25966.pdf&id=25966\n",
            "https://go.lsgkerala.gov.in/../pages/fileOpen.php?fname=cr20200403_25960.pdf&id=25960\n",
            "https://go.lsgkerala.gov.in/../pages/fileOpen.php?fname=cr20200331_25948.pdf&id=25948\n",
            "20\n"
          ]
        },
        {
          "output_type": "stream",
          "name": "stderr",
          "text": [
            "/usr/local/lib/python3.10/dist-packages/urllib3/connectionpool.py:1100: InsecureRequestWarning: Unverified HTTPS request is being made to host 'go.lsgkerala.gov.in'. Adding certificate verification is strongly advised. See: https://urllib3.readthedocs.io/en/latest/advanced-usage.html#tls-warnings\n",
            "  warnings.warn(\n"
          ]
        },
        {
          "output_type": "stream",
          "name": "stdout",
          "text": [
            "Fetching https://go.lsgkerala.gov.in/pages/orderGlance.php?select=circular&Start=17\n"
          ]
        },
        {
          "output_type": "stream",
          "name": "stderr",
          "text": [
            "/usr/local/lib/python3.10/dist-packages/urllib3/connectionpool.py:1100: InsecureRequestWarning: Unverified HTTPS request is being made to host 'go.lsgkerala.gov.in'. Adding certificate verification is strongly advised. See: https://urllib3.readthedocs.io/en/latest/advanced-usage.html#tls-warnings\n",
            "  warnings.warn(\n"
          ]
        },
        {
          "output_type": "stream",
          "name": "stdout",
          "text": [
            "https://go.lsgkerala.gov.in/../pages/fileOpen.php?fname=cr20200328_25975.pdf&id=25975\n",
            "https://go.lsgkerala.gov.in/../pages/fileOpen.php?fname=cr20200327_25974.pdf&id=25974\n",
            "https://go.lsgkerala.gov.in/../pages/fileOpen.php?fname=cr20200327_25941.pdf&id=25941\n",
            "https://go.lsgkerala.gov.in/../pages/fileOpen.php?fname=cr20200326_25976.pdf&id=25976\n",
            "https://go.lsgkerala.gov.in/../pages/fileOpen.php?fname=cr20200326_25939.pdf&id=25939\n",
            "https://go.lsgkerala.gov.in/../pages/fileOpen.php?fname=cr20200320_25894.pdf&id=25894\n",
            "https://go.lsgkerala.gov.in/../pages/fileOpen.php?fname=cr20200318_25982.pdf&id=25982\n",
            "https://go.lsgkerala.gov.in/../pages/fileOpen.php?fname=cr20200318_25970.pdf&id=25970\n",
            "https://go.lsgkerala.gov.in/../pages/fileOpen.php?fname=cr20200318_25877.pdf&id=25877\n",
            "https://go.lsgkerala.gov.in/../pages/fileOpen.php?fname=cr20200312_25841.pdf&id=25841\n",
            "https://go.lsgkerala.gov.in/../pages/fileOpen.php?fname=cr20200311_25865.pdf&id=25865\n",
            "https://go.lsgkerala.gov.in/../pages/fileOpen.php?fname=cr20200311_25863.pdf&id=25863\n",
            "https://go.lsgkerala.gov.in/../pages/fileOpen.php?fname=cr20200310_26482.pdf&id=26482\n",
            "https://go.lsgkerala.gov.in/../pages/fileOpen.php?fname=cr20200310_25967.pdf&id=25967\n",
            "https://go.lsgkerala.gov.in/../pages/fileOpen.php?fname=cr20200227_25751.pdf&id=25751\n",
            "https://go.lsgkerala.gov.in/../pages/fileOpen.php?fname=cr20200226_25779.pdf&id=25779\n",
            "https://go.lsgkerala.gov.in/../pages/fileOpen.php?fname=cr20200225_25844.pdf&id=25844\n",
            "https://go.lsgkerala.gov.in/../pages/fileOpen.php?fname=cr20200224_25777.pdf&id=25777\n",
            "https://go.lsgkerala.gov.in/../pages/fileOpen.php?fname=cr20200215_27142.pdf&id=27142\n",
            "https://go.lsgkerala.gov.in/../pages/fileOpen.php?fname=cr20200215_25649.pdf&id=25649\n",
            "20\n"
          ]
        },
        {
          "output_type": "stream",
          "name": "stderr",
          "text": [
            "/usr/local/lib/python3.10/dist-packages/urllib3/connectionpool.py:1100: InsecureRequestWarning: Unverified HTTPS request is being made to host 'go.lsgkerala.gov.in'. Adding certificate verification is strongly advised. See: https://urllib3.readthedocs.io/en/latest/advanced-usage.html#tls-warnings\n",
            "  warnings.warn(\n"
          ]
        },
        {
          "output_type": "stream",
          "name": "stdout",
          "text": [
            "Fetching https://go.lsgkerala.gov.in/pages/orderGlance.php?select=circular&Start=18\n"
          ]
        },
        {
          "output_type": "stream",
          "name": "stderr",
          "text": [
            "/usr/local/lib/python3.10/dist-packages/urllib3/connectionpool.py:1100: InsecureRequestWarning: Unverified HTTPS request is being made to host 'go.lsgkerala.gov.in'. Adding certificate verification is strongly advised. See: https://urllib3.readthedocs.io/en/latest/advanced-usage.html#tls-warnings\n",
            "  warnings.warn(\n"
          ]
        },
        {
          "output_type": "stream",
          "name": "stdout",
          "text": [
            "https://go.lsgkerala.gov.in/../pages/fileOpen.php?fname=cr20200214_25648.pdf&id=25648\n",
            "https://go.lsgkerala.gov.in/../pages/fileOpen.php?fname=cr20200213_25662.pdf&id=25662\n",
            "https://go.lsgkerala.gov.in/../pages/fileOpen.php?fname=cr20200205_25589.pdf&id=25589\n",
            "https://go.lsgkerala.gov.in/../pages/fileOpen.php?fname=cr20200201_25539.pdf&id=25539\n",
            "https://go.lsgkerala.gov.in/../pages/fileOpen.php?fname=cr20200130_25551.pdf&id=25551\n",
            "https://go.lsgkerala.gov.in/../pages/fileOpen.php?fname=cr20200129_25568.pdf&id=25568\n",
            "https://go.lsgkerala.gov.in/../pages/fileOpen.php?fname=cr20200124_25459.pdf&id=25459\n",
            "https://go.lsgkerala.gov.in/../pages/fileOpen.php?fname=cr20200123_25458.pdf&id=25458\n",
            "https://go.lsgkerala.gov.in/../pages/fileOpen.php?fname=cr20200123_25452.pdf&id=25452\n",
            "https://go.lsgkerala.gov.in/../pages/fileOpen.php?fname=cr20200120_25406.pdf&id=25406\n",
            "https://go.lsgkerala.gov.in/../pages/fileOpen.php?fname=cr20200116_25375.pdf&id=25375\n",
            "https://go.lsgkerala.gov.in/../pages/fileOpen.php?fname=cr20200114_25418.pdf&id=25418\n",
            "https://go.lsgkerala.gov.in/../pages/fileOpen.php?fname=cr20191227_25310.pdf&id=25310\n",
            "https://go.lsgkerala.gov.in/../pages/fileOpen.php?fname=cr20191220_25244.pdf&id=25244\n",
            "https://go.lsgkerala.gov.in/../pages/fileOpen.php?fname=cr20191216_25236.pdf&id=25236\n",
            "https://go.lsgkerala.gov.in/../pages/fileOpen.php?fname=cr20191211_25157.pdf&id=25157\n",
            "https://go.lsgkerala.gov.in/../pages/fileOpen.php?fname=cr20191201_25061.pdf&id=25061\n",
            "https://go.lsgkerala.gov.in/../pages/fileOpen.php?fname=cr20191130_25052.pdf&id=25052\n",
            "https://go.lsgkerala.gov.in/../pages/fileOpen.php?fname=cr20191126_25028.pdf&id=25028\n",
            "https://go.lsgkerala.gov.in/../pages/fileOpen.php?fname=cr20191125_25029.pdf&id=25029\n",
            "20\n"
          ]
        },
        {
          "output_type": "stream",
          "name": "stderr",
          "text": [
            "/usr/local/lib/python3.10/dist-packages/urllib3/connectionpool.py:1100: InsecureRequestWarning: Unverified HTTPS request is being made to host 'go.lsgkerala.gov.in'. Adding certificate verification is strongly advised. See: https://urllib3.readthedocs.io/en/latest/advanced-usage.html#tls-warnings\n",
            "  warnings.warn(\n"
          ]
        },
        {
          "output_type": "stream",
          "name": "stdout",
          "text": [
            "Fetching https://go.lsgkerala.gov.in/pages/orderGlance.php?select=circular&Start=19\n"
          ]
        },
        {
          "output_type": "stream",
          "name": "stderr",
          "text": [
            "/usr/local/lib/python3.10/dist-packages/urllib3/connectionpool.py:1100: InsecureRequestWarning: Unverified HTTPS request is being made to host 'go.lsgkerala.gov.in'. Adding certificate verification is strongly advised. See: https://urllib3.readthedocs.io/en/latest/advanced-usage.html#tls-warnings\n",
            "  warnings.warn(\n"
          ]
        },
        {
          "output_type": "stream",
          "name": "stdout",
          "text": [
            "https://go.lsgkerala.gov.in/../pages/fileOpen.php?fname=cr20191123_24997.pdf&id=24997\n",
            "https://go.lsgkerala.gov.in/../pages/fileOpen.php?fname=cr20191120_24954.pdf&id=24954\n",
            "https://go.lsgkerala.gov.in/../pages/fileOpen.php?fname=cr20191118_24953.pdf&id=24953\n",
            "https://go.lsgkerala.gov.in/../pages/fileOpen.php?fname=cr20191112_25699.pdf&id=25699\n",
            "https://go.lsgkerala.gov.in/../pages/fileOpen.php?fname=cr20191110_24901.pdf&id=24901\n",
            "https://go.lsgkerala.gov.in/../pages/fileOpen.php?fname=cr20191023_24704.pdf&id=24704\n",
            "https://go.lsgkerala.gov.in/../pages/fileOpen.php?fname=cr20191019_24739.pdf&id=24739\n",
            "https://go.lsgkerala.gov.in/../pages/fileOpen.php?fname=cr20191010_24608.pdf&id=24608\n",
            "https://go.lsgkerala.gov.in/../pages/fileOpen.php?fname=cr20190928_24527.pdf&id=24527\n",
            "https://go.lsgkerala.gov.in/../pages/fileOpen.php?fname=cr20190927_24628.pdf&id=24628\n",
            "https://go.lsgkerala.gov.in/../pages/fileOpen.php?fname=cr20190926_24503.pdf&id=24503\n",
            "https://go.lsgkerala.gov.in/../pages/fileOpen.php?fname=cr20190926_24470.pdf&id=24470\n",
            "https://go.lsgkerala.gov.in/../pages/fileOpen.php?fname=cr20190926_24459.pdf&id=24459\n",
            "https://go.lsgkerala.gov.in/../pages/fileOpen.php?fname=cr20190925_24481.pdf&id=24481\n",
            "https://go.lsgkerala.gov.in/../pages/fileOpen.php?fname=cr20190925_24469.pdf&id=24469\n",
            "https://go.lsgkerala.gov.in/../pages/fileOpen.php?fname=cr20190923_24480.pdf&id=24480\n",
            "https://go.lsgkerala.gov.in/../pages/fileOpen.php?fname=cr20190919_24447.pdf&id=24447\n",
            "https://go.lsgkerala.gov.in/../pages/fileOpen.php?fname=cr20190907_24427.pdf&id=24427\n",
            "https://go.lsgkerala.gov.in/../pages/fileOpen.php?fname=cr20190906_24376.pdf&id=24376\n",
            "https://go.lsgkerala.gov.in/../pages/fileOpen.php?fname=cr20190904_24482.pdf&id=24482\n",
            "20\n"
          ]
        },
        {
          "output_type": "stream",
          "name": "stderr",
          "text": [
            "/usr/local/lib/python3.10/dist-packages/urllib3/connectionpool.py:1100: InsecureRequestWarning: Unverified HTTPS request is being made to host 'go.lsgkerala.gov.in'. Adding certificate verification is strongly advised. See: https://urllib3.readthedocs.io/en/latest/advanced-usage.html#tls-warnings\n",
            "  warnings.warn(\n"
          ]
        },
        {
          "output_type": "stream",
          "name": "stdout",
          "text": [
            "Fetching https://go.lsgkerala.gov.in/pages/orderGlance.php?select=circular&Start=20\n"
          ]
        },
        {
          "output_type": "stream",
          "name": "stderr",
          "text": [
            "/usr/local/lib/python3.10/dist-packages/urllib3/connectionpool.py:1100: InsecureRequestWarning: Unverified HTTPS request is being made to host 'go.lsgkerala.gov.in'. Adding certificate verification is strongly advised. See: https://urllib3.readthedocs.io/en/latest/advanced-usage.html#tls-warnings\n",
            "  warnings.warn(\n"
          ]
        },
        {
          "output_type": "stream",
          "name": "stdout",
          "text": [
            "https://go.lsgkerala.gov.in/../pages/fileOpen.php?fname=cr20190831_24272.pdf&id=24272\n",
            "https://go.lsgkerala.gov.in/../pages/fileOpen.php?fname=cr20190826_24304.pdf&id=24304\n",
            "https://go.lsgkerala.gov.in/../pages/fileOpen.php?fname=cr20190812_24160.pdf&id=24160\n",
            "https://go.lsgkerala.gov.in/../pages/fileOpen.php?fname=cr20190811_24159.pdf&id=24159\n",
            "https://go.lsgkerala.gov.in/../pages/fileOpen.php?fname=cr20190811_24158.pdf&id=24158\n",
            "https://go.lsgkerala.gov.in/../pages/fileOpen.php?fname=cr20190810_24157.pdf&id=24157\n",
            "https://go.lsgkerala.gov.in/../pages/fileOpen.php?fname=cr20190802_24204.pdf&id=24204\n",
            "https://go.lsgkerala.gov.in/../pages/fileOpen.php?fname=cr20190726_24686.pdf&id=24686\n",
            "https://go.lsgkerala.gov.in/../pages/fileOpen.php?fname=cr20190720_23963.pdf&id=23963\n",
            "https://go.lsgkerala.gov.in/../pages/fileOpen.php?fname=cr20190716_23949.pdf&id=23949\n",
            "https://go.lsgkerala.gov.in/../pages/fileOpen.php?fname=cr20190710_23892.pdf&id=23892\n",
            "https://go.lsgkerala.gov.in/../pages/fileOpen.php?fname=cr20190710_23889.pdf&id=23889\n",
            "https://go.lsgkerala.gov.in/../pages/fileOpen.php?fname=cr20190710_23888.pdf&id=23888\n",
            "https://go.lsgkerala.gov.in/../pages/fileOpen.php?fname=cr20190710_23887.pdf&id=23887\n",
            "https://go.lsgkerala.gov.in/../pages/fileOpen.php?fname=cr20190710_23885.pdf&id=23885\n",
            "https://go.lsgkerala.gov.in/../pages/fileOpen.php?fname=cr20190706_23853.pdf&id=23853\n",
            "https://go.lsgkerala.gov.in/../pages/fileOpen.php?fname=cr20190705_23842.pdf&id=23842\n",
            "https://go.lsgkerala.gov.in/../pages/fileOpen.php?fname=cr20190704_23841.pdf&id=23841\n",
            "https://go.lsgkerala.gov.in/../pages/fileOpen.php?fname=cr20190627_23985.pdf&id=23985\n",
            "https://go.lsgkerala.gov.in/../pages/fileOpen.php?fname=cr20190624_23758.pdf&id=23758\n",
            "20\n"
          ]
        },
        {
          "output_type": "stream",
          "name": "stderr",
          "text": [
            "/usr/local/lib/python3.10/dist-packages/urllib3/connectionpool.py:1100: InsecureRequestWarning: Unverified HTTPS request is being made to host 'go.lsgkerala.gov.in'. Adding certificate verification is strongly advised. See: https://urllib3.readthedocs.io/en/latest/advanced-usage.html#tls-warnings\n",
            "  warnings.warn(\n"
          ]
        },
        {
          "output_type": "stream",
          "name": "stdout",
          "text": [
            "Fetching https://go.lsgkerala.gov.in/pages/orderGlance.php?select=circular&Start=21\n"
          ]
        },
        {
          "output_type": "stream",
          "name": "stderr",
          "text": [
            "/usr/local/lib/python3.10/dist-packages/urllib3/connectionpool.py:1100: InsecureRequestWarning: Unverified HTTPS request is being made to host 'go.lsgkerala.gov.in'. Adding certificate verification is strongly advised. See: https://urllib3.readthedocs.io/en/latest/advanced-usage.html#tls-warnings\n",
            "  warnings.warn(\n"
          ]
        },
        {
          "output_type": "stream",
          "name": "stdout",
          "text": [
            "https://go.lsgkerala.gov.in/../pages/fileOpen.php?fname=cr20190614_23767.pdf&id=23767\n",
            "https://go.lsgkerala.gov.in/../pages/fileOpen.php?fname=cr20190612_23660.pdf&id=23660\n",
            "https://go.lsgkerala.gov.in/../pages/fileOpen.php?fname=cr20190606_23643.pdf&id=23643\n",
            "https://go.lsgkerala.gov.in/../pages/fileOpen.php?fname=cr20190604_23620.pdf&id=23620\n",
            "https://go.lsgkerala.gov.in/../pages/fileOpen.php?fname=cr20190527_23561.pdf&id=23561\n",
            "https://go.lsgkerala.gov.in/../pages/fileOpen.php?fname=cr20190525_23595.pdf&id=23595\n",
            "https://go.lsgkerala.gov.in/../pages/fileOpen.php?fname=cr20190514_23749.pdf&id=23749\n",
            "https://go.lsgkerala.gov.in/../pages/fileOpen.php?fname=cr20190502_23440.pdf&id=23440\n",
            "https://go.lsgkerala.gov.in/../pages/fileOpen.php?fname=cr20190502_23425.pdf&id=23425\n",
            "https://go.lsgkerala.gov.in/../pages/fileOpen.php?fname=cr20190502_23424.pdf&id=23424\n",
            "https://go.lsgkerala.gov.in/../pages/fileOpen.php?fname=cr20190430_23435.pdf&id=23435\n",
            "https://go.lsgkerala.gov.in/../pages/fileOpen.php?fname=cr20190425_23412.pdf&id=23412\n",
            "https://go.lsgkerala.gov.in/../pages/fileOpen.php?fname=cr20190425_23411.pdf&id=23411\n",
            "https://go.lsgkerala.gov.in/../pages/fileOpen.php?fname=cr20190329_23317.pdf&id=23317\n",
            "https://go.lsgkerala.gov.in/../pages/fileOpen.php?fname=cr20190326_23252.pdf&id=23252\n",
            "https://go.lsgkerala.gov.in/../pages/fileOpen.php?fname=cr20190318_23250.pdf&id=23250\n",
            "https://go.lsgkerala.gov.in/../pages/fileOpen.php?fname=cr20190311_23089.pdf&id=23089\n",
            "https://go.lsgkerala.gov.in/../pages/fileOpen.php?fname=cr20190308_23082.pdf&id=23082\n",
            "https://go.lsgkerala.gov.in/../pages/fileOpen.php?fname=cr20190226_29789.pdf&id=29789\n",
            "https://go.lsgkerala.gov.in/../pages/fileOpen.php?fname=cr20190225_23085.pdf&id=23085\n",
            "20\n"
          ]
        },
        {
          "output_type": "stream",
          "name": "stderr",
          "text": [
            "/usr/local/lib/python3.10/dist-packages/urllib3/connectionpool.py:1100: InsecureRequestWarning: Unverified HTTPS request is being made to host 'go.lsgkerala.gov.in'. Adding certificate verification is strongly advised. See: https://urllib3.readthedocs.io/en/latest/advanced-usage.html#tls-warnings\n",
            "  warnings.warn(\n"
          ]
        },
        {
          "output_type": "stream",
          "name": "stdout",
          "text": [
            "Fetching https://go.lsgkerala.gov.in/pages/orderGlance.php?select=circular&Start=22\n"
          ]
        },
        {
          "output_type": "stream",
          "name": "stderr",
          "text": [
            "/usr/local/lib/python3.10/dist-packages/urllib3/connectionpool.py:1100: InsecureRequestWarning: Unverified HTTPS request is being made to host 'go.lsgkerala.gov.in'. Adding certificate verification is strongly advised. See: https://urllib3.readthedocs.io/en/latest/advanced-usage.html#tls-warnings\n",
            "  warnings.warn(\n"
          ]
        },
        {
          "output_type": "stream",
          "name": "stdout",
          "text": [
            "https://go.lsgkerala.gov.in/../pages/fileOpen.php?fname=cr20190223_22994.pdf&id=22994\n",
            "https://go.lsgkerala.gov.in/../pages/fileOpen.php?fname=cr20190221_23145.pdf&id=23145\n",
            "https://go.lsgkerala.gov.in/../pages/fileOpen.php?fname=cr20190221_22962.pdf&id=22962\n",
            "https://go.lsgkerala.gov.in/../pages/fileOpen.php?fname=cr20190219_22951.pdf&id=22951\n",
            "https://go.lsgkerala.gov.in/../pages/fileOpen.php?fname=cr20190218_22972.pdf&id=22972\n",
            "https://go.lsgkerala.gov.in/../pages/fileOpen.php?fname=cr20190218_22971.pdf&id=22971\n",
            "https://go.lsgkerala.gov.in/../pages/fileOpen.php?fname=cr20190218_22939.pdf&id=22939\n",
            "https://go.lsgkerala.gov.in/../pages/fileOpen.php?fname=cr20190201_22909.pdf&id=22909\n",
            "https://go.lsgkerala.gov.in/../pages/fileOpen.php?fname=cr20190201_22838.pdf&id=22838\n",
            "https://go.lsgkerala.gov.in/../pages/fileOpen.php?fname=cr20190201_22776.pdf&id=22776\n",
            "https://go.lsgkerala.gov.in/../pages/fileOpen.php?fname=cr20190131_22784.pdf&id=22784\n",
            "https://go.lsgkerala.gov.in/../pages/fileOpen.php?fname=cr20190131_22764.pdf&id=22764\n",
            "https://go.lsgkerala.gov.in/../pages/fileOpen.php?fname=cr20190128_22793.pdf&id=22793\n",
            "https://go.lsgkerala.gov.in/../pages/fileOpen.php?fname=cr20190125_22741.pdf&id=22741\n",
            "https://go.lsgkerala.gov.in/../pages/fileOpen.php?fname=cr20190125_22740.pdf&id=22740\n",
            "https://go.lsgkerala.gov.in/../pages/fileOpen.php?fname=cr20190125_22726.pdf&id=22726\n",
            "https://go.lsgkerala.gov.in/../pages/fileOpen.php?fname=cr20190122_22735.pdf&id=22735\n",
            "https://go.lsgkerala.gov.in/../pages/fileOpen.php?fname=cr20190117_22756.pdf&id=22756\n",
            "https://go.lsgkerala.gov.in/../pages/fileOpen.php?fname=cr20190104_22668.pdf&id=22668\n",
            "https://go.lsgkerala.gov.in/../pages/fileOpen.php?fname=cr20181228_22563.pdf&id=22563\n",
            "20\n"
          ]
        },
        {
          "output_type": "stream",
          "name": "stderr",
          "text": [
            "/usr/local/lib/python3.10/dist-packages/urllib3/connectionpool.py:1100: InsecureRequestWarning: Unverified HTTPS request is being made to host 'go.lsgkerala.gov.in'. Adding certificate verification is strongly advised. See: https://urllib3.readthedocs.io/en/latest/advanced-usage.html#tls-warnings\n",
            "  warnings.warn(\n"
          ]
        },
        {
          "output_type": "stream",
          "name": "stdout",
          "text": [
            "Fetching https://go.lsgkerala.gov.in/pages/orderGlance.php?select=circular&Start=23\n"
          ]
        },
        {
          "output_type": "stream",
          "name": "stderr",
          "text": [
            "/usr/local/lib/python3.10/dist-packages/urllib3/connectionpool.py:1100: InsecureRequestWarning: Unverified HTTPS request is being made to host 'go.lsgkerala.gov.in'. Adding certificate verification is strongly advised. See: https://urllib3.readthedocs.io/en/latest/advanced-usage.html#tls-warnings\n",
            "  warnings.warn(\n"
          ]
        },
        {
          "output_type": "stream",
          "name": "stdout",
          "text": [
            "https://go.lsgkerala.gov.in/../pages/fileOpen.php?fname=cr20181228_22561.pdf&id=22561\n",
            "https://go.lsgkerala.gov.in/../pages/fileOpen.php?fname=cr20181226_22559.pdf&id=22559\n",
            "https://go.lsgkerala.gov.in/../pages/fileOpen.php?fname=cr20181226_22558.pdf&id=22558\n",
            "https://go.lsgkerala.gov.in/../pages/fileOpen.php?fname=cr20181226_22557.pdf&id=22557\n",
            "https://go.lsgkerala.gov.in/../pages/fileOpen.php?fname=cr20181226_22556.pdf&id=22556\n",
            "https://go.lsgkerala.gov.in/../pages/fileOpen.php?fname=cr20181217_22515.pdf&id=22515\n",
            "https://go.lsgkerala.gov.in/../pages/fileOpen.php?fname=cr20181205_22416.pdf&id=22416\n",
            "https://go.lsgkerala.gov.in/../pages/fileOpen.php?fname=cr20181128_22376.pdf&id=22376\n",
            "https://go.lsgkerala.gov.in/../pages/fileOpen.php?fname=cr20181124_22504.pdf&id=22504\n",
            "https://go.lsgkerala.gov.in/../pages/fileOpen.php?fname=cr20181123_22348.pdf&id=22348\n",
            "https://go.lsgkerala.gov.in/../pages/fileOpen.php?fname=cr20181123_22345.pdf&id=22345\n",
            "https://go.lsgkerala.gov.in/../pages/fileOpen.php?fname=cr20181121_22295.pdf&id=22295\n",
            "https://go.lsgkerala.gov.in/../pages/fileOpen.php?fname=cr20181121_22294.pdf&id=22294\n",
            "https://go.lsgkerala.gov.in/../pages/fileOpen.php?fname=cr20181109_22252.pdf&id=22252\n",
            "https://go.lsgkerala.gov.in/../pages/fileOpen.php?fname=cr20181108_22364.pdf&id=22364\n",
            "https://go.lsgkerala.gov.in/../pages/fileOpen.php?fname=cr20181107_22235.pdf&id=22235\n",
            "https://go.lsgkerala.gov.in/../pages/fileOpen.php?fname=cr20181023_22093.pdf&id=22093\n",
            "https://go.lsgkerala.gov.in/../pages/fileOpen.php?fname=cr20181015_22045.pdf&id=22045\n",
            "https://go.lsgkerala.gov.in/../pages/fileOpen.php?fname=cr20181015_22035.pdf&id=22035\n",
            "https://go.lsgkerala.gov.in/../pages/fileOpen.php?fname=cr20181015_22034.pdf&id=22034\n",
            "20\n"
          ]
        },
        {
          "output_type": "stream",
          "name": "stderr",
          "text": [
            "/usr/local/lib/python3.10/dist-packages/urllib3/connectionpool.py:1100: InsecureRequestWarning: Unverified HTTPS request is being made to host 'go.lsgkerala.gov.in'. Adding certificate verification is strongly advised. See: https://urllib3.readthedocs.io/en/latest/advanced-usage.html#tls-warnings\n",
            "  warnings.warn(\n"
          ]
        },
        {
          "output_type": "stream",
          "name": "stdout",
          "text": [
            "Fetching https://go.lsgkerala.gov.in/pages/orderGlance.php?select=circular&Start=24\n"
          ]
        },
        {
          "output_type": "stream",
          "name": "stderr",
          "text": [
            "/usr/local/lib/python3.10/dist-packages/urllib3/connectionpool.py:1100: InsecureRequestWarning: Unverified HTTPS request is being made to host 'go.lsgkerala.gov.in'. Adding certificate verification is strongly advised. See: https://urllib3.readthedocs.io/en/latest/advanced-usage.html#tls-warnings\n",
            "  warnings.warn(\n"
          ]
        },
        {
          "output_type": "stream",
          "name": "stdout",
          "text": [
            "https://go.lsgkerala.gov.in/../pages/fileOpen.php?fname=cr20181012_22082.pdf&id=22082\n",
            "https://go.lsgkerala.gov.in/../pages/fileOpen.php?fname=cr20181011_22117.pdf&id=22117\n",
            "https://go.lsgkerala.gov.in/../pages/fileOpen.php?fname=cr20181009_22019.pdf&id=22019\n",
            "https://go.lsgkerala.gov.in/../pages/fileOpen.php?fname=cr20181006_22016.pdf&id=22016\n",
            "https://go.lsgkerala.gov.in/../pages/fileOpen.php?fname=cr20181006_21975.pdf&id=21975\n",
            "https://go.lsgkerala.gov.in/../pages/fileOpen.php?fname=cr20180917_21858.pdf&id=21858\n",
            "https://go.lsgkerala.gov.in/../pages/fileOpen.php?fname=cr20180917_21857.pdf&id=21857\n",
            "https://go.lsgkerala.gov.in/../pages/fileOpen.php?fname=cr20180917_21856.pdf&id=21856\n",
            "https://go.lsgkerala.gov.in/../pages/fileOpen.php?fname=cr20180907_21823.pdf&id=21823\n",
            "https://go.lsgkerala.gov.in/../pages/fileOpen.php?fname=cr20180906_21806.pdf&id=21806\n",
            "https://go.lsgkerala.gov.in/../pages/fileOpen.php?fname=cr20180901_21788.pdf&id=21788\n",
            "https://go.lsgkerala.gov.in/../pages/fileOpen.php?fname=cr20180831_21765.pdf&id=21765\n",
            "https://go.lsgkerala.gov.in/../pages/fileOpen.php?fname=cr20180831_21764.pdf&id=21764\n",
            "https://go.lsgkerala.gov.in/../pages/fileOpen.php?fname=cr20180830_21776.pdf&id=21776\n",
            "https://go.lsgkerala.gov.in/../pages/fileOpen.php?fname=cr20180818_21716.pdf&id=21716\n",
            "https://go.lsgkerala.gov.in/../pages/fileOpen.php?fname=cr20180818_21666.pdf&id=21666\n",
            "https://go.lsgkerala.gov.in/../pages/fileOpen.php?fname=cr20180816_21747.pdf&id=21747\n",
            "https://go.lsgkerala.gov.in/../pages/fileOpen.php?fname=cr20180816_21655.pdf&id=21655\n",
            "https://go.lsgkerala.gov.in/../pages/fileOpen.php?fname=cr20180813_21629.pdf&id=21629\n",
            "https://go.lsgkerala.gov.in/../pages/fileOpen.php?fname=cr20180810_21621.pdf&id=21621\n",
            "20\n"
          ]
        },
        {
          "output_type": "stream",
          "name": "stderr",
          "text": [
            "/usr/local/lib/python3.10/dist-packages/urllib3/connectionpool.py:1100: InsecureRequestWarning: Unverified HTTPS request is being made to host 'go.lsgkerala.gov.in'. Adding certificate verification is strongly advised. See: https://urllib3.readthedocs.io/en/latest/advanced-usage.html#tls-warnings\n",
            "  warnings.warn(\n"
          ]
        },
        {
          "output_type": "stream",
          "name": "stdout",
          "text": [
            "Fetching https://go.lsgkerala.gov.in/pages/orderGlance.php?select=circular&Start=25\n"
          ]
        },
        {
          "output_type": "stream",
          "name": "stderr",
          "text": [
            "/usr/local/lib/python3.10/dist-packages/urllib3/connectionpool.py:1100: InsecureRequestWarning: Unverified HTTPS request is being made to host 'go.lsgkerala.gov.in'. Adding certificate verification is strongly advised. See: https://urllib3.readthedocs.io/en/latest/advanced-usage.html#tls-warnings\n",
            "  warnings.warn(\n"
          ]
        },
        {
          "output_type": "stream",
          "name": "stdout",
          "text": [
            "https://go.lsgkerala.gov.in/../pages/fileOpen.php?fname=cr20180806_21585.pdf&id=21585\n",
            "https://go.lsgkerala.gov.in/../pages/fileOpen.php?fname=cr20180801_21579.pdf&id=21579\n",
            "https://go.lsgkerala.gov.in/../pages/fileOpen.php?fname=cr20180730_21498.pdf&id=21498\n",
            "https://go.lsgkerala.gov.in/../pages/fileOpen.php?fname=cr20180730_21497.pdf&id=21497\n",
            "https://go.lsgkerala.gov.in/../pages/fileOpen.php?fname=cr20180726_21488.pdf&id=21488\n",
            "https://go.lsgkerala.gov.in/../pages/fileOpen.php?fname=cr20180726_21476.pdf&id=21476\n",
            "https://go.lsgkerala.gov.in/../pages/fileOpen.php?fname=cr20180723_21622.pdf&id=21622\n",
            "https://go.lsgkerala.gov.in/../pages/fileOpen.php?fname=cr20180721_21784.pdf&id=21784\n",
            "https://go.lsgkerala.gov.in/../pages/fileOpen.php?fname=cr20180717_21422.pdf&id=21422\n",
            "https://go.lsgkerala.gov.in/../pages/fileOpen.php?fname=cr20180705_21404.pdf&id=21404\n",
            "https://go.lsgkerala.gov.in/../pages/fileOpen.php?fname=cr20180702_21382.pdf&id=21382\n",
            "https://go.lsgkerala.gov.in/../pages/fileOpen.php?fname=cr20180702_21330.pdf&id=21330\n",
            "https://go.lsgkerala.gov.in/../pages/fileOpen.php?fname=cr20180626_21260.pdf&id=21260\n",
            "https://go.lsgkerala.gov.in/../pages/fileOpen.php?fname=cr20180626_21227.pdf&id=21227\n",
            "https://go.lsgkerala.gov.in/../pages/fileOpen.php?fname=cr20180625_21292.pdf&id=21292\n",
            "https://go.lsgkerala.gov.in/../pages/fileOpen.php?fname=cr20180623_21250.pdf&id=21250\n",
            "https://go.lsgkerala.gov.in/../pages/fileOpen.php?fname=cr20180608_21105.pdf&id=21105\n",
            "https://go.lsgkerala.gov.in/../pages/fileOpen.php?fname=cr20180605_21104.pdf&id=21104\n",
            "https://go.lsgkerala.gov.in/../pages/fileOpen.php?fname=cr20180602_21046.pdf&id=21046\n",
            "https://go.lsgkerala.gov.in/../pages/fileOpen.php?fname=cr20180531_21035.pdf&id=21035\n",
            "20\n"
          ]
        },
        {
          "output_type": "stream",
          "name": "stderr",
          "text": [
            "/usr/local/lib/python3.10/dist-packages/urllib3/connectionpool.py:1100: InsecureRequestWarning: Unverified HTTPS request is being made to host 'go.lsgkerala.gov.in'. Adding certificate verification is strongly advised. See: https://urllib3.readthedocs.io/en/latest/advanced-usage.html#tls-warnings\n",
            "  warnings.warn(\n"
          ]
        },
        {
          "output_type": "stream",
          "name": "stdout",
          "text": [
            "Fetching https://go.lsgkerala.gov.in/pages/orderGlance.php?select=circular&Start=26\n"
          ]
        },
        {
          "output_type": "stream",
          "name": "stderr",
          "text": [
            "/usr/local/lib/python3.10/dist-packages/urllib3/connectionpool.py:1100: InsecureRequestWarning: Unverified HTTPS request is being made to host 'go.lsgkerala.gov.in'. Adding certificate verification is strongly advised. See: https://urllib3.readthedocs.io/en/latest/advanced-usage.html#tls-warnings\n",
            "  warnings.warn(\n"
          ]
        },
        {
          "output_type": "stream",
          "name": "stdout",
          "text": [
            "https://go.lsgkerala.gov.in/../pages/fileOpen.php?fname=cr20180529_21065.pdf&id=21065\n",
            "https://go.lsgkerala.gov.in/../pages/fileOpen.php?fname=cr20180529_21061.pdf&id=21061\n",
            "https://go.lsgkerala.gov.in/../pages/fileOpen.php?fname=cr20180529_21050.pdf&id=21050\n",
            "https://go.lsgkerala.gov.in/../pages/fileOpen.php?fname=cr20180529_21021.pdf&id=21021\n",
            "https://go.lsgkerala.gov.in/../pages/fileOpen.php?fname=cr20180529_21019.pdf&id=21019\n",
            "https://go.lsgkerala.gov.in/../pages/fileOpen.php?fname=cr20180525_21005.pdf&id=21005\n",
            "https://go.lsgkerala.gov.in/../pages/fileOpen.php?fname=cr20180523_21004.pdf&id=21004\n",
            "https://go.lsgkerala.gov.in/../pages/fileOpen.php?fname=cr20180523_21002.pdf&id=21002\n",
            "https://go.lsgkerala.gov.in/../pages/fileOpen.php?fname=cr20180523_20960.pdf&id=20960\n",
            "https://go.lsgkerala.gov.in/../pages/fileOpen.php?fname=cr20180516_20967.pdf&id=20967\n",
            "https://go.lsgkerala.gov.in/../pages/fileOpen.php?fname=cr20180515_20865.pdf&id=20865\n",
            "https://go.lsgkerala.gov.in/../pages/fileOpen.php?fname=cr20180504_20911.pdf&id=20911\n",
            "https://go.lsgkerala.gov.in/../pages/fileOpen.php?fname=cr20180503_20791.pdf&id=20791\n",
            "https://go.lsgkerala.gov.in/../pages/fileOpen.php?fname=cr20180502_20749.pdf&id=20749\n",
            "https://go.lsgkerala.gov.in/../pages/fileOpen.php?fname=cr20180428_20790.pdf&id=20790\n",
            "https://go.lsgkerala.gov.in/../pages/fileOpen.php?fname=cr20180428_20732.pdf&id=20732\n",
            "https://go.lsgkerala.gov.in/../pages/fileOpen.php?fname=cr20180425_20724.pdf&id=20724\n",
            "https://go.lsgkerala.gov.in/../pages/fileOpen.php?fname=cr20180413_20979.pdf&id=20979\n",
            "https://go.lsgkerala.gov.in/../pages/fileOpen.php?fname=cr20180411_20554.pdf&id=20554\n",
            "https://go.lsgkerala.gov.in/../pages/fileOpen.php?fname=cr20180331_20654.pdf&id=20654\n",
            "20\n"
          ]
        },
        {
          "output_type": "stream",
          "name": "stderr",
          "text": [
            "/usr/local/lib/python3.10/dist-packages/urllib3/connectionpool.py:1100: InsecureRequestWarning: Unverified HTTPS request is being made to host 'go.lsgkerala.gov.in'. Adding certificate verification is strongly advised. See: https://urllib3.readthedocs.io/en/latest/advanced-usage.html#tls-warnings\n",
            "  warnings.warn(\n"
          ]
        },
        {
          "output_type": "stream",
          "name": "stdout",
          "text": [
            "Fetching https://go.lsgkerala.gov.in/pages/orderGlance.php?select=circular&Start=27\n"
          ]
        },
        {
          "output_type": "stream",
          "name": "stderr",
          "text": [
            "/usr/local/lib/python3.10/dist-packages/urllib3/connectionpool.py:1100: InsecureRequestWarning: Unverified HTTPS request is being made to host 'go.lsgkerala.gov.in'. Adding certificate verification is strongly advised. See: https://urllib3.readthedocs.io/en/latest/advanced-usage.html#tls-warnings\n",
            "  warnings.warn(\n"
          ]
        },
        {
          "output_type": "stream",
          "name": "stdout",
          "text": [
            "https://go.lsgkerala.gov.in/../pages/fileOpen.php?fname=cr20180331_20419.pdf&id=20419\n",
            "https://go.lsgkerala.gov.in/../pages/fileOpen.php?fname=cr20180328_20449.pdf&id=20449\n",
            "https://go.lsgkerala.gov.in/../pages/fileOpen.php?fname=cr20180326_20723.pdf&id=20723\n",
            "https://go.lsgkerala.gov.in/../pages/fileOpen.php?fname=cr20180324_20377.pdf&id=20377\n",
            "https://go.lsgkerala.gov.in/../pages/fileOpen.php?fname=cr20180324_20376.pdf&id=20376\n",
            "https://go.lsgkerala.gov.in/../pages/fileOpen.php?fname=cr20180324_20375.pdf&id=20375\n",
            "https://go.lsgkerala.gov.in/../pages/fileOpen.php?fname=cr20180319_20357.pdf&id=20357\n",
            "https://go.lsgkerala.gov.in/../pages/fileOpen.php?fname=cr20180312_20283.pdf&id=20283\n",
            "https://go.lsgkerala.gov.in/../pages/fileOpen.php?fname=cr20180307_20308.pdf&id=20308\n",
            "https://go.lsgkerala.gov.in/../pages/fileOpen.php?fname=cr20180303_20231.pdf&id=20231\n",
            "https://go.lsgkerala.gov.in/../pages/fileOpen.php?fname=cr20180228_20204.pdf&id=20204\n",
            "https://go.lsgkerala.gov.in/../pages/fileOpen.php?fname=cr20180227_20183.pdf&id=20183\n",
            "https://go.lsgkerala.gov.in/../pages/fileOpen.php?fname=cr20180223_20152.pdf&id=20152\n",
            "https://go.lsgkerala.gov.in/../pages/fileOpen.php?fname=cr20180223_20130.pdf&id=20130\n",
            "https://go.lsgkerala.gov.in/../pages/fileOpen.php?fname=cr20180220_20087.pdf&id=20087\n",
            "https://go.lsgkerala.gov.in/../pages/fileOpen.php?fname=cr20180219_20090.pdf&id=20090\n",
            "https://go.lsgkerala.gov.in/../pages/fileOpen.php?fname=cr20180209_20019.pdf&id=20019\n",
            "https://go.lsgkerala.gov.in/../pages/fileOpen.php?fname=cr20180207_20011.pdf&id=20011\n",
            "https://go.lsgkerala.gov.in/../pages/fileOpen.php?fname=cr20180202_19963.pdf&id=19963\n",
            "https://go.lsgkerala.gov.in/../pages/fileOpen.php?fname=cr20180202_19960.pdf&id=19960\n",
            "20\n"
          ]
        },
        {
          "output_type": "stream",
          "name": "stderr",
          "text": [
            "/usr/local/lib/python3.10/dist-packages/urllib3/connectionpool.py:1100: InsecureRequestWarning: Unverified HTTPS request is being made to host 'go.lsgkerala.gov.in'. Adding certificate verification is strongly advised. See: https://urllib3.readthedocs.io/en/latest/advanced-usage.html#tls-warnings\n",
            "  warnings.warn(\n"
          ]
        },
        {
          "output_type": "stream",
          "name": "stdout",
          "text": [
            "Fetching https://go.lsgkerala.gov.in/pages/orderGlance.php?select=circular&Start=28\n"
          ]
        },
        {
          "output_type": "stream",
          "name": "stderr",
          "text": [
            "/usr/local/lib/python3.10/dist-packages/urllib3/connectionpool.py:1100: InsecureRequestWarning: Unverified HTTPS request is being made to host 'go.lsgkerala.gov.in'. Adding certificate verification is strongly advised. See: https://urllib3.readthedocs.io/en/latest/advanced-usage.html#tls-warnings\n",
            "  warnings.warn(\n"
          ]
        },
        {
          "output_type": "stream",
          "name": "stdout",
          "text": [
            "https://go.lsgkerala.gov.in/../pages/fileOpen.php?fname=cr20180130_27945.pdf&id=27945\n",
            "https://go.lsgkerala.gov.in/../pages/fileOpen.php?fname=cr20180122_19958.pdf&id=19958\n",
            "https://go.lsgkerala.gov.in/../pages/fileOpen.php?fname=cr20180122_19860.pdf&id=19860\n",
            "https://go.lsgkerala.gov.in/../pages/fileOpen.php?fname=cr20180119_19918.pdf&id=19918\n",
            "https://go.lsgkerala.gov.in/../pages/fileOpen.php?fname=cr20180109_19895.pdf&id=19895\n",
            "https://go.lsgkerala.gov.in/../pages/fileOpen.php?fname=cr20180106_19705.pdf&id=19705\n",
            "https://go.lsgkerala.gov.in/../pages/fileOpen.php?fname=cr20171222_19737.pdf&id=19737\n",
            "https://go.lsgkerala.gov.in/../pages/fileOpen.php?fname=cr20171219_19517.pdf&id=19517\n",
            "https://go.lsgkerala.gov.in/../pages/fileOpen.php?fname=cr20171216_19499.pdf&id=19499\n",
            "https://go.lsgkerala.gov.in/../pages/fileOpen.php?fname=cr20171212_19435.pdf&id=19435\n",
            "https://go.lsgkerala.gov.in/../pages/fileOpen.php?fname=cr20171212_19434.pdf&id=19434\n",
            "https://go.lsgkerala.gov.in/../pages/fileOpen.php?fname=cr20171212_19433.pdf&id=19433\n",
            "https://go.lsgkerala.gov.in/../pages/fileOpen.php?fname=cr20171212_19426.pdf&id=19426\n",
            "https://go.lsgkerala.gov.in/../pages/fileOpen.php?fname=cr20171206_19453.pdf&id=19453\n",
            "https://go.lsgkerala.gov.in/../pages/fileOpen.php?fname=cr20171129_19290.pdf&id=19290\n",
            "https://go.lsgkerala.gov.in/../pages/fileOpen.php?fname=cr20171125_19268.pdf&id=19268\n",
            "https://go.lsgkerala.gov.in/../pages/fileOpen.php?fname=cr20171124_19341.pdf&id=19341\n",
            "https://go.lsgkerala.gov.in/../pages/fileOpen.php?fname=cr20171123_19395.pdf&id=19395\n",
            "https://go.lsgkerala.gov.in/../pages/fileOpen.php?fname=cr20171123_19355.pdf&id=19355\n",
            "https://go.lsgkerala.gov.in/../pages/fileOpen.php?fname=cr20171123_19257.pdf&id=19257\n",
            "20\n"
          ]
        },
        {
          "output_type": "stream",
          "name": "stderr",
          "text": [
            "/usr/local/lib/python3.10/dist-packages/urllib3/connectionpool.py:1100: InsecureRequestWarning: Unverified HTTPS request is being made to host 'go.lsgkerala.gov.in'. Adding certificate verification is strongly advised. See: https://urllib3.readthedocs.io/en/latest/advanced-usage.html#tls-warnings\n",
            "  warnings.warn(\n"
          ]
        },
        {
          "output_type": "stream",
          "name": "stdout",
          "text": [
            "Fetching https://go.lsgkerala.gov.in/pages/orderGlance.php?select=circular&Start=29\n"
          ]
        },
        {
          "output_type": "stream",
          "name": "stderr",
          "text": [
            "/usr/local/lib/python3.10/dist-packages/urllib3/connectionpool.py:1100: InsecureRequestWarning: Unverified HTTPS request is being made to host 'go.lsgkerala.gov.in'. Adding certificate verification is strongly advised. See: https://urllib3.readthedocs.io/en/latest/advanced-usage.html#tls-warnings\n",
            "  warnings.warn(\n"
          ]
        },
        {
          "output_type": "stream",
          "name": "stdout",
          "text": [
            "https://go.lsgkerala.gov.in/../pages/fileOpen.php?fname=cr20171120_19425.pdf&id=19425\n",
            "https://go.lsgkerala.gov.in/../pages/fileOpen.php?fname=cr20171114_19235.pdf&id=19235\n",
            "https://go.lsgkerala.gov.in/../pages/fileOpen.php?fname=cr20171114_19119.pdf&id=19119\n",
            "https://go.lsgkerala.gov.in/../pages/fileOpen.php?fname=cr20171110_19111.pdf&id=19111\n",
            "https://go.lsgkerala.gov.in/../pages/fileOpen.php?fname=cr20171107_19205.pdf&id=19205\n",
            "https://go.lsgkerala.gov.in/../pages/fileOpen.php?fname=cr20171104_19031.pdf&id=19031\n",
            "https://go.lsgkerala.gov.in/../pages/fileOpen.php?fname=cr20171101_19047.pdf&id=19047\n",
            "https://go.lsgkerala.gov.in/../pages/fileOpen.php?fname=cr20171101_19046.pdf&id=19046\n",
            "https://go.lsgkerala.gov.in/../pages/fileOpen.php?fname=cr20171101_19045.pdf&id=19045\n",
            "https://go.lsgkerala.gov.in/../pages/fileOpen.php?fname=cr20171101_19004.pdf&id=19004\n",
            "https://go.lsgkerala.gov.in/../pages/fileOpen.php?fname=cr20171028_18953.pdf&id=18953\n",
            "https://go.lsgkerala.gov.in/../pages/fileOpen.php?fname=cr20171028_18952.pdf&id=18952\n",
            "https://go.lsgkerala.gov.in/../pages/fileOpen.php?fname=cr20171028_18917.pdf&id=18917\n",
            "https://go.lsgkerala.gov.in/../pages/fileOpen.php?fname=cr20171024_18978.pdf&id=18978\n",
            "https://go.lsgkerala.gov.in/../pages/fileOpen.php?fname=cr20171021_18837.pdf&id=18837\n",
            "https://go.lsgkerala.gov.in/../pages/fileOpen.php?fname=cr20171019_18866.pdf&id=18866\n",
            "https://go.lsgkerala.gov.in/../pages/fileOpen.php?fname=cr20171007_18794.pdf&id=18794\n",
            "https://go.lsgkerala.gov.in/../pages/fileOpen.php?fname=cr20171007_18771.pdf&id=18771\n",
            "https://go.lsgkerala.gov.in/../pages/fileOpen.php?fname=cr20170926_18718.pdf&id=18718\n",
            "https://go.lsgkerala.gov.in/../pages/fileOpen.php?fname=cr20170923_18662.pdf&id=18662\n",
            "20\n"
          ]
        },
        {
          "output_type": "stream",
          "name": "stderr",
          "text": [
            "/usr/local/lib/python3.10/dist-packages/urllib3/connectionpool.py:1100: InsecureRequestWarning: Unverified HTTPS request is being made to host 'go.lsgkerala.gov.in'. Adding certificate verification is strongly advised. See: https://urllib3.readthedocs.io/en/latest/advanced-usage.html#tls-warnings\n",
            "  warnings.warn(\n"
          ]
        },
        {
          "output_type": "stream",
          "name": "stdout",
          "text": [
            "Fetching https://go.lsgkerala.gov.in/pages/orderGlance.php?select=circular&Start=30\n"
          ]
        },
        {
          "output_type": "stream",
          "name": "stderr",
          "text": [
            "/usr/local/lib/python3.10/dist-packages/urllib3/connectionpool.py:1100: InsecureRequestWarning: Unverified HTTPS request is being made to host 'go.lsgkerala.gov.in'. Adding certificate verification is strongly advised. See: https://urllib3.readthedocs.io/en/latest/advanced-usage.html#tls-warnings\n",
            "  warnings.warn(\n"
          ]
        },
        {
          "output_type": "stream",
          "name": "stdout",
          "text": [
            "https://go.lsgkerala.gov.in/../pages/fileOpen.php?fname=cr20170923_18661.pdf&id=18661\n",
            "https://go.lsgkerala.gov.in/../pages/fileOpen.php?fname=cr20170922_18665.pdf&id=18665\n",
            "https://go.lsgkerala.gov.in/../pages/fileOpen.php?fname=cr20170922_18659.pdf&id=18659\n",
            "https://go.lsgkerala.gov.in/../pages/fileOpen.php?fname=cr20170919_18719.pdf&id=18719\n",
            "https://go.lsgkerala.gov.in/../pages/fileOpen.php?fname=cr20170918_18658.pdf&id=18658\n",
            "https://go.lsgkerala.gov.in/../pages/fileOpen.php?fname=cr20170918_18657.pdf&id=18657\n",
            "https://go.lsgkerala.gov.in/../pages/fileOpen.php?fname=cr20170918_18656.pdf&id=18656\n",
            "https://go.lsgkerala.gov.in/../pages/fileOpen.php?fname=cr20170831_18485.pdf&id=18485\n",
            "https://go.lsgkerala.gov.in/../pages/fileOpen.php?fname=cr20170823_18460.pdf&id=18460\n",
            "https://go.lsgkerala.gov.in/../pages/fileOpen.php?fname=cr20170822_18604.pdf&id=18604\n",
            "https://go.lsgkerala.gov.in/../pages/fileOpen.php?fname=cr20170807_18355.pdf&id=18355\n",
            "https://go.lsgkerala.gov.in/../pages/fileOpen.php?fname=cr20170807_18307.pdf&id=18307\n",
            "https://go.lsgkerala.gov.in/../pages/fileOpen.php?fname=cr20170731_21415.pdf&id=21415\n",
            "https://go.lsgkerala.gov.in/../pages/fileOpen.php?fname=cr20170731_18244.pdf&id=18244\n",
            "https://go.lsgkerala.gov.in/../pages/fileOpen.php?fname=cr20170731_18216.pdf&id=18216\n",
            "https://go.lsgkerala.gov.in/../pages/fileOpen.php?fname=cr20170728_18306.pdf&id=18306\n",
            "https://go.lsgkerala.gov.in/../pages/fileOpen.php?fname=cr20170726_18159.pdf&id=18159\n",
            "https://go.lsgkerala.gov.in/../pages/fileOpen.php?fname=cr20170726_18158.pdf&id=18158\n",
            "https://go.lsgkerala.gov.in/../pages/fileOpen.php?fname=cr20170722_18164.pdf&id=18164\n",
            "https://go.lsgkerala.gov.in/../pages/fileOpen.php?fname=cr20170715_18093.pdf&id=18093\n",
            "20\n"
          ]
        },
        {
          "output_type": "stream",
          "name": "stderr",
          "text": [
            "/usr/local/lib/python3.10/dist-packages/urllib3/connectionpool.py:1100: InsecureRequestWarning: Unverified HTTPS request is being made to host 'go.lsgkerala.gov.in'. Adding certificate verification is strongly advised. See: https://urllib3.readthedocs.io/en/latest/advanced-usage.html#tls-warnings\n",
            "  warnings.warn(\n"
          ]
        },
        {
          "output_type": "stream",
          "name": "stdout",
          "text": [
            "Fetching https://go.lsgkerala.gov.in/pages/orderGlance.php?select=circular&Start=31\n"
          ]
        },
        {
          "output_type": "stream",
          "name": "stderr",
          "text": [
            "/usr/local/lib/python3.10/dist-packages/urllib3/connectionpool.py:1100: InsecureRequestWarning: Unverified HTTPS request is being made to host 'go.lsgkerala.gov.in'. Adding certificate verification is strongly advised. See: https://urllib3.readthedocs.io/en/latest/advanced-usage.html#tls-warnings\n",
            "  warnings.warn(\n"
          ]
        },
        {
          "output_type": "stream",
          "name": "stdout",
          "text": [
            "https://go.lsgkerala.gov.in/../pages/fileOpen.php?fname=cr20170714_18134.pdf&id=18134\n",
            "https://go.lsgkerala.gov.in/../pages/fileOpen.php?fname=cr20170714_18059.pdf&id=18059\n",
            "https://go.lsgkerala.gov.in/../pages/fileOpen.php?fname=cr20170713_18895.pdf&id=18895\n",
            "https://go.lsgkerala.gov.in/../pages/fileOpen.php?fname=cr20170707_17909.pdf&id=17909\n",
            "https://go.lsgkerala.gov.in/../pages/fileOpen.php?fname=cr20170707_17908.pdf&id=17908\n",
            "https://go.lsgkerala.gov.in/../pages/fileOpen.php?fname=cr20170701_18073.pdf&id=18073\n",
            "https://go.lsgkerala.gov.in/../pages/fileOpen.php?fname=cr20170624_17706.pdf&id=17706\n",
            "https://go.lsgkerala.gov.in/../pages/fileOpen.php?fname=cr20170623_17705.pdf&id=17705\n",
            "https://go.lsgkerala.gov.in/../pages/fileOpen.php?fname=cr20170602_17503.pdf&id=17503\n",
            "https://go.lsgkerala.gov.in/../pages/fileOpen.php?fname=cr20170526_17517.pdf&id=17517\n",
            "https://go.lsgkerala.gov.in/../pages/fileOpen.php?fname=cr20170525_19206.pdf&id=19206\n",
            "https://go.lsgkerala.gov.in/../pages/fileOpen.php?fname=cr20170525_17365.pdf&id=17365\n",
            "https://go.lsgkerala.gov.in/../pages/fileOpen.php?fname=cr20170523_17355.pdf&id=17355\n",
            "https://go.lsgkerala.gov.in/../pages/fileOpen.php?fname=cr20170519_17363.pdf&id=17363\n",
            "https://go.lsgkerala.gov.in/../pages/fileOpen.php?fname=cr20170518_17545.pdf&id=17545\n",
            "https://go.lsgkerala.gov.in/../pages/fileOpen.php?fname=cr20170511_17231.pdf&id=17231\n",
            "https://go.lsgkerala.gov.in/../pages/fileOpen.php?fname=cr20170511_17230.pdf&id=17230\n",
            "https://go.lsgkerala.gov.in/../pages/fileOpen.php?fname=cr20170510_17708.pdf&id=17708\n",
            "https://go.lsgkerala.gov.in/../pages/fileOpen.php?fname=cr20170510_17552.pdf&id=17552\n",
            "https://go.lsgkerala.gov.in/../pages/fileOpen.php?fname=cr20170502_17069.pdf&id=17069\n",
            "20\n"
          ]
        },
        {
          "output_type": "stream",
          "name": "stderr",
          "text": [
            "/usr/local/lib/python3.10/dist-packages/urllib3/connectionpool.py:1100: InsecureRequestWarning: Unverified HTTPS request is being made to host 'go.lsgkerala.gov.in'. Adding certificate verification is strongly advised. See: https://urllib3.readthedocs.io/en/latest/advanced-usage.html#tls-warnings\n",
            "  warnings.warn(\n"
          ]
        },
        {
          "output_type": "stream",
          "name": "stdout",
          "text": [
            "Fetching https://go.lsgkerala.gov.in/pages/orderGlance.php?select=circular&Start=32\n"
          ]
        },
        {
          "output_type": "stream",
          "name": "stderr",
          "text": [
            "/usr/local/lib/python3.10/dist-packages/urllib3/connectionpool.py:1100: InsecureRequestWarning: Unverified HTTPS request is being made to host 'go.lsgkerala.gov.in'. Adding certificate verification is strongly advised. See: https://urllib3.readthedocs.io/en/latest/advanced-usage.html#tls-warnings\n",
            "  warnings.warn(\n"
          ]
        },
        {
          "output_type": "stream",
          "name": "stdout",
          "text": [
            "https://go.lsgkerala.gov.in/../pages/fileOpen.php?fname=cr20170429_16990.pdf&id=16990\n",
            "https://go.lsgkerala.gov.in/../pages/fileOpen.php?fname=cr20170421_16983.pdf&id=16983\n",
            "https://go.lsgkerala.gov.in/../pages/fileOpen.php?fname=cr20170412_16743.pdf&id=16743\n",
            "https://go.lsgkerala.gov.in/../pages/fileOpen.php?fname=cr20170411_16741.pdf&id=16741\n",
            "https://go.lsgkerala.gov.in/../pages/fileOpen.php?fname=cr20170328_16571.pdf&id=16571\n",
            "https://go.lsgkerala.gov.in/../pages/fileOpen.php?fname=cr20170316_16552.pdf&id=16552\n",
            "https://go.lsgkerala.gov.in/../pages/fileOpen.php?fname=cr20170301_16715.pdf&id=16715\n",
            "https://go.lsgkerala.gov.in/../pages/fileOpen.php?fname=cr20170301_16271.pdf&id=16271\n",
            "https://go.lsgkerala.gov.in/../pages/fileOpen.php?fname=cr20170301_16244.pdf&id=16244\n",
            "https://go.lsgkerala.gov.in/../pages/fileOpen.php?fname=cr20170227_16228.pdf&id=16228\n",
            "https://go.lsgkerala.gov.in/../pages/fileOpen.php?fname=cr20170220_16169.pdf&id=16169\n",
            "https://go.lsgkerala.gov.in/../pages/fileOpen.php?fname=cr20170218_16160.pdf&id=16160\n",
            "https://go.lsgkerala.gov.in/../pages/fileOpen.php?fname=cr20170214_16312.pdf&id=16312\n",
            "https://go.lsgkerala.gov.in/../pages/fileOpen.php?fname=cr20170210_16065.pdf&id=16065\n",
            "https://go.lsgkerala.gov.in/../pages/fileOpen.php?fname=cr20170207_16033.pdf&id=16033\n",
            "https://go.lsgkerala.gov.in/../pages/fileOpen.php?fname=cr20170202_15965.pdf&id=15965\n",
            "https://go.lsgkerala.gov.in/../pages/fileOpen.php?fname=cr20170131_16542.pdf&id=16542\n",
            "https://go.lsgkerala.gov.in/../pages/fileOpen.php?fname=cr20170131_16000.pdf&id=16000\n",
            "https://go.lsgkerala.gov.in/../pages/fileOpen.php?fname=cr20170129_16311.pdf&id=16311\n",
            "https://go.lsgkerala.gov.in/../pages/fileOpen.php?fname=cr20170128_15907.pdf&id=15907\n",
            "20\n"
          ]
        },
        {
          "output_type": "stream",
          "name": "stderr",
          "text": [
            "/usr/local/lib/python3.10/dist-packages/urllib3/connectionpool.py:1100: InsecureRequestWarning: Unverified HTTPS request is being made to host 'go.lsgkerala.gov.in'. Adding certificate verification is strongly advised. See: https://urllib3.readthedocs.io/en/latest/advanced-usage.html#tls-warnings\n",
            "  warnings.warn(\n"
          ]
        },
        {
          "output_type": "stream",
          "name": "stdout",
          "text": [
            "Fetching https://go.lsgkerala.gov.in/pages/orderGlance.php?select=circular&Start=33\n"
          ]
        },
        {
          "output_type": "stream",
          "name": "stderr",
          "text": [
            "/usr/local/lib/python3.10/dist-packages/urllib3/connectionpool.py:1100: InsecureRequestWarning: Unverified HTTPS request is being made to host 'go.lsgkerala.gov.in'. Adding certificate verification is strongly advised. See: https://urllib3.readthedocs.io/en/latest/advanced-usage.html#tls-warnings\n",
            "  warnings.warn(\n"
          ]
        },
        {
          "output_type": "stream",
          "name": "stdout",
          "text": [
            "https://go.lsgkerala.gov.in/../pages/fileOpen.php?fname=cr20170124_15946.pdf&id=15946\n",
            "https://go.lsgkerala.gov.in/../pages/fileOpen.php?fname=cr20170110_15810.pdf&id=15810\n",
            "https://go.lsgkerala.gov.in/../pages/fileOpen.php?fname=cr20161230_15768.pdf&id=15768\n",
            "https://go.lsgkerala.gov.in/../pages/fileOpen.php?fname=cr20161227_15664.pdf&id=15664\n",
            "https://go.lsgkerala.gov.in/../pages/fileOpen.php?fname=cr20161224_16605.pdf&id=16605\n",
            "https://go.lsgkerala.gov.in/../pages/fileOpen.php?fname=cr20161222_15661.pdf&id=15661\n",
            "https://go.lsgkerala.gov.in/../pages/fileOpen.php?fname=cr20161220_15649.pdf&id=15649\n",
            "https://go.lsgkerala.gov.in/../pages/fileOpen.php?fname=cr20161214_15541.pdf&id=15541\n",
            "https://go.lsgkerala.gov.in/../pages/fileOpen.php?fname=cr20161125_15477.pdf&id=15477\n",
            "https://go.lsgkerala.gov.in/../pages/fileOpen.php?fname=cr20161125_15420.pdf&id=15420\n",
            "https://go.lsgkerala.gov.in/../pages/fileOpen.php?fname=cr20161125_15418.pdf&id=15418\n",
            "https://go.lsgkerala.gov.in/../pages/fileOpen.php?fname=cr20161125_15398.pdf&id=15398\n",
            "https://go.lsgkerala.gov.in/../pages/fileOpen.php?fname=cr20161121_15369.pdf&id=15369\n",
            "https://go.lsgkerala.gov.in/../pages/fileOpen.php?fname=cr20161104_15339.pdf&id=15339\n",
            "https://go.lsgkerala.gov.in/../pages/fileOpen.php?fname=cr20161103_15240.pdf&id=15240\n",
            "https://go.lsgkerala.gov.in/../pages/fileOpen.php?fname=cr20161030_15247.pdf&id=15247\n",
            "https://go.lsgkerala.gov.in/../pages/fileOpen.php?fname=cr20161022_15208.pdf&id=15208\n",
            "https://go.lsgkerala.gov.in/../pages/fileOpen.php?fname=cr20161005_15303.pdf&id=15303\n",
            "https://go.lsgkerala.gov.in/../pages/fileOpen.php?fname=cr20160930_15128.pdf&id=15128\n",
            "https://go.lsgkerala.gov.in/../pages/fileOpen.php?fname=cr20160928_15116.pdf&id=15116\n",
            "20\n"
          ]
        },
        {
          "output_type": "stream",
          "name": "stderr",
          "text": [
            "/usr/local/lib/python3.10/dist-packages/urllib3/connectionpool.py:1100: InsecureRequestWarning: Unverified HTTPS request is being made to host 'go.lsgkerala.gov.in'. Adding certificate verification is strongly advised. See: https://urllib3.readthedocs.io/en/latest/advanced-usage.html#tls-warnings\n",
            "  warnings.warn(\n"
          ]
        },
        {
          "output_type": "stream",
          "name": "stdout",
          "text": [
            "Fetching https://go.lsgkerala.gov.in/pages/orderGlance.php?select=circular&Start=34\n"
          ]
        },
        {
          "output_type": "stream",
          "name": "stderr",
          "text": [
            "/usr/local/lib/python3.10/dist-packages/urllib3/connectionpool.py:1100: InsecureRequestWarning: Unverified HTTPS request is being made to host 'go.lsgkerala.gov.in'. Adding certificate verification is strongly advised. See: https://urllib3.readthedocs.io/en/latest/advanced-usage.html#tls-warnings\n",
            "  warnings.warn(\n"
          ]
        },
        {
          "output_type": "stream",
          "name": "stdout",
          "text": [
            "https://go.lsgkerala.gov.in/../pages/fileOpen.php?fname=cr20160927_15059.pdf&id=15059\n",
            "https://go.lsgkerala.gov.in/../pages/fileOpen.php?fname=cr20160924_15117.pdf&id=15117\n",
            "https://go.lsgkerala.gov.in/../pages/fileOpen.php?fname=cr20160924_15046.pdf&id=15046\n",
            "https://go.lsgkerala.gov.in/../pages/fileOpen.php?fname=cr20160919_15183.pdf&id=15183\n",
            "https://go.lsgkerala.gov.in/../pages/fileOpen.php?fname=cr20160910_15080.pdf&id=15080\n",
            "https://go.lsgkerala.gov.in/../pages/fileOpen.php?fname=cr20160909_15037.pdf&id=15037\n",
            "https://go.lsgkerala.gov.in/../pages/fileOpen.php?fname=cr20160909_15004.pdf&id=15004\n",
            "https://go.lsgkerala.gov.in/../pages/fileOpen.php?fname=cr20160830_15018.pdf&id=15018\n",
            "https://go.lsgkerala.gov.in/../pages/fileOpen.php?fname=cr20160830_14931.pdf&id=14931\n",
            "https://go.lsgkerala.gov.in/../pages/fileOpen.php?fname=cr20160829_14934.pdf&id=14934\n",
            "https://go.lsgkerala.gov.in/../pages/fileOpen.php?fname=cr20160827_14918.pdf&id=14918\n",
            "https://go.lsgkerala.gov.in/../pages/fileOpen.php?fname=cr20160823_14905.pdf&id=14905\n",
            "https://go.lsgkerala.gov.in/../pages/fileOpen.php?fname=cr20160818_15060.pdf&id=15060\n",
            "https://go.lsgkerala.gov.in/../pages/fileOpen.php?fname=cr20160812_14885.pdf&id=14885\n",
            "https://go.lsgkerala.gov.in/../pages/fileOpen.php?fname=cr20160811_14864.pdf&id=14864\n",
            "https://go.lsgkerala.gov.in/../pages/fileOpen.php?fname=cr20160808_14756.pdf&id=14756\n",
            "https://go.lsgkerala.gov.in/../pages/fileOpen.php?fname=cr20160804_14752.pdf&id=14752\n",
            "https://go.lsgkerala.gov.in/../pages/fileOpen.php?fname=cr20160727_14757.pdf&id=14757\n",
            "https://go.lsgkerala.gov.in/../pages/fileOpen.php?fname=cr20160726_14684.pdf&id=14684\n",
            "https://go.lsgkerala.gov.in/../pages/fileOpen.php?fname=cr20160721_17180.pdf&id=17180\n",
            "20\n"
          ]
        },
        {
          "output_type": "stream",
          "name": "stderr",
          "text": [
            "/usr/local/lib/python3.10/dist-packages/urllib3/connectionpool.py:1100: InsecureRequestWarning: Unverified HTTPS request is being made to host 'go.lsgkerala.gov.in'. Adding certificate verification is strongly advised. See: https://urllib3.readthedocs.io/en/latest/advanced-usage.html#tls-warnings\n",
            "  warnings.warn(\n"
          ]
        },
        {
          "output_type": "stream",
          "name": "stdout",
          "text": [
            "Fetching https://go.lsgkerala.gov.in/pages/orderGlance.php?select=circular&Start=35\n"
          ]
        },
        {
          "output_type": "stream",
          "name": "stderr",
          "text": [
            "/usr/local/lib/python3.10/dist-packages/urllib3/connectionpool.py:1100: InsecureRequestWarning: Unverified HTTPS request is being made to host 'go.lsgkerala.gov.in'. Adding certificate verification is strongly advised. See: https://urllib3.readthedocs.io/en/latest/advanced-usage.html#tls-warnings\n",
            "  warnings.warn(\n"
          ]
        },
        {
          "output_type": "stream",
          "name": "stdout",
          "text": [
            "https://go.lsgkerala.gov.in/../pages/fileOpen.php?fname=cr20160720_15184.pdf&id=15184\n",
            "https://go.lsgkerala.gov.in/../pages/fileOpen.php?fname=cr20160708_14614.pdf&id=14614\n",
            "https://go.lsgkerala.gov.in/../pages/fileOpen.php?fname=cr20160702_14541.pdf&id=14541\n",
            "https://go.lsgkerala.gov.in/../pages/fileOpen.php?fname=cr20160629_14574.pdf&id=14574\n",
            "https://go.lsgkerala.gov.in/../pages/fileOpen.php?fname=cr20160525_14382.pdf&id=14382\n",
            "https://go.lsgkerala.gov.in/../pages/fileOpen.php?fname=cr20160524_14363.pdf&id=14363\n",
            "https://go.lsgkerala.gov.in/../pages/fileOpen.php?fname=cr20160524_14345.pdf&id=14345\n",
            "https://go.lsgkerala.gov.in/../pages/fileOpen.php?fname=cr20160507_14302.pdf&id=14302\n",
            "https://go.lsgkerala.gov.in/../pages/fileOpen.php?fname=cr20160429_14378.pdf&id=14378\n",
            "https://go.lsgkerala.gov.in/../pages/fileOpen.php?fname=cr20160419_14226.pdf&id=14226\n",
            "https://go.lsgkerala.gov.in/../pages/fileOpen.php?fname=cr20160413_14219.pdf&id=14219\n",
            "https://go.lsgkerala.gov.in/../pages/fileOpen.php?fname=cr20160408_14177.pdf&id=14177\n",
            "https://go.lsgkerala.gov.in/../pages/fileOpen.php?fname=cr20160404_14158.pdf&id=14158\n",
            "https://go.lsgkerala.gov.in/../pages/fileOpen.php?fname=cr20160401_14215.pdf&id=14215\n",
            "https://go.lsgkerala.gov.in/../pages/fileOpen.php?fname=cr20160331_14135.pdf&id=14135\n",
            "https://go.lsgkerala.gov.in/../pages/fileOpen.php?fname=cr20160319_14093.pdf&id=14093\n",
            "https://go.lsgkerala.gov.in/../pages/fileOpen.php?fname=cr20160311_13906.pdf&id=13906\n",
            "https://go.lsgkerala.gov.in/../pages/fileOpen.php?fname=cr20160309_14012.pdf&id=14012\n",
            "https://go.lsgkerala.gov.in/../pages/fileOpen.php?fname=cr20160226_13811.pdf&id=13811\n",
            "https://go.lsgkerala.gov.in/../pages/fileOpen.php?fname=cr20160225_13808.pdf&id=13808\n",
            "20\n"
          ]
        },
        {
          "output_type": "stream",
          "name": "stderr",
          "text": [
            "/usr/local/lib/python3.10/dist-packages/urllib3/connectionpool.py:1100: InsecureRequestWarning: Unverified HTTPS request is being made to host 'go.lsgkerala.gov.in'. Adding certificate verification is strongly advised. See: https://urllib3.readthedocs.io/en/latest/advanced-usage.html#tls-warnings\n",
            "  warnings.warn(\n"
          ]
        },
        {
          "output_type": "stream",
          "name": "stdout",
          "text": [
            "Fetching https://go.lsgkerala.gov.in/pages/orderGlance.php?select=circular&Start=36\n"
          ]
        },
        {
          "output_type": "stream",
          "name": "stderr",
          "text": [
            "/usr/local/lib/python3.10/dist-packages/urllib3/connectionpool.py:1100: InsecureRequestWarning: Unverified HTTPS request is being made to host 'go.lsgkerala.gov.in'. Adding certificate verification is strongly advised. See: https://urllib3.readthedocs.io/en/latest/advanced-usage.html#tls-warnings\n",
            "  warnings.warn(\n"
          ]
        },
        {
          "output_type": "stream",
          "name": "stdout",
          "text": [
            "https://go.lsgkerala.gov.in/../pages/fileOpen.php?fname=cr20160218_13682.pdf&id=13682\n",
            "https://go.lsgkerala.gov.in/../pages/fileOpen.php?fname=cr20160212_13619.pdf&id=13619\n",
            "https://go.lsgkerala.gov.in/../pages/fileOpen.php?fname=cr20160129_13480.pdf&id=13480\n",
            "https://go.lsgkerala.gov.in/../pages/fileOpen.php?fname=cr20160116_13509.pdf&id=13509\n",
            "https://go.lsgkerala.gov.in/../pages/fileOpen.php?fname=cr20160112_13389.pdf&id=13389\n",
            "https://go.lsgkerala.gov.in/../pages/fileOpen.php?fname=cr20160101_13235.pdf&id=13235\n",
            "https://go.lsgkerala.gov.in/../pages/fileOpen.php?fname=cr20151229_13233.pdf&id=13233\n",
            "https://go.lsgkerala.gov.in/../pages/fileOpen.php?fname=cr20151217_13400.pdf&id=13400\n",
            "https://go.lsgkerala.gov.in/../pages/fileOpen.php?fname=cr20151216_13237.pdf&id=13237\n",
            "https://go.lsgkerala.gov.in/../pages/fileOpen.php?fname=cr20151216_13209.pdf&id=13209\n",
            "https://go.lsgkerala.gov.in/../pages/fileOpen.php?fname=cr20151202_13547.pdf&id=13547\n",
            "https://go.lsgkerala.gov.in/../pages/fileOpen.php?fname=cr20151130_13075.pdf&id=13075\n",
            "https://go.lsgkerala.gov.in/../pages/fileOpen.php?fname=cr20151118_12975.pdf&id=12975\n",
            "https://go.lsgkerala.gov.in/../pages/fileOpen.php?fname=cr20151116_12894.pdf&id=12894\n",
            "https://go.lsgkerala.gov.in/../pages/fileOpen.php?fname=cr20151116_12875.pdf&id=12875\n",
            "https://go.lsgkerala.gov.in/../pages/fileOpen.php?fname=cr20151027_12818.pdf&id=12818\n",
            "https://go.lsgkerala.gov.in/../pages/fileOpen.php?fname=cr20151019_12848.pdf&id=12848\n",
            "https://go.lsgkerala.gov.in/../pages/fileOpen.php?fname=cr20151019_12806.pdf&id=12806\n",
            "https://go.lsgkerala.gov.in/../pages/fileOpen.php?fname=cr20151015_12793.pdf&id=12793\n",
            "https://go.lsgkerala.gov.in/../pages/fileOpen.php?fname=cr20150929_12797.pdf&id=12797\n",
            "20\n"
          ]
        },
        {
          "output_type": "stream",
          "name": "stderr",
          "text": [
            "/usr/local/lib/python3.10/dist-packages/urllib3/connectionpool.py:1100: InsecureRequestWarning: Unverified HTTPS request is being made to host 'go.lsgkerala.gov.in'. Adding certificate verification is strongly advised. See: https://urllib3.readthedocs.io/en/latest/advanced-usage.html#tls-warnings\n",
            "  warnings.warn(\n"
          ]
        },
        {
          "output_type": "stream",
          "name": "stdout",
          "text": [
            "Fetching https://go.lsgkerala.gov.in/pages/orderGlance.php?select=circular&Start=37\n"
          ]
        },
        {
          "output_type": "stream",
          "name": "stderr",
          "text": [
            "/usr/local/lib/python3.10/dist-packages/urllib3/connectionpool.py:1100: InsecureRequestWarning: Unverified HTTPS request is being made to host 'go.lsgkerala.gov.in'. Adding certificate verification is strongly advised. See: https://urllib3.readthedocs.io/en/latest/advanced-usage.html#tls-warnings\n",
            "  warnings.warn(\n"
          ]
        },
        {
          "output_type": "stream",
          "name": "stdout",
          "text": [
            "https://go.lsgkerala.gov.in/../pages/fileOpen.php?fname=cr20150928_12698.pdf&id=12698\n",
            "https://go.lsgkerala.gov.in/../pages/fileOpen.php?fname=cr20150911_12762.pdf&id=12762\n",
            "https://go.lsgkerala.gov.in/../pages/fileOpen.php?fname=cr20150910_12532.pdf&id=12532\n",
            "https://go.lsgkerala.gov.in/../pages/fileOpen.php?fname=cr20150910_12498.pdf&id=12498\n",
            "https://go.lsgkerala.gov.in/../pages/fileOpen.php?fname=cr20150817_12497.pdf&id=12497\n",
            "https://go.lsgkerala.gov.in/../pages/fileOpen.php?fname=cr20150805_12296.pdf&id=12296\n",
            "https://go.lsgkerala.gov.in/../pages/fileOpen.php?fname=cr20150803_12266.pdf&id=12266\n",
            "https://go.lsgkerala.gov.in/../pages/fileOpen.php?fname=cr20150715_12267.pdf&id=12267\n",
            "https://go.lsgkerala.gov.in/../pages/fileOpen.php?fname=cr20150709_12220.pdf&id=12220\n",
            "https://go.lsgkerala.gov.in/../pages/fileOpen.php?fname=cr20150616_11983.pdf&id=11983\n",
            "https://go.lsgkerala.gov.in/../pages/fileOpen.php?fname=cr20150609_12021.pdf&id=12021\n",
            "https://go.lsgkerala.gov.in/../pages/fileOpen.php?fname=cr20150529_11821.pdf&id=11821\n",
            "https://go.lsgkerala.gov.in/../pages/fileOpen.php?fname=cr20150519_11827.pdf&id=11827\n",
            "https://go.lsgkerala.gov.in/../pages/fileOpen.php?fname=cr20150514_11828.pdf&id=11828\n",
            "https://go.lsgkerala.gov.in/../pages/fileOpen.php?fname=cr20150423_11644.pdf&id=11644\n",
            "https://go.lsgkerala.gov.in/../pages/fileOpen.php?fname=cr20150418_11620.pdf&id=11620\n",
            "https://go.lsgkerala.gov.in/../pages/fileOpen.php?fname=cr20150418_11602.pdf&id=11602\n",
            "https://go.lsgkerala.gov.in/../pages/fileOpen.php?fname=cr20150418_11583.pdf&id=11583\n",
            "https://go.lsgkerala.gov.in/../pages/fileOpen.php?fname=cr20150330_11323.pdf&id=11323\n",
            "https://go.lsgkerala.gov.in/../pages/fileOpen.php?fname=cr20150325_11565.pdf&id=11565\n",
            "20\n"
          ]
        },
        {
          "output_type": "stream",
          "name": "stderr",
          "text": [
            "/usr/local/lib/python3.10/dist-packages/urllib3/connectionpool.py:1100: InsecureRequestWarning: Unverified HTTPS request is being made to host 'go.lsgkerala.gov.in'. Adding certificate verification is strongly advised. See: https://urllib3.readthedocs.io/en/latest/advanced-usage.html#tls-warnings\n",
            "  warnings.warn(\n"
          ]
        },
        {
          "output_type": "stream",
          "name": "stdout",
          "text": [
            "Fetching https://go.lsgkerala.gov.in/pages/orderGlance.php?select=circular&Start=38\n"
          ]
        },
        {
          "output_type": "stream",
          "name": "stderr",
          "text": [
            "/usr/local/lib/python3.10/dist-packages/urllib3/connectionpool.py:1100: InsecureRequestWarning: Unverified HTTPS request is being made to host 'go.lsgkerala.gov.in'. Adding certificate verification is strongly advised. See: https://urllib3.readthedocs.io/en/latest/advanced-usage.html#tls-warnings\n",
            "  warnings.warn(\n"
          ]
        },
        {
          "output_type": "stream",
          "name": "stdout",
          "text": [
            "https://go.lsgkerala.gov.in/../pages/fileOpen.php?fname=cr20150324_11404.pdf&id=11404\n",
            "https://go.lsgkerala.gov.in/../pages/fileOpen.php?fname=cr20150323_11321.pdf&id=11321\n",
            "https://go.lsgkerala.gov.in/../pages/fileOpen.php?fname=cr20150321_11273.pdf&id=11273\n",
            "https://go.lsgkerala.gov.in/../pages/fileOpen.php?fname=cr20150319_11344.pdf&id=11344\n",
            "https://go.lsgkerala.gov.in/../pages/fileOpen.php?fname=cr20150319_11254.pdf&id=11254\n",
            "https://go.lsgkerala.gov.in/../pages/fileOpen.php?fname=cr20150310_11447.pdf&id=11447\n",
            "https://go.lsgkerala.gov.in/../pages/fileOpen.php?fname=cr20150309_11264.pdf&id=11264\n",
            "https://go.lsgkerala.gov.in/../pages/fileOpen.php?fname=cr20150227_11157.pdf&id=11157\n",
            "https://go.lsgkerala.gov.in/../pages/fileOpen.php?fname=cr20150226_11142.pdf&id=11142\n",
            "https://go.lsgkerala.gov.in/../pages/fileOpen.php?fname=cr20150221_11300.pdf&id=11300\n",
            "https://go.lsgkerala.gov.in/../pages/fileOpen.php?fname=cr20150213_11270.pdf&id=11270\n",
            "https://go.lsgkerala.gov.in/../pages/fileOpen.php?fname=cr20150213_11075.pdf&id=11075\n",
            "https://go.lsgkerala.gov.in/../pages/fileOpen.php?fname=cr20150212_11125.pdf&id=11125\n",
            "https://go.lsgkerala.gov.in/../pages/fileOpen.php?fname=cr20150212_11113.pdf&id=11113\n",
            "https://go.lsgkerala.gov.in/../pages/fileOpen.php?fname=cr20150212_11105.pdf&id=11105\n",
            "https://go.lsgkerala.gov.in/../pages/fileOpen.php?fname=cr20150211_11238.pdf&id=11238\n",
            "https://go.lsgkerala.gov.in/../pages/fileOpen.php?fname=cr20150207_11108.pdf&id=11108\n",
            "https://go.lsgkerala.gov.in/../pages/fileOpen.php?fname=cr20150206_11153.pdf&id=11153\n",
            "https://go.lsgkerala.gov.in/../pages/fileOpen.php?fname=cr20150206_11123.pdf&id=11123\n",
            "https://go.lsgkerala.gov.in/../pages/fileOpen.php?fname=cr20150120_11030.pdf&id=11030\n",
            "20\n"
          ]
        },
        {
          "output_type": "stream",
          "name": "stderr",
          "text": [
            "/usr/local/lib/python3.10/dist-packages/urllib3/connectionpool.py:1100: InsecureRequestWarning: Unverified HTTPS request is being made to host 'go.lsgkerala.gov.in'. Adding certificate verification is strongly advised. See: https://urllib3.readthedocs.io/en/latest/advanced-usage.html#tls-warnings\n",
            "  warnings.warn(\n"
          ]
        },
        {
          "output_type": "stream",
          "name": "stdout",
          "text": [
            "Fetching https://go.lsgkerala.gov.in/pages/orderGlance.php?select=circular&Start=39\n"
          ]
        },
        {
          "output_type": "stream",
          "name": "stderr",
          "text": [
            "/usr/local/lib/python3.10/dist-packages/urllib3/connectionpool.py:1100: InsecureRequestWarning: Unverified HTTPS request is being made to host 'go.lsgkerala.gov.in'. Adding certificate verification is strongly advised. See: https://urllib3.readthedocs.io/en/latest/advanced-usage.html#tls-warnings\n",
            "  warnings.warn(\n"
          ]
        },
        {
          "output_type": "stream",
          "name": "stdout",
          "text": [
            "https://go.lsgkerala.gov.in/../pages/fileOpen.php?fname=cr20150117_10910.pdf&id=10910\n",
            "https://go.lsgkerala.gov.in/../pages/fileOpen.php?fname=cr20150114_10839.pdf&id=10839\n",
            "https://go.lsgkerala.gov.in/../pages/fileOpen.php?fname=cr20150109_10843.pdf&id=10843\n",
            "https://go.lsgkerala.gov.in/../pages/fileOpen.php?fname=cr20150109_10842.pdf&id=10842\n",
            "https://go.lsgkerala.gov.in/../pages/fileOpen.php?fname=cr20150105_10833.pdf&id=10833\n",
            "https://go.lsgkerala.gov.in/../pages/fileOpen.php?fname=cr20141229_10738.pdf&id=10738\n",
            "https://go.lsgkerala.gov.in/../pages/fileOpen.php?fname=cr20141229_10727.pdf&id=10727\n",
            "https://go.lsgkerala.gov.in/../pages/fileOpen.php?fname=cr20141219_10861.pdf&id=10861\n",
            "https://go.lsgkerala.gov.in/../pages/fileOpen.php?fname=cr20141218_10819.pdf&id=10819\n",
            "https://go.lsgkerala.gov.in/../pages/fileOpen.php?fname=cr20141218_10731.pdf&id=10731\n",
            "https://go.lsgkerala.gov.in/../pages/fileOpen.php?fname=cr20141212_10713.pdf&id=10713\n",
            "https://go.lsgkerala.gov.in/../pages/fileOpen.php?fname=cr20141208_10736.pdf&id=10736\n",
            "https://go.lsgkerala.gov.in/../pages/fileOpen.php?fname=cr20141203_10708.pdf&id=10708\n",
            "https://go.lsgkerala.gov.in/../pages/fileOpen.php?fname=cr20141202_10829.pdf&id=10829\n",
            "https://go.lsgkerala.gov.in/../pages/fileOpen.php?fname=cr20141202_10702.pdf&id=10702\n",
            "https://go.lsgkerala.gov.in/../pages/fileOpen.php?fname=cr20141201_10620.pdf&id=10620\n",
            "https://go.lsgkerala.gov.in/../pages/fileOpen.php?fname=cr20141124_10594.pdf&id=10594\n",
            "https://go.lsgkerala.gov.in/../pages/fileOpen.php?fname=cr20141121_10561.pdf&id=10561\n",
            "https://go.lsgkerala.gov.in/../pages/fileOpen.php?fname=cr20141118_10589.pdf&id=10589\n",
            "https://go.lsgkerala.gov.in/../pages/fileOpen.php?fname=cr20141117_10692.pdf&id=10692\n",
            "20\n"
          ]
        },
        {
          "output_type": "stream",
          "name": "stderr",
          "text": [
            "/usr/local/lib/python3.10/dist-packages/urllib3/connectionpool.py:1100: InsecureRequestWarning: Unverified HTTPS request is being made to host 'go.lsgkerala.gov.in'. Adding certificate verification is strongly advised. See: https://urllib3.readthedocs.io/en/latest/advanced-usage.html#tls-warnings\n",
            "  warnings.warn(\n"
          ]
        },
        {
          "output_type": "stream",
          "name": "stdout",
          "text": [
            "Fetching https://go.lsgkerala.gov.in/pages/orderGlance.php?select=circular&Start=40\n"
          ]
        },
        {
          "output_type": "stream",
          "name": "stderr",
          "text": [
            "/usr/local/lib/python3.10/dist-packages/urllib3/connectionpool.py:1100: InsecureRequestWarning: Unverified HTTPS request is being made to host 'go.lsgkerala.gov.in'. Adding certificate verification is strongly advised. See: https://urllib3.readthedocs.io/en/latest/advanced-usage.html#tls-warnings\n",
            "  warnings.warn(\n"
          ]
        },
        {
          "output_type": "stream",
          "name": "stdout",
          "text": [
            "https://go.lsgkerala.gov.in/../pages/fileOpen.php?fname=cr20141113_10554.pdf&id=10554\n",
            "https://go.lsgkerala.gov.in/../pages/fileOpen.php?fname=cr20141111_10536.pdf&id=10536\n",
            "https://go.lsgkerala.gov.in/../pages/fileOpen.php?fname=cr20141110_10573.pdf&id=10573\n",
            "https://go.lsgkerala.gov.in/../pages/fileOpen.php?fname=cr20141107_10523.pdf&id=10523\n",
            "https://go.lsgkerala.gov.in/../pages/fileOpen.php?fname=cr20141029_10635.pdf&id=10635\n",
            "https://go.lsgkerala.gov.in/../pages/fileOpen.php?fname=cr20141021_10522.pdf&id=10522\n",
            "https://go.lsgkerala.gov.in/../pages/fileOpen.php?fname=cr20141019_10486.pdf&id=10486\n",
            "https://go.lsgkerala.gov.in/../pages/fileOpen.php?fname=cr20141018_10456.pdf&id=10456\n",
            "https://go.lsgkerala.gov.in/../pages/fileOpen.php?fname=cr20141014_10443.pdf&id=10443\n",
            "https://go.lsgkerala.gov.in/../pages/fileOpen.php?fname=cr20141014_10381.pdf&id=10381\n",
            "https://go.lsgkerala.gov.in/../pages/fileOpen.php?fname=cr20141010_10646.pdf&id=10646\n",
            "https://go.lsgkerala.gov.in/../pages/fileOpen.php?fname=cr20140925_10365.pdf&id=10365\n",
            "https://go.lsgkerala.gov.in/../pages/fileOpen.php?fname=cr20140922_10280.pdf&id=10280\n",
            "https://go.lsgkerala.gov.in/../pages/fileOpen.php?fname=cr20140823_10187.pdf&id=10187\n",
            "https://go.lsgkerala.gov.in/../pages/fileOpen.php?fname=cr20140821_10235.pdf&id=10235\n",
            "https://go.lsgkerala.gov.in/../pages/fileOpen.php?fname=cr20140821_10234.pdf&id=10234\n",
            "https://go.lsgkerala.gov.in/../pages/fileOpen.php?fname=cr20140819_10155.pdf&id=10155\n",
            "https://go.lsgkerala.gov.in/../pages/fileOpen.php?fname=cr20140715_9977.pdf&id=9977\n",
            "https://go.lsgkerala.gov.in/../pages/fileOpen.php?fname=cr20140709_9978.pdf&id=9978\n",
            "https://go.lsgkerala.gov.in/../pages/fileOpen.php?fname=cr20140621_9893.pdf&id=9893\n",
            "20\n"
          ]
        },
        {
          "output_type": "stream",
          "name": "stderr",
          "text": [
            "/usr/local/lib/python3.10/dist-packages/urllib3/connectionpool.py:1100: InsecureRequestWarning: Unverified HTTPS request is being made to host 'go.lsgkerala.gov.in'. Adding certificate verification is strongly advised. See: https://urllib3.readthedocs.io/en/latest/advanced-usage.html#tls-warnings\n",
            "  warnings.warn(\n"
          ]
        },
        {
          "output_type": "stream",
          "name": "stdout",
          "text": [
            "Fetching https://go.lsgkerala.gov.in/pages/orderGlance.php?select=circular&Start=41\n"
          ]
        },
        {
          "output_type": "stream",
          "name": "stderr",
          "text": [
            "/usr/local/lib/python3.10/dist-packages/urllib3/connectionpool.py:1100: InsecureRequestWarning: Unverified HTTPS request is being made to host 'go.lsgkerala.gov.in'. Adding certificate verification is strongly advised. See: https://urllib3.readthedocs.io/en/latest/advanced-usage.html#tls-warnings\n",
            "  warnings.warn(\n"
          ]
        },
        {
          "output_type": "stream",
          "name": "stdout",
          "text": [
            "https://go.lsgkerala.gov.in/../pages/fileOpen.php?fname=cr20140607_9829.pdf&id=9829\n",
            "https://go.lsgkerala.gov.in/../pages/fileOpen.php?fname=cr20140606_9886.pdf&id=9886\n",
            "https://go.lsgkerala.gov.in/../pages/fileOpen.php?fname=cr20140604_9792.pdf&id=9792\n",
            "https://go.lsgkerala.gov.in/../pages/fileOpen.php?fname=cr20140524_9756.pdf&id=9756\n",
            "https://go.lsgkerala.gov.in/../pages/fileOpen.php?fname=cr20140519_9744.pdf&id=9744\n",
            "https://go.lsgkerala.gov.in/../pages/fileOpen.php?fname=cr20140516_9706.pdf&id=9706\n",
            "https://go.lsgkerala.gov.in/../pages/fileOpen.php?fname=cr20140507_10431.pdf&id=10431\n",
            "https://go.lsgkerala.gov.in/../pages/fileOpen.php?fname=cr20140505_9672.pdf&id=9672\n",
            "https://go.lsgkerala.gov.in/../pages/fileOpen.php?fname=cr20140422_9678.pdf&id=9678\n",
            "https://go.lsgkerala.gov.in/../pages/fileOpen.php?fname=cr20140401_9613.pdf&id=9613\n",
            "https://go.lsgkerala.gov.in/../pages/fileOpen.php?fname=cr20140328_9610.pdf&id=9610\n",
            "https://go.lsgkerala.gov.in/../pages/fileOpen.php?fname=cr20140326_9581.pdf&id=9581\n",
            "https://go.lsgkerala.gov.in/../pages/fileOpen.php?fname=cr20140322_9580.pdf&id=9580\n",
            "https://go.lsgkerala.gov.in/../pages/fileOpen.php?fname=cr20140312_9547.pdf&id=9547\n",
            "https://go.lsgkerala.gov.in/../pages/fileOpen.php?fname=cr20140307_9606.pdf&id=9606\n",
            "https://go.lsgkerala.gov.in/../pages/fileOpen.php?fname=cr20140305_9520.pdf&id=9520\n",
            "https://go.lsgkerala.gov.in/../pages/fileOpen.php?fname=cr20140303_9526.pdf&id=9526\n",
            "https://go.lsgkerala.gov.in/../pages/fileOpen.php?fname=cr20140218_9481.pdf&id=9481\n",
            "https://go.lsgkerala.gov.in/../pages/fileOpen.php?fname=cr20140206_9421.pdf&id=9421\n",
            "https://go.lsgkerala.gov.in/../pages/fileOpen.php?fname=cr20140129_9337.pdf&id=9337\n",
            "20\n"
          ]
        },
        {
          "output_type": "stream",
          "name": "stderr",
          "text": [
            "/usr/local/lib/python3.10/dist-packages/urllib3/connectionpool.py:1100: InsecureRequestWarning: Unverified HTTPS request is being made to host 'go.lsgkerala.gov.in'. Adding certificate verification is strongly advised. See: https://urllib3.readthedocs.io/en/latest/advanced-usage.html#tls-warnings\n",
            "  warnings.warn(\n"
          ]
        },
        {
          "output_type": "stream",
          "name": "stdout",
          "text": [
            "Fetching https://go.lsgkerala.gov.in/pages/orderGlance.php?select=circular&Start=42\n"
          ]
        },
        {
          "output_type": "stream",
          "name": "stderr",
          "text": [
            "/usr/local/lib/python3.10/dist-packages/urllib3/connectionpool.py:1100: InsecureRequestWarning: Unverified HTTPS request is being made to host 'go.lsgkerala.gov.in'. Adding certificate verification is strongly advised. See: https://urllib3.readthedocs.io/en/latest/advanced-usage.html#tls-warnings\n",
            "  warnings.warn(\n"
          ]
        },
        {
          "output_type": "stream",
          "name": "stdout",
          "text": [
            "https://go.lsgkerala.gov.in/../pages/fileOpen.php?fname=cr20140122_9336.pdf&id=9336\n",
            "https://go.lsgkerala.gov.in/../pages/fileOpen.php?fname=cr20140122_9322.pdf&id=9322\n",
            "https://go.lsgkerala.gov.in/../pages/fileOpen.php?fname=cr20140110_9489.pdf&id=9489\n",
            "https://go.lsgkerala.gov.in/../pages/fileOpen.php?fname=cr20140110_9294.pdf&id=9294\n",
            "https://go.lsgkerala.gov.in/../pages/fileOpen.php?fname=cr20140110_9279.pdf&id=9279\n",
            "https://go.lsgkerala.gov.in/../pages/fileOpen.php?fname=cr20140109_9353.pdf&id=9353\n",
            "https://go.lsgkerala.gov.in/../pages/fileOpen.php?fname=cr20140103_9253.pdf&id=9253\n",
            "https://go.lsgkerala.gov.in/../pages/fileOpen.php?fname=cr20140102_9259.pdf&id=9259\n",
            "https://go.lsgkerala.gov.in/../pages/fileOpen.php?fname=cr20131230_9245.pdf&id=9245\n",
            "https://go.lsgkerala.gov.in/../pages/fileOpen.php?fname=cr20131226_9234.pdf&id=9234\n",
            "https://go.lsgkerala.gov.in/../pages/fileOpen.php?fname=cr20131216_9236.pdf&id=9236\n",
            "https://go.lsgkerala.gov.in/../pages/fileOpen.php?fname=cr20131213_9208.pdf&id=9208\n",
            "https://go.lsgkerala.gov.in/../pages/fileOpen.php?fname=cr20131209_9204.pdf&id=9204\n",
            "https://go.lsgkerala.gov.in/../pages/fileOpen.php?fname=cr20131209_9157.pdf&id=9157\n",
            "https://go.lsgkerala.gov.in/../pages/fileOpen.php?fname=cr20131204_9156.pdf&id=9156\n",
            "https://go.lsgkerala.gov.in/../pages/fileOpen.php?fname=cr20131203_9182.pdf&id=9182\n",
            "https://go.lsgkerala.gov.in/../pages/fileOpen.php?fname=cr20131127_9174.pdf&id=9174\n",
            "https://go.lsgkerala.gov.in/../pages/fileOpen.php?fname=cr20131116_9186.pdf&id=9186\n",
            "https://go.lsgkerala.gov.in/../pages/fileOpen.php?fname=cr20131112_9075.pdf&id=9075\n",
            "https://go.lsgkerala.gov.in/../pages/fileOpen.php?fname=cr20131111_9093.pdf&id=9093\n",
            "20\n"
          ]
        },
        {
          "output_type": "stream",
          "name": "stderr",
          "text": [
            "/usr/local/lib/python3.10/dist-packages/urllib3/connectionpool.py:1100: InsecureRequestWarning: Unverified HTTPS request is being made to host 'go.lsgkerala.gov.in'. Adding certificate verification is strongly advised. See: https://urllib3.readthedocs.io/en/latest/advanced-usage.html#tls-warnings\n",
            "  warnings.warn(\n"
          ]
        },
        {
          "output_type": "stream",
          "name": "stdout",
          "text": [
            "Fetching https://go.lsgkerala.gov.in/pages/orderGlance.php?select=circular&Start=43\n"
          ]
        },
        {
          "output_type": "stream",
          "name": "stderr",
          "text": [
            "/usr/local/lib/python3.10/dist-packages/urllib3/connectionpool.py:1100: InsecureRequestWarning: Unverified HTTPS request is being made to host 'go.lsgkerala.gov.in'. Adding certificate verification is strongly advised. See: https://urllib3.readthedocs.io/en/latest/advanced-usage.html#tls-warnings\n",
            "  warnings.warn(\n"
          ]
        },
        {
          "output_type": "stream",
          "name": "stdout",
          "text": [
            "https://go.lsgkerala.gov.in/../pages/fileOpen.php?fname=cr20131025_9019.pdf&id=9019\n",
            "https://go.lsgkerala.gov.in/../pages/fileOpen.php?fname=cr20131017_8996.pdf&id=8996\n",
            "https://go.lsgkerala.gov.in/../pages/fileOpen.php?fname=cr20131001_8948.pdf&id=8948\n",
            "https://go.lsgkerala.gov.in/../pages/fileOpen.php?fname=cr20130930_9175.pdf&id=9175\n",
            "https://go.lsgkerala.gov.in/../pages/fileOpen.php?fname=cr20130930_8946.pdf&id=8946\n",
            "https://go.lsgkerala.gov.in/../pages/fileOpen.php?fname=cr20130925_8917.pdf&id=8917\n",
            "https://go.lsgkerala.gov.in/../pages/fileOpen.php?fname=cr20130913_8890.pdf&id=8890\n",
            "https://go.lsgkerala.gov.in/../pages/fileOpen.php?fname=cr20130909_8916.pdf&id=8916\n",
            "https://go.lsgkerala.gov.in/../pages/fileOpen.php?fname=cr20130909_8902.pdf&id=8902\n",
            "https://go.lsgkerala.gov.in/../pages/fileOpen.php?fname=cr20130826_8865.pdf&id=8865\n",
            "https://go.lsgkerala.gov.in/../pages/fileOpen.php?fname=cr20130826_8864.pdf&id=8864\n",
            "https://go.lsgkerala.gov.in/../pages/fileOpen.php?fname=cr20130821_8853.pdf&id=8853\n",
            "https://go.lsgkerala.gov.in/../pages/fileOpen.php?fname=cr20130819_8819.pdf&id=8819\n",
            "https://go.lsgkerala.gov.in/../pages/fileOpen.php?fname=cr20130814_8898.pdf&id=8898\n",
            "https://go.lsgkerala.gov.in/../pages/fileOpen.php?fname=cr20130812_8812.pdf&id=8812\n",
            "https://go.lsgkerala.gov.in/../pages/fileOpen.php?fname=cr20130805_8827.pdf&id=8827\n",
            "https://go.lsgkerala.gov.in/../pages/fileOpen.php?fname=cr20130805_8811.pdf&id=8811\n",
            "https://go.lsgkerala.gov.in/../pages/fileOpen.php?fname=cr20130717_8765.pdf&id=8765\n",
            "https://go.lsgkerala.gov.in/../pages/fileOpen.php?fname=cr20130709_8732.pdf&id=8732\n",
            "https://go.lsgkerala.gov.in/../pages/fileOpen.php?fname=cr20130708_8743.pdf&id=8743\n",
            "20\n"
          ]
        },
        {
          "output_type": "stream",
          "name": "stderr",
          "text": [
            "/usr/local/lib/python3.10/dist-packages/urllib3/connectionpool.py:1100: InsecureRequestWarning: Unverified HTTPS request is being made to host 'go.lsgkerala.gov.in'. Adding certificate verification is strongly advised. See: https://urllib3.readthedocs.io/en/latest/advanced-usage.html#tls-warnings\n",
            "  warnings.warn(\n"
          ]
        },
        {
          "output_type": "stream",
          "name": "stdout",
          "text": [
            "Fetching https://go.lsgkerala.gov.in/pages/orderGlance.php?select=circular&Start=44\n"
          ]
        },
        {
          "output_type": "stream",
          "name": "stderr",
          "text": [
            "/usr/local/lib/python3.10/dist-packages/urllib3/connectionpool.py:1100: InsecureRequestWarning: Unverified HTTPS request is being made to host 'go.lsgkerala.gov.in'. Adding certificate verification is strongly advised. See: https://urllib3.readthedocs.io/en/latest/advanced-usage.html#tls-warnings\n",
            "  warnings.warn(\n"
          ]
        },
        {
          "output_type": "stream",
          "name": "stdout",
          "text": [
            "https://go.lsgkerala.gov.in/../pages/fileOpen.php?fname=cr20130703_8719.pdf&id=8719\n",
            "https://go.lsgkerala.gov.in/../pages/fileOpen.php?fname=cr20130701_8714.pdf&id=8714\n",
            "https://go.lsgkerala.gov.in/../pages/fileOpen.php?fname=cr20130701_8705.pdf&id=8705\n",
            "https://go.lsgkerala.gov.in/../pages/fileOpen.php?fname=cr20130627_8675.pdf&id=8675\n",
            "https://go.lsgkerala.gov.in/../pages/fileOpen.php?fname=cr20130625_8688.pdf&id=8688\n",
            "https://go.lsgkerala.gov.in/../pages/fileOpen.php?fname=cr20130620_8687.pdf&id=8687\n",
            "https://go.lsgkerala.gov.in/../pages/fileOpen.php?fname=cr20130715_8716.pdf&id=8716\n",
            "https://go.lsgkerala.gov.in/../pages/fileOpen.php?fname=cr20130615_8713.pdf&id=8713\n",
            "https://go.lsgkerala.gov.in/../pages/fileOpen.php?fname=cr20130614_8633.pdf&id=8633\n",
            "https://go.lsgkerala.gov.in/../pages/fileOpen.php?fname=cr20130614_8632.pdf&id=8632\n",
            "https://go.lsgkerala.gov.in/../pages/fileOpen.php?fname=cr20130612_8627.pdf&id=8627\n",
            "https://go.lsgkerala.gov.in/../pages/fileOpen.php?fname=cr20130531_8622.pdf&id=8622\n",
            "https://go.lsgkerala.gov.in/../pages/fileOpen.php?fname=cr20130531_8590.pdf&id=8590\n",
            "https://go.lsgkerala.gov.in/../pages/fileOpen.php?fname=cr20130530_8582.pdf&id=8582\n",
            "https://go.lsgkerala.gov.in/../pages/fileOpen.php?fname=cr20130530_8578.pdf&id=8578\n",
            "https://go.lsgkerala.gov.in/../pages/fileOpen.php?fname=cr20130520_8567.pdf&id=8567\n",
            "https://go.lsgkerala.gov.in/../pages/fileOpen.php?fname=cr20130514_8521.pdf&id=8521\n",
            "https://go.lsgkerala.gov.in/../pages/fileOpen.php?fname=cr20130507_8504.pdf&id=8504\n",
            "https://go.lsgkerala.gov.in/../pages/fileOpen.php?fname=cr20130503_8515.pdf&id=8515\n",
            "https://go.lsgkerala.gov.in/../pages/fileOpen.php?fname=cr20130502_8498.pdf&id=8498\n",
            "20\n"
          ]
        },
        {
          "output_type": "stream",
          "name": "stderr",
          "text": [
            "/usr/local/lib/python3.10/dist-packages/urllib3/connectionpool.py:1100: InsecureRequestWarning: Unverified HTTPS request is being made to host 'go.lsgkerala.gov.in'. Adding certificate verification is strongly advised. See: https://urllib3.readthedocs.io/en/latest/advanced-usage.html#tls-warnings\n",
            "  warnings.warn(\n"
          ]
        },
        {
          "output_type": "stream",
          "name": "stdout",
          "text": [
            "Fetching https://go.lsgkerala.gov.in/pages/orderGlance.php?select=circular&Start=45\n"
          ]
        },
        {
          "output_type": "stream",
          "name": "stderr",
          "text": [
            "/usr/local/lib/python3.10/dist-packages/urllib3/connectionpool.py:1100: InsecureRequestWarning: Unverified HTTPS request is being made to host 'go.lsgkerala.gov.in'. Adding certificate verification is strongly advised. See: https://urllib3.readthedocs.io/en/latest/advanced-usage.html#tls-warnings\n",
            "  warnings.warn(\n"
          ]
        },
        {
          "output_type": "stream",
          "name": "stdout",
          "text": [
            "https://go.lsgkerala.gov.in/../pages/fileOpen.php?fname=cr20130426_8496.pdf&id=8496\n",
            "https://go.lsgkerala.gov.in/../pages/fileOpen.php?fname=cr20130424_8475.pdf&id=8475\n",
            "https://go.lsgkerala.gov.in/../pages/fileOpen.php?fname=cr20130418_8440.pdf&id=8440\n",
            "https://go.lsgkerala.gov.in/../pages/fileOpen.php?fname=cr20130402_8406.pdf&id=8406\n",
            "https://go.lsgkerala.gov.in/../pages/fileOpen.php?fname=cr20130330_8345.pdf&id=8345\n",
            "https://go.lsgkerala.gov.in/../pages/fileOpen.php?fname=cr20130321_8344.pdf&id=8344\n",
            "https://go.lsgkerala.gov.in/../pages/fileOpen.php?fname=cr20130319_8309.pdf&id=8309\n",
            "https://go.lsgkerala.gov.in/../pages/fileOpen.php?fname=cr20130315_8379.pdf&id=8379\n",
            "https://go.lsgkerala.gov.in/../pages/fileOpen.php?fname=cr20130312_8271.pdf&id=8271\n",
            "https://go.lsgkerala.gov.in/../pages/fileOpen.php?fname=cr20130311_8274.pdf&id=8274\n",
            "https://go.lsgkerala.gov.in/../pages/fileOpen.php?fname=cr20130308_8279.pdf&id=8279\n",
            "https://go.lsgkerala.gov.in/../pages/fileOpen.php?fname=cr20130307_8270.pdf&id=8270\n",
            "https://go.lsgkerala.gov.in/../pages/fileOpen.php?fname=cr20130306_8243.pdf&id=8243\n",
            "https://go.lsgkerala.gov.in/../pages/fileOpen.php?fname=cr20130305_8251.pdf&id=8251\n",
            "https://go.lsgkerala.gov.in/../pages/fileOpen.php?fname=cr20130304_8250.pdf&id=8250\n",
            "https://go.lsgkerala.gov.in/../pages/fileOpen.php?fname=cr20130219_8227.pdf&id=8227\n",
            "https://go.lsgkerala.gov.in/../pages/fileOpen.php?fname=cr20130213_8198.pdf&id=8198\n",
            "https://go.lsgkerala.gov.in/../pages/fileOpen.php?fname=cr20130205_8186.pdf&id=8186\n",
            "https://go.lsgkerala.gov.in/../pages/fileOpen.php?fname=cr20130205_8178.pdf&id=8178\n",
            "https://go.lsgkerala.gov.in/../pages/fileOpen.php?fname=cr20130130_8130.pdf&id=8130\n",
            "20\n"
          ]
        },
        {
          "output_type": "stream",
          "name": "stderr",
          "text": [
            "/usr/local/lib/python3.10/dist-packages/urllib3/connectionpool.py:1100: InsecureRequestWarning: Unverified HTTPS request is being made to host 'go.lsgkerala.gov.in'. Adding certificate verification is strongly advised. See: https://urllib3.readthedocs.io/en/latest/advanced-usage.html#tls-warnings\n",
            "  warnings.warn(\n"
          ]
        },
        {
          "output_type": "stream",
          "name": "stdout",
          "text": [
            "Fetching https://go.lsgkerala.gov.in/pages/orderGlance.php?select=circular&Start=46\n"
          ]
        },
        {
          "output_type": "stream",
          "name": "stderr",
          "text": [
            "/usr/local/lib/python3.10/dist-packages/urllib3/connectionpool.py:1100: InsecureRequestWarning: Unverified HTTPS request is being made to host 'go.lsgkerala.gov.in'. Adding certificate verification is strongly advised. See: https://urllib3.readthedocs.io/en/latest/advanced-usage.html#tls-warnings\n",
            "  warnings.warn(\n"
          ]
        },
        {
          "output_type": "stream",
          "name": "stdout",
          "text": [
            "https://go.lsgkerala.gov.in/../pages/fileOpen.php?fname=cr20130130_8123.pdf&id=8123\n",
            "https://go.lsgkerala.gov.in/../pages/fileOpen.php?fname=cr20130129_8156.pdf&id=8156\n",
            "https://go.lsgkerala.gov.in/../pages/fileOpen.php?fname=cr20130126_9187.pdf&id=9187\n",
            "https://go.lsgkerala.gov.in/../pages/fileOpen.php?fname=cr20130123_8119.pdf&id=8119\n",
            "https://go.lsgkerala.gov.in/../pages/fileOpen.php?fname=cr20121210_8023.pdf&id=8023\n",
            "https://go.lsgkerala.gov.in/../pages/fileOpen.php?fname=cr20121128_7984.pdf&id=7984\n",
            "https://go.lsgkerala.gov.in/../pages/fileOpen.php?fname=cr20121126_8144.pdf&id=8144\n",
            "https://go.lsgkerala.gov.in/../pages/fileOpen.php?fname=cr20121123_7982.pdf&id=7982\n",
            "https://go.lsgkerala.gov.in/../pages/fileOpen.php?fname=cr20121117_7962.pdf&id=7962\n",
            "https://go.lsgkerala.gov.in/../pages/fileOpen.php?fname=cr20121030_7926.pdf&id=7926\n",
            "https://go.lsgkerala.gov.in/../pages/fileOpen.php?fname=cr20121027_7988.pdf&id=7988\n",
            "https://go.lsgkerala.gov.in/../pages/fileOpen.php?fname=cr20121022_7976.pdf&id=7976\n",
            "https://go.lsgkerala.gov.in/../pages/fileOpen.php?fname=cr20121017_7979.pdf&id=7979\n",
            "https://go.lsgkerala.gov.in/../pages/fileOpen.php?fname=cr20121016_7937.pdf&id=7937\n",
            "https://go.lsgkerala.gov.in/../pages/fileOpen.php?fname=cr20121016_7911.pdf&id=7911\n",
            "https://go.lsgkerala.gov.in/../pages/fileOpen.php?fname=cr20121011_7925.pdf&id=7925\n",
            "https://go.lsgkerala.gov.in/../pages/fileOpen.php?fname=cr20121008_7895.pdf&id=7895\n",
            "https://go.lsgkerala.gov.in/../pages/fileOpen.php?fname=cr20120922_7966.pdf&id=7966\n",
            "https://go.lsgkerala.gov.in/../pages/fileOpen.php?fname=cr20120918_7894.pdf&id=7894\n",
            "https://go.lsgkerala.gov.in/../pages/fileOpen.php?fname=cr20120917_7853.pdf&id=7853\n",
            "20\n"
          ]
        },
        {
          "output_type": "stream",
          "name": "stderr",
          "text": [
            "/usr/local/lib/python3.10/dist-packages/urllib3/connectionpool.py:1100: InsecureRequestWarning: Unverified HTTPS request is being made to host 'go.lsgkerala.gov.in'. Adding certificate verification is strongly advised. See: https://urllib3.readthedocs.io/en/latest/advanced-usage.html#tls-warnings\n",
            "  warnings.warn(\n"
          ]
        },
        {
          "output_type": "stream",
          "name": "stdout",
          "text": [
            "Fetching https://go.lsgkerala.gov.in/pages/orderGlance.php?select=circular&Start=47\n"
          ]
        },
        {
          "output_type": "stream",
          "name": "stderr",
          "text": [
            "/usr/local/lib/python3.10/dist-packages/urllib3/connectionpool.py:1100: InsecureRequestWarning: Unverified HTTPS request is being made to host 'go.lsgkerala.gov.in'. Adding certificate verification is strongly advised. See: https://urllib3.readthedocs.io/en/latest/advanced-usage.html#tls-warnings\n",
            "  warnings.warn(\n"
          ]
        },
        {
          "output_type": "stream",
          "name": "stdout",
          "text": [
            "https://go.lsgkerala.gov.in/../pages/fileOpen.php?fname=cr20120906_7840.pdf&id=7840\n",
            "https://go.lsgkerala.gov.in/../pages/fileOpen.php?fname=cr20120906_7831.pdf&id=7831\n",
            "https://go.lsgkerala.gov.in/../pages/fileOpen.php?fname=cr20120905_7835.pdf&id=7835\n",
            "https://go.lsgkerala.gov.in/../pages/fileOpen.php?fname=cr20120901_7836.pdf&id=7836\n",
            "https://go.lsgkerala.gov.in/../pages/fileOpen.php?fname=cr20120827_7832.pdf&id=7832\n",
            "https://go.lsgkerala.gov.in/../pages/fileOpen.php?fname=cr20120804_7797.pdf&id=7797\n",
            "https://go.lsgkerala.gov.in/../pages/fileOpen.php?fname=cr20120725_7784.pdf&id=7784\n",
            "https://go.lsgkerala.gov.in/../pages/fileOpen.php?fname=cr20120704_7747.pdf&id=7747\n",
            "https://go.lsgkerala.gov.in/../pages/fileOpen.php?fname=cr20120702_7743.pdf&id=7743\n",
            "https://go.lsgkerala.gov.in/../pages/fileOpen.php?fname=cr20120630_7754.pdf&id=7754\n",
            "https://go.lsgkerala.gov.in/../pages/fileOpen.php?fname=cr20120630_7753.pdf&id=7753\n",
            "https://go.lsgkerala.gov.in/../pages/fileOpen.php?fname=cr20120612_7750.pdf&id=7750\n",
            "https://go.lsgkerala.gov.in/../pages/fileOpen.php?fname=cr20120612_7733.pdf&id=7733\n",
            "https://go.lsgkerala.gov.in/../pages/fileOpen.php?fname=cr20120605_7681.pdf&id=7681\n",
            "https://go.lsgkerala.gov.in/../pages/fileOpen.php?fname=cr20120604_7687.pdf&id=7687\n",
            "https://go.lsgkerala.gov.in/../pages/fileOpen.php?fname=cr20120531_7671.pdf&id=7671\n",
            "https://go.lsgkerala.gov.in/../pages/fileOpen.php?fname=cr20120523_7666.pdf&id=7666\n",
            "https://go.lsgkerala.gov.in/../pages/fileOpen.php?fname=cr20120523_7659.pdf&id=7659\n",
            "https://go.lsgkerala.gov.in/../pages/fileOpen.php?fname=cr20120516_7657.pdf&id=7657\n",
            "https://go.lsgkerala.gov.in/../pages/fileOpen.php?fname=cr20120507_7644.pdf&id=7644\n",
            "20\n"
          ]
        },
        {
          "output_type": "stream",
          "name": "stderr",
          "text": [
            "/usr/local/lib/python3.10/dist-packages/urllib3/connectionpool.py:1100: InsecureRequestWarning: Unverified HTTPS request is being made to host 'go.lsgkerala.gov.in'. Adding certificate verification is strongly advised. See: https://urllib3.readthedocs.io/en/latest/advanced-usage.html#tls-warnings\n",
            "  warnings.warn(\n"
          ]
        },
        {
          "output_type": "stream",
          "name": "stdout",
          "text": [
            "Fetching https://go.lsgkerala.gov.in/pages/orderGlance.php?select=circular&Start=48\n"
          ]
        },
        {
          "output_type": "stream",
          "name": "stderr",
          "text": [
            "/usr/local/lib/python3.10/dist-packages/urllib3/connectionpool.py:1100: InsecureRequestWarning: Unverified HTTPS request is being made to host 'go.lsgkerala.gov.in'. Adding certificate verification is strongly advised. See: https://urllib3.readthedocs.io/en/latest/advanced-usage.html#tls-warnings\n",
            "  warnings.warn(\n"
          ]
        },
        {
          "output_type": "stream",
          "name": "stdout",
          "text": [
            "https://go.lsgkerala.gov.in/../pages/fileOpen.php?fname=cr20120504_7619.pdf&id=7619\n",
            "https://go.lsgkerala.gov.in/../pages/fileOpen.php?fname=cr20120503_7628.pdf&id=7628\n",
            "https://go.lsgkerala.gov.in/../pages/fileOpen.php?fname=cr20120427_7616.pdf&id=7616\n",
            "https://go.lsgkerala.gov.in/../pages/fileOpen.php?fname=cr20120426_7650.pdf&id=7650\n",
            "https://go.lsgkerala.gov.in/../pages/fileOpen.php?fname=cr20120421_7601.pdf&id=7601\n",
            "https://go.lsgkerala.gov.in/../pages/fileOpen.php?fname=cr20120418_7596.pdf&id=7596\n",
            "https://go.lsgkerala.gov.in/../pages/fileOpen.php?fname=cr20120413_7585.pdf&id=7585\n",
            "https://go.lsgkerala.gov.in/../pages/fileOpen.php?fname=cr20120412_7610.pdf&id=7610\n",
            "https://go.lsgkerala.gov.in/../pages/fileOpen.php?fname=cr20120410_7589.pdf&id=7589\n",
            "https://go.lsgkerala.gov.in/../pages/fileOpen.php?fname=cr20120409_7582.pdf&id=7582\n",
            "https://go.lsgkerala.gov.in/../pages/fileOpen.php?fname=cr20120403_7595.pdf&id=7595\n",
            "https://go.lsgkerala.gov.in/../pages/fileOpen.php?fname=cr20120331_7602.pdf&id=7602\n",
            "https://go.lsgkerala.gov.in/../pages/fileOpen.php?fname=cr20120330_7560.pdf&id=7560\n",
            "https://go.lsgkerala.gov.in/../pages/fileOpen.php?fname=cr20120327_7535.pdf&id=7535\n",
            "https://go.lsgkerala.gov.in/../pages/fileOpen.php?fname=cr20120326_7577.pdf&id=7577\n",
            "https://go.lsgkerala.gov.in/../pages/fileOpen.php?fname=cr20120326_7534.pdf&id=7534\n",
            "https://go.lsgkerala.gov.in/../pages/fileOpen.php?fname=cr20120308_9997.pdf&id=9997\n",
            "https://go.lsgkerala.gov.in/../pages/fileOpen.php?fname=cr20120303_7451.pdf&id=7451\n",
            "https://go.lsgkerala.gov.in/../pages/fileOpen.php?fname=cr20120214_7409.pdf&id=7409\n",
            "https://go.lsgkerala.gov.in/../pages/fileOpen.php?fname=cr20120213_7380.pdf&id=7380\n",
            "20\n"
          ]
        },
        {
          "output_type": "stream",
          "name": "stderr",
          "text": [
            "/usr/local/lib/python3.10/dist-packages/urllib3/connectionpool.py:1100: InsecureRequestWarning: Unverified HTTPS request is being made to host 'go.lsgkerala.gov.in'. Adding certificate verification is strongly advised. See: https://urllib3.readthedocs.io/en/latest/advanced-usage.html#tls-warnings\n",
            "  warnings.warn(\n"
          ]
        },
        {
          "output_type": "stream",
          "name": "stdout",
          "text": [
            "Fetching https://go.lsgkerala.gov.in/pages/orderGlance.php?select=circular&Start=49\n"
          ]
        },
        {
          "output_type": "stream",
          "name": "stderr",
          "text": [
            "/usr/local/lib/python3.10/dist-packages/urllib3/connectionpool.py:1100: InsecureRequestWarning: Unverified HTTPS request is being made to host 'go.lsgkerala.gov.in'. Adding certificate verification is strongly advised. See: https://urllib3.readthedocs.io/en/latest/advanced-usage.html#tls-warnings\n",
            "  warnings.warn(\n"
          ]
        },
        {
          "output_type": "stream",
          "name": "stdout",
          "text": [
            "https://go.lsgkerala.gov.in/../pages/fileOpen.php?fname=cr20120202_7388.pdf&id=7388\n",
            "https://go.lsgkerala.gov.in/../pages/fileOpen.php?fname=cr20120201_7367.pdf&id=7367\n",
            "https://go.lsgkerala.gov.in/../pages/fileOpen.php?fname=cr20120123_7347.pdf&id=7347\n",
            "https://go.lsgkerala.gov.in/../pages/fileOpen.php?fname=cr20120110_7368.pdf&id=7368\n",
            "https://go.lsgkerala.gov.in/../pages/fileOpen.php?fname=cr20120110_7330.pdf&id=7330\n",
            "https://go.lsgkerala.gov.in/../pages/fileOpen.php?fname=cr20120102_7316.pdf&id=7316\n",
            "https://go.lsgkerala.gov.in/../pages/fileOpen.php?fname=cr20111229_7310.pdf&id=7310\n",
            "https://go.lsgkerala.gov.in/../pages/fileOpen.php?fname=cr20111229_7306.pdf&id=7306\n",
            "https://go.lsgkerala.gov.in/../pages/fileOpen.php?fname=cr20111229_7300.pdf&id=7300\n",
            "https://go.lsgkerala.gov.in/../pages/fileOpen.php?fname=cr20111224_7320.pdf&id=7320\n",
            "https://go.lsgkerala.gov.in/../pages/fileOpen.php?fname=cr20111221_7294.pdf&id=7294\n",
            "https://go.lsgkerala.gov.in/../pages/fileOpen.php?fname=cr20111219_7291.pdf&id=7291\n",
            "https://go.lsgkerala.gov.in/../pages/fileOpen.php?fname=cr20111214_7288.pdf&id=7288\n",
            "https://go.lsgkerala.gov.in/../pages/fileOpen.php?fname=cr20111214_7284.pdf&id=7284\n",
            "https://go.lsgkerala.gov.in/../pages/fileOpen.php?fname=cr20111209_7278.pdf&id=7278\n",
            "https://go.lsgkerala.gov.in/../pages/fileOpen.php?fname=cr20111208_7372.pdf&id=7372\n",
            "https://go.lsgkerala.gov.in/../pages/fileOpen.php?fname=cr20111202_7267.pdf&id=7267\n",
            "https://go.lsgkerala.gov.in/../pages/fileOpen.php?fname=cr20111201_7266.pdf&id=7266\n",
            "https://go.lsgkerala.gov.in/../pages/fileOpen.php?fname=cr20111130_7285.pdf&id=7285\n",
            "https://go.lsgkerala.gov.in/../pages/fileOpen.php?fname=cr20111124_7270.pdf&id=7270\n",
            "20\n"
          ]
        },
        {
          "output_type": "stream",
          "name": "stderr",
          "text": [
            "/usr/local/lib/python3.10/dist-packages/urllib3/connectionpool.py:1100: InsecureRequestWarning: Unverified HTTPS request is being made to host 'go.lsgkerala.gov.in'. Adding certificate verification is strongly advised. See: https://urllib3.readthedocs.io/en/latest/advanced-usage.html#tls-warnings\n",
            "  warnings.warn(\n"
          ]
        },
        {
          "output_type": "stream",
          "name": "stdout",
          "text": [
            "Fetching https://go.lsgkerala.gov.in/pages/orderGlance.php?select=circular&Start=50\n"
          ]
        },
        {
          "output_type": "stream",
          "name": "stderr",
          "text": [
            "/usr/local/lib/python3.10/dist-packages/urllib3/connectionpool.py:1100: InsecureRequestWarning: Unverified HTTPS request is being made to host 'go.lsgkerala.gov.in'. Adding certificate verification is strongly advised. See: https://urllib3.readthedocs.io/en/latest/advanced-usage.html#tls-warnings\n",
            "  warnings.warn(\n"
          ]
        },
        {
          "output_type": "stream",
          "name": "stdout",
          "text": [
            "https://go.lsgkerala.gov.in/../pages/fileOpen.php?fname=cr20111110_7252.pdf&id=7252\n",
            "https://go.lsgkerala.gov.in/../pages/fileOpen.php?fname=cr20111109_7303.pdf&id=7303\n",
            "https://go.lsgkerala.gov.in/../pages/fileOpen.php?fname=cr20111102_7253.pdf&id=7253\n",
            "https://go.lsgkerala.gov.in/../pages/fileOpen.php?fname=cr20111013_7244.pdf&id=7244\n",
            "https://go.lsgkerala.gov.in/../pages/fileOpen.php?fname=cr20110915_7224.pdf&id=7224\n",
            "https://go.lsgkerala.gov.in/../pages/fileOpen.php?fname=cr20110809_7213.pdf&id=7213\n",
            "https://go.lsgkerala.gov.in/../pages/fileOpen.php?fname=cr20110806_7364.pdf&id=7364\n",
            "https://go.lsgkerala.gov.in/../pages/fileOpen.php?fname=cr20110806_7201.pdf&id=7201\n",
            "https://go.lsgkerala.gov.in/../pages/fileOpen.php?fname=cr20110804_7195.pdf&id=7195\n",
            "https://go.lsgkerala.gov.in/../pages/fileOpen.php?fname=cr20110722_7188.pdf&id=7188\n",
            "https://go.lsgkerala.gov.in/../pages/fileOpen.php?fname=cr20110715_7194.pdf&id=7194\n",
            "https://go.lsgkerala.gov.in/../pages/fileOpen.php?fname=cr20110713_7184.pdf&id=7184\n",
            "https://go.lsgkerala.gov.in/../pages/fileOpen.php?fname=cr20110708_7180.pdf&id=7180\n",
            "https://go.lsgkerala.gov.in/../pages/fileOpen.php?fname=cr20110707_7181.pdf&id=7181\n",
            "https://go.lsgkerala.gov.in/../pages/fileOpen.php?fname=cr20110701_7174.pdf&id=7174\n",
            "https://go.lsgkerala.gov.in/../pages/fileOpen.php?fname=cr20110701_7169.pdf&id=7169\n",
            "https://go.lsgkerala.gov.in/../pages/fileOpen.php?fname=cr20110625_7171.pdf&id=7171\n",
            "https://go.lsgkerala.gov.in/../pages/fileOpen.php?fname=cr20110624_7165.pdf&id=7165\n",
            "https://go.lsgkerala.gov.in/../pages/fileOpen.php?fname=cr20110622_7168.pdf&id=7168\n",
            "https://go.lsgkerala.gov.in/../pages/fileOpen.php?fname=cr20110616_7161.pdf&id=7161\n",
            "20\n"
          ]
        },
        {
          "output_type": "stream",
          "name": "stderr",
          "text": [
            "/usr/local/lib/python3.10/dist-packages/urllib3/connectionpool.py:1100: InsecureRequestWarning: Unverified HTTPS request is being made to host 'go.lsgkerala.gov.in'. Adding certificate verification is strongly advised. See: https://urllib3.readthedocs.io/en/latest/advanced-usage.html#tls-warnings\n",
            "  warnings.warn(\n"
          ]
        },
        {
          "output_type": "stream",
          "name": "stdout",
          "text": [
            "Fetching https://go.lsgkerala.gov.in/pages/orderGlance.php?select=circular&Start=51\n"
          ]
        },
        {
          "output_type": "stream",
          "name": "stderr",
          "text": [
            "/usr/local/lib/python3.10/dist-packages/urllib3/connectionpool.py:1100: InsecureRequestWarning: Unverified HTTPS request is being made to host 'go.lsgkerala.gov.in'. Adding certificate verification is strongly advised. See: https://urllib3.readthedocs.io/en/latest/advanced-usage.html#tls-warnings\n",
            "  warnings.warn(\n"
          ]
        },
        {
          "output_type": "stream",
          "name": "stdout",
          "text": [
            "https://go.lsgkerala.gov.in/../pages/fileOpen.php?fname=cr20110607_7157.pdf&id=7157\n",
            "https://go.lsgkerala.gov.in/../pages/fileOpen.php?fname=cr20110604_7162.pdf&id=7162\n",
            "https://go.lsgkerala.gov.in/../pages/fileOpen.php?fname=cr20110526_7153.pdf&id=7153\n",
            "https://go.lsgkerala.gov.in/../pages/fileOpen.php?fname=cr20110516_8938.pdf&id=8938\n",
            "https://go.lsgkerala.gov.in/../pages/fileOpen.php?fname=cr20110516_7143.pdf&id=7143\n",
            "https://go.lsgkerala.gov.in/../pages/fileOpen.php?fname=cr20110513_7154.pdf&id=7154\n",
            "https://go.lsgkerala.gov.in/../pages/fileOpen.php?fname=cr20110511_7140.pdf&id=7140\n",
            "https://go.lsgkerala.gov.in/../pages/fileOpen.php?fname=cr20110510_7142.pdf&id=7142\n",
            "https://go.lsgkerala.gov.in/../pages/fileOpen.php?fname=cr20110510_7138.pdf&id=7138\n",
            "https://go.lsgkerala.gov.in/../pages/fileOpen.php?fname=cr20110509_7139.pdf&id=7139\n",
            "https://go.lsgkerala.gov.in/../pages/fileOpen.php?fname=cr20110504_7137.pdf&id=7137\n",
            "https://go.lsgkerala.gov.in/../pages/fileOpen.php?fname=cr20110504_7136.pdf&id=7136\n",
            "https://go.lsgkerala.gov.in/../pages/fileOpen.php?fname=cr20110503_7133.pdf&id=7133\n",
            "https://go.lsgkerala.gov.in/../pages/fileOpen.php?fname=cr20110502_7132.pdf&id=7132\n",
            "https://go.lsgkerala.gov.in/../pages/fileOpen.php?fname=cr20110428_7131.pdf&id=7131\n",
            "https://go.lsgkerala.gov.in/../pages/fileOpen.php?fname=cr20110426_7148.pdf&id=7148\n",
            "https://go.lsgkerala.gov.in/../pages/fileOpen.php?fname=cr20110420_7149.pdf&id=7149\n",
            "https://go.lsgkerala.gov.in/../pages/fileOpen.php?fname=cr20110416_7130.pdf&id=7130\n",
            "https://go.lsgkerala.gov.in/../pages/fileOpen.php?fname=cr20110411_7129.pdf&id=7129\n",
            "https://go.lsgkerala.gov.in/../pages/fileOpen.php?fname=cr20110401_7119.pdf&id=7119\n",
            "20\n"
          ]
        },
        {
          "output_type": "stream",
          "name": "stderr",
          "text": [
            "/usr/local/lib/python3.10/dist-packages/urllib3/connectionpool.py:1100: InsecureRequestWarning: Unverified HTTPS request is being made to host 'go.lsgkerala.gov.in'. Adding certificate verification is strongly advised. See: https://urllib3.readthedocs.io/en/latest/advanced-usage.html#tls-warnings\n",
            "  warnings.warn(\n"
          ]
        },
        {
          "output_type": "stream",
          "name": "stdout",
          "text": [
            "Fetching https://go.lsgkerala.gov.in/pages/orderGlance.php?select=circular&Start=52\n"
          ]
        },
        {
          "output_type": "stream",
          "name": "stderr",
          "text": [
            "/usr/local/lib/python3.10/dist-packages/urllib3/connectionpool.py:1100: InsecureRequestWarning: Unverified HTTPS request is being made to host 'go.lsgkerala.gov.in'. Adding certificate verification is strongly advised. See: https://urllib3.readthedocs.io/en/latest/advanced-usage.html#tls-warnings\n",
            "  warnings.warn(\n"
          ]
        },
        {
          "output_type": "stream",
          "name": "stdout",
          "text": [
            "https://go.lsgkerala.gov.in/../pages/fileOpen.php?fname=cr20110330_7122.pdf&id=7122\n",
            "https://go.lsgkerala.gov.in/../pages/fileOpen.php?fname=cr20110329_7113.pdf&id=7113\n",
            "https://go.lsgkerala.gov.in/../pages/fileOpen.php?fname=cr20110322_7111.pdf&id=7111\n",
            "https://go.lsgkerala.gov.in/../pages/fileOpen.php?fname=cr20110316_7101.pdf&id=7101\n",
            "https://go.lsgkerala.gov.in/../pages/fileOpen.php?fname=cr20110304_7092.pdf&id=7092\n",
            "https://go.lsgkerala.gov.in/../pages/fileOpen.php?fname=cr20110301_7089.pdf&id=7089\n",
            "https://go.lsgkerala.gov.in/../pages/fileOpen.php?fname=cr20110301_7087.pdf&id=7087\n",
            "https://go.lsgkerala.gov.in/../pages/fileOpen.php?fname=cr20110228_7091.pdf&id=7091\n",
            "https://go.lsgkerala.gov.in/../pages/fileOpen.php?fname=cr20110224_7078.pdf&id=7078\n",
            "https://go.lsgkerala.gov.in/../pages/fileOpen.php?fname=cr20110223_7075.pdf&id=7075\n",
            "https://go.lsgkerala.gov.in/../pages/fileOpen.php?fname=cr20110217_7061.pdf&id=7061\n",
            "https://go.lsgkerala.gov.in/../pages/fileOpen.php?fname=cr20110212_7074.pdf&id=7074\n",
            "https://go.lsgkerala.gov.in/../pages/fileOpen.php?fname=cr20110212_7071.pdf&id=7071\n",
            "https://go.lsgkerala.gov.in/../pages/fileOpen.php?fname=cr20110202_7054.pdf&id=7054\n",
            "https://go.lsgkerala.gov.in/../pages/fileOpen.php?fname=cr20110201_7093.pdf&id=7093\n",
            "https://go.lsgkerala.gov.in/../pages/fileOpen.php?fname=cr20110122_7039.pdf&id=7039\n",
            "https://go.lsgkerala.gov.in/../pages/fileOpen.php?fname=cr20110122_7038.pdf&id=7038\n",
            "https://go.lsgkerala.gov.in/../pages/fileOpen.php?fname=cr20110117_7104.pdf&id=7104\n",
            "https://go.lsgkerala.gov.in/../pages/fileOpen.php?fname=cr20110117_7053.pdf&id=7053\n",
            "https://go.lsgkerala.gov.in/../pages/fileOpen.php?fname=cr20110113_7031.pdf&id=7031\n",
            "20\n"
          ]
        },
        {
          "output_type": "stream",
          "name": "stderr",
          "text": [
            "/usr/local/lib/python3.10/dist-packages/urllib3/connectionpool.py:1100: InsecureRequestWarning: Unverified HTTPS request is being made to host 'go.lsgkerala.gov.in'. Adding certificate verification is strongly advised. See: https://urllib3.readthedocs.io/en/latest/advanced-usage.html#tls-warnings\n",
            "  warnings.warn(\n"
          ]
        },
        {
          "output_type": "stream",
          "name": "stdout",
          "text": [
            "Fetching https://go.lsgkerala.gov.in/pages/orderGlance.php?select=circular&Start=53\n"
          ]
        },
        {
          "output_type": "stream",
          "name": "stderr",
          "text": [
            "/usr/local/lib/python3.10/dist-packages/urllib3/connectionpool.py:1100: InsecureRequestWarning: Unverified HTTPS request is being made to host 'go.lsgkerala.gov.in'. Adding certificate verification is strongly advised. See: https://urllib3.readthedocs.io/en/latest/advanced-usage.html#tls-warnings\n",
            "  warnings.warn(\n"
          ]
        },
        {
          "output_type": "stream",
          "name": "stdout",
          "text": [
            "https://go.lsgkerala.gov.in/../pages/fileOpen.php?fname=cr20110110_7027.pdf&id=7027\n",
            "https://go.lsgkerala.gov.in/../pages/fileOpen.php?fname=cr20110106_7060.pdf&id=7060\n",
            "https://go.lsgkerala.gov.in/../pages/fileOpen.php?fname=cr20110106_7028.pdf&id=7028\n",
            "https://go.lsgkerala.gov.in/../pages/fileOpen.php?fname=cr20110106_7026.pdf&id=7026\n",
            "https://go.lsgkerala.gov.in/../pages/fileOpen.php?fname=cr20110103_7021.pdf&id=7021\n",
            "https://go.lsgkerala.gov.in/../pages/fileOpen.php?fname=cr20101229_7007.pdf&id=7007\n",
            "https://go.lsgkerala.gov.in/../pages/fileOpen.php?fname=cr20101223_7022.pdf&id=7022\n",
            "https://go.lsgkerala.gov.in/../pages/fileOpen.php?fname=cr20101208_6980.pdf&id=6980\n",
            "https://go.lsgkerala.gov.in/../pages/fileOpen.php?fname=cr20101202_6982.pdf&id=6982\n",
            "https://go.lsgkerala.gov.in/../pages/fileOpen.php?fname=cr20101127_6968.pdf&id=6968\n",
            "https://go.lsgkerala.gov.in/../pages/fileOpen.php?fname=cr20101126_6994.pdf&id=6994\n",
            "https://go.lsgkerala.gov.in/../pages/fileOpen.php?fname=cr20101125_6997.pdf&id=6997\n",
            "https://go.lsgkerala.gov.in/../pages/fileOpen.php?fname=cr20101122_6964.pdf&id=6964\n",
            "https://go.lsgkerala.gov.in/../pages/fileOpen.php?fname=cr20101119_36515.pdf&id=36515\n",
            "https://go.lsgkerala.gov.in/../pages/fileOpen.php?fname=cr20101118_6975.pdf&id=6975\n",
            "https://go.lsgkerala.gov.in/../pages/fileOpen.php?fname=cr20101118_6950.pdf&id=6950\n",
            "https://go.lsgkerala.gov.in/../pages/fileOpen.php?fname=cr20101111_6952.pdf&id=6952\n",
            "https://go.lsgkerala.gov.in/../pages/fileOpen.php?fname=cr20101104_6965.pdf&id=6965\n",
            "https://go.lsgkerala.gov.in/../pages/fileOpen.php?fname=cr20101103_6918.pdf&id=6918\n",
            "https://go.lsgkerala.gov.in/../pages/fileOpen.php?fname=cr20101103_6916.pdf&id=6916\n",
            "20\n"
          ]
        },
        {
          "output_type": "stream",
          "name": "stderr",
          "text": [
            "/usr/local/lib/python3.10/dist-packages/urllib3/connectionpool.py:1100: InsecureRequestWarning: Unverified HTTPS request is being made to host 'go.lsgkerala.gov.in'. Adding certificate verification is strongly advised. See: https://urllib3.readthedocs.io/en/latest/advanced-usage.html#tls-warnings\n",
            "  warnings.warn(\n"
          ]
        },
        {
          "output_type": "stream",
          "name": "stdout",
          "text": [
            "Fetching https://go.lsgkerala.gov.in/pages/orderGlance.php?select=circular&Start=54\n"
          ]
        },
        {
          "output_type": "stream",
          "name": "stderr",
          "text": [
            "/usr/local/lib/python3.10/dist-packages/urllib3/connectionpool.py:1100: InsecureRequestWarning: Unverified HTTPS request is being made to host 'go.lsgkerala.gov.in'. Adding certificate verification is strongly advised. See: https://urllib3.readthedocs.io/en/latest/advanced-usage.html#tls-warnings\n",
            "  warnings.warn(\n"
          ]
        },
        {
          "output_type": "stream",
          "name": "stdout",
          "text": [
            "https://go.lsgkerala.gov.in/../pages/fileOpen.php?fname=cr20101030_6911.pdf&id=6911\n",
            "https://go.lsgkerala.gov.in/../pages/fileOpen.php?fname=cr20101030_6910.pdf&id=6910\n",
            "https://go.lsgkerala.gov.in/../pages/fileOpen.php?fname=cr20101021_6904.pdf&id=6904\n",
            "https://go.lsgkerala.gov.in/../pages/fileOpen.php?fname=cr20101019_6923.pdf&id=6923\n",
            "https://go.lsgkerala.gov.in/../pages/fileOpen.php?fname=cr20101015_6908.pdf&id=6908\n",
            "https://go.lsgkerala.gov.in/../pages/fileOpen.php?fname=cr20101008_6897.pdf&id=6897\n",
            "https://go.lsgkerala.gov.in/../pages/fileOpen.php?fname=cr20100928_6879.pdf&id=6879\n",
            "https://go.lsgkerala.gov.in/../pages/fileOpen.php?fname=cr20100925_6878.pdf&id=6878\n",
            "https://go.lsgkerala.gov.in/../pages/fileOpen.php?fname=cr20100915_6894.pdf&id=6894\n",
            "https://go.lsgkerala.gov.in/../pages/fileOpen.php?fname=cr20100913_6876.pdf&id=6876\n",
            "https://go.lsgkerala.gov.in/../pages/fileOpen.php?fname=cr20100903_6869.pdf&id=6869\n",
            "https://go.lsgkerala.gov.in/../pages/fileOpen.php?fname=cr20100902_6873.pdf&id=6873\n",
            "https://go.lsgkerala.gov.in/../pages/fileOpen.php?fname=cr20100812_6867.pdf&id=6867\n",
            "https://go.lsgkerala.gov.in/../pages/fileOpen.php?fname=cr20100811_6865.pdf&id=6865\n",
            "https://go.lsgkerala.gov.in/../pages/fileOpen.php?fname=cr20100811_6845.pdf&id=6845\n",
            "https://go.lsgkerala.gov.in/../pages/fileOpen.php?fname=cr20100728_6839.pdf&id=6839\n",
            "https://go.lsgkerala.gov.in/../pages/fileOpen.php?fname=cr20100726_6828.pdf&id=6828\n",
            "https://go.lsgkerala.gov.in/../pages/fileOpen.php?fname=cr20100724_6866.pdf&id=6866\n",
            "https://go.lsgkerala.gov.in/../pages/fileOpen.php?fname=cr20100720_6826.pdf&id=6826\n",
            "https://go.lsgkerala.gov.in/../pages/fileOpen.php?fname=cr20100720_6819.pdf&id=6819\n",
            "20\n"
          ]
        },
        {
          "output_type": "stream",
          "name": "stderr",
          "text": [
            "/usr/local/lib/python3.10/dist-packages/urllib3/connectionpool.py:1100: InsecureRequestWarning: Unverified HTTPS request is being made to host 'go.lsgkerala.gov.in'. Adding certificate verification is strongly advised. See: https://urllib3.readthedocs.io/en/latest/advanced-usage.html#tls-warnings\n",
            "  warnings.warn(\n"
          ]
        },
        {
          "output_type": "stream",
          "name": "stdout",
          "text": [
            "Fetching https://go.lsgkerala.gov.in/pages/orderGlance.php?select=circular&Start=55\n"
          ]
        },
        {
          "output_type": "stream",
          "name": "stderr",
          "text": [
            "/usr/local/lib/python3.10/dist-packages/urllib3/connectionpool.py:1100: InsecureRequestWarning: Unverified HTTPS request is being made to host 'go.lsgkerala.gov.in'. Adding certificate verification is strongly advised. See: https://urllib3.readthedocs.io/en/latest/advanced-usage.html#tls-warnings\n",
            "  warnings.warn(\n"
          ]
        },
        {
          "output_type": "stream",
          "name": "stdout",
          "text": [
            "https://go.lsgkerala.gov.in/../pages/fileOpen.php?fname=cr20100707_6775.pdf&id=6775\n",
            "https://go.lsgkerala.gov.in/../pages/fileOpen.php?fname=cr20100702_6816.pdf&id=6816\n",
            "https://go.lsgkerala.gov.in/../pages/fileOpen.php?fname=cr20100627_6772.pdf&id=6772\n",
            "https://go.lsgkerala.gov.in/../pages/fileOpen.php?fname=cr20100621_6767.pdf&id=6767\n",
            "https://go.lsgkerala.gov.in/../pages/fileOpen.php?fname=cr20100615_6765.pdf&id=6765\n",
            "https://go.lsgkerala.gov.in/../pages/fileOpen.php?fname=cr20100615_6763.pdf&id=6763\n",
            "https://go.lsgkerala.gov.in/../pages/fileOpen.php?fname=cr20100614_6761.pdf&id=6761\n",
            "https://go.lsgkerala.gov.in/../pages/fileOpen.php?fname=cr20100614_6760.pdf&id=6760\n",
            "https://go.lsgkerala.gov.in/../pages/fileOpen.php?fname=cr20100610_6751.pdf&id=6751\n",
            "https://go.lsgkerala.gov.in/../pages/fileOpen.php?fname=cr20100607_6750.pdf&id=6750\n",
            "https://go.lsgkerala.gov.in/../pages/fileOpen.php?fname=cr20100526_6741.pdf&id=6741\n",
            "https://go.lsgkerala.gov.in/../pages/fileOpen.php?fname=cr20100521_6744.pdf&id=6744\n",
            "https://go.lsgkerala.gov.in/../pages/fileOpen.php?fname=cr20100514_6759.pdf&id=6759\n",
            "https://go.lsgkerala.gov.in/../pages/fileOpen.php?fname=cr20100513_6746.pdf&id=6746\n",
            "https://go.lsgkerala.gov.in/../pages/fileOpen.php?fname=cr20100506_6732.pdf&id=6732\n",
            "https://go.lsgkerala.gov.in/../pages/fileOpen.php?fname=cr20100506_6731.pdf&id=6731\n",
            "https://go.lsgkerala.gov.in/../pages/fileOpen.php?fname=cr20100412_6734.pdf&id=6734\n",
            "https://go.lsgkerala.gov.in/../pages/fileOpen.php?fname=cr20100330_6713.pdf&id=6713\n",
            "https://go.lsgkerala.gov.in/../pages/fileOpen.php?fname=cr20100330_6704.pdf&id=6704\n",
            "https://go.lsgkerala.gov.in/../pages/fileOpen.php?fname=cr20100320_6703.pdf&id=6703\n",
            "20\n"
          ]
        },
        {
          "output_type": "stream",
          "name": "stderr",
          "text": [
            "/usr/local/lib/python3.10/dist-packages/urllib3/connectionpool.py:1100: InsecureRequestWarning: Unverified HTTPS request is being made to host 'go.lsgkerala.gov.in'. Adding certificate verification is strongly advised. See: https://urllib3.readthedocs.io/en/latest/advanced-usage.html#tls-warnings\n",
            "  warnings.warn(\n"
          ]
        },
        {
          "output_type": "stream",
          "name": "stdout",
          "text": [
            "Fetching https://go.lsgkerala.gov.in/pages/orderGlance.php?select=circular&Start=56\n"
          ]
        },
        {
          "output_type": "stream",
          "name": "stderr",
          "text": [
            "/usr/local/lib/python3.10/dist-packages/urllib3/connectionpool.py:1100: InsecureRequestWarning: Unverified HTTPS request is being made to host 'go.lsgkerala.gov.in'. Adding certificate verification is strongly advised. See: https://urllib3.readthedocs.io/en/latest/advanced-usage.html#tls-warnings\n",
            "  warnings.warn(\n"
          ]
        },
        {
          "output_type": "stream",
          "name": "stdout",
          "text": [
            "https://go.lsgkerala.gov.in/../pages/fileOpen.php?fname=cr20100320_6696.pdf&id=6696\n",
            "https://go.lsgkerala.gov.in/../pages/fileOpen.php?fname=cr20100319_6715.pdf&id=6715\n",
            "https://go.lsgkerala.gov.in/../pages/fileOpen.php?fname=cr20100318_6709.pdf&id=6709\n",
            "https://go.lsgkerala.gov.in/../pages/fileOpen.php?fname=cr20100315_6710.pdf&id=6710\n",
            "https://go.lsgkerala.gov.in/../pages/fileOpen.php?fname=cr20100309_6685.pdf&id=6685\n",
            "https://go.lsgkerala.gov.in/../pages/fileOpen.php?fname=cr20100309_6682.pdf&id=6682\n",
            "https://go.lsgkerala.gov.in/../pages/fileOpen.php?fname=cr20100307_6698.pdf&id=6698\n",
            "https://go.lsgkerala.gov.in/../pages/fileOpen.php?fname=cr20100306_6690.pdf&id=6690\n",
            "https://go.lsgkerala.gov.in/../pages/fileOpen.php?fname=cr20100305_6699.pdf&id=6699\n",
            "https://go.lsgkerala.gov.in/../pages/fileOpen.php?fname=cr20100305_6681.pdf&id=6681\n",
            "https://go.lsgkerala.gov.in/../pages/fileOpen.php?fname=cr20100223_6694.pdf&id=6694\n",
            "https://go.lsgkerala.gov.in/../pages/fileOpen.php?fname=cr20100217_6667.pdf&id=6667\n",
            "https://go.lsgkerala.gov.in/../pages/fileOpen.php?fname=cr20100217_6661.pdf&id=6661\n",
            "https://go.lsgkerala.gov.in/../pages/fileOpen.php?fname=cr20100204_6655.pdf&id=6655\n",
            "https://go.lsgkerala.gov.in/../pages/fileOpen.php?fname=cr20100129_6653.pdf&id=6653\n",
            "https://go.lsgkerala.gov.in/../pages/fileOpen.php?fname=cr20100121_6641.pdf&id=6641\n",
            "https://go.lsgkerala.gov.in/../pages/fileOpen.php?fname=cr20100120_6649.pdf&id=6649\n",
            "https://go.lsgkerala.gov.in/../pages/fileOpen.php?fname=cr20100119_6637.pdf&id=6637\n",
            "https://go.lsgkerala.gov.in/../pages/fileOpen.php?fname=cr20100116_6642.pdf&id=6642\n",
            "https://go.lsgkerala.gov.in/../pages/fileOpen.php?fname=cr20100113_6636.pdf&id=6636\n",
            "20\n"
          ]
        },
        {
          "output_type": "stream",
          "name": "stderr",
          "text": [
            "/usr/local/lib/python3.10/dist-packages/urllib3/connectionpool.py:1100: InsecureRequestWarning: Unverified HTTPS request is being made to host 'go.lsgkerala.gov.in'. Adding certificate verification is strongly advised. See: https://urllib3.readthedocs.io/en/latest/advanced-usage.html#tls-warnings\n",
            "  warnings.warn(\n"
          ]
        },
        {
          "output_type": "stream",
          "name": "stdout",
          "text": [
            "Fetching https://go.lsgkerala.gov.in/pages/orderGlance.php?select=circular&Start=57\n"
          ]
        },
        {
          "output_type": "stream",
          "name": "stderr",
          "text": [
            "/usr/local/lib/python3.10/dist-packages/urllib3/connectionpool.py:1100: InsecureRequestWarning: Unverified HTTPS request is being made to host 'go.lsgkerala.gov.in'. Adding certificate verification is strongly advised. See: https://urllib3.readthedocs.io/en/latest/advanced-usage.html#tls-warnings\n",
            "  warnings.warn(\n"
          ]
        },
        {
          "output_type": "stream",
          "name": "stdout",
          "text": [
            "https://go.lsgkerala.gov.in/../pages/fileOpen.php?fname=cr20100113_6628.pdf&id=6628\n",
            "https://go.lsgkerala.gov.in/../pages/fileOpen.php?fname=cr20100111_6634.pdf&id=6634\n",
            "https://go.lsgkerala.gov.in/../pages/fileOpen.php?fname=cr20100111_6627.pdf&id=6627\n",
            "https://go.lsgkerala.gov.in/../pages/fileOpen.php?fname=cr20100108_6654.pdf&id=6654\n",
            "https://go.lsgkerala.gov.in/../pages/fileOpen.php?fname=cr20100107_6658.pdf&id=6658\n",
            "https://go.lsgkerala.gov.in/../pages/fileOpen.php?fname=cr20100107_6622.pdf&id=6622\n",
            "https://go.lsgkerala.gov.in/../pages/fileOpen.php?fname=cr20100107_6621.pdf&id=6621\n",
            "https://go.lsgkerala.gov.in/../pages/fileOpen.php?fname=cr20100105_6620.pdf&id=6620\n",
            "https://go.lsgkerala.gov.in/../pages/fileOpen.php?fname=cr20091228_6609.pdf&id=6609\n",
            "https://go.lsgkerala.gov.in/../pages/fileOpen.php?fname=cr20091228_6600.pdf&id=6600\n",
            "https://go.lsgkerala.gov.in/../pages/fileOpen.php?fname=cr20091224_7605.pdf&id=7605\n",
            "https://go.lsgkerala.gov.in/../pages/fileOpen.php?fname=cr20091216_6597.pdf&id=6597\n",
            "https://go.lsgkerala.gov.in/../pages/fileOpen.php?fname=cr20091216_6588.pdf&id=6588\n",
            "https://go.lsgkerala.gov.in/../pages/fileOpen.php?fname=cr20091210_6596.pdf&id=6596\n",
            "https://go.lsgkerala.gov.in/../pages/fileOpen.php?fname=cr20091210_6583.pdf&id=6583\n",
            "https://go.lsgkerala.gov.in/../pages/fileOpen.php?fname=cr20091208_6633.pdf&id=6633\n",
            "https://go.lsgkerala.gov.in/../pages/fileOpen.php?fname=cr20091201_6582.pdf&id=6582\n",
            "https://go.lsgkerala.gov.in/../pages/fileOpen.php?fname=cr20091119_6572.pdf&id=6572\n",
            "https://go.lsgkerala.gov.in/../pages/fileOpen.php?fname=cr20091118_6573.pdf&id=6573\n",
            "https://go.lsgkerala.gov.in/../pages/fileOpen.php?fname=cr20091116_6560.pdf&id=6560\n",
            "20\n"
          ]
        },
        {
          "output_type": "stream",
          "name": "stderr",
          "text": [
            "/usr/local/lib/python3.10/dist-packages/urllib3/connectionpool.py:1100: InsecureRequestWarning: Unverified HTTPS request is being made to host 'go.lsgkerala.gov.in'. Adding certificate verification is strongly advised. See: https://urllib3.readthedocs.io/en/latest/advanced-usage.html#tls-warnings\n",
            "  warnings.warn(\n"
          ]
        },
        {
          "output_type": "stream",
          "name": "stdout",
          "text": [
            "Fetching https://go.lsgkerala.gov.in/pages/orderGlance.php?select=circular&Start=58\n"
          ]
        },
        {
          "output_type": "stream",
          "name": "stderr",
          "text": [
            "/usr/local/lib/python3.10/dist-packages/urllib3/connectionpool.py:1100: InsecureRequestWarning: Unverified HTTPS request is being made to host 'go.lsgkerala.gov.in'. Adding certificate verification is strongly advised. See: https://urllib3.readthedocs.io/en/latest/advanced-usage.html#tls-warnings\n",
            "  warnings.warn(\n"
          ]
        },
        {
          "output_type": "stream",
          "name": "stdout",
          "text": [
            "https://go.lsgkerala.gov.in/../pages/fileOpen.php?fname=cr20091112_6561.pdf&id=6561\n",
            "https://go.lsgkerala.gov.in/../pages/fileOpen.php?fname=cr20091110_6574.pdf&id=6574\n",
            "https://go.lsgkerala.gov.in/../pages/fileOpen.php?fname=cr20091109_6559.pdf&id=6559\n",
            "https://go.lsgkerala.gov.in/../pages/fileOpen.php?fname=cr20091103_6552.pdf&id=6552\n",
            "https://go.lsgkerala.gov.in/../pages/fileOpen.php?fname=cr20091103_6550.pdf&id=6550\n",
            "https://go.lsgkerala.gov.in/../pages/fileOpen.php?fname=cr20091102_6551.pdf&id=6551\n",
            "https://go.lsgkerala.gov.in/../pages/fileOpen.php?fname=cr20091030_6548.pdf&id=6548\n",
            "https://go.lsgkerala.gov.in/../pages/fileOpen.php?fname=cr20091006_6553.pdf&id=6553\n",
            "https://go.lsgkerala.gov.in/../pages/fileOpen.php?fname=cr20091003_6536.pdf&id=6536\n",
            "https://go.lsgkerala.gov.in/../pages/fileOpen.php?fname=cr20090925_6534.pdf&id=6534\n",
            "https://go.lsgkerala.gov.in/../pages/fileOpen.php?fname=cr20090918_6535.pdf&id=6535\n",
            "https://go.lsgkerala.gov.in/../pages/fileOpen.php?fname=cr20090917_6539.pdf&id=6539\n",
            "https://go.lsgkerala.gov.in/../pages/fileOpen.php?fname=cr20090914_6526.pdf&id=6526\n",
            "https://go.lsgkerala.gov.in/../pages/fileOpen.php?fname=cr20090828_6521.pdf&id=6521\n",
            "https://go.lsgkerala.gov.in/../pages/fileOpen.php?fname=cr20090824_6527.pdf&id=6527\n",
            "https://go.lsgkerala.gov.in/../pages/fileOpen.php?fname=cr20090822_6532.pdf&id=6532\n",
            "https://go.lsgkerala.gov.in/../pages/fileOpen.php?fname=cr20091001_6531.pdf&id=6531\n",
            "https://go.lsgkerala.gov.in/../pages/fileOpen.php?fname=cr20090821_6503.pdf&id=6503\n",
            "https://go.lsgkerala.gov.in/../pages/fileOpen.php?fname=cr20090818_6508.pdf&id=6508\n",
            "https://go.lsgkerala.gov.in/../pages/fileOpen.php?fname=cr20090814_6502.pdf&id=6502\n",
            "20\n"
          ]
        },
        {
          "output_type": "stream",
          "name": "stderr",
          "text": [
            "/usr/local/lib/python3.10/dist-packages/urllib3/connectionpool.py:1100: InsecureRequestWarning: Unverified HTTPS request is being made to host 'go.lsgkerala.gov.in'. Adding certificate verification is strongly advised. See: https://urllib3.readthedocs.io/en/latest/advanced-usage.html#tls-warnings\n",
            "  warnings.warn(\n"
          ]
        },
        {
          "output_type": "stream",
          "name": "stdout",
          "text": [
            "Fetching https://go.lsgkerala.gov.in/pages/orderGlance.php?select=circular&Start=59\n"
          ]
        },
        {
          "output_type": "stream",
          "name": "stderr",
          "text": [
            "/usr/local/lib/python3.10/dist-packages/urllib3/connectionpool.py:1100: InsecureRequestWarning: Unverified HTTPS request is being made to host 'go.lsgkerala.gov.in'. Adding certificate verification is strongly advised. See: https://urllib3.readthedocs.io/en/latest/advanced-usage.html#tls-warnings\n",
            "  warnings.warn(\n"
          ]
        },
        {
          "output_type": "stream",
          "name": "stdout",
          "text": [
            "https://go.lsgkerala.gov.in/../pages/fileOpen.php?fname=cr20090813_6492.pdf&id=6492\n",
            "https://go.lsgkerala.gov.in/../pages/fileOpen.php?fname=cr20090810_6501.pdf&id=6501\n",
            "https://go.lsgkerala.gov.in/../pages/fileOpen.php?fname=cr20090810_6494.pdf&id=6494\n",
            "https://go.lsgkerala.gov.in/../pages/fileOpen.php?fname=cr20090810_6493.pdf&id=6493\n",
            "https://go.lsgkerala.gov.in/../pages/fileOpen.php?fname=cr20090806_6491.pdf&id=6491\n",
            "https://go.lsgkerala.gov.in/../pages/fileOpen.php?fname=cr20090730_6479.pdf&id=6479\n",
            "https://go.lsgkerala.gov.in/../pages/fileOpen.php?fname=cr20090723_6467.pdf&id=6467\n",
            "https://go.lsgkerala.gov.in/../pages/fileOpen.php?fname=cr20090720_6459.pdf&id=6459\n",
            "https://go.lsgkerala.gov.in/../pages/fileOpen.php?fname=cr20090708_6465.pdf&id=6465\n",
            "https://go.lsgkerala.gov.in/../pages/fileOpen.php?fname=cr20090703_6466.pdf&id=6466\n",
            "https://go.lsgkerala.gov.in/../pages/fileOpen.php?fname=cr20090630_6456.pdf&id=6456\n",
            "https://go.lsgkerala.gov.in/../pages/fileOpen.php?fname=cr20090626_6451.pdf&id=6451\n",
            "https://go.lsgkerala.gov.in/../pages/fileOpen.php?fname=cr20090625_6452.pdf&id=6452\n",
            "https://go.lsgkerala.gov.in/../pages/fileOpen.php?fname=cr20090622_6448.pdf&id=6448\n",
            "https://go.lsgkerala.gov.in/../pages/fileOpen.php?fname=cr20090615_6442.pdf&id=6442\n",
            "https://go.lsgkerala.gov.in/../pages/fileOpen.php?fname=cr20090613_6437.pdf&id=6437\n",
            "https://go.lsgkerala.gov.in/../pages/fileOpen.php?fname=cr20090611_6445.pdf&id=6445\n",
            "https://go.lsgkerala.gov.in/../pages/fileOpen.php?fname=cr20090611_6443.pdf&id=6443\n",
            "https://go.lsgkerala.gov.in/../pages/fileOpen.php?fname=cr20090610_6439.pdf&id=6439\n",
            "https://go.lsgkerala.gov.in/../pages/fileOpen.php?fname=cr20090530_6423.pdf&id=6423\n",
            "20\n"
          ]
        },
        {
          "output_type": "stream",
          "name": "stderr",
          "text": [
            "/usr/local/lib/python3.10/dist-packages/urllib3/connectionpool.py:1100: InsecureRequestWarning: Unverified HTTPS request is being made to host 'go.lsgkerala.gov.in'. Adding certificate verification is strongly advised. See: https://urllib3.readthedocs.io/en/latest/advanced-usage.html#tls-warnings\n",
            "  warnings.warn(\n"
          ]
        },
        {
          "output_type": "stream",
          "name": "stdout",
          "text": [
            "Fetching https://go.lsgkerala.gov.in/pages/orderGlance.php?select=circular&Start=60\n"
          ]
        },
        {
          "output_type": "stream",
          "name": "stderr",
          "text": [
            "/usr/local/lib/python3.10/dist-packages/urllib3/connectionpool.py:1100: InsecureRequestWarning: Unverified HTTPS request is being made to host 'go.lsgkerala.gov.in'. Adding certificate verification is strongly advised. See: https://urllib3.readthedocs.io/en/latest/advanced-usage.html#tls-warnings\n",
            "  warnings.warn(\n"
          ]
        },
        {
          "output_type": "stream",
          "name": "stdout",
          "text": [
            "https://go.lsgkerala.gov.in/../pages/fileOpen.php?fname=cr20090527_6417.pdf&id=6417\n",
            "https://go.lsgkerala.gov.in/../pages/fileOpen.php?fname=cr20090522_6421.pdf&id=6421\n",
            "https://go.lsgkerala.gov.in/../pages/fileOpen.php?fname=cr20090521_6429.pdf&id=6429\n",
            "https://go.lsgkerala.gov.in/../pages/fileOpen.php?fname=cr20090521_6426.pdf&id=6426\n",
            "https://go.lsgkerala.gov.in/../pages/fileOpen.php?fname=cr20090521_6425.pdf&id=6425\n",
            "https://go.lsgkerala.gov.in/../pages/fileOpen.php?fname=cr20090518_6409.pdf&id=6409\n",
            "https://go.lsgkerala.gov.in/../pages/fileOpen.php?fname=cr20090512_6430.pdf&id=6430\n",
            "https://go.lsgkerala.gov.in/../pages/fileOpen.php?fname=cr20090508_6408.pdf&id=6408\n",
            "https://go.lsgkerala.gov.in/../pages/fileOpen.php?fname=cr20090505_6416.pdf&id=6416\n",
            "https://go.lsgkerala.gov.in/../pages/fileOpen.php?fname=cr20090505_6389.pdf&id=6389\n",
            "https://go.lsgkerala.gov.in/../pages/fileOpen.php?fname=cr20090502_6383.pdf&id=6383\n",
            "https://go.lsgkerala.gov.in/../pages/fileOpen.php?fname=cr20090430_6428.pdf&id=6428\n",
            "https://go.lsgkerala.gov.in/../pages/fileOpen.php?fname=cr20090430_6382.pdf&id=6382\n",
            "https://go.lsgkerala.gov.in/../pages/fileOpen.php?fname=cr20090422_6386.pdf&id=6386\n",
            "https://go.lsgkerala.gov.in/../pages/fileOpen.php?fname=cr20090421_6388.pdf&id=6388\n",
            "https://go.lsgkerala.gov.in/../pages/fileOpen.php?fname=cr20090421_6384.pdf&id=6384\n",
            "https://go.lsgkerala.gov.in/../pages/fileOpen.php?fname=cr20090408_6373.pdf&id=6373\n",
            "https://go.lsgkerala.gov.in/../pages/fileOpen.php?fname=cr20090401_6450.pdf&id=6450\n",
            "https://go.lsgkerala.gov.in/../pages/fileOpen.php?fname=cr20090331_6371.pdf&id=6371\n",
            "https://go.lsgkerala.gov.in/../pages/fileOpen.php?fname=cr20090325_6364.pdf&id=6364\n",
            "20\n"
          ]
        },
        {
          "output_type": "stream",
          "name": "stderr",
          "text": [
            "/usr/local/lib/python3.10/dist-packages/urllib3/connectionpool.py:1100: InsecureRequestWarning: Unverified HTTPS request is being made to host 'go.lsgkerala.gov.in'. Adding certificate verification is strongly advised. See: https://urllib3.readthedocs.io/en/latest/advanced-usage.html#tls-warnings\n",
            "  warnings.warn(\n"
          ]
        },
        {
          "output_type": "stream",
          "name": "stdout",
          "text": [
            "Fetching https://go.lsgkerala.gov.in/pages/orderGlance.php?select=circular&Start=61\n"
          ]
        },
        {
          "output_type": "stream",
          "name": "stderr",
          "text": [
            "/usr/local/lib/python3.10/dist-packages/urllib3/connectionpool.py:1100: InsecureRequestWarning: Unverified HTTPS request is being made to host 'go.lsgkerala.gov.in'. Adding certificate verification is strongly advised. See: https://urllib3.readthedocs.io/en/latest/advanced-usage.html#tls-warnings\n",
            "  warnings.warn(\n"
          ]
        },
        {
          "output_type": "stream",
          "name": "stdout",
          "text": [
            "https://go.lsgkerala.gov.in/../pages/fileOpen.php?fname=cr20090324_6365.pdf&id=6365\n",
            "https://go.lsgkerala.gov.in/../pages/fileOpen.php?fname=cr20090318_6374.pdf&id=6374\n",
            "https://go.lsgkerala.gov.in/../pages/fileOpen.php?fname=cr20090318_6363.pdf&id=6363\n",
            "https://go.lsgkerala.gov.in/../pages/fileOpen.php?fname=cr20090313_6360.pdf&id=6360\n",
            "https://go.lsgkerala.gov.in/../pages/fileOpen.php?fname=cr20090313_6353.pdf&id=6353\n",
            "https://go.lsgkerala.gov.in/../pages/fileOpen.php?fname=cr20090303_6355.pdf&id=6355\n",
            "https://go.lsgkerala.gov.in/../pages/fileOpen.php?fname=cr20090302_6422.pdf&id=6422\n",
            "https://go.lsgkerala.gov.in/../pages/fileOpen.php?fname=cr20090302_6378.pdf&id=6378\n",
            "https://go.lsgkerala.gov.in/../pages/fileOpen.php?fname=cr20090227_6361.pdf&id=6361\n",
            "https://go.lsgkerala.gov.in/../pages/fileOpen.php?fname=cr20090227_6354.pdf&id=6354\n",
            "https://go.lsgkerala.gov.in/../pages/fileOpen.php?fname=cr20090227_6342.pdf&id=6342\n",
            "https://go.lsgkerala.gov.in/../pages/fileOpen.php?fname=cr20090211_6336.pdf&id=6336\n",
            "https://go.lsgkerala.gov.in/../pages/fileOpen.php?fname=cr20090207_6332.pdf&id=6332\n",
            "https://go.lsgkerala.gov.in/../pages/fileOpen.php?fname=cr20090202_6330.pdf&id=6330\n",
            "https://go.lsgkerala.gov.in/../pages/fileOpen.php?fname=cr20090102_6312.pdf&id=6312\n",
            "https://go.lsgkerala.gov.in/../pages/fileOpen.php?fname=cr20081231_6311.pdf&id=6311\n",
            "https://go.lsgkerala.gov.in/../pages/fileOpen.php?fname=cr20081230_6308.pdf&id=6308\n",
            "https://go.lsgkerala.gov.in/../pages/fileOpen.php?fname=cr20090109_6320.pdf&id=6320\n",
            "https://go.lsgkerala.gov.in/../pages/fileOpen.php?fname=cr20081215_6300.pdf&id=6300\n",
            "https://go.lsgkerala.gov.in/../pages/fileOpen.php?fname=cr20081211_6291.pdf&id=6291\n",
            "20\n"
          ]
        },
        {
          "output_type": "stream",
          "name": "stderr",
          "text": [
            "/usr/local/lib/python3.10/dist-packages/urllib3/connectionpool.py:1100: InsecureRequestWarning: Unverified HTTPS request is being made to host 'go.lsgkerala.gov.in'. Adding certificate verification is strongly advised. See: https://urllib3.readthedocs.io/en/latest/advanced-usage.html#tls-warnings\n",
            "  warnings.warn(\n"
          ]
        },
        {
          "output_type": "stream",
          "name": "stdout",
          "text": [
            "Fetching https://go.lsgkerala.gov.in/pages/orderGlance.php?select=circular&Start=62\n"
          ]
        },
        {
          "output_type": "stream",
          "name": "stderr",
          "text": [
            "/usr/local/lib/python3.10/dist-packages/urllib3/connectionpool.py:1100: InsecureRequestWarning: Unverified HTTPS request is being made to host 'go.lsgkerala.gov.in'. Adding certificate verification is strongly advised. See: https://urllib3.readthedocs.io/en/latest/advanced-usage.html#tls-warnings\n",
            "  warnings.warn(\n"
          ]
        },
        {
          "output_type": "stream",
          "name": "stdout",
          "text": [
            "https://go.lsgkerala.gov.in/../pages/fileOpen.php?fname=cr20081215_6295.pdf&id=6295\n",
            "https://go.lsgkerala.gov.in/../pages/fileOpen.php?fname=cr20081118_6272.pdf&id=6272\n",
            "https://go.lsgkerala.gov.in/../pages/fileOpen.php?fname=cr20081126_6281.pdf&id=6281\n",
            "https://go.lsgkerala.gov.in/../pages/fileOpen.php?fname=cr20081115_6268.pdf&id=6268\n",
            "https://go.lsgkerala.gov.in/../pages/fileOpen.php?fname=cr20081126_6282.pdf&id=6282\n",
            "https://go.lsgkerala.gov.in/../pages/fileOpen.php?fname=cr20081122_6277.pdf&id=6277\n",
            "https://go.lsgkerala.gov.in/../pages/fileOpen.php?fname=cr20081111_6265.pdf&id=6265\n",
            "https://go.lsgkerala.gov.in/../pages/fileOpen.php?fname=cr20081117_6270.pdf&id=6270\n",
            "https://go.lsgkerala.gov.in/../pages/fileOpen.php?fname=cr20081107_6253.pdf&id=6253\n",
            "https://go.lsgkerala.gov.in/../pages/fileOpen.php?fname=cr20081031_6247.pdf&id=6247\n",
            "https://go.lsgkerala.gov.in/../pages/fileOpen.php?fname=cr20081107_6254.pdf&id=6254\n",
            "https://go.lsgkerala.gov.in/../pages/fileOpen.php?fname=cr20081107_6251.pdf&id=6251\n",
            "https://go.lsgkerala.gov.in/../pages/fileOpen.php?fname=cr20081029_6238.pdf&id=6238\n",
            "https://go.lsgkerala.gov.in/../pages/fileOpen.php?fname=cr20081020_6234.pdf&id=6234\n",
            "https://go.lsgkerala.gov.in/../pages/fileOpen.php?fname=cr20081018_6231.pdf&id=6231\n",
            "https://go.lsgkerala.gov.in/../pages/fileOpen.php?fname=cr20081018_6230.pdf&id=6230\n",
            "https://go.lsgkerala.gov.in/../pages/fileOpen.php?fname=cr20081128_6285.pdf&id=6285\n",
            "https://go.lsgkerala.gov.in/../pages/fileOpen.php?fname=cr20081030_6243.pdf&id=6243\n",
            "https://go.lsgkerala.gov.in/../pages/fileOpen.php?fname=cr20081107_6252.pdf&id=6252\n",
            "https://go.lsgkerala.gov.in/../pages/fileOpen.php?fname=cr2008925_6478.pdf&id=6478\n",
            "20\n"
          ]
        },
        {
          "output_type": "stream",
          "name": "stderr",
          "text": [
            "/usr/local/lib/python3.10/dist-packages/urllib3/connectionpool.py:1100: InsecureRequestWarning: Unverified HTTPS request is being made to host 'go.lsgkerala.gov.in'. Adding certificate verification is strongly advised. See: https://urllib3.readthedocs.io/en/latest/advanced-usage.html#tls-warnings\n",
            "  warnings.warn(\n"
          ]
        },
        {
          "output_type": "stream",
          "name": "stdout",
          "text": [
            "Fetching https://go.lsgkerala.gov.in/pages/orderGlance.php?select=circular&Start=63\n"
          ]
        },
        {
          "output_type": "stream",
          "name": "stderr",
          "text": [
            "/usr/local/lib/python3.10/dist-packages/urllib3/connectionpool.py:1100: InsecureRequestWarning: Unverified HTTPS request is being made to host 'go.lsgkerala.gov.in'. Adding certificate verification is strongly advised. See: https://urllib3.readthedocs.io/en/latest/advanced-usage.html#tls-warnings\n",
            "  warnings.warn(\n"
          ]
        },
        {
          "output_type": "stream",
          "name": "stdout",
          "text": [
            "https://go.lsgkerala.gov.in/../pages/fileOpen.php?fname=cr20081007_6223.pdf&id=6223\n",
            "https://go.lsgkerala.gov.in/../pages/fileOpen.php?fname=cr20080926_6207.pdf&id=6207\n",
            "https://go.lsgkerala.gov.in/../pages/fileOpen.php?fname=cr20080924_6204.pdf&id=6204\n",
            "https://go.lsgkerala.gov.in/../pages/fileOpen.php?fname=cr20080925_6205.pdf&id=6205\n",
            "https://go.lsgkerala.gov.in/../pages/fileOpen.php?fname=cr20080901_6145.pdf&id=6145\n",
            "https://go.lsgkerala.gov.in/../pages/fileOpen.php?fname=cr20080901_6146.pdf&id=6146\n",
            "https://go.lsgkerala.gov.in/../pages/fileOpen.php?fname=cr20080901_6144.pdf&id=6144\n",
            "https://go.lsgkerala.gov.in/../pages/fileOpen.php?fname=cr20080923_6196.pdf&id=6196\n",
            "https://go.lsgkerala.gov.in/../pages/fileOpen.php?fname=cr20080923_6195.pdf&id=6195\n",
            "https://go.lsgkerala.gov.in/../pages/fileOpen.php?fname=cr20080920_6186.pdf&id=6186\n",
            "https://go.lsgkerala.gov.in/../pages/fileOpen.php?fname=cr20080827_6128.pdf&id=6128\n",
            "https://go.lsgkerala.gov.in/../pages/fileOpen.php?fname=cr20080824_6118.pdf&id=6118\n",
            "https://go.lsgkerala.gov.in/../pages/fileOpen.php?fname=cr20080824_6117.pdf&id=6117\n",
            "https://go.lsgkerala.gov.in/../pages/fileOpen.php?fname=cr20080923_6194.pdf&id=6194\n",
            "https://go.lsgkerala.gov.in/../pages/fileOpen.php?fname=cr20080815_6097.pdf&id=6097\n",
            "https://go.lsgkerala.gov.in/../pages/fileOpen.php?fname=cr20080818_6099.pdf&id=6099\n",
            "https://go.lsgkerala.gov.in/../pages/fileOpen.php?fname=cr20080907_6153.pdf&id=6153\n",
            "https://go.lsgkerala.gov.in/../pages/fileOpen.php?fname=cr20080907_6154.pdf&id=6154\n",
            "https://go.lsgkerala.gov.in/../pages/fileOpen.php?fname=cr20080907_6155.pdf&id=6155\n",
            "https://go.lsgkerala.gov.in/../pages/fileOpen.php?fname=cr20080907_6156.pdf&id=6156\n",
            "20\n"
          ]
        },
        {
          "output_type": "stream",
          "name": "stderr",
          "text": [
            "/usr/local/lib/python3.10/dist-packages/urllib3/connectionpool.py:1100: InsecureRequestWarning: Unverified HTTPS request is being made to host 'go.lsgkerala.gov.in'. Adding certificate verification is strongly advised. See: https://urllib3.readthedocs.io/en/latest/advanced-usage.html#tls-warnings\n",
            "  warnings.warn(\n"
          ]
        },
        {
          "output_type": "stream",
          "name": "stdout",
          "text": [
            "Fetching https://go.lsgkerala.gov.in/pages/orderGlance.php?select=circular&Start=64\n"
          ]
        },
        {
          "output_type": "stream",
          "name": "stderr",
          "text": [
            "/usr/local/lib/python3.10/dist-packages/urllib3/connectionpool.py:1100: InsecureRequestWarning: Unverified HTTPS request is being made to host 'go.lsgkerala.gov.in'. Adding certificate verification is strongly advised. See: https://urllib3.readthedocs.io/en/latest/advanced-usage.html#tls-warnings\n",
            "  warnings.warn(\n"
          ]
        },
        {
          "output_type": "stream",
          "name": "stdout",
          "text": [
            "https://go.lsgkerala.gov.in/../pages/fileOpen.php?fname=cr200845_6520.pdf&id=6520\n",
            "https://go.lsgkerala.gov.in/../pages/fileOpen.php?fname=cr200836_6476.pdf&id=6476\n",
            "https://go.lsgkerala.gov.in/../pages/fileOpen.php?fname=cr2008116_6348.pdf&id=6348\n",
            "https://go.lsgkerala.gov.in/../pages/fileOpen.php?fname=cr20080116_6347.pdf&id=6347\n",
            "https://go.lsgkerala.gov.in/../pages/fileOpen.php?fname=cr20080109_7057.pdf&id=7057\n",
            "https://go.lsgkerala.gov.in/../pages/fileOpen.php?fname=cr20080105_6477.pdf&id=6477\n",
            "https://go.lsgkerala.gov.in/../pages/fileOpen.php?fname=cr20071012_6836.pdf&id=6836\n",
            "https://go.lsgkerala.gov.in/../pages/fileOpen.php?fname=cr2007601_6432.pdf&id=6432\n",
            "8\n"
          ]
        },
        {
          "output_type": "stream",
          "name": "stderr",
          "text": [
            "/usr/local/lib/python3.10/dist-packages/urllib3/connectionpool.py:1100: InsecureRequestWarning: Unverified HTTPS request is being made to host 'go.lsgkerala.gov.in'. Adding certificate verification is strongly advised. See: https://urllib3.readthedocs.io/en/latest/advanced-usage.html#tls-warnings\n",
            "  warnings.warn(\n"
          ]
        },
        {
          "output_type": "stream",
          "name": "stdout",
          "text": [
            "Fetching https://go.lsgkerala.gov.in/pages/orderGlance.php?select=circular&Start=65\n"
          ]
        },
        {
          "output_type": "stream",
          "name": "stderr",
          "text": [
            "/usr/local/lib/python3.10/dist-packages/urllib3/connectionpool.py:1100: InsecureRequestWarning: Unverified HTTPS request is being made to host 'go.lsgkerala.gov.in'. Adding certificate verification is strongly advised. See: https://urllib3.readthedocs.io/en/latest/advanced-usage.html#tls-warnings\n",
            "  warnings.warn(\n"
          ]
        },
        {
          "output_type": "stream",
          "name": "stdout",
          "text": [
            "https://go.lsgkerala.gov.in/../pages/fileOpen.php?fname=cr20070127_7433.pdf&id=7433\n",
            "1\n"
          ]
        },
        {
          "output_type": "stream",
          "name": "stderr",
          "text": [
            "/usr/local/lib/python3.10/dist-packages/urllib3/connectionpool.py:1100: InsecureRequestWarning: Unverified HTTPS request is being made to host 'go.lsgkerala.gov.in'. Adding certificate verification is strongly advised. See: https://urllib3.readthedocs.io/en/latest/advanced-usage.html#tls-warnings\n",
            "  warnings.warn(\n"
          ]
        },
        {
          "output_type": "stream",
          "name": "stdout",
          "text": [
            "Fetching https://go.lsgkerala.gov.in/pages/orderGlance.php?select=circular&Start=66\n"
          ]
        },
        {
          "output_type": "stream",
          "name": "stderr",
          "text": [
            "/usr/local/lib/python3.10/dist-packages/urllib3/connectionpool.py:1100: InsecureRequestWarning: Unverified HTTPS request is being made to host 'go.lsgkerala.gov.in'. Adding certificate verification is strongly advised. See: https://urllib3.readthedocs.io/en/latest/advanced-usage.html#tls-warnings\n",
            "  warnings.warn(\n"
          ]
        },
        {
          "output_type": "stream",
          "name": "stdout",
          "text": [
            "0\n"
          ]
        },
        {
          "output_type": "stream",
          "name": "stderr",
          "text": [
            "/usr/local/lib/python3.10/dist-packages/urllib3/connectionpool.py:1100: InsecureRequestWarning: Unverified HTTPS request is being made to host 'go.lsgkerala.gov.in'. Adding certificate verification is strongly advised. See: https://urllib3.readthedocs.io/en/latest/advanced-usage.html#tls-warnings\n",
            "  warnings.warn(\n"
          ]
        },
        {
          "output_type": "stream",
          "name": "stdout",
          "text": [
            "Fetching https://go.lsgkerala.gov.in/pages/orderGlance.php?select=circular&Start=67\n"
          ]
        },
        {
          "output_type": "stream",
          "name": "stderr",
          "text": [
            "/usr/local/lib/python3.10/dist-packages/urllib3/connectionpool.py:1100: InsecureRequestWarning: Unverified HTTPS request is being made to host 'go.lsgkerala.gov.in'. Adding certificate verification is strongly advised. See: https://urllib3.readthedocs.io/en/latest/advanced-usage.html#tls-warnings\n",
            "  warnings.warn(\n"
          ]
        },
        {
          "output_type": "stream",
          "name": "stdout",
          "text": [
            "https://go.lsgkerala.gov.in/../pages/fileOpen.php?fname=cr20051230_27239.pdf&id=27239\n",
            "1\n"
          ]
        },
        {
          "output_type": "stream",
          "name": "stderr",
          "text": [
            "/usr/local/lib/python3.10/dist-packages/urllib3/connectionpool.py:1100: InsecureRequestWarning: Unverified HTTPS request is being made to host 'go.lsgkerala.gov.in'. Adding certificate verification is strongly advised. See: https://urllib3.readthedocs.io/en/latest/advanced-usage.html#tls-warnings\n",
            "  warnings.warn(\n"
          ]
        },
        {
          "output_type": "stream",
          "name": "stdout",
          "text": [
            "Fetching https://go.lsgkerala.gov.in/pages/orderGlance.php?select=circular&Start=68\n"
          ]
        },
        {
          "output_type": "stream",
          "name": "stderr",
          "text": [
            "/usr/local/lib/python3.10/dist-packages/urllib3/connectionpool.py:1100: InsecureRequestWarning: Unverified HTTPS request is being made to host 'go.lsgkerala.gov.in'. Adding certificate verification is strongly advised. See: https://urllib3.readthedocs.io/en/latest/advanced-usage.html#tls-warnings\n",
            "  warnings.warn(\n"
          ]
        },
        {
          "output_type": "stream",
          "name": "stdout",
          "text": [
            "https://go.lsgkerala.gov.in/../pages/fileOpen.php?fname=cr20050708_19236.pdf&id=19236\n",
            "https://go.lsgkerala.gov.in/../pages/fileOpen.php?fname=357.pdf&id=357\n",
            "https://go.lsgkerala.gov.in/../pages/fileOpen.php?fname=cr20050122_6935.pdf&id=6935\n",
            "3\n"
          ]
        },
        {
          "output_type": "stream",
          "name": "stderr",
          "text": [
            "/usr/local/lib/python3.10/dist-packages/urllib3/connectionpool.py:1100: InsecureRequestWarning: Unverified HTTPS request is being made to host 'go.lsgkerala.gov.in'. Adding certificate verification is strongly advised. See: https://urllib3.readthedocs.io/en/latest/advanced-usage.html#tls-warnings\n",
            "  warnings.warn(\n"
          ]
        },
        {
          "output_type": "stream",
          "name": "stdout",
          "text": [
            "Fetching https://go.lsgkerala.gov.in/pages/orderGlance.php?select=circular&Start=69\n"
          ]
        },
        {
          "output_type": "stream",
          "name": "stderr",
          "text": [
            "/usr/local/lib/python3.10/dist-packages/urllib3/connectionpool.py:1100: InsecureRequestWarning: Unverified HTTPS request is being made to host 'go.lsgkerala.gov.in'. Adding certificate verification is strongly advised. See: https://urllib3.readthedocs.io/en/latest/advanced-usage.html#tls-warnings\n",
            "  warnings.warn(\n"
          ]
        },
        {
          "output_type": "stream",
          "name": "stdout",
          "text": [
            "https://go.lsgkerala.gov.in/../pages/fileOpen.php?fname=cr20041106_6936.pdf&id=6936\n",
            "1\n"
          ]
        },
        {
          "output_type": "stream",
          "name": "stderr",
          "text": [
            "/usr/local/lib/python3.10/dist-packages/urllib3/connectionpool.py:1100: InsecureRequestWarning: Unverified HTTPS request is being made to host 'go.lsgkerala.gov.in'. Adding certificate verification is strongly advised. See: https://urllib3.readthedocs.io/en/latest/advanced-usage.html#tls-warnings\n",
            "  warnings.warn(\n"
          ]
        },
        {
          "output_type": "stream",
          "name": "stdout",
          "text": [
            "Fetching https://go.lsgkerala.gov.in/pages/orderGlance.php?select=circular&Start=70\n"
          ]
        },
        {
          "output_type": "stream",
          "name": "stderr",
          "text": [
            "/usr/local/lib/python3.10/dist-packages/urllib3/connectionpool.py:1100: InsecureRequestWarning: Unverified HTTPS request is being made to host 'go.lsgkerala.gov.in'. Adding certificate verification is strongly advised. See: https://urllib3.readthedocs.io/en/latest/advanced-usage.html#tls-warnings\n",
            "  warnings.warn(\n"
          ]
        },
        {
          "output_type": "stream",
          "name": "stdout",
          "text": [
            "0\n"
          ]
        },
        {
          "output_type": "stream",
          "name": "stderr",
          "text": [
            "/usr/local/lib/python3.10/dist-packages/urllib3/connectionpool.py:1100: InsecureRequestWarning: Unverified HTTPS request is being made to host 'go.lsgkerala.gov.in'. Adding certificate verification is strongly advised. See: https://urllib3.readthedocs.io/en/latest/advanced-usage.html#tls-warnings\n",
            "  warnings.warn(\n"
          ]
        },
        {
          "output_type": "stream",
          "name": "stdout",
          "text": [
            "Fetching https://go.lsgkerala.gov.in/pages/orderGlance.php?select=circular&Start=71\n"
          ]
        },
        {
          "output_type": "stream",
          "name": "stderr",
          "text": [
            "/usr/local/lib/python3.10/dist-packages/urllib3/connectionpool.py:1100: InsecureRequestWarning: Unverified HTTPS request is being made to host 'go.lsgkerala.gov.in'. Adding certificate verification is strongly advised. See: https://urllib3.readthedocs.io/en/latest/advanced-usage.html#tls-warnings\n",
            "  warnings.warn(\n"
          ]
        },
        {
          "output_type": "stream",
          "name": "stdout",
          "text": [
            "0\n"
          ]
        },
        {
          "output_type": "stream",
          "name": "stderr",
          "text": [
            "/usr/local/lib/python3.10/dist-packages/urllib3/connectionpool.py:1100: InsecureRequestWarning: Unverified HTTPS request is being made to host 'go.lsgkerala.gov.in'. Adding certificate verification is strongly advised. See: https://urllib3.readthedocs.io/en/latest/advanced-usage.html#tls-warnings\n",
            "  warnings.warn(\n"
          ]
        },
        {
          "output_type": "stream",
          "name": "stdout",
          "text": [
            "Fetching https://go.lsgkerala.gov.in/pages/orderGlance.php?select=circular&Start=72\n"
          ]
        },
        {
          "output_type": "stream",
          "name": "stderr",
          "text": [
            "/usr/local/lib/python3.10/dist-packages/urllib3/connectionpool.py:1100: InsecureRequestWarning: Unverified HTTPS request is being made to host 'go.lsgkerala.gov.in'. Adding certificate verification is strongly advised. See: https://urllib3.readthedocs.io/en/latest/advanced-usage.html#tls-warnings\n",
            "  warnings.warn(\n"
          ]
        },
        {
          "output_type": "stream",
          "name": "stdout",
          "text": [
            "https://go.lsgkerala.gov.in/../pages/fileOpen.php?fname=cr20031202_7478.pdf&id=7478\n",
            "1\n"
          ]
        },
        {
          "output_type": "stream",
          "name": "stderr",
          "text": [
            "/usr/local/lib/python3.10/dist-packages/urllib3/connectionpool.py:1100: InsecureRequestWarning: Unverified HTTPS request is being made to host 'go.lsgkerala.gov.in'. Adding certificate verification is strongly advised. See: https://urllib3.readthedocs.io/en/latest/advanced-usage.html#tls-warnings\n",
            "  warnings.warn(\n"
          ]
        },
        {
          "output_type": "stream",
          "name": "stdout",
          "text": [
            "Fetching https://go.lsgkerala.gov.in/pages/orderGlance.php?select=circular&Start=73\n"
          ]
        },
        {
          "output_type": "stream",
          "name": "stderr",
          "text": [
            "/usr/local/lib/python3.10/dist-packages/urllib3/connectionpool.py:1100: InsecureRequestWarning: Unverified HTTPS request is being made to host 'go.lsgkerala.gov.in'. Adding certificate verification is strongly advised. See: https://urllib3.readthedocs.io/en/latest/advanced-usage.html#tls-warnings\n",
            "  warnings.warn(\n"
          ]
        },
        {
          "output_type": "stream",
          "name": "stdout",
          "text": [
            "0\n"
          ]
        },
        {
          "output_type": "stream",
          "name": "stderr",
          "text": [
            "/usr/local/lib/python3.10/dist-packages/urllib3/connectionpool.py:1100: InsecureRequestWarning: Unverified HTTPS request is being made to host 'go.lsgkerala.gov.in'. Adding certificate verification is strongly advised. See: https://urllib3.readthedocs.io/en/latest/advanced-usage.html#tls-warnings\n",
            "  warnings.warn(\n"
          ]
        },
        {
          "output_type": "stream",
          "name": "stdout",
          "text": [
            "Fetching https://go.lsgkerala.gov.in/pages/orderGlance.php?select=circular&Start=74\n"
          ]
        },
        {
          "output_type": "stream",
          "name": "stderr",
          "text": [
            "/usr/local/lib/python3.10/dist-packages/urllib3/connectionpool.py:1100: InsecureRequestWarning: Unverified HTTPS request is being made to host 'go.lsgkerala.gov.in'. Adding certificate verification is strongly advised. See: https://urllib3.readthedocs.io/en/latest/advanced-usage.html#tls-warnings\n",
            "  warnings.warn(\n"
          ]
        },
        {
          "output_type": "stream",
          "name": "stdout",
          "text": [
            "0\n"
          ]
        },
        {
          "output_type": "stream",
          "name": "stderr",
          "text": [
            "/usr/local/lib/python3.10/dist-packages/urllib3/connectionpool.py:1100: InsecureRequestWarning: Unverified HTTPS request is being made to host 'go.lsgkerala.gov.in'. Adding certificate verification is strongly advised. See: https://urllib3.readthedocs.io/en/latest/advanced-usage.html#tls-warnings\n",
            "  warnings.warn(\n"
          ]
        },
        {
          "output_type": "stream",
          "name": "stdout",
          "text": [
            "Fetching https://go.lsgkerala.gov.in/pages/orderGlance.php?select=circular&Start=75\n"
          ]
        },
        {
          "output_type": "stream",
          "name": "stderr",
          "text": [
            "/usr/local/lib/python3.10/dist-packages/urllib3/connectionpool.py:1100: InsecureRequestWarning: Unverified HTTPS request is being made to host 'go.lsgkerala.gov.in'. Adding certificate verification is strongly advised. See: https://urllib3.readthedocs.io/en/latest/advanced-usage.html#tls-warnings\n",
            "  warnings.warn(\n"
          ]
        },
        {
          "output_type": "stream",
          "name": "stdout",
          "text": [
            "0\n"
          ]
        },
        {
          "output_type": "stream",
          "name": "stderr",
          "text": [
            "/usr/local/lib/python3.10/dist-packages/urllib3/connectionpool.py:1100: InsecureRequestWarning: Unverified HTTPS request is being made to host 'go.lsgkerala.gov.in'. Adding certificate verification is strongly advised. See: https://urllib3.readthedocs.io/en/latest/advanced-usage.html#tls-warnings\n",
            "  warnings.warn(\n"
          ]
        },
        {
          "output_type": "stream",
          "name": "stdout",
          "text": [
            "Fetching https://go.lsgkerala.gov.in/pages/orderGlance.php?select=circular&Start=76\n"
          ]
        },
        {
          "output_type": "stream",
          "name": "stderr",
          "text": [
            "/usr/local/lib/python3.10/dist-packages/urllib3/connectionpool.py:1100: InsecureRequestWarning: Unverified HTTPS request is being made to host 'go.lsgkerala.gov.in'. Adding certificate verification is strongly advised. See: https://urllib3.readthedocs.io/en/latest/advanced-usage.html#tls-warnings\n",
            "  warnings.warn(\n"
          ]
        },
        {
          "output_type": "stream",
          "name": "stdout",
          "text": [
            "https://go.lsgkerala.gov.in/../pages/fileOpen.php?fname=402.pdf&id=402\n",
            "https://go.lsgkerala.gov.in/../pages/fileOpen.php?fname=407.pdf&id=407\n",
            "https://go.lsgkerala.gov.in/../pages/fileOpen.php?fname=397.pdf&id=397\n",
            "3\n"
          ]
        },
        {
          "output_type": "stream",
          "name": "stderr",
          "text": [
            "/usr/local/lib/python3.10/dist-packages/urllib3/connectionpool.py:1100: InsecureRequestWarning: Unverified HTTPS request is being made to host 'go.lsgkerala.gov.in'. Adding certificate verification is strongly advised. See: https://urllib3.readthedocs.io/en/latest/advanced-usage.html#tls-warnings\n",
            "  warnings.warn(\n"
          ]
        },
        {
          "output_type": "stream",
          "name": "stdout",
          "text": [
            "Fetching https://go.lsgkerala.gov.in/pages/orderGlance.php?select=circular&Start=77\n"
          ]
        },
        {
          "output_type": "stream",
          "name": "stderr",
          "text": [
            "/usr/local/lib/python3.10/dist-packages/urllib3/connectionpool.py:1100: InsecureRequestWarning: Unverified HTTPS request is being made to host 'go.lsgkerala.gov.in'. Adding certificate verification is strongly advised. See: https://urllib3.readthedocs.io/en/latest/advanced-usage.html#tls-warnings\n",
            "  warnings.warn(\n"
          ]
        },
        {
          "output_type": "stream",
          "name": "stdout",
          "text": [
            "0\n"
          ]
        },
        {
          "output_type": "stream",
          "name": "stderr",
          "text": [
            "/usr/local/lib/python3.10/dist-packages/urllib3/connectionpool.py:1100: InsecureRequestWarning: Unverified HTTPS request is being made to host 'go.lsgkerala.gov.in'. Adding certificate verification is strongly advised. See: https://urllib3.readthedocs.io/en/latest/advanced-usage.html#tls-warnings\n",
            "  warnings.warn(\n"
          ]
        },
        {
          "output_type": "stream",
          "name": "stdout",
          "text": [
            "Fetching https://go.lsgkerala.gov.in/pages/orderGlance.php?select=circular&Start=78\n"
          ]
        },
        {
          "output_type": "stream",
          "name": "stderr",
          "text": [
            "/usr/local/lib/python3.10/dist-packages/urllib3/connectionpool.py:1100: InsecureRequestWarning: Unverified HTTPS request is being made to host 'go.lsgkerala.gov.in'. Adding certificate verification is strongly advised. See: https://urllib3.readthedocs.io/en/latest/advanced-usage.html#tls-warnings\n",
            "  warnings.warn(\n"
          ]
        },
        {
          "output_type": "stream",
          "name": "stdout",
          "text": [
            "0\n"
          ]
        },
        {
          "output_type": "stream",
          "name": "stderr",
          "text": [
            "/usr/local/lib/python3.10/dist-packages/urllib3/connectionpool.py:1100: InsecureRequestWarning: Unverified HTTPS request is being made to host 'go.lsgkerala.gov.in'. Adding certificate verification is strongly advised. See: https://urllib3.readthedocs.io/en/latest/advanced-usage.html#tls-warnings\n",
            "  warnings.warn(\n"
          ]
        },
        {
          "output_type": "stream",
          "name": "stdout",
          "text": [
            "Fetching https://go.lsgkerala.gov.in/pages/orderGlance.php?select=circular&Start=79\n"
          ]
        },
        {
          "output_type": "stream",
          "name": "stderr",
          "text": [
            "/usr/local/lib/python3.10/dist-packages/urllib3/connectionpool.py:1100: InsecureRequestWarning: Unverified HTTPS request is being made to host 'go.lsgkerala.gov.in'. Adding certificate verification is strongly advised. See: https://urllib3.readthedocs.io/en/latest/advanced-usage.html#tls-warnings\n",
            "  warnings.warn(\n"
          ]
        },
        {
          "output_type": "stream",
          "name": "stdout",
          "text": [
            "https://go.lsgkerala.gov.in/../pages/fileOpen.php?fname=362.pdf&id=362\n",
            "1\n"
          ]
        },
        {
          "output_type": "stream",
          "name": "stderr",
          "text": [
            "/usr/local/lib/python3.10/dist-packages/urllib3/connectionpool.py:1100: InsecureRequestWarning: Unverified HTTPS request is being made to host 'go.lsgkerala.gov.in'. Adding certificate verification is strongly advised. See: https://urllib3.readthedocs.io/en/latest/advanced-usage.html#tls-warnings\n",
            "  warnings.warn(\n"
          ]
        },
        {
          "output_type": "stream",
          "name": "stdout",
          "text": [
            "Fetching https://go.lsgkerala.gov.in/pages/orderGlance.php?select=circular&Start=80\n"
          ]
        },
        {
          "output_type": "stream",
          "name": "stderr",
          "text": [
            "/usr/local/lib/python3.10/dist-packages/urllib3/connectionpool.py:1100: InsecureRequestWarning: Unverified HTTPS request is being made to host 'go.lsgkerala.gov.in'. Adding certificate verification is strongly advised. See: https://urllib3.readthedocs.io/en/latest/advanced-usage.html#tls-warnings\n",
            "  warnings.warn(\n"
          ]
        },
        {
          "output_type": "stream",
          "name": "stdout",
          "text": [
            "https://go.lsgkerala.gov.in/../pages/fileOpen.php?fname=cr20000526_7512.pdf&id=7512\n",
            "1\n"
          ]
        },
        {
          "output_type": "stream",
          "name": "stderr",
          "text": [
            "/usr/local/lib/python3.10/dist-packages/urllib3/connectionpool.py:1100: InsecureRequestWarning: Unverified HTTPS request is being made to host 'go.lsgkerala.gov.in'. Adding certificate verification is strongly advised. See: https://urllib3.readthedocs.io/en/latest/advanced-usage.html#tls-warnings\n",
            "  warnings.warn(\n"
          ]
        },
        {
          "output_type": "stream",
          "name": "stdout",
          "text": [
            "Fetching https://go.lsgkerala.gov.in/pages/orderGlance.php?select=circular&Start=81\n"
          ]
        },
        {
          "output_type": "stream",
          "name": "stderr",
          "text": [
            "/usr/local/lib/python3.10/dist-packages/urllib3/connectionpool.py:1100: InsecureRequestWarning: Unverified HTTPS request is being made to host 'go.lsgkerala.gov.in'. Adding certificate verification is strongly advised. See: https://urllib3.readthedocs.io/en/latest/advanced-usage.html#tls-warnings\n",
            "  warnings.warn(\n"
          ]
        },
        {
          "output_type": "stream",
          "name": "stdout",
          "text": [
            "https://go.lsgkerala.gov.in/../pages/fileOpen.php?fname=cr20000226_7505.pdf&id=7505\n",
            "1\n"
          ]
        },
        {
          "output_type": "stream",
          "name": "stderr",
          "text": [
            "/usr/local/lib/python3.10/dist-packages/urllib3/connectionpool.py:1100: InsecureRequestWarning: Unverified HTTPS request is being made to host 'go.lsgkerala.gov.in'. Adding certificate verification is strongly advised. See: https://urllib3.readthedocs.io/en/latest/advanced-usage.html#tls-warnings\n",
            "  warnings.warn(\n"
          ]
        },
        {
          "output_type": "stream",
          "name": "stdout",
          "text": [
            "Fetching https://go.lsgkerala.gov.in/pages/orderGlance.php?select=circular&Start=82\n"
          ]
        },
        {
          "output_type": "stream",
          "name": "stderr",
          "text": [
            "/usr/local/lib/python3.10/dist-packages/urllib3/connectionpool.py:1100: InsecureRequestWarning: Unverified HTTPS request is being made to host 'go.lsgkerala.gov.in'. Adding certificate verification is strongly advised. See: https://urllib3.readthedocs.io/en/latest/advanced-usage.html#tls-warnings\n",
            "  warnings.warn(\n"
          ]
        },
        {
          "output_type": "stream",
          "name": "stdout",
          "text": [
            "0\n"
          ]
        },
        {
          "output_type": "stream",
          "name": "stderr",
          "text": [
            "/usr/local/lib/python3.10/dist-packages/urllib3/connectionpool.py:1100: InsecureRequestWarning: Unverified HTTPS request is being made to host 'go.lsgkerala.gov.in'. Adding certificate verification is strongly advised. See: https://urllib3.readthedocs.io/en/latest/advanced-usage.html#tls-warnings\n",
            "  warnings.warn(\n"
          ]
        },
        {
          "output_type": "stream",
          "name": "stdout",
          "text": [
            "Fetching https://go.lsgkerala.gov.in/pages/orderGlance.php?select=circular&Start=83\n"
          ]
        },
        {
          "output_type": "stream",
          "name": "stderr",
          "text": [
            "/usr/local/lib/python3.10/dist-packages/urllib3/connectionpool.py:1100: InsecureRequestWarning: Unverified HTTPS request is being made to host 'go.lsgkerala.gov.in'. Adding certificate verification is strongly advised. See: https://urllib3.readthedocs.io/en/latest/advanced-usage.html#tls-warnings\n",
            "  warnings.warn(\n"
          ]
        },
        {
          "output_type": "stream",
          "name": "stdout",
          "text": [
            "https://go.lsgkerala.gov.in/../pages/fileOpen.php?fname=cr19990527_7501.pdf&id=7501\n",
            "https://go.lsgkerala.gov.in/../pages/fileOpen.php?fname=cr19990506_6780.pdf&id=6780\n",
            "2\n"
          ]
        },
        {
          "output_type": "stream",
          "name": "stderr",
          "text": [
            "/usr/local/lib/python3.10/dist-packages/urllib3/connectionpool.py:1100: InsecureRequestWarning: Unverified HTTPS request is being made to host 'go.lsgkerala.gov.in'. Adding certificate verification is strongly advised. See: https://urllib3.readthedocs.io/en/latest/advanced-usage.html#tls-warnings\n",
            "  warnings.warn(\n"
          ]
        },
        {
          "output_type": "stream",
          "name": "stdout",
          "text": [
            "Fetching https://go.lsgkerala.gov.in/pages/orderGlance.php?select=circular&Start=84\n"
          ]
        },
        {
          "output_type": "stream",
          "name": "stderr",
          "text": [
            "/usr/local/lib/python3.10/dist-packages/urllib3/connectionpool.py:1100: InsecureRequestWarning: Unverified HTTPS request is being made to host 'go.lsgkerala.gov.in'. Adding certificate verification is strongly advised. See: https://urllib3.readthedocs.io/en/latest/advanced-usage.html#tls-warnings\n",
            "  warnings.warn(\n"
          ]
        },
        {
          "output_type": "stream",
          "name": "stdout",
          "text": [
            "https://go.lsgkerala.gov.in/../pages/fileOpen.php?fname=cr19981215_6786.pdf&id=6786\n",
            "1\n"
          ]
        },
        {
          "output_type": "stream",
          "name": "stderr",
          "text": [
            "/usr/local/lib/python3.10/dist-packages/urllib3/connectionpool.py:1100: InsecureRequestWarning: Unverified HTTPS request is being made to host 'go.lsgkerala.gov.in'. Adding certificate verification is strongly advised. See: https://urllib3.readthedocs.io/en/latest/advanced-usage.html#tls-warnings\n",
            "  warnings.warn(\n"
          ]
        },
        {
          "output_type": "stream",
          "name": "stdout",
          "text": [
            "Fetching https://go.lsgkerala.gov.in/pages/orderGlance.php?select=circular&Start=85\n"
          ]
        },
        {
          "output_type": "stream",
          "name": "stderr",
          "text": [
            "/usr/local/lib/python3.10/dist-packages/urllib3/connectionpool.py:1100: InsecureRequestWarning: Unverified HTTPS request is being made to host 'go.lsgkerala.gov.in'. Adding certificate verification is strongly advised. See: https://urllib3.readthedocs.io/en/latest/advanced-usage.html#tls-warnings\n",
            "  warnings.warn(\n"
          ]
        },
        {
          "output_type": "stream",
          "name": "stdout",
          "text": [
            "https://go.lsgkerala.gov.in/../pages/fileOpen.php?fname=cr19981012_6809.pdf&id=6809\n",
            "https://go.lsgkerala.gov.in/../pages/fileOpen.php?fname=cr19980919_6784.pdf&id=6784\n",
            "2\n"
          ]
        },
        {
          "output_type": "stream",
          "name": "stderr",
          "text": [
            "/usr/local/lib/python3.10/dist-packages/urllib3/connectionpool.py:1100: InsecureRequestWarning: Unverified HTTPS request is being made to host 'go.lsgkerala.gov.in'. Adding certificate verification is strongly advised. See: https://urllib3.readthedocs.io/en/latest/advanced-usage.html#tls-warnings\n",
            "  warnings.warn(\n"
          ]
        },
        {
          "output_type": "stream",
          "name": "stdout",
          "text": [
            "Fetching https://go.lsgkerala.gov.in/pages/orderGlance.php?select=circular&Start=86\n"
          ]
        },
        {
          "output_type": "stream",
          "name": "stderr",
          "text": [
            "/usr/local/lib/python3.10/dist-packages/urllib3/connectionpool.py:1100: InsecureRequestWarning: Unverified HTTPS request is being made to host 'go.lsgkerala.gov.in'. Adding certificate verification is strongly advised. See: https://urllib3.readthedocs.io/en/latest/advanced-usage.html#tls-warnings\n",
            "  warnings.warn(\n"
          ]
        },
        {
          "output_type": "stream",
          "name": "stdout",
          "text": [
            "https://go.lsgkerala.gov.in/../pages/fileOpen.php?fname=cr19980703_6799.pdf&id=6799\n",
            "https://go.lsgkerala.gov.in/../pages/fileOpen.php?fname=cr19980611_6933.pdf&id=6933\n",
            "https://go.lsgkerala.gov.in/../pages/fileOpen.php?fname=cr19980530_6798.pdf&id=6798\n",
            "https://go.lsgkerala.gov.in/../pages/fileOpen.php?fname=cr19980512_6790.pdf&id=6790\n",
            "4\n"
          ]
        },
        {
          "output_type": "stream",
          "name": "stderr",
          "text": [
            "/usr/local/lib/python3.10/dist-packages/urllib3/connectionpool.py:1100: InsecureRequestWarning: Unverified HTTPS request is being made to host 'go.lsgkerala.gov.in'. Adding certificate verification is strongly advised. See: https://urllib3.readthedocs.io/en/latest/advanced-usage.html#tls-warnings\n",
            "  warnings.warn(\n"
          ]
        },
        {
          "output_type": "stream",
          "name": "stdout",
          "text": [
            "Fetching https://go.lsgkerala.gov.in/pages/orderGlance.php?select=circular&Start=87\n"
          ]
        },
        {
          "output_type": "stream",
          "name": "stderr",
          "text": [
            "/usr/local/lib/python3.10/dist-packages/urllib3/connectionpool.py:1100: InsecureRequestWarning: Unverified HTTPS request is being made to host 'go.lsgkerala.gov.in'. Adding certificate verification is strongly advised. See: https://urllib3.readthedocs.io/en/latest/advanced-usage.html#tls-warnings\n",
            "  warnings.warn(\n"
          ]
        },
        {
          "output_type": "stream",
          "name": "stdout",
          "text": [
            "https://go.lsgkerala.gov.in/../pages/fileOpen.php?fname=cr19980506_6791.pdf&id=6791\n",
            "https://go.lsgkerala.gov.in/../pages/fileOpen.php?fname=cr19980423_6793.pdf&id=6793\n",
            "https://go.lsgkerala.gov.in/../pages/fileOpen.php?fname=396.pdf&id=396\n",
            "https://go.lsgkerala.gov.in/../pages/fileOpen.php?fname=cr19980326_6800.pdf&id=6800\n",
            "https://go.lsgkerala.gov.in/../pages/fileOpen.php?fname=cr19980223_6789.pdf&id=6789\n",
            "https://go.lsgkerala.gov.in/../pages/fileOpen.php?fname=cr19980118_6833.pdf&id=6833\n",
            "https://go.lsgkerala.gov.in/../pages/fileOpen.php?fname=395.pdf&id=395\n",
            "7\n"
          ]
        },
        {
          "output_type": "stream",
          "name": "stderr",
          "text": [
            "/usr/local/lib/python3.10/dist-packages/urllib3/connectionpool.py:1100: InsecureRequestWarning: Unverified HTTPS request is being made to host 'go.lsgkerala.gov.in'. Adding certificate verification is strongly advised. See: https://urllib3.readthedocs.io/en/latest/advanced-usage.html#tls-warnings\n",
            "  warnings.warn(\n"
          ]
        },
        {
          "output_type": "stream",
          "name": "stdout",
          "text": [
            "Fetching https://go.lsgkerala.gov.in/pages/orderGlance.php?select=circular&Start=88\n"
          ]
        },
        {
          "output_type": "stream",
          "name": "stderr",
          "text": [
            "/usr/local/lib/python3.10/dist-packages/urllib3/connectionpool.py:1100: InsecureRequestWarning: Unverified HTTPS request is being made to host 'go.lsgkerala.gov.in'. Adding certificate verification is strongly advised. See: https://urllib3.readthedocs.io/en/latest/advanced-usage.html#tls-warnings\n",
            "  warnings.warn(\n"
          ]
        },
        {
          "output_type": "stream",
          "name": "stdout",
          "text": [
            "https://go.lsgkerala.gov.in/../pages/fileOpen.php?fname=cr19971107_6832.pdf&id=6832\n",
            "https://go.lsgkerala.gov.in/../pages/fileOpen.php?fname=cr19971105_6785.pdf&id=6785\n",
            "https://go.lsgkerala.gov.in/../pages/fileOpen.php?fname=cr19971025_7523.pdf&id=7523\n",
            "https://go.lsgkerala.gov.in/../pages/fileOpen.php?fname=cr19971020_7479.pdf&id=7479\n",
            "https://go.lsgkerala.gov.in/../pages/fileOpen.php?fname=cr19971018_6822.pdf&id=6822\n",
            "https://go.lsgkerala.gov.in/../pages/fileOpen.php?fname=cr19971001_6812.pdf&id=6812\n",
            "https://go.lsgkerala.gov.in/../pages/fileOpen.php?fname=cr19970920_6823.pdf&id=6823\n",
            "https://go.lsgkerala.gov.in/../pages/fileOpen.php?fname=cr19970807_7147.pdf&id=7147\n",
            "https://go.lsgkerala.gov.in/../pages/fileOpen.php?fname=cr19970602_6801.pdf&id=6801\n",
            "9\n"
          ]
        },
        {
          "output_type": "stream",
          "name": "stderr",
          "text": [
            "/usr/local/lib/python3.10/dist-packages/urllib3/connectionpool.py:1100: InsecureRequestWarning: Unverified HTTPS request is being made to host 'go.lsgkerala.gov.in'. Adding certificate verification is strongly advised. See: https://urllib3.readthedocs.io/en/latest/advanced-usage.html#tls-warnings\n",
            "  warnings.warn(\n"
          ]
        },
        {
          "output_type": "stream",
          "name": "stdout",
          "text": [
            "Fetching https://go.lsgkerala.gov.in/pages/orderGlance.php?select=circular&Start=89\n"
          ]
        },
        {
          "output_type": "stream",
          "name": "stderr",
          "text": [
            "/usr/local/lib/python3.10/dist-packages/urllib3/connectionpool.py:1100: InsecureRequestWarning: Unverified HTTPS request is being made to host 'go.lsgkerala.gov.in'. Adding certificate verification is strongly advised. See: https://urllib3.readthedocs.io/en/latest/advanced-usage.html#tls-warnings\n",
            "  warnings.warn(\n"
          ]
        },
        {
          "output_type": "stream",
          "name": "stdout",
          "text": [
            "https://go.lsgkerala.gov.in/../pages/fileOpen.php?fname=cr19970325_6783.pdf&id=6783\n",
            "https://go.lsgkerala.gov.in/../pages/fileOpen.php?fname=cr19970118_6803.pdf&id=6803\n",
            "https://go.lsgkerala.gov.in/../pages/fileOpen.php?fname=cr19961210_7520.pdf&id=7520\n",
            "https://go.lsgkerala.gov.in/../pages/fileOpen.php?fname=cr19961126_6834.pdf&id=6834\n",
            "https://go.lsgkerala.gov.in/../pages/fileOpen.php?fname=cr19961028_7481.pdf&id=7481\n",
            "https://go.lsgkerala.gov.in/../pages/fileOpen.php?fname=cr19960912_6782.pdf&id=6782\n",
            "https://go.lsgkerala.gov.in/../pages/fileOpen.php?fname=cr19960816_7498.pdf&id=7498\n",
            "https://go.lsgkerala.gov.in/../pages/fileOpen.php?fname=cr19960120_7509.pdf&id=7509\n",
            "8\n"
          ]
        },
        {
          "output_type": "stream",
          "name": "stderr",
          "text": [
            "/usr/local/lib/python3.10/dist-packages/urllib3/connectionpool.py:1100: InsecureRequestWarning: Unverified HTTPS request is being made to host 'go.lsgkerala.gov.in'. Adding certificate verification is strongly advised. See: https://urllib3.readthedocs.io/en/latest/advanced-usage.html#tls-warnings\n",
            "  warnings.warn(\n"
          ]
        },
        {
          "output_type": "stream",
          "name": "stdout",
          "text": [
            "Fetching https://go.lsgkerala.gov.in/pages/orderGlance.php?select=circular&Start=90\n"
          ]
        },
        {
          "output_type": "stream",
          "name": "stderr",
          "text": [
            "/usr/local/lib/python3.10/dist-packages/urllib3/connectionpool.py:1100: InsecureRequestWarning: Unverified HTTPS request is being made to host 'go.lsgkerala.gov.in'. Adding certificate verification is strongly advised. See: https://urllib3.readthedocs.io/en/latest/advanced-usage.html#tls-warnings\n",
            "  warnings.warn(\n"
          ]
        },
        {
          "output_type": "stream",
          "name": "stdout",
          "text": [
            "https://go.lsgkerala.gov.in/../pages/fileOpen.php?fname=cr19951117_7507.pdf&id=7507\n",
            "https://go.lsgkerala.gov.in/../pages/fileOpen.php?fname=cr19951026_6824.pdf&id=6824\n",
            "https://go.lsgkerala.gov.in/../pages/fileOpen.php?fname=cr19950629_6835.pdf&id=6835\n",
            "https://go.lsgkerala.gov.in/../pages/fileOpen.php?fname=cr19950307_7522.pdf&id=7522\n",
            "https://go.lsgkerala.gov.in/../pages/fileOpen.php?fname=cr19941228_6829.pdf&id=6829\n",
            "https://go.lsgkerala.gov.in/../pages/fileOpen.php?fname=cr19941007_6934.pdf&id=6934\n",
            "https://go.lsgkerala.gov.in/../pages/fileOpen.php?fname=cr19940308_7499.pdf&id=7499\n",
            "https://go.lsgkerala.gov.in/../pages/fileOpen.php?fname=cr19940305_7497.pdf&id=7497\n",
            "https://go.lsgkerala.gov.in/../pages/fileOpen.php?fname=cr19940301_6807.pdf&id=6807\n",
            "https://go.lsgkerala.gov.in/../pages/fileOpen.php?fname=cr19940225_7506.pdf&id=7506\n",
            "https://go.lsgkerala.gov.in/../pages/fileOpen.php?fname=cr19940127_6846.pdf&id=6846\n",
            "https://go.lsgkerala.gov.in/../pages/fileOpen.php?fname=cr19931127_6847.pdf&id=6847\n",
            "https://go.lsgkerala.gov.in/../pages/fileOpen.php?fname=cr19930312_6853.pdf&id=6853\n",
            "https://go.lsgkerala.gov.in/../pages/fileOpen.php?fname=cr19930119_6830.pdf&id=6830\n",
            "https://go.lsgkerala.gov.in/../pages/fileOpen.php?fname=cr19930105_6854.pdf&id=6854\n",
            "https://go.lsgkerala.gov.in/../pages/fileOpen.php?fname=cr19920819_6802.pdf&id=6802\n",
            "https://go.lsgkerala.gov.in/../pages/fileOpen.php?fname=cr19920331_6777.pdf&id=6777\n",
            "https://go.lsgkerala.gov.in/../pages/fileOpen.php?fname=cr19920228_6813.pdf&id=6813\n",
            "18\n"
          ]
        },
        {
          "output_type": "stream",
          "name": "stderr",
          "text": [
            "/usr/local/lib/python3.10/dist-packages/urllib3/connectionpool.py:1100: InsecureRequestWarning: Unverified HTTPS request is being made to host 'go.lsgkerala.gov.in'. Adding certificate verification is strongly advised. See: https://urllib3.readthedocs.io/en/latest/advanced-usage.html#tls-warnings\n",
            "  warnings.warn(\n"
          ]
        },
        {
          "output_type": "stream",
          "name": "stdout",
          "text": [
            "Fetching https://go.lsgkerala.gov.in/pages/orderGlance.php?select=circular&Start=91\n"
          ]
        },
        {
          "output_type": "stream",
          "name": "stderr",
          "text": [
            "/usr/local/lib/python3.10/dist-packages/urllib3/connectionpool.py:1100: InsecureRequestWarning: Unverified HTTPS request is being made to host 'go.lsgkerala.gov.in'. Adding certificate verification is strongly advised. See: https://urllib3.readthedocs.io/en/latest/advanced-usage.html#tls-warnings\n",
            "  warnings.warn(\n"
          ]
        },
        {
          "output_type": "stream",
          "name": "stdout",
          "text": [
            "https://go.lsgkerala.gov.in/../pages/fileOpen.php?fname=cr19920210_6825.pdf&id=6825\n",
            "https://go.lsgkerala.gov.in/../pages/fileOpen.php?fname=cr19920104_7495.pdf&id=7495\n",
            "https://go.lsgkerala.gov.in/../pages/fileOpen.php?fname=cr19910506_6850.pdf&id=6850\n",
            "https://go.lsgkerala.gov.in/../pages/fileOpen.php?fname=cr19910128_6849.pdf&id=6849\n",
            "https://go.lsgkerala.gov.in/../pages/fileOpen.php?fname=cr19900925_6852.pdf&id=6852\n",
            "https://go.lsgkerala.gov.in/../pages/fileOpen.php?fname=cr19891220_6851.pdf&id=6851\n",
            "https://go.lsgkerala.gov.in/../pages/fileOpen.php?fname=cr19891004_6932.pdf&id=6932\n",
            "https://go.lsgkerala.gov.in/../pages/fileOpen.php?fname=cr19890713_7482.pdf&id=7482\n",
            "https://go.lsgkerala.gov.in/../pages/fileOpen.php?fname=cr19890622_6805.pdf&id=6805\n",
            "https://go.lsgkerala.gov.in/../pages/fileOpen.php?fname=cr19890522_7508.pdf&id=7508\n",
            "https://go.lsgkerala.gov.in/../pages/fileOpen.php?fname=cr19880705_6856.pdf&id=6856\n",
            "https://go.lsgkerala.gov.in/../pages/fileOpen.php?fname=cr19880617_6804.pdf&id=6804\n",
            "https://go.lsgkerala.gov.in/../pages/fileOpen.php?fname=cr19880528_6781.pdf&id=6781\n",
            "https://go.lsgkerala.gov.in/../pages/fileOpen.php?fname=cr19880211_6831.pdf&id=6831\n",
            "https://go.lsgkerala.gov.in/../pages/fileOpen.php?fname=cr19880120_6792.pdf&id=6792\n",
            "https://go.lsgkerala.gov.in/../pages/fileOpen.php?fname=cr19880105_6931.pdf&id=6931\n",
            "https://go.lsgkerala.gov.in/../pages/fileOpen.php?fname=cr19871211_6857.pdf&id=6857\n",
            "https://go.lsgkerala.gov.in/../pages/fileOpen.php?fname=cr19870202_6858.pdf&id=6858\n",
            "18\n"
          ]
        },
        {
          "output_type": "stream",
          "name": "stderr",
          "text": [
            "/usr/local/lib/python3.10/dist-packages/urllib3/connectionpool.py:1100: InsecureRequestWarning: Unverified HTTPS request is being made to host 'go.lsgkerala.gov.in'. Adding certificate verification is strongly advised. See: https://urllib3.readthedocs.io/en/latest/advanced-usage.html#tls-warnings\n",
            "  warnings.warn(\n"
          ]
        },
        {
          "output_type": "stream",
          "name": "stdout",
          "text": [
            "Fetching https://go.lsgkerala.gov.in/pages/orderGlance.php?select=circular&Start=92\n"
          ]
        },
        {
          "output_type": "stream",
          "name": "stderr",
          "text": [
            "/usr/local/lib/python3.10/dist-packages/urllib3/connectionpool.py:1100: InsecureRequestWarning: Unverified HTTPS request is being made to host 'go.lsgkerala.gov.in'. Adding certificate verification is strongly advised. See: https://urllib3.readthedocs.io/en/latest/advanced-usage.html#tls-warnings\n",
            "  warnings.warn(\n"
          ]
        },
        {
          "output_type": "stream",
          "name": "stdout",
          "text": [
            "https://go.lsgkerala.gov.in/../pages/fileOpen.php?fname=cr19860905_6810.pdf&id=6810\n",
            "https://go.lsgkerala.gov.in/../pages/fileOpen.php?fname=cr19860405_6820.pdf&id=6820\n",
            "https://go.lsgkerala.gov.in/../pages/fileOpen.php?fname=cr19860328_7510.pdf&id=7510\n",
            "https://go.lsgkerala.gov.in/../pages/fileOpen.php?fname=cr19860124_7511.pdf&id=7511\n",
            "https://go.lsgkerala.gov.in/../pages/fileOpen.php?fname=cr19860104_6855.pdf&id=6855\n",
            "https://go.lsgkerala.gov.in/../pages/fileOpen.php?fname=cr19850810_7483.pdf&id=7483\n",
            "https://go.lsgkerala.gov.in/../pages/fileOpen.php?fname=cr19850613_6806.pdf&id=6806\n",
            "https://go.lsgkerala.gov.in/../pages/fileOpen.php?fname=cr19840724_6811.pdf&id=6811\n",
            "https://go.lsgkerala.gov.in/../pages/fileOpen.php?fname=cr19840717_6795.pdf&id=6795\n",
            "https://go.lsgkerala.gov.in/../pages/fileOpen.php?fname=cr19840427_6930.pdf&id=6930\n",
            "https://go.lsgkerala.gov.in/../pages/fileOpen.php?fname=cr19840125_7480.pdf&id=7480\n",
            "https://go.lsgkerala.gov.in/../pages/fileOpen.php?fname=cr19831225_6794.pdf&id=6794\n",
            "https://go.lsgkerala.gov.in/../pages/fileOpen.php?fname=cr19831012_7504.pdf&id=7504\n",
            "https://go.lsgkerala.gov.in/../pages/fileOpen.php?fname=cr19820319_6778.pdf&id=6778\n",
            "https://go.lsgkerala.gov.in/../pages/fileOpen.php?fname=cr19811124_6937.pdf&id=6937\n",
            "https://go.lsgkerala.gov.in/../pages/fileOpen.php?fname=cr19800602_7006.pdf&id=7006\n",
            "https://go.lsgkerala.gov.in/../pages/fileOpen.php?fname=cr19791027_6787.pdf&id=6787\n",
            "https://go.lsgkerala.gov.in/../pages/fileOpen.php?fname=cr19790705_7503.pdf&id=7503\n",
            "https://go.lsgkerala.gov.in/../pages/fileOpen.php?fname=cr19780120_7500.pdf&id=7500\n",
            "19\n"
          ]
        },
        {
          "output_type": "stream",
          "name": "stderr",
          "text": [
            "/usr/local/lib/python3.10/dist-packages/urllib3/connectionpool.py:1100: InsecureRequestWarning: Unverified HTTPS request is being made to host 'go.lsgkerala.gov.in'. Adding certificate verification is strongly advised. See: https://urllib3.readthedocs.io/en/latest/advanced-usage.html#tls-warnings\n",
            "  warnings.warn(\n"
          ]
        },
        {
          "output_type": "stream",
          "name": "stdout",
          "text": [
            "Fetching https://go.lsgkerala.gov.in/pages/orderGlance.php?select=circular&Start=93\n"
          ]
        },
        {
          "output_type": "stream",
          "name": "stderr",
          "text": [
            "/usr/local/lib/python3.10/dist-packages/urllib3/connectionpool.py:1100: InsecureRequestWarning: Unverified HTTPS request is being made to host 'go.lsgkerala.gov.in'. Adding certificate verification is strongly advised. See: https://urllib3.readthedocs.io/en/latest/advanced-usage.html#tls-warnings\n",
            "  warnings.warn(\n"
          ]
        },
        {
          "output_type": "stream",
          "name": "stdout",
          "text": [
            "https://go.lsgkerala.gov.in/../pages/fileOpen.php?fname=cr19760612_7502.pdf&id=7502\n",
            "1\n"
          ]
        },
        {
          "output_type": "stream",
          "name": "stderr",
          "text": [
            "/usr/local/lib/python3.10/dist-packages/urllib3/connectionpool.py:1100: InsecureRequestWarning: Unverified HTTPS request is being made to host 'go.lsgkerala.gov.in'. Adding certificate verification is strongly advised. See: https://urllib3.readthedocs.io/en/latest/advanced-usage.html#tls-warnings\n",
            "  warnings.warn(\n"
          ]
        },
        {
          "output_type": "stream",
          "name": "stdout",
          "text": [
            "                                              PDF Links\n",
            "0     https://go.lsgkerala.gov.in/../pages/fileOpen....\n",
            "1     https://go.lsgkerala.gov.in/../pages/fileOpen....\n",
            "2     https://go.lsgkerala.gov.in/../pages/fileOpen....\n",
            "3     https://go.lsgkerala.gov.in/../pages/fileOpen....\n",
            "4     https://go.lsgkerala.gov.in/../pages/fileOpen....\n",
            "...                                                 ...\n",
            "1365  https://go.lsgkerala.gov.in/../pages/fileOpen....\n",
            "1366  https://go.lsgkerala.gov.in/../pages/fileOpen....\n",
            "1367  https://go.lsgkerala.gov.in/../pages/fileOpen....\n",
            "1368  https://go.lsgkerala.gov.in/../pages/fileOpen....\n",
            "1369  https://go.lsgkerala.gov.in/../pages/fileOpen....\n",
            "\n",
            "[1370 rows x 1 columns]\n"
          ]
        }
      ]
    },
    {
      "cell_type": "markdown",
      "source": [
        "# General Administration Department, Gujarat"
      ],
      "metadata": {
        "id": "gyRWeVD4jYob"
      }
    },
    {
      "cell_type": "code",
      "source": [
        "link = \"https://artd.gujarat.gov.in/circulars.htm\"\n",
        "base_link = \"https://artd.gujarat.gov.in/\"\n",
        "\n",
        "def fetch_page(url, retries=3, backoff_factor=0.3, timeout=10):\n",
        "    try:\n",
        "        retry_strategy = Retry(\n",
        "            total=retries,\n",
        "            status_forcelist=[429, 500, 502, 503, 504],\n",
        "            backoff_factor=backoff_factor\n",
        "        )\n",
        "        adapter = HTTPAdapter(max_retries=retry_strategy)\n",
        "        http = requests.Session()\n",
        "        http.mount(\"http://\", adapter)\n",
        "        http.mount(\"https://\", adapter)\n",
        "\n",
        "        response = http.get(url, timeout=timeout, verify = False)\n",
        "        response.raise_for_status()  # Raise HTTPError for bad responses (4xx, 5xx)\n",
        "        return BeautifulSoup(response.content, 'html.parser')\n",
        "\n",
        "    except requests.Timeout:\n",
        "        print(f\"Request to {url} timed out.\")\n",
        "    except requests.ConnectionError:\n",
        "        print(f\"Failed to connect to {url}.\")\n",
        "    except requests.HTTPError as http_err:\n",
        "        print(f\"HTTP error occurred: {http_err} - {url}\")\n",
        "    except requests.RequestException as req_err:\n",
        "        print(f\"Error fetching page {url}: {req_err}\")\n",
        "\n",
        "    return None\n",
        "\n",
        "\n",
        "def extract_pdf_links(soup):\n",
        "    links = soup.find_all('a', href=True)\n",
        "    pdf_links = []\n",
        "    for link in links:\n",
        "      try:\n",
        "        if link['href'].endswith('.pdf') or link['href'].endswith('.PDF'):\n",
        "          print(base_link + link['href'])\n",
        "          pdf_links.append(base_link + link['href'])\n",
        "      except:\n",
        "        print('Problem IN the PARSING')\n",
        "        pass\n",
        "    return pdf_links\n",
        "\n",
        "\n",
        "# Function to recursively extract PDFs from a website\n",
        "def extract_pdfs_from_website(url, visited_urls=None):\n",
        "    if visited_urls is None:\n",
        "        visited_urls = set()\n",
        "\n",
        "    if url in visited_urls:\n",
        "        return []\n",
        "\n",
        "    visited_urls.add(url)\n",
        "    soup = fetch_page(url)\n",
        "    if not soup:\n",
        "        return []\n",
        "\n",
        "    pdf_links = set()\n",
        "\n",
        "    pdf_links.update(extract_pdf_links(soup))\n",
        "\n",
        "    return pdf_links\n",
        "\n",
        "all_pdfs = extract_pdfs_from_website(link)\n",
        "df = pd.DataFrame(list(all_pdfs), columns=['PDF Links'])\n",
        "\n",
        "# Save the DataFrame to a CSV file\n",
        "df.to_csv('all_pdf_links.csv', index=False)\n",
        "\n",
        "# Display the DataFrame\n",
        "print(df)"
      ],
      "metadata": {
        "colab": {
          "base_uri": "https://localhost:8080/"
        },
        "id": "4CXYprQGgTYe",
        "outputId": "0c26c789-dd47-4a52-d3c6-1793120ef2fa"
      },
      "execution_count": null,
      "outputs": [
        {
          "output_type": "stream",
          "name": "stderr",
          "text": [
            "WARNING:urllib3.connectionpool:Retrying (Retry(total=2, connect=None, read=None, redirect=None, status=None)) after connection broken by 'ConnectTimeoutError(<urllib3.connection.HTTPSConnection object at 0x7bfe4f31b070>, 'Connection to artd.gujarat.gov.in timed out. (connect timeout=10)')': /circulars.htm\n",
            "WARNING:urllib3.connectionpool:Retrying (Retry(total=1, connect=None, read=None, redirect=None, status=None)) after connection broken by 'ConnectTimeoutError(<urllib3.connection.HTTPSConnection object at 0x7bfe4f31aef0>, 'Connection to artd.gujarat.gov.in timed out. (connect timeout=10)')': /circulars.htm\n",
            "WARNING:urllib3.connectionpool:Retrying (Retry(total=0, connect=None, read=None, redirect=None, status=None)) after connection broken by 'ConnectTimeoutError(<urllib3.connection.HTTPSConnection object at 0x7bfe4d3920e0>, 'Connection to artd.gujarat.gov.in timed out. (connect timeout=10)')': /circulars.htm\n"
          ]
        },
        {
          "output_type": "stream",
          "name": "stdout",
          "text": [
            "Request to https://artd.gujarat.gov.in/circulars.htm timed out.\n",
            "Empty DataFrame\n",
            "Columns: [PDF Links]\n",
            "Index: []\n"
          ]
        }
      ]
    },
    {
      "cell_type": "code",
      "source": [
        "link = \"https://gad.gujarat.gov.in/personnel/circulars.htm\"\n",
        "base_link = \"https://gad.gujarat.gov.in/\"\n",
        "\n",
        "def fetch_page(url, retries=3, backoff_factor=0.3, timeout=10):\n",
        "    try:\n",
        "        retry_strategy = Retry(\n",
        "            total=retries,\n",
        "            status_forcelist=[429, 500, 502, 503, 504],\n",
        "            backoff_factor=backoff_factor\n",
        "        )\n",
        "        adapter = HTTPAdapter(max_retries=retry_strategy)\n",
        "        http = requests.Session()\n",
        "        http.mount(\"http://\", adapter)\n",
        "        http.mount(\"https://\", adapter)\n",
        "\n",
        "        response = http.get(url, timeout=timeout, verify = False)\n",
        "        response.raise_for_status()  # Raise HTTPError for bad responses (4xx, 5xx)\n",
        "        return BeautifulSoup(response.content, 'html.parser')\n",
        "\n",
        "    except requests.Timeout:\n",
        "        print(f\"Request to {url} timed out.\")\n",
        "    except requests.ConnectionError:\n",
        "        print(f\"Failed to connect to {url}.\")\n",
        "    except requests.HTTPError as http_err:\n",
        "        print(f\"HTTP error occurred: {http_err} - {url}\")\n",
        "    except requests.RequestException as req_err:\n",
        "        print(f\"Error fetching page {url}: {req_err}\")\n",
        "\n",
        "    return None\n",
        "\n",
        "\n",
        "def extract_pdf_links(soup):\n",
        "    links = soup.find_all('a', href=True)\n",
        "    pdf_links = []\n",
        "    for link in links:\n",
        "      try:\n",
        "        if link['href'].endswith('.pdf') or link['href'].endswith('.PDF'):\n",
        "          print(base_link + link['href'])\n",
        "          pdf_links.append(base_link + link['href'])\n",
        "      except:\n",
        "        print('Problem IN the PARSING')\n",
        "        pass\n",
        "    return pdf_links\n",
        "\n",
        "\n",
        "# Function to recursively extract PDFs from a website\n",
        "def extract_pdfs_from_website(url, visited_urls=None):\n",
        "    if visited_urls is None:\n",
        "        visited_urls = set()\n",
        "\n",
        "    if url in visited_urls:\n",
        "        return []\n",
        "\n",
        "    visited_urls.add(url)\n",
        "    soup = fetch_page(url)\n",
        "    if not soup:\n",
        "        return []\n",
        "\n",
        "    pdf_links = set()\n",
        "\n",
        "    pdf_links.update(extract_pdf_links(soup))\n",
        "\n",
        "    return pdf_links\n",
        "\n",
        "all_pdfs = extract_pdfs_from_website(link)\n",
        "df = pd.DataFrame(list(all_pdfs), columns=['PDF Links'])\n",
        "\n",
        "# Save the DataFrame to a CSV file\n",
        "df.to_csv('all_pdf_links.csv', index=False)\n",
        "\n",
        "# Display the DataFrame\n",
        "print(df)"
      ],
      "metadata": {
        "colab": {
          "base_uri": "https://localhost:8080/"
        },
        "id": "4T6OyB2ykw4q",
        "outputId": "09b7f49f-915c-40c3-fa1e-286b6968e1de"
      },
      "execution_count": null,
      "outputs": [
        {
          "output_type": "stream",
          "name": "stderr",
          "text": [
            "WARNING:urllib3.connectionpool:Retrying (Retry(total=2, connect=None, read=None, redirect=None, status=None)) after connection broken by 'ConnectTimeoutError(<urllib3.connection.HTTPSConnection object at 0x7bfe4f1e4fd0>, 'Connection to gad.gujarat.gov.in timed out. (connect timeout=10)')': /personnel/circulars.htm\n",
            "WARNING:urllib3.connectionpool:Retrying (Retry(total=1, connect=None, read=None, redirect=None, status=None)) after connection broken by 'ConnectTimeoutError(<urllib3.connection.HTTPSConnection object at 0x7bfe4f1e5b40>, 'Connection to gad.gujarat.gov.in timed out. (connect timeout=10)')': /personnel/circulars.htm\n",
            "WARNING:urllib3.connectionpool:Retrying (Retry(total=0, connect=None, read=None, redirect=None, status=None)) after connection broken by 'ConnectTimeoutError(<urllib3.connection.HTTPSConnection object at 0x7bfe4d5b07f0>, 'Connection to gad.gujarat.gov.in timed out. (connect timeout=10)')': /personnel/circulars.htm\n"
          ]
        },
        {
          "output_type": "stream",
          "name": "stdout",
          "text": [
            "Request to https://gad.gujarat.gov.in/personnel/circulars.htm timed out.\n",
            "Empty DataFrame\n",
            "Columns: [PDF Links]\n",
            "Index: []\n"
          ]
        }
      ]
    },
    {
      "cell_type": "code",
      "source": [
        "link = \"https://planning.gujarat.gov.in/circulars.htm\"\n",
        "base_link = \"https://planning.gujarat.gov.in/\"\n",
        "\n",
        "def fetch_page(url, retries=3, backoff_factor=0.3, timeout=10):\n",
        "    try:\n",
        "        retry_strategy = Retry(\n",
        "            total=retries,\n",
        "            status_forcelist=[429, 500, 502, 503, 504],\n",
        "            backoff_factor=backoff_factor\n",
        "        )\n",
        "        adapter = HTTPAdapter(max_retries=retry_strategy)\n",
        "        http = requests.Session()\n",
        "        http.mount(\"http://\", adapter)\n",
        "        http.mount(\"https://\", adapter)\n",
        "\n",
        "        response = http.get(url, timeout=timeout, verify = False)\n",
        "        response.raise_for_status()  # Raise HTTPError for bad responses (4xx, 5xx)\n",
        "        return BeautifulSoup(response.content, 'html.parser')\n",
        "\n",
        "    except requests.Timeout:\n",
        "        print(f\"Request to {url} timed out.\")\n",
        "    except requests.ConnectionError:\n",
        "        print(f\"Failed to connect to {url}.\")\n",
        "    except requests.HTTPError as http_err:\n",
        "        print(f\"HTTP error occurred: {http_err} - {url}\")\n",
        "    except requests.RequestException as req_err:\n",
        "        print(f\"Error fetching page {url}: {req_err}\")\n",
        "\n",
        "    return None\n",
        "\n",
        "\n",
        "def extract_pdf_links(soup):\n",
        "    links = soup.find_all('a', href=True)\n",
        "    pdf_links = []\n",
        "    for link in links:\n",
        "      try:\n",
        "        if link['href'].endswith('.pdf') or link['href'].endswith('.PDF'):\n",
        "          print(base_link + link['href'])\n",
        "          pdf_links.append(base_link + link['href'])\n",
        "      except:\n",
        "        print('Problem IN the PARSING')\n",
        "        pass\n",
        "    return pdf_links\n",
        "\n",
        "\n",
        "# Function to recursively extract PDFs from a website\n",
        "def extract_pdfs_from_website(url, visited_urls=None):\n",
        "    if visited_urls is None:\n",
        "        visited_urls = set()\n",
        "\n",
        "    if url in visited_urls:\n",
        "        return []\n",
        "\n",
        "    visited_urls.add(url)\n",
        "    soup = fetch_page(url)\n",
        "    if not soup:\n",
        "        return []\n",
        "\n",
        "    pdf_links = set()\n",
        "\n",
        "    pdf_links.update(extract_pdf_links(soup))\n",
        "\n",
        "    return pdf_links\n",
        "\n",
        "all_pdfs = extract_pdfs_from_website(link)\n",
        "df = pd.DataFrame(list(all_pdfs), columns=['PDF Links'])\n",
        "\n",
        "# Save the DataFrame to a CSV file\n",
        "df.to_csv('all_pdf_links.csv', index=False)\n",
        "\n",
        "# Display the DataFrame\n",
        "print(df)"
      ],
      "metadata": {
        "colab": {
          "base_uri": "https://localhost:8080/"
        },
        "id": "-QNqnaI3lFDm",
        "outputId": "faf5cf71-6520-40dd-f733-9c99635ac603"
      },
      "execution_count": null,
      "outputs": [
        {
          "output_type": "stream",
          "name": "stderr",
          "text": [
            "WARNING:urllib3.connectionpool:Retrying (Retry(total=2, connect=None, read=None, redirect=None, status=None)) after connection broken by 'ConnectTimeoutError(<urllib3.connection.HTTPSConnection object at 0x7bfe4d5b15a0>, 'Connection to planning.gujarat.gov.in timed out. (connect timeout=10)')': /circulars.htm\n",
            "WARNING:urllib3.connectionpool:Retrying (Retry(total=1, connect=None, read=None, redirect=None, status=None)) after connection broken by 'ConnectTimeoutError(<urllib3.connection.HTTPSConnection object at 0x7bfe4d5b3fa0>, 'Connection to planning.gujarat.gov.in timed out. (connect timeout=10)')': /circulars.htm\n",
            "WARNING:urllib3.connectionpool:Retrying (Retry(total=0, connect=None, read=None, redirect=None, status=None)) after connection broken by 'ConnectTimeoutError(<urllib3.connection.HTTPSConnection object at 0x7bfe4d5b16c0>, 'Connection to planning.gujarat.gov.in timed out. (connect timeout=10)')': /circulars.htm\n"
          ]
        },
        {
          "output_type": "stream",
          "name": "stdout",
          "text": [
            "Request to https://planning.gujarat.gov.in/circulars.htm timed out.\n",
            "Empty DataFrame\n",
            "Columns: [PDF Links]\n",
            "Index: []\n"
          ]
        }
      ]
    },
    {
      "cell_type": "code",
      "source": [
        "import requests\n",
        "from bs4 import BeautifulSoup\n",
        "from requests.adapters import HTTPAdapter\n",
        "from urllib3.util.retry import Retry\n",
        "\n",
        "# URL of the website\n",
        "url = 'https://gad.gujarat.gov.in/personnel/circulars.htm'\n",
        "\n",
        "# Function to create a requests session with retry logic\n",
        "def create_session_with_retries():\n",
        "    session = requests.Session()\n",
        "    retry = Retry(\n",
        "        total=5,  # Total number of retries\n",
        "        backoff_factor=1,  # A backoff factor to apply between attempts\n",
        "        status_forcelist=[500, 502, 503, 504],  # HTTP status codes to retry on\n",
        "    )\n",
        "    adapter = HTTPAdapter(max_retries=retry)\n",
        "    session.mount(\"http://\", adapter)\n",
        "    session.mount(\"https://\", adapter)\n",
        "    return session\n",
        "\n",
        "# Create a session\n",
        "session = create_session_with_retries()\n",
        "\n",
        "# Send a request to the website\n",
        "response = session.get(url, timeout=10)\n",
        "\n",
        "# Check if the request was successful\n",
        "if response.status_code == 200:\n",
        "    # Parse the HTML content\n",
        "    soup = BeautifulSoup(response.text, 'html.parser')"
      ],
      "metadata": {
        "colab": {
          "base_uri": "https://localhost:8080/",
          "height": 723
        },
        "id": "pxaWOORHllG8",
        "outputId": "08b0c756-6ee8-452f-9106-4df28ebce6d6"
      },
      "execution_count": null,
      "outputs": [
        {
          "output_type": "stream",
          "name": "stderr",
          "text": [
            "WARNING:urllib3.connectionpool:Retrying (Retry(total=4, connect=None, read=None, redirect=None, status=None)) after connection broken by 'ConnectTimeoutError(<urllib3.connection.HTTPSConnection object at 0x7bfe4d5b00a0>, 'Connection to gad.gujarat.gov.in timed out. (connect timeout=10)')': /personnel/circulars.htm\n",
            "WARNING:urllib3.connectionpool:Retrying (Retry(total=3, connect=None, read=None, redirect=None, status=None)) after connection broken by 'ConnectTimeoutError(<urllib3.connection.HTTPSConnection object at 0x7bfe4d5b3a90>, 'Connection to gad.gujarat.gov.in timed out. (connect timeout=10)')': /personnel/circulars.htm\n",
            "WARNING:urllib3.connectionpool:Retrying (Retry(total=2, connect=None, read=None, redirect=None, status=None)) after connection broken by 'ConnectTimeoutError(<urllib3.connection.HTTPSConnection object at 0x7bfe4d5b1120>, 'Connection to gad.gujarat.gov.in timed out. (connect timeout=10)')': /personnel/circulars.htm\n",
            "WARNING:urllib3.connectionpool:Retrying (Retry(total=1, connect=None, read=None, redirect=None, status=None)) after connection broken by 'ConnectTimeoutError(<urllib3.connection.HTTPSConnection object at 0x7bfe4d5b1600>, 'Connection to gad.gujarat.gov.in timed out. (connect timeout=10)')': /personnel/circulars.htm\n",
            "WARNING:urllib3.connectionpool:Retrying (Retry(total=0, connect=None, read=None, redirect=None, status=None)) after connection broken by 'ConnectTimeoutError(<urllib3.connection.HTTPSConnection object at 0x7bfe4d5b2ec0>, 'Connection to gad.gujarat.gov.in timed out. (connect timeout=10)')': /personnel/circulars.htm\n"
          ]
        },
        {
          "output_type": "error",
          "ename": "ConnectTimeout",
          "evalue": "HTTPSConnectionPool(host='gad.gujarat.gov.in', port=443): Max retries exceeded with url: /personnel/circulars.htm (Caused by ConnectTimeoutError(<urllib3.connection.HTTPSConnection object at 0x7bfe4d5b0f10>, 'Connection to gad.gujarat.gov.in timed out. (connect timeout=10)'))",
          "traceback": [
            "\u001b[0;31m---------------------------------------------------------------------------\u001b[0m",
            "\u001b[0;31mTimeoutError\u001b[0m                              Traceback (most recent call last)",
            "\u001b[0;32m/usr/local/lib/python3.10/dist-packages/urllib3/connection.py\u001b[0m in \u001b[0;36m_new_conn\u001b[0;34m(self)\u001b[0m\n\u001b[1;32m    202\u001b[0m         \u001b[0;32mtry\u001b[0m\u001b[0;34m:\u001b[0m\u001b[0;34m\u001b[0m\u001b[0;34m\u001b[0m\u001b[0m\n\u001b[0;32m--> 203\u001b[0;31m             sock = connection.create_connection(\n\u001b[0m\u001b[1;32m    204\u001b[0m                 \u001b[0;34m(\u001b[0m\u001b[0mself\u001b[0m\u001b[0;34m.\u001b[0m\u001b[0m_dns_host\u001b[0m\u001b[0;34m,\u001b[0m \u001b[0mself\u001b[0m\u001b[0;34m.\u001b[0m\u001b[0mport\u001b[0m\u001b[0;34m)\u001b[0m\u001b[0;34m,\u001b[0m\u001b[0;34m\u001b[0m\u001b[0;34m\u001b[0m\u001b[0m\n",
            "\u001b[0;32m/usr/local/lib/python3.10/dist-packages/urllib3/util/connection.py\u001b[0m in \u001b[0;36mcreate_connection\u001b[0;34m(address, timeout, source_address, socket_options)\u001b[0m\n\u001b[1;32m     84\u001b[0m         \u001b[0;32mtry\u001b[0m\u001b[0;34m:\u001b[0m\u001b[0;34m\u001b[0m\u001b[0;34m\u001b[0m\u001b[0m\n\u001b[0;32m---> 85\u001b[0;31m             \u001b[0;32mraise\u001b[0m \u001b[0merr\u001b[0m\u001b[0;34m\u001b[0m\u001b[0;34m\u001b[0m\u001b[0m\n\u001b[0m\u001b[1;32m     86\u001b[0m         \u001b[0;32mfinally\u001b[0m\u001b[0;34m:\u001b[0m\u001b[0;34m\u001b[0m\u001b[0;34m\u001b[0m\u001b[0m\n",
            "\u001b[0;32m/usr/local/lib/python3.10/dist-packages/urllib3/util/connection.py\u001b[0m in \u001b[0;36mcreate_connection\u001b[0;34m(address, timeout, source_address, socket_options)\u001b[0m\n\u001b[1;32m     72\u001b[0m                 \u001b[0msock\u001b[0m\u001b[0;34m.\u001b[0m\u001b[0mbind\u001b[0m\u001b[0;34m(\u001b[0m\u001b[0msource_address\u001b[0m\u001b[0;34m)\u001b[0m\u001b[0;34m\u001b[0m\u001b[0;34m\u001b[0m\u001b[0m\n\u001b[0;32m---> 73\u001b[0;31m             \u001b[0msock\u001b[0m\u001b[0;34m.\u001b[0m\u001b[0mconnect\u001b[0m\u001b[0;34m(\u001b[0m\u001b[0msa\u001b[0m\u001b[0;34m)\u001b[0m\u001b[0;34m\u001b[0m\u001b[0;34m\u001b[0m\u001b[0m\n\u001b[0m\u001b[1;32m     74\u001b[0m             \u001b[0;31m# Break explicitly a reference cycle\u001b[0m\u001b[0;34m\u001b[0m\u001b[0;34m\u001b[0m\u001b[0m\n",
            "\u001b[0;31mTimeoutError\u001b[0m: timed out",
            "\nThe above exception was the direct cause of the following exception:\n",
            "\u001b[0;31mConnectTimeoutError\u001b[0m                       Traceback (most recent call last)",
            "\u001b[0;32m/usr/local/lib/python3.10/dist-packages/urllib3/connectionpool.py\u001b[0m in \u001b[0;36murlopen\u001b[0;34m(self, method, url, body, headers, retries, redirect, assert_same_host, timeout, pool_timeout, release_conn, chunked, body_pos, preload_content, decode_content, **response_kw)\u001b[0m\n\u001b[1;32m    790\u001b[0m             \u001b[0;31m# Make the request on the HTTPConnection object\u001b[0m\u001b[0;34m\u001b[0m\u001b[0;34m\u001b[0m\u001b[0m\n\u001b[0;32m--> 791\u001b[0;31m             response = self._make_request(\n\u001b[0m\u001b[1;32m    792\u001b[0m                 \u001b[0mconn\u001b[0m\u001b[0;34m,\u001b[0m\u001b[0;34m\u001b[0m\u001b[0;34m\u001b[0m\u001b[0m\n",
            "\u001b[0;32m/usr/local/lib/python3.10/dist-packages/urllib3/connectionpool.py\u001b[0m in \u001b[0;36m_make_request\u001b[0;34m(self, conn, method, url, body, headers, retries, timeout, chunked, response_conn, preload_content, decode_content, enforce_content_length)\u001b[0m\n\u001b[1;32m    491\u001b[0m                 \u001b[0mnew_e\u001b[0m \u001b[0;34m=\u001b[0m \u001b[0m_wrap_proxy_error\u001b[0m\u001b[0;34m(\u001b[0m\u001b[0mnew_e\u001b[0m\u001b[0;34m,\u001b[0m \u001b[0mconn\u001b[0m\u001b[0;34m.\u001b[0m\u001b[0mproxy\u001b[0m\u001b[0;34m.\u001b[0m\u001b[0mscheme\u001b[0m\u001b[0;34m)\u001b[0m\u001b[0;34m\u001b[0m\u001b[0;34m\u001b[0m\u001b[0m\n\u001b[0;32m--> 492\u001b[0;31m             \u001b[0;32mraise\u001b[0m \u001b[0mnew_e\u001b[0m\u001b[0;34m\u001b[0m\u001b[0;34m\u001b[0m\u001b[0m\n\u001b[0m\u001b[1;32m    493\u001b[0m \u001b[0;34m\u001b[0m\u001b[0m\n",
            "\u001b[0;32m/usr/local/lib/python3.10/dist-packages/urllib3/connectionpool.py\u001b[0m in \u001b[0;36m_make_request\u001b[0;34m(self, conn, method, url, body, headers, retries, timeout, chunked, response_conn, preload_content, decode_content, enforce_content_length)\u001b[0m\n\u001b[1;32m    467\u001b[0m             \u001b[0;32mtry\u001b[0m\u001b[0;34m:\u001b[0m\u001b[0;34m\u001b[0m\u001b[0;34m\u001b[0m\u001b[0m\n\u001b[0;32m--> 468\u001b[0;31m                 \u001b[0mself\u001b[0m\u001b[0;34m.\u001b[0m\u001b[0m_validate_conn\u001b[0m\u001b[0;34m(\u001b[0m\u001b[0mconn\u001b[0m\u001b[0;34m)\u001b[0m\u001b[0;34m\u001b[0m\u001b[0;34m\u001b[0m\u001b[0m\n\u001b[0m\u001b[1;32m    469\u001b[0m             \u001b[0;32mexcept\u001b[0m \u001b[0;34m(\u001b[0m\u001b[0mSocketTimeout\u001b[0m\u001b[0;34m,\u001b[0m \u001b[0mBaseSSLError\u001b[0m\u001b[0;34m)\u001b[0m \u001b[0;32mas\u001b[0m \u001b[0me\u001b[0m\u001b[0;34m:\u001b[0m\u001b[0;34m\u001b[0m\u001b[0;34m\u001b[0m\u001b[0m\n",
            "\u001b[0;32m/usr/local/lib/python3.10/dist-packages/urllib3/connectionpool.py\u001b[0m in \u001b[0;36m_validate_conn\u001b[0;34m(self, conn)\u001b[0m\n\u001b[1;32m   1096\u001b[0m         \u001b[0;32mif\u001b[0m \u001b[0mconn\u001b[0m\u001b[0;34m.\u001b[0m\u001b[0mis_closed\u001b[0m\u001b[0;34m:\u001b[0m\u001b[0;34m\u001b[0m\u001b[0;34m\u001b[0m\u001b[0m\n\u001b[0;32m-> 1097\u001b[0;31m             \u001b[0mconn\u001b[0m\u001b[0;34m.\u001b[0m\u001b[0mconnect\u001b[0m\u001b[0;34m(\u001b[0m\u001b[0;34m)\u001b[0m\u001b[0;34m\u001b[0m\u001b[0;34m\u001b[0m\u001b[0m\n\u001b[0m\u001b[1;32m   1098\u001b[0m \u001b[0;34m\u001b[0m\u001b[0m\n",
            "\u001b[0;32m/usr/local/lib/python3.10/dist-packages/urllib3/connection.py\u001b[0m in \u001b[0;36mconnect\u001b[0;34m(self)\u001b[0m\n\u001b[1;32m    610\u001b[0m         \u001b[0msock\u001b[0m\u001b[0;34m:\u001b[0m \u001b[0msocket\u001b[0m\u001b[0;34m.\u001b[0m\u001b[0msocket\u001b[0m \u001b[0;34m|\u001b[0m \u001b[0mssl\u001b[0m\u001b[0;34m.\u001b[0m\u001b[0mSSLSocket\u001b[0m\u001b[0;34m\u001b[0m\u001b[0;34m\u001b[0m\u001b[0m\n\u001b[0;32m--> 611\u001b[0;31m         \u001b[0mself\u001b[0m\u001b[0;34m.\u001b[0m\u001b[0msock\u001b[0m \u001b[0;34m=\u001b[0m \u001b[0msock\u001b[0m \u001b[0;34m=\u001b[0m \u001b[0mself\u001b[0m\u001b[0;34m.\u001b[0m\u001b[0m_new_conn\u001b[0m\u001b[0;34m(\u001b[0m\u001b[0;34m)\u001b[0m\u001b[0;34m\u001b[0m\u001b[0;34m\u001b[0m\u001b[0m\n\u001b[0m\u001b[1;32m    612\u001b[0m         \u001b[0mserver_hostname\u001b[0m\u001b[0;34m:\u001b[0m \u001b[0mstr\u001b[0m \u001b[0;34m=\u001b[0m \u001b[0mself\u001b[0m\u001b[0;34m.\u001b[0m\u001b[0mhost\u001b[0m\u001b[0;34m\u001b[0m\u001b[0;34m\u001b[0m\u001b[0m\n",
            "\u001b[0;32m/usr/local/lib/python3.10/dist-packages/urllib3/connection.py\u001b[0m in \u001b[0;36m_new_conn\u001b[0;34m(self)\u001b[0m\n\u001b[1;32m    211\u001b[0m         \u001b[0;32mexcept\u001b[0m \u001b[0mSocketTimeout\u001b[0m \u001b[0;32mas\u001b[0m \u001b[0me\u001b[0m\u001b[0;34m:\u001b[0m\u001b[0;34m\u001b[0m\u001b[0;34m\u001b[0m\u001b[0m\n\u001b[0;32m--> 212\u001b[0;31m             raise ConnectTimeoutError(\n\u001b[0m\u001b[1;32m    213\u001b[0m                 \u001b[0mself\u001b[0m\u001b[0;34m,\u001b[0m\u001b[0;34m\u001b[0m\u001b[0;34m\u001b[0m\u001b[0m\n",
            "\u001b[0;31mConnectTimeoutError\u001b[0m: (<urllib3.connection.HTTPSConnection object at 0x7bfe4d5b0f10>, 'Connection to gad.gujarat.gov.in timed out. (connect timeout=10)')",
            "\nThe above exception was the direct cause of the following exception:\n",
            "\u001b[0;31mMaxRetryError\u001b[0m                             Traceback (most recent call last)",
            "\u001b[0;32m/usr/local/lib/python3.10/dist-packages/requests/adapters.py\u001b[0m in \u001b[0;36msend\u001b[0;34m(self, request, stream, timeout, verify, cert, proxies)\u001b[0m\n\u001b[1;32m    485\u001b[0m         \u001b[0;32mtry\u001b[0m\u001b[0;34m:\u001b[0m\u001b[0;34m\u001b[0m\u001b[0;34m\u001b[0m\u001b[0m\n\u001b[0;32m--> 486\u001b[0;31m             resp = conn.urlopen(\n\u001b[0m\u001b[1;32m    487\u001b[0m                 \u001b[0mmethod\u001b[0m\u001b[0;34m=\u001b[0m\u001b[0mrequest\u001b[0m\u001b[0;34m.\u001b[0m\u001b[0mmethod\u001b[0m\u001b[0;34m,\u001b[0m\u001b[0;34m\u001b[0m\u001b[0;34m\u001b[0m\u001b[0m\n",
            "\u001b[0;32m/usr/local/lib/python3.10/dist-packages/urllib3/connectionpool.py\u001b[0m in \u001b[0;36murlopen\u001b[0;34m(self, method, url, body, headers, retries, redirect, assert_same_host, timeout, pool_timeout, release_conn, chunked, body_pos, preload_content, decode_content, **response_kw)\u001b[0m\n\u001b[1;32m    874\u001b[0m             )\n\u001b[0;32m--> 875\u001b[0;31m             return self.urlopen(\n\u001b[0m\u001b[1;32m    876\u001b[0m                 \u001b[0mmethod\u001b[0m\u001b[0;34m,\u001b[0m\u001b[0;34m\u001b[0m\u001b[0;34m\u001b[0m\u001b[0m\n",
            "\u001b[0;32m/usr/local/lib/python3.10/dist-packages/urllib3/connectionpool.py\u001b[0m in \u001b[0;36murlopen\u001b[0;34m(self, method, url, body, headers, retries, redirect, assert_same_host, timeout, pool_timeout, release_conn, chunked, body_pos, preload_content, decode_content, **response_kw)\u001b[0m\n\u001b[1;32m    874\u001b[0m             )\n\u001b[0;32m--> 875\u001b[0;31m             return self.urlopen(\n\u001b[0m\u001b[1;32m    876\u001b[0m                 \u001b[0mmethod\u001b[0m\u001b[0;34m,\u001b[0m\u001b[0;34m\u001b[0m\u001b[0;34m\u001b[0m\u001b[0m\n",
            "\u001b[0;32m/usr/local/lib/python3.10/dist-packages/urllib3/connectionpool.py\u001b[0m in \u001b[0;36murlopen\u001b[0;34m(self, method, url, body, headers, retries, redirect, assert_same_host, timeout, pool_timeout, release_conn, chunked, body_pos, preload_content, decode_content, **response_kw)\u001b[0m\n\u001b[1;32m    874\u001b[0m             )\n\u001b[0;32m--> 875\u001b[0;31m             return self.urlopen(\n\u001b[0m\u001b[1;32m    876\u001b[0m                 \u001b[0mmethod\u001b[0m\u001b[0;34m,\u001b[0m\u001b[0;34m\u001b[0m\u001b[0;34m\u001b[0m\u001b[0m\n",
            "\u001b[0;32m/usr/local/lib/python3.10/dist-packages/urllib3/connectionpool.py\u001b[0m in \u001b[0;36murlopen\u001b[0;34m(self, method, url, body, headers, retries, redirect, assert_same_host, timeout, pool_timeout, release_conn, chunked, body_pos, preload_content, decode_content, **response_kw)\u001b[0m\n\u001b[1;32m    874\u001b[0m             )\n\u001b[0;32m--> 875\u001b[0;31m             return self.urlopen(\n\u001b[0m\u001b[1;32m    876\u001b[0m                 \u001b[0mmethod\u001b[0m\u001b[0;34m,\u001b[0m\u001b[0;34m\u001b[0m\u001b[0;34m\u001b[0m\u001b[0m\n",
            "\u001b[0;32m/usr/local/lib/python3.10/dist-packages/urllib3/connectionpool.py\u001b[0m in \u001b[0;36murlopen\u001b[0;34m(self, method, url, body, headers, retries, redirect, assert_same_host, timeout, pool_timeout, release_conn, chunked, body_pos, preload_content, decode_content, **response_kw)\u001b[0m\n\u001b[1;32m    874\u001b[0m             )\n\u001b[0;32m--> 875\u001b[0;31m             return self.urlopen(\n\u001b[0m\u001b[1;32m    876\u001b[0m                 \u001b[0mmethod\u001b[0m\u001b[0;34m,\u001b[0m\u001b[0;34m\u001b[0m\u001b[0;34m\u001b[0m\u001b[0m\n",
            "\u001b[0;32m/usr/local/lib/python3.10/dist-packages/urllib3/connectionpool.py\u001b[0m in \u001b[0;36murlopen\u001b[0;34m(self, method, url, body, headers, retries, redirect, assert_same_host, timeout, pool_timeout, release_conn, chunked, body_pos, preload_content, decode_content, **response_kw)\u001b[0m\n\u001b[1;32m    844\u001b[0m \u001b[0;34m\u001b[0m\u001b[0m\n\u001b[0;32m--> 845\u001b[0;31m             retries = retries.increment(\n\u001b[0m\u001b[1;32m    846\u001b[0m                 \u001b[0mmethod\u001b[0m\u001b[0;34m,\u001b[0m \u001b[0murl\u001b[0m\u001b[0;34m,\u001b[0m \u001b[0merror\u001b[0m\u001b[0;34m=\u001b[0m\u001b[0mnew_e\u001b[0m\u001b[0;34m,\u001b[0m \u001b[0m_pool\u001b[0m\u001b[0;34m=\u001b[0m\u001b[0mself\u001b[0m\u001b[0;34m,\u001b[0m \u001b[0m_stacktrace\u001b[0m\u001b[0;34m=\u001b[0m\u001b[0msys\u001b[0m\u001b[0;34m.\u001b[0m\u001b[0mexc_info\u001b[0m\u001b[0;34m(\u001b[0m\u001b[0;34m)\u001b[0m\u001b[0;34m[\u001b[0m\u001b[0;36m2\u001b[0m\u001b[0;34m]\u001b[0m\u001b[0;34m\u001b[0m\u001b[0;34m\u001b[0m\u001b[0m\n",
            "\u001b[0;32m/usr/local/lib/python3.10/dist-packages/urllib3/util/retry.py\u001b[0m in \u001b[0;36mincrement\u001b[0;34m(self, method, url, response, error, _pool, _stacktrace)\u001b[0m\n\u001b[1;32m    514\u001b[0m             \u001b[0mreason\u001b[0m \u001b[0;34m=\u001b[0m \u001b[0merror\u001b[0m \u001b[0;32mor\u001b[0m \u001b[0mResponseError\u001b[0m\u001b[0;34m(\u001b[0m\u001b[0mcause\u001b[0m\u001b[0;34m)\u001b[0m\u001b[0;34m\u001b[0m\u001b[0;34m\u001b[0m\u001b[0m\n\u001b[0;32m--> 515\u001b[0;31m             \u001b[0;32mraise\u001b[0m \u001b[0mMaxRetryError\u001b[0m\u001b[0;34m(\u001b[0m\u001b[0m_pool\u001b[0m\u001b[0;34m,\u001b[0m \u001b[0murl\u001b[0m\u001b[0;34m,\u001b[0m \u001b[0mreason\u001b[0m\u001b[0;34m)\u001b[0m \u001b[0;32mfrom\u001b[0m \u001b[0mreason\u001b[0m  \u001b[0;31m# type: ignore[arg-type]\u001b[0m\u001b[0;34m\u001b[0m\u001b[0;34m\u001b[0m\u001b[0m\n\u001b[0m\u001b[1;32m    516\u001b[0m \u001b[0;34m\u001b[0m\u001b[0m\n",
            "\u001b[0;31mMaxRetryError\u001b[0m: HTTPSConnectionPool(host='gad.gujarat.gov.in', port=443): Max retries exceeded with url: /personnel/circulars.htm (Caused by ConnectTimeoutError(<urllib3.connection.HTTPSConnection object at 0x7bfe4d5b0f10>, 'Connection to gad.gujarat.gov.in timed out. (connect timeout=10)'))",
            "\nDuring handling of the above exception, another exception occurred:\n",
            "\u001b[0;31mConnectTimeout\u001b[0m                            Traceback (most recent call last)",
            "\u001b[0;32m<ipython-input-26-368a294cb935>\u001b[0m in \u001b[0;36m<cell line: 26>\u001b[0;34m()\u001b[0m\n\u001b[1;32m     24\u001b[0m \u001b[0;34m\u001b[0m\u001b[0m\n\u001b[1;32m     25\u001b[0m \u001b[0;31m# Send a request to the website\u001b[0m\u001b[0;34m\u001b[0m\u001b[0;34m\u001b[0m\u001b[0m\n\u001b[0;32m---> 26\u001b[0;31m \u001b[0mresponse\u001b[0m \u001b[0;34m=\u001b[0m \u001b[0msession\u001b[0m\u001b[0;34m.\u001b[0m\u001b[0mget\u001b[0m\u001b[0;34m(\u001b[0m\u001b[0murl\u001b[0m\u001b[0;34m,\u001b[0m \u001b[0mtimeout\u001b[0m\u001b[0;34m=\u001b[0m\u001b[0;36m10\u001b[0m\u001b[0;34m)\u001b[0m\u001b[0;34m\u001b[0m\u001b[0;34m\u001b[0m\u001b[0m\n\u001b[0m\u001b[1;32m     27\u001b[0m \u001b[0;34m\u001b[0m\u001b[0m\n\u001b[1;32m     28\u001b[0m \u001b[0;31m# Check if the request was successful\u001b[0m\u001b[0;34m\u001b[0m\u001b[0;34m\u001b[0m\u001b[0m\n",
            "\u001b[0;32m/usr/local/lib/python3.10/dist-packages/requests/sessions.py\u001b[0m in \u001b[0;36mget\u001b[0;34m(self, url, **kwargs)\u001b[0m\n\u001b[1;32m    600\u001b[0m \u001b[0;34m\u001b[0m\u001b[0m\n\u001b[1;32m    601\u001b[0m         \u001b[0mkwargs\u001b[0m\u001b[0;34m.\u001b[0m\u001b[0msetdefault\u001b[0m\u001b[0;34m(\u001b[0m\u001b[0;34m\"allow_redirects\"\u001b[0m\u001b[0;34m,\u001b[0m \u001b[0;32mTrue\u001b[0m\u001b[0;34m)\u001b[0m\u001b[0;34m\u001b[0m\u001b[0;34m\u001b[0m\u001b[0m\n\u001b[0;32m--> 602\u001b[0;31m         \u001b[0;32mreturn\u001b[0m \u001b[0mself\u001b[0m\u001b[0;34m.\u001b[0m\u001b[0mrequest\u001b[0m\u001b[0;34m(\u001b[0m\u001b[0;34m\"GET\"\u001b[0m\u001b[0;34m,\u001b[0m \u001b[0murl\u001b[0m\u001b[0;34m,\u001b[0m \u001b[0;34m**\u001b[0m\u001b[0mkwargs\u001b[0m\u001b[0;34m)\u001b[0m\u001b[0;34m\u001b[0m\u001b[0;34m\u001b[0m\u001b[0m\n\u001b[0m\u001b[1;32m    603\u001b[0m \u001b[0;34m\u001b[0m\u001b[0m\n\u001b[1;32m    604\u001b[0m     \u001b[0;32mdef\u001b[0m \u001b[0moptions\u001b[0m\u001b[0;34m(\u001b[0m\u001b[0mself\u001b[0m\u001b[0;34m,\u001b[0m \u001b[0murl\u001b[0m\u001b[0;34m,\u001b[0m \u001b[0;34m**\u001b[0m\u001b[0mkwargs\u001b[0m\u001b[0;34m)\u001b[0m\u001b[0;34m:\u001b[0m\u001b[0;34m\u001b[0m\u001b[0;34m\u001b[0m\u001b[0m\n",
            "\u001b[0;32m/usr/local/lib/python3.10/dist-packages/requests/sessions.py\u001b[0m in \u001b[0;36mrequest\u001b[0;34m(self, method, url, params, data, headers, cookies, files, auth, timeout, allow_redirects, proxies, hooks, stream, verify, cert, json)\u001b[0m\n\u001b[1;32m    587\u001b[0m         }\n\u001b[1;32m    588\u001b[0m         \u001b[0msend_kwargs\u001b[0m\u001b[0;34m.\u001b[0m\u001b[0mupdate\u001b[0m\u001b[0;34m(\u001b[0m\u001b[0msettings\u001b[0m\u001b[0;34m)\u001b[0m\u001b[0;34m\u001b[0m\u001b[0;34m\u001b[0m\u001b[0m\n\u001b[0;32m--> 589\u001b[0;31m         \u001b[0mresp\u001b[0m \u001b[0;34m=\u001b[0m \u001b[0mself\u001b[0m\u001b[0;34m.\u001b[0m\u001b[0msend\u001b[0m\u001b[0;34m(\u001b[0m\u001b[0mprep\u001b[0m\u001b[0;34m,\u001b[0m \u001b[0;34m**\u001b[0m\u001b[0msend_kwargs\u001b[0m\u001b[0;34m)\u001b[0m\u001b[0;34m\u001b[0m\u001b[0;34m\u001b[0m\u001b[0m\n\u001b[0m\u001b[1;32m    590\u001b[0m \u001b[0;34m\u001b[0m\u001b[0m\n\u001b[1;32m    591\u001b[0m         \u001b[0;32mreturn\u001b[0m \u001b[0mresp\u001b[0m\u001b[0;34m\u001b[0m\u001b[0;34m\u001b[0m\u001b[0m\n",
            "\u001b[0;32m/usr/local/lib/python3.10/dist-packages/requests/sessions.py\u001b[0m in \u001b[0;36msend\u001b[0;34m(self, request, **kwargs)\u001b[0m\n\u001b[1;32m    701\u001b[0m \u001b[0;34m\u001b[0m\u001b[0m\n\u001b[1;32m    702\u001b[0m         \u001b[0;31m# Send the request\u001b[0m\u001b[0;34m\u001b[0m\u001b[0;34m\u001b[0m\u001b[0m\n\u001b[0;32m--> 703\u001b[0;31m         \u001b[0mr\u001b[0m \u001b[0;34m=\u001b[0m \u001b[0madapter\u001b[0m\u001b[0;34m.\u001b[0m\u001b[0msend\u001b[0m\u001b[0;34m(\u001b[0m\u001b[0mrequest\u001b[0m\u001b[0;34m,\u001b[0m \u001b[0;34m**\u001b[0m\u001b[0mkwargs\u001b[0m\u001b[0;34m)\u001b[0m\u001b[0;34m\u001b[0m\u001b[0;34m\u001b[0m\u001b[0m\n\u001b[0m\u001b[1;32m    704\u001b[0m \u001b[0;34m\u001b[0m\u001b[0m\n\u001b[1;32m    705\u001b[0m         \u001b[0;31m# Total elapsed time of the request (approximately)\u001b[0m\u001b[0;34m\u001b[0m\u001b[0;34m\u001b[0m\u001b[0m\n",
            "\u001b[0;32m/usr/local/lib/python3.10/dist-packages/requests/adapters.py\u001b[0m in \u001b[0;36msend\u001b[0;34m(self, request, stream, timeout, verify, cert, proxies)\u001b[0m\n\u001b[1;32m    505\u001b[0m                 \u001b[0;31m# TODO: Remove this in 3.0.0: see #2811\u001b[0m\u001b[0;34m\u001b[0m\u001b[0;34m\u001b[0m\u001b[0m\n\u001b[1;32m    506\u001b[0m                 \u001b[0;32mif\u001b[0m \u001b[0;32mnot\u001b[0m \u001b[0misinstance\u001b[0m\u001b[0;34m(\u001b[0m\u001b[0me\u001b[0m\u001b[0;34m.\u001b[0m\u001b[0mreason\u001b[0m\u001b[0;34m,\u001b[0m \u001b[0mNewConnectionError\u001b[0m\u001b[0;34m)\u001b[0m\u001b[0;34m:\u001b[0m\u001b[0;34m\u001b[0m\u001b[0;34m\u001b[0m\u001b[0m\n\u001b[0;32m--> 507\u001b[0;31m                     \u001b[0;32mraise\u001b[0m \u001b[0mConnectTimeout\u001b[0m\u001b[0;34m(\u001b[0m\u001b[0me\u001b[0m\u001b[0;34m,\u001b[0m \u001b[0mrequest\u001b[0m\u001b[0;34m=\u001b[0m\u001b[0mrequest\u001b[0m\u001b[0;34m)\u001b[0m\u001b[0;34m\u001b[0m\u001b[0;34m\u001b[0m\u001b[0m\n\u001b[0m\u001b[1;32m    508\u001b[0m \u001b[0;34m\u001b[0m\u001b[0m\n\u001b[1;32m    509\u001b[0m             \u001b[0;32mif\u001b[0m \u001b[0misinstance\u001b[0m\u001b[0;34m(\u001b[0m\u001b[0me\u001b[0m\u001b[0;34m.\u001b[0m\u001b[0mreason\u001b[0m\u001b[0;34m,\u001b[0m \u001b[0mResponseError\u001b[0m\u001b[0;34m)\u001b[0m\u001b[0;34m:\u001b[0m\u001b[0;34m\u001b[0m\u001b[0;34m\u001b[0m\u001b[0m\n",
            "\u001b[0;31mConnectTimeout\u001b[0m: HTTPSConnectionPool(host='gad.gujarat.gov.in', port=443): Max retries exceeded with url: /personnel/circulars.htm (Caused by ConnectTimeoutError(<urllib3.connection.HTTPSConnection object at 0x7bfe4d5b0f10>, 'Connection to gad.gujarat.gov.in timed out. (connect timeout=10)'))"
          ]
        }
      ]
    },
    {
      "cell_type": "code",
      "source": [],
      "metadata": {
        "id": "5Q5YgvIdmsHP"
      },
      "execution_count": null,
      "outputs": []
    }
  ]
}